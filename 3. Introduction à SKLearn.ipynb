{
 "cells": [
  {
   "cell_type": "code",
   "execution_count": 13,
   "id": "8771c592",
   "metadata": {
    "executionInfo": {
     "elapsed": 212,
     "status": "ok",
     "timestamp": 1730904531389,
     "user": {
      "displayName": "Alexandre GRASTEAU",
      "userId": "14924271205602736035"
     },
     "user_tz": -60
    },
    "id": "8771c592"
   },
   "outputs": [],
   "source": [
    "import numpy as np\n",
    "from sklearn.datasets import make_regression\n",
    "import matplotlib.pyplot as plt"
   ]
  },
  {
   "cell_type": "markdown",
   "id": "af3a7f88",
   "metadata": {
    "id": "af3a7f88"
   },
   "source": [
    "# Problème de régression : modèle de régression linéaire"
   ]
  },
  {
   "cell_type": "code",
   "execution_count": 14,
   "id": "8fe66400",
   "metadata": {
    "executionInfo": {
     "elapsed": 2,
     "status": "ok",
     "timestamp": 1730904531614,
     "user": {
      "displayName": "Alexandre GRASTEAU",
      "userId": "14924271205602736035"
     },
     "user_tz": -60
    },
    "id": "8fe66400"
   },
   "outputs": [],
   "source": [
    "x, y = make_regression(n_samples = 100, n_features = 1, noise = 10)"
   ]
  },
  {
   "cell_type": "code",
   "execution_count": null,
   "id": "9d839820",
   "metadata": {
    "colab": {
     "base_uri": "https://localhost:8080/",
     "height": 430
    },
    "executionInfo": {
     "elapsed": 272,
     "status": "ok",
     "timestamp": 1730904531884,
     "user": {
      "displayName": "Alexandre GRASTEAU",
      "userId": "14924271205602736035"
     },
     "user_tz": -60
    },
    "id": "9d839820",
    "outputId": "d5e1687b-670d-42f4-e251-9329f6656cd1"
   },
   "outputs": [],
   "source": [
    "plt.scatter(x,y)\n",
    "plt.show()"
   ]
  },
  {
   "cell_type": "code",
   "execution_count": 16,
   "id": "vBaYeN8BMlxA",
   "metadata": {
    "executionInfo": {
     "elapsed": 4,
     "status": "ok",
     "timestamp": 1730904531884,
     "user": {
      "displayName": "Alexandre GRASTEAU",
      "userId": "14924271205602736035"
     },
     "user_tz": -60
    },
    "id": "vBaYeN8BMlxA"
   },
   "outputs": [],
   "source": [
    "from sklearn.linear_model import LinearRegression"
   ]
  },
  {
   "cell_type": "code",
   "execution_count": null,
   "id": "jBiOpayLMlzE",
   "metadata": {
    "colab": {
     "base_uri": "https://localhost:8080/",
     "height": 447
    },
    "executionInfo": {
     "elapsed": 258,
     "status": "ok",
     "timestamp": 1730904532138,
     "user": {
      "displayName": "Alexandre GRASTEAU",
      "userId": "14924271205602736035"
     },
     "user_tz": -60
    },
    "id": "jBiOpayLMlzE",
    "outputId": "a47ef4d2-d59e-4e06-93b9-91842eaa9bb2"
   },
   "outputs": [],
   "source": [
    "model = LinearRegression()\n",
    "model.fit(x,y)\n",
    "\n",
    "y_pred = model.predict(x)\n",
    "\n",
    "plt.scatter(x,y)\n",
    "plt.plot(x,y_pred, c='r')"
   ]
  },
  {
   "cell_type": "code",
   "execution_count": 18,
   "id": "GmXeOdgrO2v8",
   "metadata": {
    "colab": {
     "base_uri": "https://localhost:8080/"
    },
    "executionInfo": {
     "elapsed": 17,
     "status": "ok",
     "timestamp": 1730904532139,
     "user": {
      "displayName": "Alexandre GRASTEAU",
      "userId": "14924271205602736035"
     },
     "user_tz": -60
    },
    "id": "GmXeOdgrO2v8",
    "outputId": "c94331a6-6945-4e12-828f-aedc5dfa9a88"
   },
   "outputs": [
    {
     "data": {
      "text/plain": [
       "0.5189315736227893"
      ]
     },
     "execution_count": 18,
     "metadata": {},
     "output_type": "execute_result"
    }
   ],
   "source": [
    "model.score(x,y)"
   ]
  },
  {
   "cell_type": "markdown",
   "id": "7tp5tcl2NXg7",
   "metadata": {
    "id": "7tp5tcl2NXg7"
   },
   "source": [
    "# Problème de classification : modèle de régression logistique"
   ]
  },
  {
   "cell_type": "code",
   "execution_count": 19,
   "id": "_1T00aIaMl4s",
   "metadata": {
    "executionInfo": {
     "elapsed": 181,
     "status": "ok",
     "timestamp": 1730904532310,
     "user": {
      "displayName": "Alexandre GRASTEAU",
      "userId": "14924271205602736035"
     },
     "user_tz": -60
    },
    "id": "_1T00aIaMl4s"
   },
   "outputs": [],
   "source": [
    "from sklearn.datasets import make_classification\n",
    "x, y = make_classification(n_samples=100, n_features=1, n_redundant=0, n_informative=1, n_clusters_per_class=1)"
   ]
  },
  {
   "cell_type": "code",
   "execution_count": null,
   "id": "8weG1LsvNXDI",
   "metadata": {
    "colab": {
     "base_uri": "https://localhost:8080/",
     "height": 1000
    },
    "executionInfo": {
     "elapsed": 205,
     "status": "ok",
     "timestamp": 1730904532512,
     "user": {
      "displayName": "Alexandre GRASTEAU",
      "userId": "14924271205602736035"
     },
     "user_tz": -60
    },
    "id": "8weG1LsvNXDI",
    "outputId": "0bbbccb7-fcf5-418a-ef60-b3e378afdb52"
   },
   "outputs": [],
   "source": [
    "plt.scatter(x,y)\n",
    "print(x)"
   ]
  },
  {
   "cell_type": "code",
   "execution_count": null,
   "id": "ZcZJX41qNXFs",
   "metadata": {
    "colab": {
     "base_uri": "https://localhost:8080/",
     "height": 447
    },
    "executionInfo": {
     "elapsed": 400,
     "status": "ok",
     "timestamp": 1730904532908,
     "user": {
      "displayName": "Alexandre GRASTEAU",
      "userId": "14924271205602736035"
     },
     "user_tz": -60
    },
    "id": "ZcZJX41qNXFs",
    "outputId": "dc6832c5-b7d8-4cee-977b-db047d432f83"
   },
   "outputs": [],
   "source": [
    "from sklearn.linear_model import LogisticRegression\n",
    "model = LogisticRegression()\n",
    "model.fit(x,y)\n",
    "y_pred = model.predict(x)\n",
    "\n",
    "plt.scatter(x,y)\n",
    "plt.scatter(x,y_pred, c='r')"
   ]
  },
  {
   "cell_type": "code",
   "execution_count": null,
   "id": "aCP1g8AcNXIB",
   "metadata": {
    "colab": {
     "base_uri": "https://localhost:8080/",
     "height": 447
    },
    "executionInfo": {
     "elapsed": 223,
     "status": "ok",
     "timestamp": 1730904533128,
     "user": {
      "displayName": "Alexandre GRASTEAU",
      "userId": "14924271205602736035"
     },
     "user_tz": -60
    },
    "id": "aCP1g8AcNXIB",
    "outputId": "a9d92eea-8516-4d5e-8182-cc1217e91668"
   },
   "outputs": [],
   "source": [
    "y_pred = model.predict_proba(x)[:,1]\n",
    "\n",
    "plt.scatter(x,y)\n",
    "plt.scatter(x,y_pred, c='r')"
   ]
  },
  {
   "cell_type": "code",
   "execution_count": null,
   "id": "wY2_f3hyQI7W",
   "metadata": {
    "colab": {
     "base_uri": "https://localhost:8080/"
    },
    "executionInfo": {
     "elapsed": 9,
     "status": "ok",
     "timestamp": 1730904533129,
     "user": {
      "displayName": "Alexandre GRASTEAU",
      "userId": "14924271205602736035"
     },
     "user_tz": -60
    },
    "id": "wY2_f3hyQI7W",
    "outputId": "dc4d96d0-2016-459b-d338-401de8d66a20"
   },
   "outputs": [],
   "source": [
    "model.score(x,y)"
   ]
  },
  {
   "cell_type": "markdown",
   "id": "1O2m6y6wRCSN",
   "metadata": {
    "id": "1O2m6y6wRCSN"
   },
   "source": [
    "# Exemples sur des Datasets plus concrets"
   ]
  },
  {
   "cell_type": "markdown",
   "id": "aeMoh98iRNnE",
   "metadata": {
    "id": "aeMoh98iRNnE"
   },
   "source": [
    "## Problème de régression : prix des appartements"
   ]
  },
  {
   "cell_type": "code",
   "execution_count": null,
   "id": "8bf98274",
   "metadata": {
    "colab": {
     "base_uri": "https://localhost:8080/",
     "height": 342
    },
    "executionInfo": {
     "elapsed": 234,
     "status": "ok",
     "timestamp": 1730904533357,
     "user": {
      "displayName": "Alexandre GRASTEAU",
      "userId": "14924271205602736035"
     },
     "user_tz": -60
    },
    "id": "8bf98274",
    "outputId": "3a88dbb7-b46d-4443-f1fe-2fc00c208bdf"
   },
   "outputs": [],
   "source": [
    "import pandas as pd\n",
    "df = pd.read_csv(\"53.csv\")\n",
    "df.head()"
   ]
  },
  {
   "cell_type": "code",
   "execution_count": 25,
   "id": "4FzTjnCbGc1C",
   "metadata": {
    "executionInfo": {
     "elapsed": 20,
     "status": "ok",
     "timestamp": 1730904533357,
     "user": {
      "displayName": "Alexandre GRASTEAU",
      "userId": "14924271205602736035"
     },
     "user_tz": -60
    },
    "id": "4FzTjnCbGc1C"
   },
   "outputs": [],
   "source": [
    "df = df[(df.nature_mutation == 'Vente')]\n",
    "df = df[df.type_local == 'Maison']"
   ]
  },
  {
   "cell_type": "code",
   "execution_count": null,
   "id": "JKOMAQD-sT9W",
   "metadata": {
    "colab": {
     "base_uri": "https://localhost:8080/",
     "height": 206
    },
    "executionInfo": {
     "elapsed": 19,
     "status": "ok",
     "timestamp": 1730904533357,
     "user": {
      "displayName": "Alexandre GRASTEAU",
      "userId": "14924271205602736035"
     },
     "user_tz": -60
    },
    "id": "JKOMAQD-sT9W",
    "outputId": "c81d8cc3-df29-49fc-a63a-10ed1e4faab6"
   },
   "outputs": [],
   "source": [
    "df = df.loc[:,['valeur_fonciere','surface_reelle_bati']]\n",
    "df.head()"
   ]
  },
  {
   "cell_type": "code",
   "execution_count": null,
   "id": "oDR1Q2nzJEJ1",
   "metadata": {
    "colab": {
     "base_uri": "https://localhost:8080/",
     "height": 300
    },
    "executionInfo": {
     "elapsed": 17,
     "status": "ok",
     "timestamp": 1730904533357,
     "user": {
      "displayName": "Alexandre GRASTEAU",
      "userId": "14924271205602736035"
     },
     "user_tz": -60
    },
    "id": "oDR1Q2nzJEJ1",
    "outputId": "4f4822e3-f820-400a-cb78-1ddc12ad3df3"
   },
   "outputs": [],
   "source": [
    "df.describe()"
   ]
  },
  {
   "cell_type": "code",
   "execution_count": null,
   "id": "wa1WQYmjEq-J",
   "metadata": {
    "colab": {
     "base_uri": "https://localhost:8080/",
     "height": 206
    },
    "executionInfo": {
     "elapsed": 17,
     "status": "ok",
     "timestamp": 1730904533358,
     "user": {
      "displayName": "Alexandre GRASTEAU",
      "userId": "14924271205602736035"
     },
     "user_tz": -60
    },
    "id": "wa1WQYmjEq-J",
    "outputId": "b6591feb-3226-4750-e76e-9aeed228f750"
   },
   "outputs": [],
   "source": [
    "df.dropna(axis = 0, inplace = True)\n",
    "df.head()"
   ]
  },
  {
   "cell_type": "code",
   "execution_count": null,
   "id": "Un7uS4GrJtQT",
   "metadata": {
    "colab": {
     "base_uri": "https://localhost:8080/",
     "height": 462
    },
    "executionInfo": {
     "elapsed": 566,
     "status": "ok",
     "timestamp": 1730904533909,
     "user": {
      "displayName": "Alexandre GRASTEAU",
      "userId": "14924271205602736035"
     },
     "user_tz": -60
    },
    "id": "Un7uS4GrJtQT",
    "outputId": "f9ac0978-0e2b-413e-a635-2fc15cee9ccd"
   },
   "outputs": [],
   "source": [
    "plt.scatter(df.surface_reelle_bati,df.valeur_fonciere)"
   ]
  },
  {
   "cell_type": "code",
   "execution_count": 30,
   "id": "e4kSOF4nG9SX",
   "metadata": {
    "executionInfo": {
     "elapsed": 8,
     "status": "ok",
     "timestamp": 1730904533909,
     "user": {
      "displayName": "Alexandre GRASTEAU",
      "userId": "14924271205602736035"
     },
     "user_tz": -60
    },
    "id": "e4kSOF4nG9SX"
   },
   "outputs": [],
   "source": [
    "df.drop(df[df.valeur_fonciere > 2000000].index, inplace=True)"
   ]
  },
  {
   "cell_type": "code",
   "execution_count": 31,
   "id": "QRr8Vn80E4zd",
   "metadata": {
    "executionInfo": {
     "elapsed": 6,
     "status": "ok",
     "timestamp": 1730904533909,
     "user": {
      "displayName": "Alexandre GRASTEAU",
      "userId": "14924271205602736035"
     },
     "user_tz": -60
    },
    "id": "QRr8Vn80E4zd"
   },
   "outputs": [],
   "source": [
    "# target\n",
    "y = df.valeur_fonciere\n",
    "\n",
    "# Features\n",
    "X = df.surface_reelle_bati.values"
   ]
  },
  {
   "cell_type": "code",
   "execution_count": null,
   "id": "mPQZN7HqFhjk",
   "metadata": {
    "colab": {
     "base_uri": "https://localhost:8080/"
    },
    "executionInfo": {
     "elapsed": 6,
     "status": "ok",
     "timestamp": 1730904533909,
     "user": {
      "displayName": "Alexandre GRASTEAU",
      "userId": "14924271205602736035"
     },
     "user_tz": -60
    },
    "id": "mPQZN7HqFhjk",
    "outputId": "2f994429-79c6-446b-9665-45573f3149d7"
   },
   "outputs": [],
   "source": [
    "X = X.reshape(5317,1)\n",
    "print(X.shape)\n",
    "print(y.shape)"
   ]
  },
  {
   "cell_type": "code",
   "execution_count": null,
   "id": "ts-ws7KJFFDp",
   "metadata": {
    "colab": {
     "base_uri": "https://localhost:8080/",
     "height": 462
    },
    "executionInfo": {
     "elapsed": 383,
     "status": "ok",
     "timestamp": 1730904534288,
     "user": {
      "displayName": "Alexandre GRASTEAU",
      "userId": "14924271205602736035"
     },
     "user_tz": -60
    },
    "id": "ts-ws7KJFFDp",
    "outputId": "87dd063b-8f95-4e6e-853d-c173c1427fd4"
   },
   "outputs": [],
   "source": [
    "plt.scatter(X,y)"
   ]
  },
  {
   "cell_type": "code",
   "execution_count": null,
   "id": "H2v38x9tFS8r",
   "metadata": {
    "colab": {
     "base_uri": "https://localhost:8080/",
     "height": 462
    },
    "executionInfo": {
     "elapsed": 303,
     "status": "ok",
     "timestamp": 1730904534586,
     "user": {
      "displayName": "Alexandre GRASTEAU",
      "userId": "14924271205602736035"
     },
     "user_tz": -60
    },
    "id": "H2v38x9tFS8r",
    "outputId": "1e827c67-d885-4b4c-ff70-4bccaf79b037"
   },
   "outputs": [],
   "source": [
    "model = LinearRegression()\n",
    "model.fit(X,y)\n",
    "\n",
    "y_pred = model.predict(X)\n",
    "\n",
    "plt.scatter(X,y)\n",
    "plt.plot(X,y_pred, c='r')"
   ]
  },
  {
   "cell_type": "code",
   "execution_count": null,
   "id": "iVpGAW8UIH_3",
   "metadata": {
    "colab": {
     "base_uri": "https://localhost:8080/"
    },
    "executionInfo": {
     "elapsed": 9,
     "status": "ok",
     "timestamp": 1730904534587,
     "user": {
      "displayName": "Alexandre GRASTEAU",
      "userId": "14924271205602736035"
     },
     "user_tz": -60
    },
    "id": "iVpGAW8UIH_3",
    "outputId": "f337e7d6-38c4-4433-d1cb-840c2acbdde4"
   },
   "outputs": [],
   "source": [
    "print(model.predict([[150]]))"
   ]
  },
  {
   "cell_type": "code",
   "execution_count": null,
   "id": "2VY9Wyr3Tdkz",
   "metadata": {
    "colab": {
     "base_uri": "https://localhost:8080/"
    },
    "executionInfo": {
     "elapsed": 7,
     "status": "ok",
     "timestamp": 1730904534587,
     "user": {
      "displayName": "Alexandre GRASTEAU",
      "userId": "14924271205602736035"
     },
     "user_tz": -60
    },
    "id": "2VY9Wyr3Tdkz",
    "outputId": "0e3a9fd3-3047-47c6-d692-7308b87fa514"
   },
   "outputs": [],
   "source": [
    "model.score(X,y)"
   ]
  },
  {
   "cell_type": "markdown",
   "id": "jynx91aMRW1E",
   "metadata": {
    "id": "jynx91aMRW1E"
   },
   "source": [
    "## Problème de classification : naufrage du titanic"
   ]
  },
  {
   "cell_type": "code",
   "execution_count": 37,
   "id": "95fdfc75",
   "metadata": {
    "executionInfo": {
     "elapsed": 544,
     "status": "ok",
     "timestamp": 1730904535127,
     "user": {
      "displayName": "Alexandre GRASTEAU",
      "userId": "14924271205602736035"
     },
     "user_tz": -60
    },
    "id": "95fdfc75"
   },
   "outputs": [],
   "source": [
    "\n",
    "import seaborn as sns"
   ]
  },
  {
   "cell_type": "code",
   "execution_count": null,
   "id": "55f0e665",
   "metadata": {
    "colab": {
     "base_uri": "https://localhost:8080/",
     "height": 226
    },
    "executionInfo": {
     "elapsed": 336,
     "status": "ok",
     "timestamp": 1730904535461,
     "user": {
      "displayName": "Alexandre GRASTEAU",
      "userId": "14924271205602736035"
     },
     "user_tz": -60
    },
    "id": "55f0e665",
    "outputId": "400c2095-d7f6-4069-8247-e27756ff44ea"
   },
   "outputs": [],
   "source": [
    "titanic = sns.load_dataset(\"titanic\")\n",
    "titanic.head()"
   ]
  },
  {
   "cell_type": "code",
   "execution_count": null,
   "id": "1eXfl89kVE80",
   "metadata": {
    "colab": {
     "base_uri": "https://localhost:8080/",
     "height": 382
    },
    "executionInfo": {
     "elapsed": 15,
     "status": "ok",
     "timestamp": 1730904535461,
     "user": {
      "displayName": "Alexandre GRASTEAU",
      "userId": "14924271205602736035"
     },
     "user_tz": -60
    },
    "id": "1eXfl89kVE80",
    "outputId": "ed84fb24-78fd-4c24-85b1-28bb9e8e567b"
   },
   "outputs": [],
   "source": [
    "titanic = titanic.loc[:,['survived','pclass','sex','age']]\n",
    "titanic.dropna(axis = 0, inplace = True)\n",
    "titanic['sex'].replace(['male','female'],[0,1],inplace=True)\n",
    "titanic.head()"
   ]
  },
  {
   "cell_type": "code",
   "execution_count": 40,
   "id": "100cda24",
   "metadata": {
    "executionInfo": {
     "elapsed": 14,
     "status": "ok",
     "timestamp": 1730904535462,
     "user": {
      "displayName": "Alexandre GRASTEAU",
      "userId": "14924271205602736035"
     },
     "user_tz": -60
    },
    "id": "100cda24"
   },
   "outputs": [],
   "source": [
    "# target\n",
    "y = titanic.survived\n",
    "\n",
    "# Features\n",
    "X = titanic.drop('survived', axis = 1).values"
   ]
  },
  {
   "cell_type": "code",
   "execution_count": null,
   "id": "5ebf8eda",
   "metadata": {
    "colab": {
     "base_uri": "https://localhost:8080/",
     "height": 80
    },
    "executionInfo": {
     "elapsed": 13,
     "status": "ok",
     "timestamp": 1730904535462,
     "user": {
      "displayName": "Alexandre GRASTEAU",
      "userId": "14924271205602736035"
     },
     "user_tz": -60
    },
    "id": "5ebf8eda",
    "outputId": "b16bd920-520f-4533-ef5a-aff49d5aa947"
   },
   "outputs": [],
   "source": [
    "from sklearn.linear_model import LogisticRegression\n",
    "model = LogisticRegression()\n",
    "model.fit(X,y)"
   ]
  },
  {
   "cell_type": "code",
   "execution_count": 42,
   "id": "3009ac3d",
   "metadata": {
    "executionInfo": {
     "elapsed": 13,
     "status": "ok",
     "timestamp": 1730904535462,
     "user": {
      "displayName": "Alexandre GRASTEAU",
      "userId": "14924271205602736035"
     },
     "user_tz": -60
    },
    "id": "3009ac3d"
   },
   "outputs": [],
   "source": [
    "y_pred = model.predict(X)"
   ]
  },
  {
   "cell_type": "code",
   "execution_count": null,
   "id": "ed11b6ec",
   "metadata": {
    "colab": {
     "base_uri": "https://localhost:8080/"
    },
    "executionInfo": {
     "elapsed": 13,
     "status": "ok",
     "timestamp": 1730904535462,
     "user": {
      "displayName": "Alexandre GRASTEAU",
      "userId": "14924271205602736035"
     },
     "user_tz": -60
    },
    "id": "ed11b6ec",
    "outputId": "09574ed5-b58d-44c0-b934-ef18e2705cb2"
   },
   "outputs": [],
   "source": [
    "print(model.score(X,y))"
   ]
  },
  {
   "cell_type": "code",
   "execution_count": 44,
   "id": "7b6996f3",
   "metadata": {
    "executionInfo": {
     "elapsed": 11,
     "status": "ok",
     "timestamp": 1730904535462,
     "user": {
      "displayName": "Alexandre GRASTEAU",
      "userId": "14924271205602736035"
     },
     "user_tz": -60
    },
    "id": "7b6996f3"
   },
   "outputs": [],
   "source": [
    "def survie(model, pclass, sex, age):\n",
    "    X = np.array([pclass, sex, age]).reshape(1,3)\n",
    "    print(model.predict(X))\n",
    "    print(model.predict_proba(X))\n"
   ]
  },
  {
   "cell_type": "code",
   "execution_count": null,
   "id": "0a71e2a0",
   "metadata": {
    "colab": {
     "base_uri": "https://localhost:8080/"
    },
    "executionInfo": {
     "elapsed": 11,
     "status": "ok",
     "timestamp": 1730904535462,
     "user": {
      "displayName": "Alexandre GRASTEAU",
      "userId": "14924271205602736035"
     },
     "user_tz": -60
    },
    "id": "0a71e2a0",
    "outputId": "7e632c4f-d3c0-4121-a722-b639f470db45"
   },
   "outputs": [],
   "source": [
    "survie(model, pclass=1, sex=0, age=20)"
   ]
  }
 ],
 "metadata": {
  "colab": {
   "provenance": []
  },
  "kernelspec": {
   "display_name": "Python 3 (ipykernel)",
   "language": "python",
   "name": "python3"
  },
  "language_info": {
   "codemirror_mode": {
    "name": "ipython",
    "version": 3
   },
   "file_extension": ".py",
   "mimetype": "text/x-python",
   "name": "python",
   "nbconvert_exporter": "python",
   "pygments_lexer": "ipython3",
   "version": "3.9.12"
  }
 },
 "nbformat": 4,
 "nbformat_minor": 5
}
