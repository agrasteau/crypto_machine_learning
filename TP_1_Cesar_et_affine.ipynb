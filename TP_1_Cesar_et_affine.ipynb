{
  "cells": [
    {
      "cell_type": "markdown",
      "id": "ca99b371",
      "metadata": {
        "id": "ca99b371"
      },
      "source": [
        "# TP 1 - Chiffrement symétrique (1)"
      ]
    },
    {
      "cell_type": "markdown",
      "id": "76e35ec2",
      "metadata": {
        "id": "76e35ec2"
      },
      "source": [
        "La <b>cryptographie</b> est un ensemble de techniques permettant de transformer un <i>message clair</i> en <i>message chiffré</i> qui ne peut pas être déchiffré sans la connaissance d'une clé secrète.\n",
        "\n",
        "Nous allons commencer l'étude de différents algortihmes de chiffrement par les algorithmes de chiffrement <b>symétrique</b>. Le principe général de ces algorithmes est basé sur le partage d'une unique clé secrète entre l'expéditeur et le destinataire. Cette clé va servir à chiffrer un message mais aussi à le déchiffrer, il est donc indispensable qu'elle ne soit pas divulguée."
      ]
    },
    {
      "cell_type": "markdown",
      "id": "0561fa86",
      "metadata": {
        "id": "0561fa86"
      },
      "source": [
        "### IMPORTANT :"
      ]
    },
    {
      "cell_type": "markdown",
      "id": "590495cb",
      "metadata": {
        "id": "590495cb"
      },
      "source": [
        "Avant de commencer le TP, nous allons charger les différentes fonctions que vous avez écrites lors du TP1 - Arithmétique pour la cryptographie, et qui nous serons utile. Pour celà, il vous suffit de créer un fichier intitulé <code>OutilsCrypto.py</code>, d'y coller le code des différentes fonctions du TP1, de le sauvegarder au même endroit que ce TP, et de le charger en exécutant le bloc suivant."
      ]
    },
    {
      "cell_type": "code",
      "execution_count": null,
      "id": "53ZiT7rT4JEK",
      "metadata": {
        "colab": {
          "base_uri": "https://localhost:8080/"
        },
        "id": "53ZiT7rT4JEK",
        "outputId": "8484c4ff-28b9-4719-d0b5-0ea0f1c9c40f"
      },
      "outputs": [
        {
          "name": "stdout",
          "output_type": "stream",
          "text": [
            "Drive already mounted at /content/drive; to attempt to forcibly remount, call drive.mount(\"/content/drive\", force_remount=True).\n"
          ]
        }
      ],
      "source": [
        "from google.colab import drive\n",
        "drive.mount('/content/drive')\n",
        "import sys\n",
        "sys.path.append('/content/drive/MyDrive/Colab Notebooks/BUT 2/R3.09 - Crypto')"
      ]
    },
    {
      "cell_type": "code",
      "execution_count": null,
      "id": "bb256d1d",
      "metadata": {
        "id": "bb256d1d"
      },
      "outputs": [],
      "source": [
        "from OutilsCrypto import *"
      ]
    },
    {
      "cell_type": "markdown",
      "id": "1776a22b",
      "metadata": {
        "id": "1776a22b"
      },
      "source": [
        "À la fin de chaque TP, vous pourrez compléter le fichier <code>OutilsCrypto.py</code> en y ajoutant les nouvelles fonctions écrites."
      ]
    },
    {
      "cell_type": "markdown",
      "id": "ccf95f53",
      "metadata": {
        "id": "ccf95f53"
      },
      "source": [
        "## 1. Préparation du texte à chiffrer\n",
        "Pour chiffrer un message, quel que soit l'algorithme choisi, il faut souvent commencer par le transformer pour pouvoir lui appliquer des opérations mathématiques.<br>"
      ]
    },
    {
      "cell_type": "markdown",
      "id": "dc5355d9",
      "metadata": {
        "id": "dc5355d9"
      },
      "source": [
        "### 1.1 Filtre : enlever les caractères spéciaux"
      ]
    },
    {
      "cell_type": "markdown",
      "id": "cfbf9ab2",
      "metadata": {
        "id": "cfbf9ab2"
      },
      "source": [
        "La première étape consiste en général à <i>nettoyer</i> le texte en se débarrassant des accents, des signes de ponctuation, des caractères spéciaux, etc."
      ]
    },
    {
      "cell_type": "markdown",
      "id": "ea365425",
      "metadata": {
        "id": "ea365425"
      },
      "source": [
        "<b> Exercice 1.</b> Écrire la fonction <code>Filtre(txt)</code> permettant de gérer cet aspect. Elle doit transformer n'importe quelle chaîne de caractères en une chaîne en minuscule ne contenant que les lettres de l'alphabet non accentuées.<br>\n",
        "Par exemple, \"Bonjour, ça va ?\" doit devenir : \"bonjourcava\"<br>\n",
        "<i>Indication :</i> Vous pourrez utiliser la fonction <code>.lower()</code> ainsi que la fonction <code>ord()</code>."
      ]
    },
    {
      "cell_type": "code",
      "execution_count": null,
      "id": "26aa0055",
      "metadata": {
        "id": "26aa0055"
      },
      "outputs": [],
      "source": [
        "def Filtre(txt) :\n",
        "    res=\"\"\n",
        "    for c in txt.lower() :\n",
        "        if(ord('a')<=ord(c)<=ord('z')) : res+=c\n",
        "        if(c=='à' or c=='â' or c=='ä' or c=='á' or c=='å') : res+='a'\n",
        "        elif(c=='ç') : res+='c'\n",
        "        elif(c=='é' or c=='è' or c=='ê' or c=='ë') : res+='e'\n",
        "        elif(c=='ï' or c=='î' or c=='ì' or c=='í') : res+='i'\n",
        "        elif(c=='ö' or c=='ò' or c=='ô' or c=='ø' or c=='ó') : res+='o'\n",
        "        elif(c=='û' or c=='ü' or c=='ù' or c=='ú') : res+='u'\n",
        "        elif(c=='æ') : res+='ae'\n",
        "        elif(c=='œ') : res+='oe'\n",
        "        elif(c=='ÿ') : res+='y'\n",
        "        elif(c=='ñ') : res+='n'\n",
        "        elif(c=='ß') : res+='ss'\n",
        "    return res"
      ]
    },
    {
      "cell_type": "markdown",
      "id": "e4ceeea3",
      "metadata": {
        "id": "e4ceeea3"
      },
      "source": [
        "Tester votre fonction à l'aide du bloc suivant."
      ]
    },
    {
      "cell_type": "code",
      "execution_count": null,
      "id": "ed684773",
      "metadata": {
        "colab": {
          "base_uri": "https://localhost:8080/",
          "height": 53
        },
        "id": "ed684773",
        "outputId": "f716c91c-eab0-4c5b-d2f3-16d3294a1c95"
      },
      "outputs": [
        {
          "name": "stdout",
          "output_type": "stream",
          "text": [
            "texte = test\n"
          ]
        },
        {
          "data": {
            "application/vnd.google.colaboratory.intrinsic+json": {
              "type": "string"
            },
            "text/plain": [
              "'test'"
            ]
          },
          "execution_count": 8,
          "metadata": {},
          "output_type": "execute_result"
        }
      ],
      "source": [
        "txt = input(\"texte = \")\n",
        "Filtre(txt)"
      ]
    },
    {
      "cell_type": "markdown",
      "id": "a38f035e",
      "metadata": {
        "id": "a38f035e"
      },
      "source": [
        "### 1.2 Codage et décodage d'un caractère en nombre"
      ]
    },
    {
      "cell_type": "markdown",
      "id": "5ed729a5",
      "metadata": {
        "id": "5ed729a5"
      },
      "source": [
        "L'étape suivante consiste à écrire une fonction <code>code(c)</code> qui associe un nombre à chaque lettre <code>c</code> afin de pouvoir appliquer des opérations mathématiques. Nous utiliserons ici le procédé le plus simple qui consiste à associer <b>0</b> à <b>a</b>, <b>1</b> à <b>b</b>, ... , <b>25</b> à <b>z</b>.<br>\n",
        "Nous utliserons également la fonction inverse <code>decode(n)</code> qui consistera à retrouver une lettre à partir du nombre qui lui est associé."
      ]
    },
    {
      "cell_type": "markdown",
      "id": "ddf7c106",
      "metadata": {
        "id": "ddf7c106"
      },
      "source": [
        "<b> Exercice 2.</b> Écrire la fonction <code>code(c)</code> qui prend en paramètre un caractère <code>c</code> et qui renvoie le nombre associé. Elle doit envoyer $-1$ si $c$ n'est pas un caractère autorisé (i.e. une lettre non accentuée entre a et z)"
      ]
    },
    {
      "cell_type": "code",
      "execution_count": null,
      "id": "11280987",
      "metadata": {
        "id": "11280987"
      },
      "outputs": [],
      "source": [
        "#Code erreur : -1\n",
        "def code(c):\n",
        "    if c == 'a':\n",
        "        return 0\n",
        "    elif c == 'b':\n",
        "        return 1\n",
        "    elif c == 'c':\n",
        "        return 2\n",
        "    elif c == 'd':\n",
        "        return 3\n",
        "    elif c == 'e':\n",
        "        return 4\n",
        "    elif c == 'f':\n",
        "        return 5\n",
        "    elif c == 'g':\n",
        "        return 6\n",
        "    elif c == 'h':\n",
        "        return 7\n",
        "    elif c == 'i':\n",
        "        return 8\n",
        "    elif c == 'j':\n",
        "        return 9\n",
        "    elif c == 'k':\n",
        "        return 10\n",
        "    elif c == 'l':\n",
        "        return 11\n",
        "    elif c == 'm':\n",
        "        return 12\n",
        "    elif c == 'n':\n",
        "        return 13\n",
        "    elif c == 'o':\n",
        "        return 14\n",
        "    elif c == 'p':\n",
        "        return 15\n",
        "    elif c == 'q':\n",
        "        return 16\n",
        "    elif c == 'r':\n",
        "        return 17\n",
        "    elif c == 's':\n",
        "        return 18\n",
        "    elif c == 't':\n",
        "        return 19\n",
        "    elif c == 'u':\n",
        "        return 20\n",
        "    elif c == 'v':\n",
        "        return 21\n",
        "    elif c == 'w':\n",
        "        return 22\n",
        "    elif c == 'x':\n",
        "        return 23\n",
        "    elif c == 'y':\n",
        "        return 24\n",
        "    elif c == 'z':\n",
        "        return 25\n",
        "    else:\n",
        "        return -1"
      ]
    },
    {
      "cell_type": "markdown",
      "id": "8c897bf5",
      "metadata": {
        "id": "8c897bf5"
      },
      "source": [
        "<b> Exercice 3.</b> Écrire la fonction <code>decode(n)</code> qui prend en paramètre un entier <code>n</code> et qui renvoie le caractère associé. Elle doit envoyer \"?\" si $n$ n'est pas un nombre autorisé (i.e. un nombre $0\\leq n\\leq 25$)"
      ]
    },
    {
      "cell_type": "code",
      "execution_count": null,
      "id": "cac27eb0",
      "metadata": {
        "id": "cac27eb0"
      },
      "outputs": [],
      "source": [
        "#Code erreur : '?'\n",
        "def decode(n):\n",
        "    if 0 <= n <= 25:\n",
        "        if n == 0:\n",
        "            return 'a'\n",
        "        elif n == 1:\n",
        "            return 'b'\n",
        "        elif n == 2:\n",
        "            return 'c'\n",
        "        elif n == 3:\n",
        "            return 'd'\n",
        "        elif n == 4:\n",
        "            return 'e'\n",
        "        elif n == 5:\n",
        "            return 'f'\n",
        "        elif n == 6:\n",
        "            return 'g'\n",
        "        elif n == 7:\n",
        "            return 'h'\n",
        "        elif n == 8:\n",
        "            return 'i'\n",
        "        elif n == 9:\n",
        "            return 'j'\n",
        "        elif n == 10:\n",
        "            return 'k'\n",
        "        elif n == 11:\n",
        "            return 'l'\n",
        "        elif n == 12:\n",
        "            return 'm'\n",
        "        elif n == 13:\n",
        "            return 'n'\n",
        "        elif n == 14:\n",
        "            return 'o'\n",
        "        elif n == 15:\n",
        "            return 'p'\n",
        "        elif n == 16:\n",
        "            return 'q'\n",
        "        elif n == 17:\n",
        "            return 'r'\n",
        "        elif n == 18:\n",
        "            return 's'\n",
        "        elif n == 19:\n",
        "            return 't'\n",
        "        elif n == 20:\n",
        "            return 'u'\n",
        "        elif n == 21:\n",
        "            return 'v'\n",
        "        elif n == 22:\n",
        "            return 'w'\n",
        "        elif n == 23:\n",
        "            return 'x'\n",
        "        elif n == 24:\n",
        "            return 'y'\n",
        "        elif n == 25:\n",
        "            return 'z'\n",
        "    else:\n",
        "        # Renvoyer \"?\" si le nombre n'est pas autorisé\n",
        "        return \"?\"\n",
        "\n"
      ]
    },
    {
      "cell_type": "markdown",
      "id": "a3b61165",
      "metadata": {
        "id": "a3b61165"
      },
      "source": [
        "Tester ces fonctions à l'aide du bloc de code suivant."
      ]
    },
    {
      "cell_type": "code",
      "execution_count": null,
      "id": "34ed7179",
      "metadata": {
        "colab": {
          "base_uri": "https://localhost:8080/"
        },
        "id": "34ed7179",
        "outputId": "dd1cc8b8-2937-4ac4-8d5c-56ed837a1d35"
      },
      "outputs": [],
      "source": [
        "print(code(\"a\")) # on attend 0\n",
        "print(code(\"h\")) # on attend 7\n",
        "print(code(\"!\")) # on attend -1\n",
        "print(decode(0)) # on attend a\n",
        "print(decode(5)) # on attend f\n",
        "print(decode(-1)) # on attend ?"
      ]
    },
    {
      "cell_type": "markdown",
      "id": "2d21766e",
      "metadata": {
        "id": "2d21766e"
      },
      "source": [
        "## 2. Chiffrement de César"
      ]
    },
    {
      "cell_type": "markdown",
      "id": "2ea503b3",
      "metadata": {
        "id": "2ea503b3"
      },
      "source": [
        "Le chiffrement de César, appelé aussi chiffrement à décalage, consiste à décaler chaque lettre du message de $k$ lettres. Ainsi, si on choisit $k=3$ par exemple, <b>a</b> devient <b>d</b>, <b>b</b> devient <b>e</b>, etc. Quand on arrive à la fin de l'alphabet, on repart du début : <b>x</b> devient <b>a</b>, <b>y</b> devient <b>b</b> et <b>z</b> devient <b>c</b>.<br>\n",
        "Cette opération de décalage s'exprime très bien sur les nombres associés aux lettres par le procédé de codage détaillé ci-dessus.<br>\n",
        "$$\n",
        "\\begin{array}{rccc}\n",
        "f_k\\ :\\ & \\mathbb{Z}/26\\mathbb{Z} & \\longrightarrow & \\mathbb{Z}/26\\mathbb{Z}\\\\\n",
        "& x & \\longmapsto & x+k\n",
        "\\end{array}\n",
        "$$\n",
        "En effet, si on part de la lettre <b>z</b>, elle est codée par 25, on calcule $$f_3(25) \\equiv 25+3 \\equiv 28 \\equiv 2 \\pmod{26}$$ et 2 est décodé en <b>c</b>."
      ]
    },
    {
      "cell_type": "markdown",
      "id": "3ef6c3b1",
      "metadata": {
        "id": "3ef6c3b1"
      },
      "source": [
        "<b> Exercice 4.</b> Sur papier, chiffrer le mot \"bonjour\" en utilisant le chiffrement de César avec la clé 3. Indiquer votre réponse en éditant puis exécutant le bloc suivant."
      ]
    },
    {
      "cell_type": "markdown",
      "id": "a06e83f6",
      "metadata": {
        "id": "a06e83f6"
      },
      "source": [
        "<div style=\"background-color:rgba(0, 255, 0, 0.19);padding:3%;\">\n",
        "<b>Réponse : </b> Le texte \"bonjour\" chiffré avec le chiffrement de César de clé 3 est erqmrmxu\n",
        "</div>"
      ]
    },
    {
      "cell_type": "markdown",
      "id": "965294a0",
      "metadata": {
        "id": "965294a0"
      },
      "source": [
        "Écrire la fonction <code>chiffreCesar(mot,cle)</code> qui a deux paramètres obligatoires :\n",
        "<ul>\n",
        "    <li><code>mot</code> : une chaîne de caractères</li>\n",
        "    <li><code>cle</code> : un entier</li>\n",
        "</ul>\n",
        "Cette fonction renvoie une chaîne de caractères correspondant au chiffrement de César de <code>mot</code> avec la clé <code>cle</code>.<br>\n",
        "\n",
        "La fonction renvoie la chaine vide (ie $\\texttt{\"\"}$) en cas d'erreur.\n",
        "</p>"
      ]
    },
    {
      "cell_type": "code",
      "execution_count": null,
      "id": "e776df63",
      "metadata": {
        "id": "e776df63"
      },
      "outputs": [],
      "source": [
        "def chiffreCesar(mot, k):\n",
        "    \"\"\"\n",
        "    Cette fonction prend en paramètre un mot et une clé k, et retourne le mot chiffré selon le chiffrement de César.\n",
        "    \"\"\"\n",
        "    mot_filtre = Filtre(mot)\n",
        "    mot_chiffre = \"\"\n",
        "\n",
        "    for lettre in mot_filtre:\n",
        "        code_lettre = code(lettre)\n",
        "        if code_lettre != -1:\n",
        "            lettre_chiffree = decode((code_lettre + k) % 26)\n",
        "            mot_chiffre += lettre_chiffree\n",
        "        else:\n",
        "            mot_chiffre = mot_chiffre + lettre\n",
        "\n",
        "    return mot_chiffre\n"
      ]
    },
    {
      "cell_type": "markdown",
      "id": "04be45e9",
      "metadata": {
        "id": "04be45e9"
      },
      "source": [
        "Tester votre fonction à l'aide du bloc de code suivant."
      ]
    },
    {
      "cell_type": "code",
      "execution_count": null,
      "id": "618d6c00",
      "metadata": {
        "colab": {
          "base_uri": "https://localhost:8080/"
        },
        "id": "618d6c00",
        "outputId": "5d8fae69-44ca-4d65-d20e-48f82bbced28"
      },
      "outputs": [],
      "source": [
        "print(\"*** CHIFFREMENT ***\")\n",
        "txt = \"je test les fonctions avec Dés chärâctërê ß!224RŘÉ\"\n",
        "txt = \"bonjour\"\n",
        "cle = 3\n",
        "texte_chiffre = chiffreCesar(txt,cle)\n",
        "print(\"Le texte '\",txt,\"' chiffré avec le chiffrement de César de clé\",cle,\" est : \",texte_chiffre)"
      ]
    },
    {
      "cell_type": "markdown",
      "id": "12f17b63",
      "metadata": {
        "id": "12f17b63"
      },
      "source": [
        "Sur papier, déchiffrer le mot \"hbylcvpy\" en sachant qu'il a été chiffré à l'aide du chiffrement de César avec la clé 7. Indiquer votre réponse en éditant puis exécutant le bloc suivant."
      ]
    },
    {
      "cell_type": "markdown",
      "id": "9019d9be",
      "metadata": {
        "id": "9019d9be"
      },
      "source": [
        "<div style=\"background-color:rgba(0, 255, 0, 0.19);padding:3%;\">\n",
        "<b>Réponse : </b> Le texte \"hbylcvpy\" déchiffré avec le chiffrement de César de clé 7 est aurevoir\n",
        "</div>"
      ]
    },
    {
      "cell_type": "markdown",
      "id": "ca724825",
      "metadata": {
        "id": "ca724825"
      },
      "source": [
        "Écrire la fonction <code>dechiffreCesar(mot,cle)</code> qui permet de déchiffrer un <code>mot</code> qui a été chiffré avec la clé <code>clé</code>."
      ]
    },
    {
      "cell_type": "code",
      "execution_count": null,
      "id": "66b828c6",
      "metadata": {
        "id": "66b828c6"
      },
      "outputs": [],
      "source": [
        "def dechiffreCesar(mot, k):\n",
        "      mot_filtre = Filtre(mot)\n",
        "      mot_dechiffre = \"\"\n",
        "\n",
        "      for lettre in mot_filtre:\n",
        "          # Déchiffrer chaque lettre en utilisant la fonction code et décaler de -k positions\n",
        "          code_lettre = code(lettre)\n",
        "          if code_lettre != -1:\n",
        "              lettre_dechiffree = decode((code_lettre - k) % 26)\n",
        "              mot_dechiffre += lettre_dechiffree\n",
        "          else:\n",
        "              # Si la lettre n'est pas autorisée, la laisser inchangée\n",
        "              mot_dechiffre += lettre\n",
        "\n",
        "      return mot_dechiffre\n"
      ]
    },
    {
      "cell_type": "markdown",
      "id": "269d1a90",
      "metadata": {
        "id": "269d1a90"
      },
      "source": [
        "Tester votre fonction à l'aide du bloc de code suivant."
      ]
    },
    {
      "cell_type": "code",
      "execution_count": null,
      "id": "39471479",
      "metadata": {
        "colab": {
          "base_uri": "https://localhost:8080/"
        },
        "id": "39471479",
        "outputId": "37cd2c1d-bea9-496b-d117-4674a9f95669"
      },
      "outputs": [],
      "source": [
        "print(\"*** DECHIFFREMENT ***\")\n",
        "txt = \"hbylcvpy\"\n",
        "cle = 7\n",
        "texte_clair = dechiffreCesar(txt,cle)\n",
        "print(\"Le texte '\",txt,\"' déchiffré avec le chiffrement de César de clé\",cle,\" est : \",texte_clair)"
      ]
    },
    {
      "cell_type": "markdown",
      "id": "fd99c5cb",
      "metadata": {
        "id": "fd99c5cb"
      },
      "source": [
        "<b>Un peu de cryptanalyse. </b> Écrire la fonction <code>decrypteCesar(mot)</code> qui affiche toutes les possibilités de déchiffrement de <code>mot</code> par brute force."
      ]
    },
    {
      "cell_type": "code",
      "execution_count": null,
      "id": "adc01417",
      "metadata": {
        "id": "adc01417"
      },
      "outputs": [],
      "source": [
        "def decrypteCesar(mot):\n",
        "    print(\"Tentatives de déchiffrement par force brute :\")\n",
        "\n",
        "    for k in range(26):\n",
        "        mot_dechiffre = dechiffreCesar(mot, k)\n",
        "        print(f\"Clé {k}: {mot_dechiffre}\")\n"
      ]
    },
    {
      "cell_type": "markdown",
      "id": "b386ab24",
      "metadata": {
        "id": "b386ab24"
      },
      "source": [
        "Dans le bloc suivant, utilisez la fonction <code>decrypteCesar(mot)</code> pour décrypter le texte <b>prfgdhnaqzrzrcnfgreevoyryrpuvsserzragqrprfne</b>"
      ]
    },
    {
      "cell_type": "code",
      "execution_count": null,
      "id": "425fb4da",
      "metadata": {
        "colab": {
          "base_uri": "https://localhost:8080/"
        },
        "id": "425fb4da",
        "outputId": "cb3bedf9-e6b5-492e-c66c-c931ba55b108",
        "scrolled": true
      },
      "outputs": [],
      "source": [
        "decrypteCesar(\"prfgdhnaqzrzrcnfgreevoyryrpuvsserzragqrprfne\")"
      ]
    },
    {
      "cell_type": "markdown",
      "id": "a3da8b62",
      "metadata": {
        "id": "a3da8b62"
      },
      "source": [
        "<b> Question : </b>Combien de résultats différents obtient-on ? Retrouver la clé et le texte décrypté."
      ]
    },
    {
      "cell_type": "markdown",
      "id": "24b53f5c",
      "metadata": {
        "id": "24b53f5c"
      },
      "source": [
        "<div style=\"background-color:rgba(0, 255, 0, 0.19);padding:3%;\">\n",
        "<b>Réponse : </b> Il y a __ résultats à analyser. La clé est __ et le texte décrypté est __\n",
        "</div>"
      ]
    },
    {
      "cell_type": "markdown",
      "id": "bc93e6be",
      "metadata": {
        "id": "bc93e6be"
      },
      "source": [
        "## 3. Chiffrement affine"
      ]
    },
    {
      "cell_type": "markdown",
      "id": "af1007e0",
      "metadata": {
        "id": "af1007e0"
      },
      "source": [
        "Le chiffrement affine est une modification de l'algorithme de César qui consiste à choisr comme clé un couple d'entiers $(a,b)$ et à appliquer à chaque nombre $x$ codant un caractère $c$ la transformation affine $ax+b \\pmod{26}$.<br>\n",
        "$$\n",
        "\\begin{array}{rccc}\n",
        "f_{a,b}\\ :\\ & \\mathbb{Z}/26\\mathbb{Z} & \\longrightarrow & \\mathbb{Z}/26\\mathbb{Z}\\\\\n",
        "& x & \\longmapsto & ax+b\n",
        "\\end{array}\n",
        "$$\n",
        "Par exemple, avec la clé $(3,7)$ si on part de la lettre <b>z</b>, elle est codée par 25, on calcule $$f_{3,7}(25) \\equiv 3*25+7 \\equiv 82 \\equiv 4 \\pmod{26}$$ et 4 est décodé en <b>e</b>."
      ]
    },
    {
      "cell_type": "markdown",
      "id": "0ad83f6a",
      "metadata": {
        "id": "0ad83f6a"
      },
      "source": [
        "<b> Exercice 5.</b> Sur papier, chiffrer le mot \"bonjour\" en utilisant le chiffrement affine de clé $(3,7)$. Indiquer votre réponse en éditant puis exécutant le bloc suivant."
      ]
    },
    {
      "cell_type": "markdown",
      "id": "8c0e3e81",
      "metadata": {
        "id": "8c0e3e81"
      },
      "source": [
        "<div style=\"background-color:rgba(0, 255, 0, 0.19);padding:3%;\">\n",
        "<b>Réponse : </b> Le texte \"bonjour\" chiffré avec le chiffrement affine de clé $(3,7)$ est __\n",
        "</div>"
      ]
    },
    {
      "cell_type": "markdown",
      "id": "ecceedbd",
      "metadata": {
        "id": "ecceedbd"
      },
      "source": [
        "Écrire la fonction <code>chiffreAffine(mot,a,b)</code> qui a deux paramètres obligatoires :\n",
        "<ul>\n",
        "    <li><code>mot</code> : une chaîne de caractères</li>\n",
        "    <li><code>a,b</code> : 2 entiers</li>\n",
        "</ul>\n",
        "Cette fonction renvoie une chaîne de caractères correspondant au chiffrement affine de <code>mot</code> avec la clé <code>(a,b)</code>.<br>\n",
        "\n",
        "La fonction renvoie la chaine vide (ie $\\texttt{\"\"}$) en cas d'erreur.\n",
        "</p>"
      ]
    },
    {
      "cell_type": "code",
      "execution_count": null,
      "id": "54c32fc3",
      "metadata": {
        "id": "54c32fc3"
      },
      "outputs": [],
      "source": [
        "def chiffreAffine(mot, a, b):\n",
        "\n",
        "    mot_filtre = Filtre(mot)\n",
        "    mot_chiffre = \"\"\n",
        "    for lettre in mot_filtre:\n",
        "        code_lettre = code(lettre)\n",
        "        if code_lettre != -1:\n",
        "            lettre_chiffree = decode((a * code_lettre + b) % 26)\n",
        "            mot_chiffre += lettre_chiffree\n",
        "        else:\n",
        "            return \"\"\n",
        "\n",
        "    return mot_chiffre"
      ]
    },
    {
      "cell_type": "markdown",
      "id": "86a9cb34",
      "metadata": {
        "id": "86a9cb34"
      },
      "source": [
        "Tester votre fonction à l'aide du bloc suivant."
      ]
    },
    {
      "cell_type": "code",
      "execution_count": null,
      "id": "f793d551",
      "metadata": {
        "colab": {
          "base_uri": "https://localhost:8080/"
        },
        "id": "f793d551",
        "outputId": "8547826d-7765-43f0-8f90-b657516a0de3"
      },
      "outputs": [],
      "source": [
        "print(\"*** CHIFFREMENT ***\")\n",
        "txt = \"bonjour\"\n",
        "cle_a = 3\n",
        "cle_b = 7\n",
        "texte_chiffre = chiffreAffine(txt,cle_a,cle_b)\n",
        "print(\"Le texte '\",txt,\"' chiffré avec le chiffrement affine de clé (\",cle_a,\",\",cle_b,\") est : \",texte_chiffre)"
      ]
    },
    {
      "cell_type": "markdown",
      "id": "55cc7716",
      "metadata": {
        "id": "55cc7716"
      },
      "source": [
        "Pour déchiffrer, nous avons besoin d'inverser la fonction $f_{a,b}$, c'est-à-dire de pouvoir trouver pour chaque $y\\in\\mathbb{Z}/26\\mathbb{Z}$ un unique $x\\in\\mathbb{Z}/26\\mathbb{Z}$ tel que $ax+b \\equiv y \\pmod{26}$.<br>\n",
        "Malheureusement, ceci n'est pas toujours possible !<br>\n",
        "<b>Question : </b>Trouver à quelle condition sur $a$ il est possible d'écrire une fonction de déchiffrement et indiquer alors quelle fonction permet de calculer $x$ en fonction de $y$."
      ]
    },
    {
      "cell_type": "markdown",
      "id": "a7130b77",
      "metadata": {
        "id": "a7130b77"
      },
      "source": [
        "<div style=\"background-color:rgba(0, 255, 0, 0.19);padding:3%;\">\n",
        "<b>Réponse : </b> !! Écrire votre réponse ici en éditant le bloc !!\n",
        "</div>\n",
        "<div>\n",
        "pour que cela fonctionne il faut que le plus grand diviseur communs soit de a et b soit 1\n",
        "</div>"
      ]
    },
    {
      "cell_type": "markdown",
      "id": "fb484c82",
      "metadata": {
        "id": "fb484c82"
      },
      "source": [
        "Sur papier, déchiffrer le mot \"wvspayinlc\", sachant qu'il a été chiffré en utilisant le chiffrement affine de clé $(5,8)$. Indiquer votre réponse en éditant puis exécutant le bloc suivant."
      ]
    },
    {
      "cell_type": "markdown",
      "id": "df880f76",
      "metadata": {
        "id": "df880f76"
      },
      "source": [
        "<div style=\"background-color:rgba(0, 255, 0, 0.19);padding:3%;\">\n",
        "<b>Réponse : </b> Le texte \"wvspayinlc\" déchiffré avec le chiffrement affine de clé (5,8) est __\n",
        "</div>"
      ]
    },
    {
      "cell_type": "markdown",
      "id": "c8cb6b67",
      "metadata": {
        "id": "c8cb6b67"
      },
      "source": [
        "Écrire la fonction <code>dechiffreAffine(mot,a,b)</code> qui permet de déchiffrer un mot qui a été chiffré avec la clé <code>(a,b)</code>. Si ce n'est pas possible, afficher un message expliquant que la clé n'est pas une clé de chiffrement affine autorisée et retourner une chaîne vide."
      ]
    },
    {
      "cell_type": "code",
      "execution_count": null,
      "id": "2f7d9f81",
      "metadata": {
        "id": "2f7d9f81"
      },
      "outputs": [],
      "source": [
        "def dechiffreAffine(mot, a, b):\n",
        "  def pgcd(a, b):\n",
        "        while b:\n",
        "            a, b = b, a % b\n",
        "        return a\n",
        "\n",
        "\n",
        "  mot_filtre = Filtre(mot)\n",
        "\n",
        "\n",
        "\n",
        "  if pgcd(a, 26) != 1:\n",
        "        print(\"La clé n'est pas une clé de chiffrement affine autorisée.\")\n",
        "        return \"\"\n",
        "  m = 26\n",
        "  a_inverse = pow(a, -1, m)\n",
        "\n",
        "  mot_dechiffre = \"\"\n",
        "\n",
        "  for lettre in mot_filtre:\n",
        "        code_lettre = code(lettre)\n",
        "        if code_lettre != -1:\n",
        "            lettre_dechiffree = decode((a_inverse * (code_lettre - b)) % 26)\n",
        "            mot_dechiffre += lettre_dechiffree\n",
        "        else:\n",
        "            #si c'est pas autorisé\n",
        "            return \"\"\n",
        "\n",
        "  return mot_dechiffre\n"
      ]
    },
    {
      "cell_type": "markdown",
      "id": "a17feb49",
      "metadata": {
        "id": "a17feb49"
      },
      "source": [
        "Tester votre fonction à l'aide du bloc de code suivant."
      ]
    },
    {
      "cell_type": "code",
      "execution_count": null,
      "id": "ce10852d",
      "metadata": {
        "colab": {
          "base_uri": "https://localhost:8080/"
        },
        "id": "ce10852d",
        "outputId": "ea3d9fef-f316-482f-f78a-04e2f4e75298"
      },
      "outputs": [
        {
          "name": "stdout",
          "output_type": "stream",
          "text": [
            "*** DECHIFFREMENT ***\n",
            "Le texte ' wvspayinlc ' chiffré avec le chiffrement affine de clé ( 5 , 8 ) est :  incroyable\n"
          ]
        }
      ],
      "source": [
        "print(\"*** DECHIFFREMENT ***\")\n",
        "txt = \"wvspayinlc\"\n",
        "cle_a = 5\n",
        "cle_b = 8\n",
        "texte_clair = dechiffreAffine(txt,cle_a,cle_b)\n",
        "print(\"Le texte '\",txt,\"' chiffré avec le chiffrement affine de clé (\",cle_a,\",\",cle_b,\") est : \",texte_clair)"
      ]
    },
    {
      "cell_type": "markdown",
      "id": "ba730d1a",
      "metadata": {
        "id": "ba730d1a"
      },
      "source": [
        "<b>Un peu de cryptanalyse. </b> Écrire la fonction <code>decrypteAffine(mot)</code> qui affiche toutes les possibilités de chiffrement de <code>mot</code> par brute force."
      ]
    },
    {
      "cell_type": "code",
      "execution_count": null,
      "id": "f4a71331",
      "metadata": {
        "colab": {
          "base_uri": "https://localhost:8080/"
        },
        "id": "f4a71331",
        "outputId": "8494a92f-4a77-42f5-a3c5-65f8d69a0815"
      },
      "outputs": [],
      "source": [
        "def decrypteAffine(mot):\n",
        "    print(\"Tentatives de déchiffrement par force brute :\")\n",
        "\n",
        "    for a in range(1, 26):\n",
        "        # Vérifier que a et 26 sont premiers entre eux\n",
        "        if pgcd(a, 26) == 1:\n",
        "            for b in range(26):\n",
        "                mot_dechiffre = dechiffreAffine(mot, a, b)\n",
        "                print(f\"Clé ({a}, {b}): {mot_dechiffre}\")\n",
        "decrypteAffine(\"YZDGRKKMZJZUIHKKRUZZXIJRZTAJHRXRYZXIZUDFMZKHDRYZHHIIHBTZMZUSMTIZKFMDZ\")"
      ]
    },
    {
      "cell_type": "markdown",
      "id": "50e82caa",
      "metadata": {
        "id": "50e82caa"
      },
      "source": [
        "Dans le bloc suivant, utilisez la fonction <code>decrypteCesar(mot)</code> pour décrypter le texte <b>YZDGRKKMZJZUIHKKRUZZXIJRZTAJHRXRYZXIZUDFMZKHDRYZHHIIHBTZMZUSMTIZKFMDZ</b>"
      ]
    },
    {
      "cell_type": "markdown",
      "id": "b31eaa30",
      "metadata": {
        "id": "b31eaa30"
      },
      "source": [
        "<b> Question : </b>Combien de résultats différents obtient-on ? Retrouver la clé et le texte décrypté."
      ]
    },
    {
      "cell_type": "markdown",
      "id": "ffee1862",
      "metadata": {
        "id": "ffee1862"
      },
      "source": [
        "<div style=\"background-color:rgba(0, 255, 0, 0.19);padding:3%;\">\n",
        "<b>Réponse : </b> Il y a 26*26 soit 676 résultats à analyser. La clé est Clé (11, 7): et le texte décrypté est lechiffrementaffineestmieuxmaisilestencorefacileaattaquerenbruteforce\n",
        "</div>"
      ]
    }
  ],
  "metadata": {
    "accelerator": "GPU",
    "colab": {
      "gpuType": "T4",
      "provenance": []
    },
    "kernelspec": {
      "display_name": "Python 3",
      "name": "python3"
    },
    "language_info": {
      "codemirror_mode": {
        "name": "ipython",
        "version": 3
      },
      "file_extension": ".py",
      "mimetype": "text/x-python",
      "name": "python",
      "nbconvert_exporter": "python",
      "pygments_lexer": "ipython3",
      "version": "3.9.7"
    }
  },
  "nbformat": 4,
  "nbformat_minor": 5
}
