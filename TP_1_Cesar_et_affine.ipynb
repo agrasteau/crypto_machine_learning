{
  "cells": [
    {
      "cell_type": "markdown",
      "id": "ca99b371",
      "metadata": {
        "id": "ca99b371"
      },
      "source": [
        "# TP 1 - Chiffrement symétrique (1)"
      ]
    },
    {
      "cell_type": "markdown",
      "id": "76e35ec2",
      "metadata": {
        "id": "76e35ec2"
      },
      "source": [
        "La <b>cryptographie</b> est un ensemble de techniques permettant de transformer un <i>message clair</i> en <i>message chiffré</i> qui ne peut pas être déchiffré sans la connaissance d'une clé secrète.\n",
        "\n",
        "Nous allons commencer l'étude de différents algortihmes de chiffrement par les algorithmes de chiffrement <b>symétrique</b>. Le principe général de ces algorithmes est basé sur le partage d'une unique clé secrète entre l'expéditeur et le destinataire. Cette clé va servir à chiffrer un message mais aussi à le déchiffrer, il est donc indispensable qu'elle ne soit pas divulguée."
      ]
    },
    {
      "cell_type": "markdown",
      "id": "0561fa86",
      "metadata": {
        "id": "0561fa86"
      },
      "source": [
        "### IMPORTANT :"
      ]
    },
    {
      "cell_type": "markdown",
      "id": "590495cb",
      "metadata": {
        "id": "590495cb"
      },
      "source": [
        "Avant de commencer le TP, nous allons charger les différentes fonctions que vous avez écrites lors du TP1 - Arithmétique pour la cryptographie, et qui nous serons utile. Pour celà, il vous suffit de créer un fichier intitulé <code>OutilsCrypto.py</code>, d'y coller le code des différentes fonctions du TP1, de le sauvegarder au même endroit que ce TP, et de le charger en exécutant le bloc suivant."
      ]
    },
    {
      "cell_type": "code",
      "source": [
        "from google.colab import drive\n",
        "drive.mount('/content/drive')\n",
        "import sys\n",
        "sys.path.append('/content/drive/MyDrive/Colab Notebooks/BUT 2/R3.09 - Crypto')"
      ],
      "metadata": {
        "id": "53ZiT7rT4JEK",
        "colab": {
          "base_uri": "https://localhost:8080/"
        },
        "outputId": "8484c4ff-28b9-4719-d0b5-0ea0f1c9c40f"
      },
      "id": "53ZiT7rT4JEK",
      "execution_count": null,
      "outputs": [
        {
          "output_type": "stream",
          "name": "stdout",
          "text": [
            "Drive already mounted at /content/drive; to attempt to forcibly remount, call drive.mount(\"/content/drive\", force_remount=True).\n"
          ]
        }
      ]
    },
    {
      "cell_type": "code",
      "execution_count": null,
      "id": "bb256d1d",
      "metadata": {
        "id": "bb256d1d"
      },
      "outputs": [],
      "source": [
        "from OutilsCrypto import *"
      ]
    },
    {
      "cell_type": "markdown",
      "id": "1776a22b",
      "metadata": {
        "id": "1776a22b"
      },
      "source": [
        "À la fin de chaque TP, vous pourrez compléter le fichier <code>OutilsCrypto.py</code> en y ajoutant les nouvelles fonctions écrites."
      ]
    },
    {
      "cell_type": "markdown",
      "id": "ccf95f53",
      "metadata": {
        "id": "ccf95f53"
      },
      "source": [
        "## 1. Préparation du texte à chiffrer\n",
        "Pour chiffrer un message, quel que soit l'algorithme choisi, il faut souvent commencer par le transformer pour pouvoir lui appliquer des opérations mathématiques.<br>"
      ]
    },
    {
      "cell_type": "markdown",
      "id": "dc5355d9",
      "metadata": {
        "id": "dc5355d9"
      },
      "source": [
        "### 1.1 Filtre : enlever les caractères spéciaux"
      ]
    },
    {
      "cell_type": "markdown",
      "id": "cfbf9ab2",
      "metadata": {
        "id": "cfbf9ab2"
      },
      "source": [
        "La première étape consiste en général à <i>nettoyer</i> le texte en se débarrassant des accents, des signes de ponctuation, des caractères spéciaux, etc."
      ]
    },
    {
      "cell_type": "markdown",
      "id": "ea365425",
      "metadata": {
        "id": "ea365425"
      },
      "source": [
        "<b> Exercice 1.</b> Écrire la fonction <code>Filtre(txt)</code> permettant de gérer cet aspect. Elle doit transformer n'importe quelle chaîne de caractères en une chaîne en minuscule ne contenant que les lettres de l'alphabet non accentuées.<br>\n",
        "Par exemple, \"Bonjour, ça va ?\" doit devenir : \"bonjourcava\"<br>\n",
        "<i>Indication :</i> Vous pourrez utiliser la fonction <code>.lower()</code> ainsi que la fonction <code>ord()</code>."
      ]
    },
    {
      "cell_type": "code",
      "execution_count": null,
      "id": "26aa0055",
      "metadata": {
        "id": "26aa0055"
      },
      "outputs": [],
      "source": [
        "def Filtre(txt) :\n",
        "    res=\"\"\n",
        "    for c in txt.lower() :\n",
        "        if(ord('a')<=ord(c)<=ord('z')) : res+=c\n",
        "        if(c=='à' or c=='â' or c=='ä' or c=='á' or c=='å') : res+='a'\n",
        "        elif(c=='ç') : res+='c'\n",
        "        elif(c=='é' or c=='è' or c=='ê' or c=='ë') : res+='e'\n",
        "        elif(c=='ï' or c=='î' or c=='ì' or c=='í') : res+='i'\n",
        "        elif(c=='ö' or c=='ò' or c=='ô' or c=='ø' or c=='ó') : res+='o'\n",
        "        elif(c=='û' or c=='ü' or c=='ù' or c=='ú') : res+='u'\n",
        "        elif(c=='æ') : res+='ae'\n",
        "        elif(c=='œ') : res+='oe'\n",
        "        elif(c=='ÿ') : res+='y'\n",
        "        elif(c=='ñ') : res+='n'\n",
        "        elif(c=='ß') : res+='ss'\n",
        "    return res"
      ]
    },
    {
      "cell_type": "markdown",
      "id": "e4ceeea3",
      "metadata": {
        "id": "e4ceeea3"
      },
      "source": [
        "Tester votre fonction à l'aide du bloc suivant."
      ]
    },
    {
      "cell_type": "code",
      "execution_count": null,
      "id": "ed684773",
      "metadata": {
        "id": "ed684773",
        "colab": {
          "base_uri": "https://localhost:8080/",
          "height": 53
        },
        "outputId": "f716c91c-eab0-4c5b-d2f3-16d3294a1c95"
      },
      "outputs": [
        {
          "name": "stdout",
          "output_type": "stream",
          "text": [
            "texte = test\n"
          ]
        },
        {
          "output_type": "execute_result",
          "data": {
            "text/plain": [
              "'test'"
            ],
            "application/vnd.google.colaboratory.intrinsic+json": {
              "type": "string"
            }
          },
          "metadata": {},
          "execution_count": 8
        }
      ],
      "source": [
        "txt = input(\"texte = \")\n",
        "Filtre(txt)"
      ]
    },
    {
      "cell_type": "markdown",
      "id": "a38f035e",
      "metadata": {
        "id": "a38f035e"
      },
      "source": [
        "### 1.2 Codage et décodage d'un caractère en nombre"
      ]
    },
    {
      "cell_type": "markdown",
      "id": "5ed729a5",
      "metadata": {
        "id": "5ed729a5"
      },
      "source": [
        "L'étape suivante consiste à écrire une fonction <code>code(c)</code> qui associe un nombre à chaque lettre <code>c</code> afin de pouvoir appliquer des opérations mathématiques. Nous utiliserons ici le procédé le plus simple qui consiste à associer <b>0</b> à <b>a</b>, <b>1</b> à <b>b</b>, ... , <b>25</b> à <b>z</b>.<br>\n",
        "Nous utliserons également la fonction inverse <code>decode(n)</code> qui consistera à retrouver une lettre à partir du nombre qui lui est associé."
      ]
    },
    {
      "cell_type": "markdown",
      "id": "ddf7c106",
      "metadata": {
        "id": "ddf7c106"
      },
      "source": [
        "<b> Exercice 2.</b> Écrire la fonction <code>code(c)</code> qui prend en paramètre un caractère <code>c</code> et qui renvoie le nombre associé. Elle doit envoyer $-1$ si $c$ n'est pas un caractère autorisé (i.e. une lettre non accentuée entre a et z)"
      ]
    },
    {
      "cell_type": "code",
      "execution_count": null,
      "id": "11280987",
      "metadata": {
        "id": "11280987"
      },
      "outputs": [],
      "source": [
        "#Code erreur : -1\n",
        "def code(c):\n",
        "    if c == 'a':\n",
        "        return 0\n",
        "    elif c == 'b':\n",
        "        return 1\n",
        "    elif c == 'c':\n",
        "        return 2\n",
        "    elif c == 'd':\n",
        "        return 3\n",
        "    elif c == 'e':\n",
        "        return 4\n",
        "    elif c == 'f':\n",
        "        return 5\n",
        "    elif c == 'g':\n",
        "        return 6\n",
        "    elif c == 'h':\n",
        "        return 7\n",
        "    elif c == 'i':\n",
        "        return 8\n",
        "    elif c == 'j':\n",
        "        return 9\n",
        "    elif c == 'k':\n",
        "        return 10\n",
        "    elif c == 'l':\n",
        "        return 11\n",
        "    elif c == 'm':\n",
        "        return 12\n",
        "    elif c == 'n':\n",
        "        return 13\n",
        "    elif c == 'o':\n",
        "        return 14\n",
        "    elif c == 'p':\n",
        "        return 15\n",
        "    elif c == 'q':\n",
        "        return 16\n",
        "    elif c == 'r':\n",
        "        return 17\n",
        "    elif c == 's':\n",
        "        return 18\n",
        "    elif c == 't':\n",
        "        return 19\n",
        "    elif c == 'u':\n",
        "        return 20\n",
        "    elif c == 'v':\n",
        "        return 21\n",
        "    elif c == 'w':\n",
        "        return 22\n",
        "    elif c == 'x':\n",
        "        return 23\n",
        "    elif c == 'y':\n",
        "        return 24\n",
        "    elif c == 'z':\n",
        "        return 25\n",
        "    else:\n",
        "        return -1"
      ]
    },
    {
      "cell_type": "markdown",
      "id": "8c897bf5",
      "metadata": {
        "id": "8c897bf5"
      },
      "source": [
        "<b> Exercice 3.</b> Écrire la fonction <code>decode(n)</code> qui prend en paramètre un entier <code>n</code> et qui renvoie le caractère associé. Elle doit envoyer \"?\" si $n$ n'est pas un nombre autorisé (i.e. un nombre $0\\leq n\\leq 25$)"
      ]
    },
    {
      "cell_type": "code",
      "execution_count": null,
      "id": "cac27eb0",
      "metadata": {
        "id": "cac27eb0"
      },
      "outputs": [],
      "source": [
        "#Code erreur : '?'\n",
        "def decode(n):\n",
        "    if 0 <= n <= 25:\n",
        "        if n == 0:\n",
        "            return 'a'\n",
        "        elif n == 1:\n",
        "            return 'b'\n",
        "        elif n == 2:\n",
        "            return 'c'\n",
        "        elif n == 3:\n",
        "            return 'd'\n",
        "        elif n == 4:\n",
        "            return 'e'\n",
        "        elif n == 5:\n",
        "            return 'f'\n",
        "        elif n == 6:\n",
        "            return 'g'\n",
        "        elif n == 7:\n",
        "            return 'h'\n",
        "        elif n == 8:\n",
        "            return 'i'\n",
        "        elif n == 9:\n",
        "            return 'j'\n",
        "        elif n == 10:\n",
        "            return 'k'\n",
        "        elif n == 11:\n",
        "            return 'l'\n",
        "        elif n == 12:\n",
        "            return 'm'\n",
        "        elif n == 13:\n",
        "            return 'n'\n",
        "        elif n == 14:\n",
        "            return 'o'\n",
        "        elif n == 15:\n",
        "            return 'p'\n",
        "        elif n == 16:\n",
        "            return 'q'\n",
        "        elif n == 17:\n",
        "            return 'r'\n",
        "        elif n == 18:\n",
        "            return 's'\n",
        "        elif n == 19:\n",
        "            return 't'\n",
        "        elif n == 20:\n",
        "            return 'u'\n",
        "        elif n == 21:\n",
        "            return 'v'\n",
        "        elif n == 22:\n",
        "            return 'w'\n",
        "        elif n == 23:\n",
        "            return 'x'\n",
        "        elif n == 24:\n",
        "            return 'y'\n",
        "        elif n == 25:\n",
        "            return 'z'\n",
        "    else:\n",
        "        # Renvoyer \"?\" si le nombre n'est pas autorisé\n",
        "        return \"?\"\n",
        "\n"
      ]
    },
    {
      "cell_type": "markdown",
      "id": "a3b61165",
      "metadata": {
        "id": "a3b61165"
      },
      "source": [
        "Tester ces fonctions à l'aide du bloc de code suivant."
      ]
    },
    {
      "cell_type": "code",
      "execution_count": null,
      "id": "34ed7179",
      "metadata": {
        "id": "34ed7179",
        "colab": {
          "base_uri": "https://localhost:8080/"
        },
        "outputId": "dd1cc8b8-2937-4ac4-8d5c-56ed837a1d35"
      },
      "outputs": [
        {
          "output_type": "stream",
          "name": "stdout",
          "text": [
            "0\n",
            "7\n",
            "-1\n",
            "a\n",
            "f\n",
            "?\n"
          ]
        }
      ],
      "source": [
        "print(code(\"a\")) # on attend 0\n",
        "print(code(\"h\")) # on attend 7\n",
        "print(code(\"!\")) # on attend -1\n",
        "print(decode(0)) # on attend a\n",
        "print(decode(5)) # on attend f\n",
        "print(decode(-1)) # on attend ?"
      ]
    },
    {
      "cell_type": "markdown",
      "id": "2d21766e",
      "metadata": {
        "id": "2d21766e"
      },
      "source": [
        "## 2. Chiffrement de César"
      ]
    },
    {
      "cell_type": "markdown",
      "id": "2ea503b3",
      "metadata": {
        "id": "2ea503b3"
      },
      "source": [
        "Le chiffrement de César, appelé aussi chiffrement à décalage, consiste à décaler chaque lettre du message de $k$ lettres. Ainsi, si on choisit $k=3$ par exemple, <b>a</b> devient <b>d</b>, <b>b</b> devient <b>e</b>, etc. Quand on arrive à la fin de l'alphabet, on repart du début : <b>x</b> devient <b>a</b>, <b>y</b> devient <b>b</b> et <b>z</b> devient <b>c</b>.<br>\n",
        "Cette opération de décalage s'exprime très bien sur les nombres associés aux lettres par le procédé de codage détaillé ci-dessus.<br>\n",
        "$$\n",
        "\\begin{array}{rccc}\n",
        "f_k\\ :\\ & \\mathbb{Z}/26\\mathbb{Z} & \\longrightarrow & \\mathbb{Z}/26\\mathbb{Z}\\\\\n",
        "& x & \\longmapsto & x+k\n",
        "\\end{array}\n",
        "$$\n",
        "En effet, si on part de la lettre <b>z</b>, elle est codée par 25, on calcule $$f_3(25) \\equiv 25+3 \\equiv 28 \\equiv 2 \\pmod{26}$$ et 2 est décodé en <b>c</b>."
      ]
    },
    {
      "cell_type": "markdown",
      "id": "3ef6c3b1",
      "metadata": {
        "id": "3ef6c3b1"
      },
      "source": [
        "<b> Exercice 4.</b> Sur papier, chiffrer le mot \"bonjour\" en utilisant le chiffrement de César avec la clé 3. Indiquer votre réponse en éditant puis exécutant le bloc suivant."
      ]
    },
    {
      "cell_type": "markdown",
      "id": "a06e83f6",
      "metadata": {
        "id": "a06e83f6"
      },
      "source": [
        "<div style=\"background-color:rgba(0, 255, 0, 0.19);padding:3%;\">\n",
        "<b>Réponse : </b> Le texte \"bonjour\" chiffré avec le chiffrement de César de clé 3 est erqmrmxu\n",
        "</div>"
      ]
    },
    {
      "cell_type": "markdown",
      "id": "965294a0",
      "metadata": {
        "id": "965294a0"
      },
      "source": [
        "Écrire la fonction <code>chiffreCesar(mot,cle)</code> qui a deux paramètres obligatoires :\n",
        "<ul>\n",
        "    <li><code>mot</code> : une chaîne de caractères</li>\n",
        "    <li><code>cle</code> : un entier</li>\n",
        "</ul>\n",
        "Cette fonction renvoie une chaîne de caractères correspondant au chiffrement de César de <code>mot</code> avec la clé <code>cle</code>.<br>\n",
        "\n",
        "La fonction renvoie la chaine vide (ie $\\texttt{\"\"}$) en cas d'erreur.\n",
        "</p>"
      ]
    },
    {
      "cell_type": "code",
      "execution_count": null,
      "id": "e776df63",
      "metadata": {
        "id": "e776df63"
      },
      "outputs": [],
      "source": [
        "def chiffreCesar(mot, k):\n",
        "    \"\"\"\n",
        "    Cette fonction prend en paramètre un mot et une clé k, et retourne le mot chiffré selon le chiffrement de César.\n",
        "    \"\"\"\n",
        "    mot_filtre = Filtre(mot)\n",
        "    mot_chiffre = \"\"\n",
        "\n",
        "    for lettre in mot_filtre:\n",
        "        code_lettre = code(lettre)\n",
        "        if code_lettre != -1:\n",
        "            lettre_chiffree = decode((code_lettre + k) % 26)\n",
        "            mot_chiffre += lettre_chiffree\n",
        "        else:\n",
        "            mot_chiffre = mot_chiffre + lettre\n",
        "\n",
        "    return mot_chiffre\n"
      ]
    },
    {
      "cell_type": "markdown",
      "id": "04be45e9",
      "metadata": {
        "id": "04be45e9"
      },
      "source": [
        "Tester votre fonction à l'aide du bloc de code suivant."
      ]
    },
    {
      "cell_type": "code",
      "execution_count": null,
      "id": "618d6c00",
      "metadata": {
        "id": "618d6c00",
        "colab": {
          "base_uri": "https://localhost:8080/"
        },
        "outputId": "5d8fae69-44ca-4d65-d20e-48f82bbced28"
      },
      "outputs": [
        {
          "output_type": "stream",
          "name": "stdout",
          "text": [
            "*** CHIFFREMENT ***\n",
            "Le texte ' bonjour ' chiffré avec le chiffrement de César de clé 3  est :  erqmrxu\n"
          ]
        }
      ],
      "source": [
        "print(\"*** CHIFFREMENT ***\")\n",
        "txt = \"je test les fonctions avec Dés chärâctërê ß!224RŘÉ\"\n",
        "txt = \"bonjour\"\n",
        "cle = 3\n",
        "texte_chiffre = chiffreCesar(txt,cle)\n",
        "print(\"Le texte '\",txt,\"' chiffré avec le chiffrement de César de clé\",cle,\" est : \",texte_chiffre)"
      ]
    },
    {
      "cell_type": "markdown",
      "id": "12f17b63",
      "metadata": {
        "id": "12f17b63"
      },
      "source": [
        "Sur papier, déchiffrer le mot \"hbylcvpy\" en sachant qu'il a été chiffré à l'aide du chiffrement de César avec la clé 7. Indiquer votre réponse en éditant puis exécutant le bloc suivant."
      ]
    },
    {
      "cell_type": "markdown",
      "id": "9019d9be",
      "metadata": {
        "id": "9019d9be"
      },
      "source": [
        "<div style=\"background-color:rgba(0, 255, 0, 0.19);padding:3%;\">\n",
        "<b>Réponse : </b> Le texte \"hbylcvpy\" déchiffré avec le chiffrement de César de clé 7 est aurevoir\n",
        "</div>"
      ]
    },
    {
      "cell_type": "markdown",
      "id": "ca724825",
      "metadata": {
        "id": "ca724825"
      },
      "source": [
        "Écrire la fonction <code>dechiffreCesar(mot,cle)</code> qui permet de déchiffrer un <code>mot</code> qui a été chiffré avec la clé <code>clé</code>."
      ]
    },
    {
      "cell_type": "code",
      "execution_count": null,
      "id": "66b828c6",
      "metadata": {
        "id": "66b828c6"
      },
      "outputs": [],
      "source": [
        "def dechiffreCesar(mot, k):\n",
        "      mot_filtre = Filtre(mot)\n",
        "      mot_dechiffre = \"\"\n",
        "\n",
        "      for lettre in mot_filtre:\n",
        "          # Déchiffrer chaque lettre en utilisant la fonction code et décaler de -k positions\n",
        "          code_lettre = code(lettre)\n",
        "          if code_lettre != -1:\n",
        "              lettre_dechiffree = decode((code_lettre - k) % 26)\n",
        "              mot_dechiffre += lettre_dechiffree\n",
        "          else:\n",
        "              # Si la lettre n'est pas autorisée, la laisser inchangée\n",
        "              mot_dechiffre += lettre\n",
        "\n",
        "      return mot_dechiffre\n"
      ]
    },
    {
      "cell_type": "markdown",
      "id": "269d1a90",
      "metadata": {
        "id": "269d1a90"
      },
      "source": [
        "Tester votre fonction à l'aide du bloc de code suivant."
      ]
    },
    {
      "cell_type": "code",
      "execution_count": null,
      "id": "39471479",
      "metadata": {
        "id": "39471479",
        "colab": {
          "base_uri": "https://localhost:8080/"
        },
        "outputId": "37cd2c1d-bea9-496b-d117-4674a9f95669"
      },
      "outputs": [
        {
          "output_type": "stream",
          "name": "stdout",
          "text": [
            "*** DECHIFFREMENT ***\n",
            "Le texte ' hbylcvpy ' déchiffré avec le chiffrement de César de clé 7  est :  aurevoir\n"
          ]
        }
      ],
      "source": [
        "print(\"*** DECHIFFREMENT ***\")\n",
        "txt = \"hbylcvpy\"\n",
        "cle = 7\n",
        "texte_clair = dechiffreCesar(txt,cle)\n",
        "print(\"Le texte '\",txt,\"' déchiffré avec le chiffrement de César de clé\",cle,\" est : \",texte_clair)"
      ]
    },
    {
      "cell_type": "markdown",
      "id": "fd99c5cb",
      "metadata": {
        "id": "fd99c5cb"
      },
      "source": [
        "<b>Un peu de cryptanalyse. </b> Écrire la fonction <code>decrypteCesar(mot)</code> qui affiche toutes les possibilités de déchiffrement de <code>mot</code> par brute force."
      ]
    },
    {
      "cell_type": "code",
      "execution_count": null,
      "id": "adc01417",
      "metadata": {
        "id": "adc01417"
      },
      "outputs": [],
      "source": [
        "def decrypteCesar(mot):\n",
        "    print(\"Tentatives de déchiffrement par force brute :\")\n",
        "\n",
        "    for k in range(26):\n",
        "        mot_dechiffre = dechiffreCesar(mot, k)\n",
        "        print(f\"Clé {k}: {mot_dechiffre}\")\n"
      ]
    },
    {
      "cell_type": "markdown",
      "id": "b386ab24",
      "metadata": {
        "id": "b386ab24"
      },
      "source": [
        "Dans le bloc suivant, utilisez la fonction <code>decrypteCesar(mot)</code> pour décrypter le texte <b>prfgdhnaqzrzrcnfgreevoyryrpuvsserzragqrprfne</b>"
      ]
    },
    {
      "cell_type": "code",
      "execution_count": null,
      "id": "425fb4da",
      "metadata": {
        "scrolled": true,
        "id": "425fb4da",
        "colab": {
          "base_uri": "https://localhost:8080/"
        },
        "outputId": "cb3bedf9-e6b5-492e-c66c-c931ba55b108"
      },
      "outputs": [
        {
          "output_type": "stream",
          "name": "stdout",
          "text": [
            "Tentatives de déchiffrement par force brute :\n",
            "Clé 0: prfgdhnaqzrzrcnfgreevoyryrpuvsserzragqrprfne\n",
            "Clé 1: oqefcgmzpyqyqbmefqddunxqxqoturrdqyqzfpqoqemd\n",
            "Clé 2: npdebflyoxpxpaldepcctmwpwpnstqqcpxpyeopnpdlc\n",
            "Clé 3: mocdaekxnwowozkcdobbslvovomrsppbowoxdnomockb\n",
            "Clé 4: lnbczdjwmvnvnyjbcnaarkununlqrooanvnwcmnlnbja\n",
            "Clé 5: kmabycivlumumxiabmzzqjtmtmkpqnnzmumvblmkmaiz\n",
            "Clé 6: jlzaxbhuktltlwhzalyypislsljopmmyltluakljlzhy\n",
            "Clé 7: ikyzwagtjskskvgyzkxxohrkrkinollxksktzjkikygx\n",
            "Clé 8: hjxyvzfsirjrjufxyjwwngqjqjhmnkkwjrjsyijhjxfw\n",
            "Clé 9: giwxuyerhqiqitewxivvmfpipiglmjjviqirxhigiwev\n",
            "Clé 10: fhvwtxdqgphphsdvwhuuleohohfkliiuhphqwghfhvdu\n",
            "Clé 11: eguvswcpfogogrcuvgttkdngngejkhhtgogpvfgeguct\n",
            "Clé 12: dfturvboenfnfqbtufssjcmfmfdijggsfnfouefdftbs\n",
            "Clé 13: cestquandmemepasterriblelechiffrementdecesar\n",
            "Clé 14: bdrsptzmcldldozrsdqqhakdkdbgheeqdldmscdbdrzq\n",
            "Clé 15: acqrosylbkckcnyqrcppgzjcjcafgddpckclrbcacqyp\n",
            "Clé 16: zbpqnrxkajbjbmxpqboofyibibzefccobjbkqabzbpxo\n",
            "Clé 17: yaopmqwjziaialwopannexhahaydebbnaiajpzayaown\n",
            "Clé 18: xznolpviyhzhzkvnozmmdwgzgzxcdaamzhzioyzxznvm\n",
            "Clé 19: wymnkouhxgygyjumnyllcvfyfywbczzlygyhnxywymul\n",
            "Clé 20: vxlmjntgwfxfxitlmxkkbuexexvabyykxfxgmwxvxltk\n",
            "Clé 21: uwklimsfvewewhsklwjjatdwdwuzaxxjwewflvwuwksj\n",
            "Clé 22: tvjkhlreudvdvgrjkviizscvcvtyzwwivdvekuvtvjri\n",
            "Clé 23: suijgkqdtcucufqijuhhyrbubusxyvvhucudjtusuiqh\n",
            "Clé 24: rthifjpcsbtbtephitggxqatatrwxuugtbtcistrthpg\n",
            "Clé 25: qsgheiobrasasdoghsffwpzszsqvwttfsasbhrsqsgof\n"
          ]
        }
      ],
      "source": [
        "decrypteCesar(\"prfgdhnaqzrzrcnfgreevoyryrpuvsserzragqrprfne\")"
      ]
    },
    {
      "cell_type": "markdown",
      "id": "a3da8b62",
      "metadata": {
        "id": "a3da8b62"
      },
      "source": [
        "<b> Question : </b>Combien de résultats différents obtient-on ? Retrouver la clé et le texte décrypté."
      ]
    },
    {
      "cell_type": "markdown",
      "id": "24b53f5c",
      "metadata": {
        "id": "24b53f5c"
      },
      "source": [
        "<div style=\"background-color:rgba(0, 255, 0, 0.19);padding:3%;\">\n",
        "<b>Réponse : </b> Il y a __ résultats à analyser. La clé est __ et le texte décrypté est __\n",
        "</div>"
      ]
    },
    {
      "cell_type": "markdown",
      "id": "bc93e6be",
      "metadata": {
        "id": "bc93e6be"
      },
      "source": [
        "## 3. Chiffrement affine"
      ]
    },
    {
      "cell_type": "markdown",
      "id": "af1007e0",
      "metadata": {
        "id": "af1007e0"
      },
      "source": [
        "Le chiffrement affine est une modification de l'algorithme de César qui consiste à choisr comme clé un couple d'entiers $(a,b)$ et à appliquer à chaque nombre $x$ codant un caractère $c$ la transformation affine $ax+b \\pmod{26}$.<br>\n",
        "$$\n",
        "\\begin{array}{rccc}\n",
        "f_{a,b}\\ :\\ & \\mathbb{Z}/26\\mathbb{Z} & \\longrightarrow & \\mathbb{Z}/26\\mathbb{Z}\\\\\n",
        "& x & \\longmapsto & ax+b\n",
        "\\end{array}\n",
        "$$\n",
        "Par exemple, avec la clé $(3,7)$ si on part de la lettre <b>z</b>, elle est codée par 25, on calcule $$f_{3,7}(25) \\equiv 3*25+7 \\equiv 82 \\equiv 4 \\pmod{26}$$ et 4 est décodé en <b>e</b>."
      ]
    },
    {
      "cell_type": "markdown",
      "id": "0ad83f6a",
      "metadata": {
        "id": "0ad83f6a"
      },
      "source": [
        "<b> Exercice 5.</b> Sur papier, chiffrer le mot \"bonjour\" en utilisant le chiffrement affine de clé $(3,7)$. Indiquer votre réponse en éditant puis exécutant le bloc suivant."
      ]
    },
    {
      "cell_type": "markdown",
      "id": "8c0e3e81",
      "metadata": {
        "id": "8c0e3e81"
      },
      "source": [
        "<div style=\"background-color:rgba(0, 255, 0, 0.19);padding:3%;\">\n",
        "<b>Réponse : </b> Le texte \"bonjour\" chiffré avec le chiffrement affine de clé $(3,7)$ est __\n",
        "</div>"
      ]
    },
    {
      "cell_type": "markdown",
      "id": "ecceedbd",
      "metadata": {
        "id": "ecceedbd"
      },
      "source": [
        "Écrire la fonction <code>chiffreAffine(mot,a,b)</code> qui a deux paramètres obligatoires :\n",
        "<ul>\n",
        "    <li><code>mot</code> : une chaîne de caractères</li>\n",
        "    <li><code>a,b</code> : 2 entiers</li>\n",
        "</ul>\n",
        "Cette fonction renvoie une chaîne de caractères correspondant au chiffrement affine de <code>mot</code> avec la clé <code>(a,b)</code>.<br>\n",
        "\n",
        "La fonction renvoie la chaine vide (ie $\\texttt{\"\"}$) en cas d'erreur.\n",
        "</p>"
      ]
    },
    {
      "cell_type": "code",
      "execution_count": null,
      "id": "54c32fc3",
      "metadata": {
        "id": "54c32fc3"
      },
      "outputs": [],
      "source": [
        "def chiffreAffine(mot, a, b):\n",
        "\n",
        "    mot_filtre = Filtre(mot)\n",
        "    mot_chiffre = \"\"\n",
        "    for lettre in mot_filtre:\n",
        "        code_lettre = code(lettre)\n",
        "        if code_lettre != -1:\n",
        "            lettre_chiffree = decode((a * code_lettre + b) % 26)\n",
        "            mot_chiffre += lettre_chiffree\n",
        "        else:\n",
        "            return \"\"\n",
        "\n",
        "    return mot_chiffre"
      ]
    },
    {
      "cell_type": "markdown",
      "id": "86a9cb34",
      "metadata": {
        "id": "86a9cb34"
      },
      "source": [
        "Tester votre fonction à l'aide du bloc suivant."
      ]
    },
    {
      "cell_type": "code",
      "execution_count": null,
      "id": "f793d551",
      "metadata": {
        "id": "f793d551",
        "colab": {
          "base_uri": "https://localhost:8080/"
        },
        "outputId": "8547826d-7765-43f0-8f90-b657516a0de3"
      },
      "outputs": [
        {
          "output_type": "stream",
          "name": "stdout",
          "text": [
            "*** CHIFFREMENT ***\n",
            "Le texte ' bonjour ' chiffré avec le chiffrement affine de clé ( 3 , 7 ) est :  kxuixpg\n"
          ]
        }
      ],
      "source": [
        "print(\"*** CHIFFREMENT ***\")\n",
        "txt = \"bonjour\"\n",
        "cle_a = 3\n",
        "cle_b = 7\n",
        "texte_chiffre = chiffreAffine(txt,cle_a,cle_b)\n",
        "print(\"Le texte '\",txt,\"' chiffré avec le chiffrement affine de clé (\",cle_a,\",\",cle_b,\") est : \",texte_chiffre)"
      ]
    },
    {
      "cell_type": "markdown",
      "id": "55cc7716",
      "metadata": {
        "id": "55cc7716"
      },
      "source": [
        "Pour déchiffrer, nous avons besoin d'inverser la fonction $f_{a,b}$, c'est-à-dire de pouvoir trouver pour chaque $y\\in\\mathbb{Z}/26\\mathbb{Z}$ un unique $x\\in\\mathbb{Z}/26\\mathbb{Z}$ tel que $ax+b \\equiv y \\pmod{26}$.<br>\n",
        "Malheureusement, ceci n'est pas toujours possible !<br>\n",
        "<b>Question : </b>Trouver à quelle condition sur $a$ il est possible d'écrire une fonction de déchiffrement et indiquer alors quelle fonction permet de calculer $x$ en fonction de $y$."
      ]
    },
    {
      "cell_type": "markdown",
      "id": "a7130b77",
      "metadata": {
        "id": "a7130b77"
      },
      "source": [
        "<div style=\"background-color:rgba(0, 255, 0, 0.19);padding:3%;\">\n",
        "<b>Réponse : </b> !! Écrire votre réponse ici en éditant le bloc !!\n",
        "</div>\n",
        "<div>\n",
        "pour que cela fonctionne il faut que le plus grand diviseur communs soit de a et b soit 1\n",
        "</div>"
      ]
    },
    {
      "cell_type": "markdown",
      "id": "fb484c82",
      "metadata": {
        "id": "fb484c82"
      },
      "source": [
        "Sur papier, déchiffrer le mot \"wvspayinlc\", sachant qu'il a été chiffré en utilisant le chiffrement affine de clé $(5,8)$. Indiquer votre réponse en éditant puis exécutant le bloc suivant."
      ]
    },
    {
      "cell_type": "markdown",
      "id": "df880f76",
      "metadata": {
        "id": "df880f76"
      },
      "source": [
        "<div style=\"background-color:rgba(0, 255, 0, 0.19);padding:3%;\">\n",
        "<b>Réponse : </b> Le texte \"wvspayinlc\" déchiffré avec le chiffrement affine de clé (5,8) est __\n",
        "</div>"
      ]
    },
    {
      "cell_type": "markdown",
      "id": "c8cb6b67",
      "metadata": {
        "id": "c8cb6b67"
      },
      "source": [
        "Écrire la fonction <code>dechiffreAffine(mot,a,b)</code> qui permet de déchiffrer un mot qui a été chiffré avec la clé <code>(a,b)</code>. Si ce n'est pas possible, afficher un message expliquant que la clé n'est pas une clé de chiffrement affine autorisée et retourner une chaîne vide."
      ]
    },
    {
      "cell_type": "code",
      "execution_count": null,
      "id": "2f7d9f81",
      "metadata": {
        "id": "2f7d9f81"
      },
      "outputs": [],
      "source": [
        "def dechiffreAffine(mot, a, b):\n",
        "  def pgcd(a, b):\n",
        "        while b:\n",
        "            a, b = b, a % b\n",
        "        return a\n",
        "\n",
        "\n",
        "  mot_filtre = Filtre(mot)\n",
        "\n",
        "\n",
        "\n",
        "  if pgcd(a, 26) != 1:\n",
        "        print(\"La clé n'est pas une clé de chiffrement affine autorisée.\")\n",
        "        return \"\"\n",
        "  m = 26\n",
        "  a_inverse = pow(a, -1, m)\n",
        "\n",
        "  mot_dechiffre = \"\"\n",
        "\n",
        "  for lettre in mot_filtre:\n",
        "        code_lettre = code(lettre)\n",
        "        if code_lettre != -1:\n",
        "            lettre_dechiffree = decode((a_inverse * (code_lettre - b)) % 26)\n",
        "            mot_dechiffre += lettre_dechiffree\n",
        "        else:\n",
        "            #si c'est pas autorisé\n",
        "            return \"\"\n",
        "\n",
        "  return mot_dechiffre\n"
      ]
    },
    {
      "cell_type": "markdown",
      "id": "a17feb49",
      "metadata": {
        "id": "a17feb49"
      },
      "source": [
        "Tester votre fonction à l'aide du bloc de code suivant."
      ]
    },
    {
      "cell_type": "code",
      "execution_count": null,
      "id": "ce10852d",
      "metadata": {
        "id": "ce10852d",
        "colab": {
          "base_uri": "https://localhost:8080/"
        },
        "outputId": "ea3d9fef-f316-482f-f78a-04e2f4e75298"
      },
      "outputs": [
        {
          "output_type": "stream",
          "name": "stdout",
          "text": [
            "*** DECHIFFREMENT ***\n",
            "Le texte ' wvspayinlc ' chiffré avec le chiffrement affine de clé ( 5 , 8 ) est :  incroyable\n"
          ]
        }
      ],
      "source": [
        "print(\"*** DECHIFFREMENT ***\")\n",
        "txt = \"wvspayinlc\"\n",
        "cle_a = 5\n",
        "cle_b = 8\n",
        "texte_clair = dechiffreAffine(txt,cle_a,cle_b)\n",
        "print(\"Le texte '\",txt,\"' chiffré avec le chiffrement affine de clé (\",cle_a,\",\",cle_b,\") est : \",texte_clair)"
      ]
    },
    {
      "cell_type": "markdown",
      "id": "ba730d1a",
      "metadata": {
        "id": "ba730d1a"
      },
      "source": [
        "<b>Un peu de cryptanalyse. </b> Écrire la fonction <code>decrypteAffine(mot)</code> qui affiche toutes les possibilités de chiffrement de <code>mot</code> par brute force."
      ]
    },
    {
      "cell_type": "code",
      "execution_count": null,
      "id": "f4a71331",
      "metadata": {
        "id": "f4a71331",
        "colab": {
          "base_uri": "https://localhost:8080/"
        },
        "outputId": "8494a92f-4a77-42f5-a3c5-65f8d69a0815"
      },
      "outputs": [
        {
          "output_type": "stream",
          "name": "stdout",
          "text": [
            "Tentatives de déchiffrement par force brute :\n",
            "Clé (1, 0): yzdgrkkmzjzuihkkruzzxijrztajhrxryzxizudfmzkhdryzhhiihbtzmzusmtizkfmdz\n",
            "Clé (1, 1): xycfqjjlyiythgjjqtyywhiqyszigqwqxywhytcelyjgcqxygghhgasylytrlshyjelcy\n",
            "Clé (1, 2): wxbepiikxhxsgfiipsxxvghpxryhfpvpwxvgxsbdkxifbpwxffggfzrxkxsqkrgxidkbx\n",
            "Clé (1, 3): vwadohhjwgwrfehhorwwufgowqxgeouovwufwracjwheaovweeffeyqwjwrpjqfwhcjaw\n",
            "Clé (1, 4): uvzcnggivfvqedggnqvvtefnvpwfdntnuvtevqzbivgdznuvddeedxpvivqoipevgbizv\n",
            "Clé (1, 5): tuybmffhueupdcffmpuusdemuovecmsmtusdupyahufcymtuccddcwouhupnhodufahyu\n",
            "Clé (1, 6): stxaleegtdtocbeelottrcdltnudblrlstrctoxzgtebxlstbbccbvntgtomgnctezgxt\n",
            "Clé (1, 7): rswzkddfscsnbaddknssqbcksmtcakqkrsqbsnwyfsdawkrsaabbaumsfsnlfmbsdyfws\n",
            "Clé (1, 8): qrvyjccerbrmazccjmrrpabjrlsbzjpjqrparmvxerczvjqrzzaaztlrermkelarcxevr\n",
            "Clé (1, 9): pquxibbdqaqlzybbilqqozaiqkrayioipqozqluwdqbyuipqyyzzyskqdqljdkzqbwduq\n",
            "Clé (1, 10): optwhaacpzpkyxaahkppnyzhpjqzxhnhopnypktvcpaxthopxxyyxrjpcpkicjypavctp\n",
            "Clé (1, 11): nosvgzzboyojxwzzgjoomxygoipywgmgnomxojsubozwsgnowwxxwqiobojhbixozubso\n",
            "Clé (1, 12): mnrufyyanxniwvyyfinnlwxfnhoxvflfmnlwnirtanyvrfmnvvwwvphnanigahwnytarn\n",
            "Clé (1, 13): lmqtexxzmwmhvuxxehmmkvwemgnwuekelmkvmhqszmxuqelmuuvvuogmzmhfzgvmxszqm\n",
            "Clé (1, 14): klpsdwwylvlgutwwdglljuvdlfmvtdjdkljulgprylwtpdklttuutnflylgeyfulwrypl\n",
            "Clé (1, 15): jkorcvvxkukftsvvcfkkituckeluscicjkitkfoqxkvsocjkssttsmekxkfdxetkvqxok\n",
            "Clé (1, 16): ijnqbuuwjtjesruubejjhstbjdktrbhbijhsjenpwjurnbijrrssrldjwjecwdsjupwnj\n",
            "Clé (1, 17): himpattvisidrqttadiigrsaicjsqagahigridmovitqmahiqqrrqkcividbvcritovmi\n",
            "Clé (1, 18): ghlozssuhrhcqpsszchhfqrzhbirpzfzghfqhclnuhsplzghppqqpjbhuhcaubqhsnulh\n",
            "Clé (1, 19): fgknyrrtgqgbporrybggepqygahqoyeyfgepgbkmtgrokyfgooppoiagtgbztapgrmtkg\n",
            "Clé (1, 20): efjmxqqsfpfaonqqxaffdopxfzgpnxdxefdofajlsfqnjxefnnoonhzfsfayszofqlsjf\n",
            "Clé (1, 21): deilwppreoeznmppwzeecnoweyfomwcwdecnezikrepmiwdemmnnmgyerezxrynepkrie\n",
            "Clé (1, 22): cdhkvooqdndymloovyddbmnvdxenlvbvcdbmdyhjqdolhvcdllmmlfxdqdywqxmdojqhd\n",
            "Clé (1, 23): bcgjunnpcmcxlknnuxccalmucwdmkuaubcalcxgipcnkgubckkllkewcpcxvpwlcnipgc\n",
            "Clé (1, 24): abfitmmoblbwkjmmtwbbzkltbvcljtztabzkbwfhobmjftabjjkkjdvbobwuovkbmhofb\n",
            "Clé (1, 25): zaehsllnakavjillsvaayjksaubkisyszayjavegnalieszaiijjicuanavtnujalgnea\n",
            "Clé (3, 0): irbcxmmerdryulmmxyrrzudxrpadlxzxirzurybtermlbxirlluuljprerygepurmtebr\n",
            "Clé (3, 1): zistoddviuiplcddopiiqluoigrucoqoziqlipskvidcsoziccllcagivipxvglidkvsi\n",
            "Clé (3, 2): qzjkfuumzlzgctuufgzzhclfzxiltfhfqzhczgjbmzutjfqzttcctrxzmzgomxczubmjz\n",
            "Clé (3, 3): hqabwlldqcqxtkllwxqqytcwqozckwywhqytqxasdqlkawhqkkttkioqdqxfdotqlsdaq\n",
            "Clé (3, 4): yhrsnccuhthokbccnohhpktnhfqtbnpnyhpkhorjuhcbrnyhbbkkbzfhuhowufkhcjurh\n",
            "Clé (3, 5): pyijettlykyfbsttefyygbkeywhksegepygbyfialytsiepyssbbsqwylyfnlwbytaliy\n",
            "Clé (3, 6): gpzavkkcpbpwsjkkvwppxsbvpnybjvxvgpxspwzrcpkjzvgpjjssjhnpcpwecnspkrczp\n",
            "Clé (3, 7): xgqrmbbtgsgnjabbmnggojsmgepsamomxgojgnqitgbaqmxgaajjayegtgnvtejgbitqg\n",
            "Clé (3, 8): oxhidsskxjxearssdexxfajdxvgjrdfdoxfaxehzkxsrhdoxrraarpvxkxemkvaxszkhx\n",
            "Clé (3, 9): foyzujjboaovrijjuvoowrauomxaiuwufowrovyqbojiyufoiirrigmobovdbmrojqbyo\n",
            "Clé (3, 10): wfpqlaasfrfmizaalmffnirlfdorzlnlwfnifmphsfazplwfzziizxdfsfmusdifahspf\n",
            "Clé (3, 11): nwghcrrjwiwdzqrrcdwwezicwufiqcecnwezwdgyjwrqgcnwqqzzqouwjwdljuzwryjgw\n",
            "Clé (3, 12): enxytiianznuqhiitunnvqztnlwzhtvtenvqnuxpanihxtenhhqqhflnanucalqnipaxn\n",
            "Clé (3, 13): veopkzzreqelhyzzkleemhqkecnqykmkvemhelogrezyokveyyhhywcereltrchezgroe\n",
            "Clé (3, 14): mvfgbqqivhvcypqqbcvvdyhbvtehpbdbmvdyvcfxivqpfbmvppyypntvivckityvqxifv\n",
            "Clé (3, 15): dmwxshhzmymtpghhstmmupysmkvygsusdmupmtwozmhgwsdmggppgekmzmtbzkpmhozwm\n",
            "Clé (3, 16): udnojyyqdpdkgxyyjkddlgpjdbmpxjljudlgdknfqdyxnjudxxggxvbdqdksqbgdyfqnd\n",
            "Clé (3, 17): luefapphugubxoppabuucxgausdgoacalucxubewhupoealuooxxomsuhubjhsxupwheu\n",
            "Clé (3, 18): clvwrggylxlsofggrslltoxrljuxfrtrcltolsvnylgfvrclffoofdjlylsayjolgnyvl\n",
            "Clé (3, 19): tcmnixxpcocjfwxxijcckfoicalowikitckfcjmepcxwmitcwwffwuacpcjrpafcxepmc\n",
            "Clé (3, 20): ktdezoogtftawnoozattbwfztrcfnzbzktbwtadvgtondzktnnwwnlrtgtaigrwtovgdt\n",
            "Clé (3, 21): bkuvqffxkwkrneffqrkksnwqkitweqsqbksnkrumxkfeuqbkeennecikxkrzxinkfmxuk\n",
            "Clé (3, 22): sblmhwwobnbievwwhibbjenhbzknvhjhsbjebildobwvlhsbvveevtzbobiqozebwdolb\n",
            "Clé (3, 23): jscdynnfseszvmnnyzssaveysqbemyayjsavszcufsnmcyjsmmvvmkqsfszhfqvsnufcs\n",
            "Clé (3, 24): ajtupeewjvjqmdeepqjjrmvpjhsvdprpajrmjqtlwjedtpajddmmdbhjwjqywhmjelwtj\n",
            "Clé (3, 25): raklgvvnamahduvvghaaidmgayjmugigraidahkcnavukgrauuddusyanahpnydavcnka\n",
            "Clé (5, 0): kflwtccsfhfemrccteffpmhtfjahrtptkfpmfelbsfcrltkfrrmmrvjfsfeosjmfcbslf\n",
            "Clé (5, 1): pkqbyhhxkmkjrwhhyjkkurmykofmwyuypkurkjqgxkhwqypkwwrrwaokxkjtxorkhgxqk\n",
            "Clé (5, 2): upvgdmmcprpowbmmdoppzwrdptkrbdzdupzwpovlcpmbvdupbbwwbftpcpoyctwpmlcvp\n",
            "Clé (5, 3): zualirrhuwutbgrrituuebwiuypwgieizuebutaqhurgaizuggbbgkyuhutdhyburqhau\n",
            "Clé (5, 4): ezfqnwwmzbzyglwwnyzzjgbnzdublnjnezjgzyfvmzwlfnezllgglpdzmzyimdgzwvmfz\n",
            "Clé (5, 5): jekvsbbregedlqbbsdeeolgseizgqsosjeoledkarebqksjeqqllquierednrilebarke\n",
            "Clé (5, 6): ojpaxggwjljiqvggxijjtqlxjnelvxtxojtqjipfwjgvpxojvvqqvznjwjiswnqjgfwpj\n",
            "Clé (5, 7): toufcllboqonvallcnooyvqcosjqacyctoyvonukbolauctoaavvaesobonxbsvolkbuo\n",
            "Clé (5, 8): ytzkhqqgtvtsafqqhsttdavhtxovfhdhytdatszpgtqfzhytffaafjxtgtscgxatqpgzt\n",
            "Clé (5, 9): dyepmvvlyayxfkvvmxyyifamyctakmimdyifyxeulyvkemdykkffkocylyxhlcfyvuley\n",
            "Clé (5, 10): idjuraaqdfdckpaarcddnkfrdhyfprnridnkdcjzqdapjridppkkpthdqdcmqhkdazqjd\n",
            "Clé (5, 11): niozwffvikihpuffwhiispkwimdkuwswnispihoevifuowniuuppuymivihrvmpifevoi\n",
            "Clé (5, 12): sntebkkanpnmuzkkbmnnxupbnripzbxbsnxunmtjankztbsnzzuuzdrnanmwarunkjatn\n",
            "Clé (5, 13): xsyjgppfsusrzeppgrssczugswnuegcgxsczsryofspeygxseezzeiwsfsrbfwzspofys\n",
            "Clé (5, 14): cxdoluukxzxwejuulwxxhezlxbszjlhlcxhexwdtkxujdlcxjjeejnbxkxwgkbexutkdx\n",
            "Clé (5, 15): hcitqzzpcecbjozzqbccmjeqcgxeoqmqhcmjcbiypczoiqhcoojjosgcpcblpgjczypic\n",
            "Clé (5, 16): mhnyveeuhjhgoteevghhrojvhlcjtvrvmhrohgnduhetnvmhttootxlhuhgqulohedunh\n",
            "Clé (5, 17): rmsdajjzmomltyjjalmmwtoamqhoyawarmwtmlsizmjysarmyyttycqmzmlvzqtmjizsm\n",
            "Clé (5, 18): wrxifooertrqydoofqrrbytfrvmtdfbfwrbyrqxnerodxfwrddyydhvrerqaevyronexr\n",
            "Clé (5, 19): bwcnkttjwywvdittkvwwgdykwaryikgkbwgdwvcsjwtickbwiiddimawjwvfjadwtsjcw\n",
            "Clé (5, 20): gbhspyyobdbainyypabblidpbfwdnplpgblibahxobynhpgbnniinrfbobakofibyxohb\n",
            "Clé (5, 21): lgmxuddtgigfnsddufggqniugkbisuqulgqngfmctgdsmulgssnnswkgtgfptkngdctmg\n",
            "Clé (5, 22): qlrcziiylnlksxiizkllvsnzlpgnxzvzqlvslkrhylixrzqlxxssxbplylkuypslihyrl\n",
            "Clé (5, 23): vqwhenndqsqpxcnnepqqaxsequlsceaevqaxqpwmdqncwevqccxxcguqdqpzduxqnmdwq\n",
            "Clé (5, 24): avbmjssivxvuchssjuvvfcxjvzqxhjfjavfcvubrivshbjavhhcchlzvivueizcvsribv\n",
            "Clé (5, 25): fagroxxnacazhmxxozaakhcoaevcmokofakhazgwnaxmgofammhhmqeanazjnehaxwnga\n",
            "Clé (7, 0): wltmvuuylfloqbuuvollhqfvlzafbvhvwlhqlotxylubtvwlbbqqbpzlylokyzqluxytl\n",
            "Clé (7, 1): hwexgffjwqwzbmffgzwwsbqgwklqmgsghwsbwzeijwfmeghwmmbbmakwjwzvjkbwfijew\n",
            "Clé (7, 2): shpirqquhbhkmxqqrkhhdmbrhvwbxrdrshdmhkptuhqxprshxxmmxlvhuhkguvmhqtuph\n",
            "Clé (7, 3): dsatcbbfsmsvxibbcvssoxmcsghmicocdsoxsvaefsbiacdsiixxiwgsfsvrfgxsbefas\n",
            "Clé (7, 4): odlenmmqdxdgitmmngddzixndrsxtnznodzidglpqdmtlnodttiithrdqdgcqridmpqld\n",
            "Clé (7, 5): zowpyxxboiortexxyrooktiyocdieykyzoktorwaboxewyzoeettescobornbctoxabwo\n",
            "Clé (7, 6): kzhajiimztzcepiijczzvetjznotpjvjkzvezchlmziphjkzppeepdnzmzcymnezilmhz\n",
            "Clé (7, 7): vksluttxkeknpattunkkgpeukyzeauguvkgpknswxktasuvkaappaoykxknjxypktwxsk\n",
            "Clé (7, 8): gvdwfeeivpvyaleefyvvrapfvjkplfrfgvravydhiveldfgvllaalzjvivyuijavehidv\n",
            "Clé (7, 9): rgohqpptgagjlwppqjggclaqguvawqcqrgclgjostgpwoqrgwwllwkugtgjftulgpstog\n",
            "Clé (7, 10): crzsbaaerlruwhaaburrnwlbrfglhbnbcrnwruzderahzbcrhhwwhvfreruqefwradezr\n",
            "Clé (7, 11): nckdmllpcwcfhsllmfccyhwmcqrwsmymncyhcfkopclskmncsshhsgqcpcfbpqhclopkc\n",
            "Clé (7, 12): ynvoxwwanhnqsdwwxqnnjshxnbchdxjxynjsnqvzanwdvxynddssdrbnanqmabsnwzavn\n",
            "Clé (7, 13): jygzihhlysybdohhibyyudsiymnsoiuijyudybgklyhogijyooddocmylybxlmdyhklgy\n",
            "Clé (7, 14): ujrktsswjdjmozsstmjjfodtjxydztftujfojmrvwjszrtujzzooznxjwjmiwxojsvwrj\n",
            "Clé (7, 15): fucveddhuouxzkddexuuqzoeuijokeqefuqzuxcghudkcefukkzzkyiuhuxthizudghcu\n",
            "Clé (7, 16): qfngpoosfzfikvoopiffbkzpftuzvpbpqfbkfinrsfovnpqfvvkkvjtfsfiestkforsnf\n",
            "Clé (7, 17): bqyrazzdqkqtvgzzatqqmvkaqefkgamabqmvqtycdqzgyabqggvvgueqdqtpdevqzcdyq\n",
            "Clé (7, 18): mbjclkkobvbegrkklebbxgvlbpqvrlxlmbxgbejnobkrjlmbrrggrfpbobeaopgbknojb\n",
            "Clé (7, 19): xmunwvvzmgmprcvvwpmmirgwmabgcwiwxmirmpuyzmvcuwxmccrrcqamzmplzarmvyzum\n",
            "Clé (7, 20): ixfyhggkxrxacngghaxxtcrhxlmrnhthixtcxafjkxgnfhixnnccnblxkxawklcxgjkfx\n",
            "Clé (7, 21): tiqjsrrvicilnyrrsliiencsiwxcysestienilquviryqstiyynnymwivilhvwniruvqi\n",
            "Clé (7, 22): etbudccgtntwyjccdwttpyndthinjdpdetpytwbfgtcjbdetjjyyjxhtgtwsghytcfgbt\n",
            "Clé (7, 23): pemfonnreyehjunnoheeajyoestyuoaopeajehmqrenumopeuujjuiserehdrsjenqrme\n",
            "Clé (7, 24): apxqzyycpjpsufyyzspplujzpdejfzlzaplupsxbcpyfxzapffuuftdpcpsocdupybcxp\n",
            "Clé (7, 25): laibkjjnauadfqjjkdaawfukaopuqkwklawfadimnajqiklaqqffqeoanadznofajmnia\n",
            "Clé (9, 0): uxjszeekxbxiyveezixxrybzxfabvzrzuxryxijpkxevjzuxvvyyvdfxkxickfyxepkjx\n",
            "Clé (9, 1): rugpwbbhuyufvsbbwfuuovywucxyswowruovufgmhubsgwrussvvsacuhufzhcvubmhgu\n",
            "Clé (9, 2): ordmtyyervrcspyytcrrlsvtrzuvptltorlsrcdjerypdtorppsspxzrercwezsryjedr\n",
            "Clé (9, 3): loajqvvbosozpmvvqzooipsqowrsmqiqloipozagbovmaqlommppmuwoboztbwpovgbao\n",
            "Clé (9, 4): ilxgnssylplwmjssnwllfmpnltopjnfnilfmlwxdylsjxniljjmmjrtlylwqytmlsdyxl\n",
            "Clé (9, 5): fiudkppvimitjgppktiicjmkiqlmgkckficjituavipgukfiggjjgoqivitnvqjipavui\n",
            "Clé (9, 6): cfrahmmsfjfqgdmmhqffzgjhfnijdhzhcfzgfqrxsfmdrhcfddggdlnfsfqksngfmxsrf\n",
            "Clé (9, 7): zcoxejjpcgcndajjenccwdgeckfgaewezcwdcnoupcjaoezcaaddaikcpcnhpkdcjupoc\n",
            "Clé (9, 8): wzlubggmzdzkaxggbkzztadbzhcdxbtbwztazklrmzgxlbwzxxaaxfhzmzkemhazgrmlz\n",
            "Clé (9, 9): twiryddjwawhxuddyhwwqxaywezauyqytwqxwhiojwduiytwuuxxucewjwhbjexwdojiw\n",
            "Clé (9, 10): qtfovaagtxteuraavettnuxvtbwxrvnvqtnuteflgtarfvqtrruurzbtgteygbutalgft\n",
            "Clé (9, 11): nqclsxxdquqbroxxsbqqkrusqytuosksnqkrqbcidqxocsnqoorrowyqdqbvdyrqxidcq\n",
            "Clé (9, 12): knzipuuanrnyoluupynnhorpnvqrlphpknhonyzfanulzpknllooltvnanysavonufazn\n",
            "Clé (9, 13): hkwfmrrxkokvlirrmvkkelomksnoimemhkelkvwcxkriwmhkiilliqskxkvpxslkrcxwk\n",
            "Clé (9, 14): ehtcjoouhlhsifoojshhbiljhpklfjbjehbihstzuhoftjehffiifnphuhsmupihozuth\n",
            "Clé (9, 15): beqzgllreiepfcllgpeeyfigemhicgygbeyfepqwrelcqgbeccffckmerepjrmfelwrqe\n",
            "Clé (9, 16): ybnwdiiobfbmcziidmbbvcfdbjefzdvdybvcbmntobizndybzzcczhjbobmgojcbitonb\n",
            "Clé (9, 17): vyktafflycyjzwffajyyszcaygbcwasavyszyjkqlyfwkavywwzzwegylyjdlgzyfqlky\n",
            "Clé (9, 18): svhqxccivzvgwtccxgvvpwzxvdyztxpxsvpwvghnivcthxsvttwwtbdvivgaidwvcnihv\n",
            "Clé (9, 19): psenuzzfswsdtqzzudssmtwusavwqumupsmtsdekfszqeupsqqttqyasfsdxfatszkfes\n",
            "Clé (9, 20): mpbkrwwcptpaqnwwrappjqtrpxstnrjrmpjqpabhcpwnbrmpnnqqnvxpcpaucxqpwhcbp\n",
            "Clé (9, 21): jmyhottzmqmxnkttoxmmgnqomupqkogojmgnmxyezmtkyojmkknnksumzmxrzunmtezym\n",
            "Clé (9, 22): gjvelqqwjnjukhqqlujjdknljrmnhldlgjdkjuvbwjqhvlgjhhkkhprjwjuowrkjqbwvj\n",
            "Clé (9, 23): dgsbinntgkgrhennirggahkigojkeiaidgahgrsytgnesidgeehhemogtgrltohgnytsg\n",
            "Clé (9, 24): adpyfkkqdhdoebkkfoddxehfdlghbfxfadxedopvqdkbpfadbbeebjldqdoiqledkvqpd\n",
            "Clé (9, 25): xamvchhnaealbyhhclaaubecaideycucxaubalmsnahymcxayybbygianalfnibahsnma\n",
            "Clé (11, 0): ohfkliiuhphqwdiilqhhvwplhxapdlvlohvwhqfruhidflohddwwdtxhuhqeuxwhirufh\n",
            "Clé (11, 1): vomrsppbowoxdkppsxoocdwsoehwkscsvocdoxmybopkmsvokkddkaeoboxlbedopybmo\n",
            "Clé (11, 2): cvtyzwwivdvekrwwzevvjkdzvlodrzjzcvjkvetfivwrtzcvrrkkrhlvivesilkvwfitv\n",
            "Clé (11, 3): jcafgddpckclryddglccqrkgcsvkygqgjcqrclampcdyagjcyyrryoscpclzpsrcdmpac\n",
            "Clé (11, 4): qjhmnkkwjrjsyfkknsjjxyrnjzcrfnxnqjxyjshtwjkfhnqjffyyfvzjwjsgwzyjktwhj\n",
            "Clé (11, 5): xqoturrdqyqzfmrruzqqefyuqgjymueuxqefqzoadqrmouxqmmffmcgqdqzndgfqradoq\n",
            "Clé (11, 6): exvabyykxfxgmtyybgxxlmfbxnqftblbexlmxgvhkxytvbexttmmtjnxkxguknmxyhkvx\n",
            "Clé (11, 7): lechiffrementaffineestmieuxmaisilestencorefacileaattaquerenbruteforce\n",
            "Clé (11, 8): sljopmmyltluahmmpullzatplbethpzpslzalujvylmhjpslhhaahxblyluiybalmvyjl\n",
            "Clé (11, 9): zsqvwttfsasbhottwbssghawsilaowgwzsghsbqcfstoqwzsoohhoeisfsbpfihstcfqs\n",
            "Clé (11, 10): gzxcdaamzhziovaadizznohdzpshvdndgznozixjmzavxdgzvvoovlpzmziwmpozajmxz\n",
            "Clé (11, 11): ngejkhhtgogpvchhkpgguvokgwzockuknguvgpeqtghcekngccvvcswgtgpdtwvghqteg\n",
            "Clé (11, 12): unlqrooanvnwcjoorwnnbcvrndgvjrbrunbcnwlxanojlrunjjccjzdnanwkadcnoxaln\n",
            "Clé (11, 13): busxyvvhucudjqvvyduuijcyukncqyiybuijudsehuvqsybuqqjjqgkuhudrhkjuvehsu\n",
            "Clé (11, 14): ibzefccobjbkqxccfkbbpqjfbrujxfpfibpqbkzlobcxzfibxxqqxnrbobkyorqbclozb\n",
            "Clé (11, 15): piglmjjviqirxejjmriiwxqmiybqemwmpiwxirgsvijegmpieexxeuyivirfvyxijsvgi\n",
            "Clé (11, 16): wpnstqqcpxpyelqqtyppdextpfixltdtwpdepynzcpqlntwplleelbfpcpymcfepqzcnp\n",
            "Clé (11, 17): dwuzaxxjwewflsxxafwwkleawmpesakadwklwfugjwxsuadwssllsimwjwftjmlwxgjuw\n",
            "Clé (11, 18): kdbgheeqdldmszeehmddrslhdtwlzhrhkdrsdmbnqdezbhkdzzsszptdqdmaqtsdenqbd\n",
            "Clé (11, 19): rkinollxksktzgllotkkyzsokadsgoyorkyzktiuxklgiorkggzzgwakxkthxazkluxik\n",
            "Clé (11, 20): yrpuvsserzragnssvarrfgzvrhkznvfvyrfgrapbersnpvyrnnggndhreraoehgrsbepr\n",
            "Clé (11, 21): fywbczzlygyhnuzzchyymngcyorgucmcfymnyhwilyzuwcfyuunnukoylyhvlonyzilwy\n",
            "Clé (11, 22): mfdijggsfnfoubggjofftunjfvynbjtjmftufodpsfgbdjmfbbuubrvfsfocsvufgpsdf\n",
            "Clé (11, 23): tmkpqnnzmumvbinnqvmmabuqmcfuiqaqtmabmvkwzmnikqtmiibbiycmzmvjzcbmnwzkm\n",
            "Clé (11, 24): atrwxuugtbtcipuuxctthibxtjmbpxhxathitcrdgtuprxatppiipfjtgtcqgjitudgrt\n",
            "Clé (11, 25): haydebbnaiajpwbbejaaopieaqtiweoehaopajyknabwyehawwppwmqanajxnqpabknya\n",
            "Clé (15, 0): mtvqpssgtltkexsspkttfelptdalxpfpmtfetkvjgtsxvpmtxxeexhdtgtkwgdetsjgvt\n",
            "Clé (15, 1): fmojillzmemdxqllidmmyxeimwteqiyifmyxmdoczmlqoifmqqxxqawmzmdpzwxmlczom\n",
            "Clé (15, 2): yfhcbeesfxfwqjeebwffrqxbfpmxjbrbyfrqfwhvsfejhbyfjjqqjtpfsfwispqfevshf\n",
            "Clé (15, 3): ryavuxxlyqypjcxxupyykjquyifqcukurykjypaolyxcauryccjjcmiylypblijyxolay\n",
            "Clé (15, 4): krtonqqerjricvqqnirrdcjnrbyjvndnkrdcritherqvtnkrvvccvfbreriuebcrqhetr\n",
            "Clé (15, 5): dkmhgjjxkckbvojjgbkkwvcgkurcogwgdkwvkbmaxkjomgdkoovvoyukxkbnxuvkjaxmk\n",
            "Clé (15, 6): wdfazccqdvduohcczuddpovzdnkvhzpzwdpoduftqdchfzwdhhoohrndqdugqnodctqfd\n",
            "Clé (15, 7): pwytsvvjwownhavvsnwwihoswgdoasispwihwnymjwvayspwaahhakgwjwnzjghwvmjyw\n",
            "Clé (15, 8): iprmloocphpgatoolgppbahlpzwhtlblipbapgrfcpotrlipttaatdzpcpgsczapofcrp\n",
            "Clé (15, 9): bikfehhviaiztmhheziiutaeispameuebiutizkyvihmkebimmttmwsivizlvstihyvki\n",
            "Clé (15, 10): ubdyxaaobtbsmfaaxsbbnmtxblitfxnxubnmbsdrobafdxubffmmfplbobseolmbarodb\n",
            "Clé (15, 11): nuwrqtthumulfyttqluugfmquebmyqgqnugfulwkhutywqnuyyffyieuhulxhefutkhwu\n",
            "Clé (15, 12): gnpkjmmanfneyrmmjennzyfjnxufrjzjgnzynepdanmrpjgnrryyrbxnaneqaxynmdapn\n",
            "Clé (15, 13): zgidcfftgygxrkffcxggsrycgqnykcsczgsrgxiwtgfkiczgkkrrkuqgtgxjtqrgfwtig\n",
            "Clé (15, 14): szbwvyymzrzqkdyyvqzzlkrvzjgrdvlvszlkzqbpmzydbvszddkkdnjzmzqcmjkzypmbz\n",
            "Clé (15, 15): lsuporrfsksjdwrrojssedkosczkwoeolsedsjuifsrwuolswwddwgcsfsjvfcdsrifus\n",
            "Clé (15, 16): elnihkkyldlcwpkkhcllxwdhlvsdphxhelxwlcnbylkpnhelppwwpzvlylcoyvwlkbynl\n",
            "Clé (15, 17): xegbaddrewevpiddaveeqpwaeolwiaqaxeqpevguredigaxeiippisoerevhropedurge\n",
            "Clé (15, 18): qxzutwwkxpxoibwwtoxxjiptxhepbtjtqxjixoznkxwbztqxbbiiblhxkxoakhixwnkzx\n",
            "Clé (15, 19): jqsnmppdqiqhbuppmhqqcbimqaxiumcmjqcbqhsgdqpusmjquubbueaqdqhtdabqpgdsq\n",
            "Clé (15, 20): cjlgfiiwjbjauniifajjvubfjtqbnfvfcjvujalzwjinlfcjnnuunxtjwjamwtujizwlj\n",
            "Clé (15, 21): vcezybbpcuctngbbytcconuycmjugyoyvconctespcbgeyvcggnngqmcpctfpmncbspec\n",
            "Clé (15, 22): ovxsruuivnvmgzuurmvvhgnrvfcnzrhrovhgvmxlivuzxrovzzggzjfvivmyifgvulixv\n",
            "Clé (15, 23): hoqlknnbogofzsnnkfooazgkoyvgskakhoazofqebonsqkhosszzscyobofrbyzonebqo\n",
            "Clé (15, 24): ahjedgguhzhyslggdyhhtszdhrozldtdahtshyjxuhgljdahllsslvrhuhykurshgxujh\n",
            "Clé (15, 25): tacxwzznasarlezzwraamlswakhsewmwtamlarcqnazecwtaeelleokanardnklazqnca\n",
            "Clé (17, 0): gdribwwqdzdscfwwbsddjczbdvazfbjbgdjcdsrlqdwfrbgdffccfxvdqdsyqvcdwlqrd\n",
            "Clé (17, 1): jgulezztgcgvfizzevggmfcegydciemejgmfgvuotgziuejgiiffiaygtgvbtyfgzotug\n",
            "Clé (17, 2): mjxohccwjfjyilcchyjjpifhjbgflhphmjpijyxrwjclxhmjlliildbjwjyewbijcrwxj\n",
            "Clé (17, 3): pmarkffzmimbloffkbmmslikmejiokskpmslmbauzmfoakpmoollogemzmbhzelmfuzam\n",
            "Clé (17, 4): spduniicplpeoriineppvolnphmlrnvnspvopedxcpirdnsprroorjhpcpekchopixcdp\n",
            "Clé (17, 5): vsgxqllfsoshrullqhssyroqskpouqyqvsyrshgafslugqvsuurrumksfshnfkrslafgs\n",
            "Clé (17, 6): yvjatooivrvkuxootkvvburtvnsrxtbtyvbuvkjdivoxjtyvxxuuxpnvivkqinuvodijv\n",
            "Clé (17, 7): bymdwrrlyuynxarrwnyyexuwyqvuawewbyexynmglyramwbyaaxxasqylyntlqxyrglmy\n",
            "Clé (17, 8): ebpgzuuobxbqaduuzqbbhaxzbtyxdzhzebhabqpjobudpzebddaadvtbobqwotabujopb\n",
            "Clé (17, 9): hesjcxxreaetdgxxcteekdacewbagckchekdetsmrexgscheggddgyweretzrwdexmrse\n",
            "Clé (17, 10): khvmfaauhdhwgjaafwhhngdfhzedjfnfkhnghwvpuhajvfkhjjggjbzhuhwcuzghapuvh\n",
            "Clé (17, 11): nkypiddxkgkzjmddizkkqjgikchgmiqinkqjkzysxkdmyinkmmjjmeckxkzfxcjkdsxyk\n",
            "Clé (17, 12): qnbslgganjncmpgglcnntmjlnfkjpltlqntmncbvangpblqnppmmphfnanciafmngvabn\n",
            "Clé (17, 13): tqevojjdqmqfpsjjofqqwpmoqinmsowotqwpqfeydqjseotqssppskiqdqfldipqjydeq\n",
            "Clé (17, 14): wthyrmmgtptisvmmrittzsprtlqpvrzrwtzstihbgtmvhrwtvvssvnltgtioglstmbght\n",
            "Clé (17, 15): zwkbuppjwswlvyppulwwcvsuwotsyucuzwcvwlkejwpykuzwyyvvyqowjwlrjovwpejkw\n",
            "Clé (17, 16): cznexssmzvzoybssxozzfyvxzrwvbxfxczfyzonhmzsbnxczbbyybtrzmzoumryzshmnz\n",
            "Clé (17, 17): fcqhavvpcycrbevvarccibyacuzyeaiafcibcrqkpcveqafceebbewucpcrxpubcvkpqc\n",
            "Clé (17, 18): iftkdyysfbfuehyydufflebdfxcbhdldiflefutnsfyhtdifhheehzxfsfuasxefynstf\n",
            "Clé (17, 19): liwngbbvieixhkbbgxiiohegiafekgogliohixwqvibkwglikkhhkcaivixdvahibqvwi\n",
            "Clé (17, 20): olzqjeeylhlakneejallrkhjldihnjrjolrklaztylenzjolnnkknfdlylagydkletyzl\n",
            "Clé (17, 21): roctmhhbokodnqhhmdoounkmoglkqmumrounodcwbohqcmroqqnnqigobodjbgnohwbco\n",
            "Clé (17, 22): urfwpkkernrgqtkkpgrrxqnprjontpxpurxqrgfzerktfpurttqqtljrergmejqrkzefr\n",
            "Clé (17, 23): xuizsnnhuqujtwnnsjuuatqsumrqwsasxuatujichunwisxuwwttwomuhujphmtunchiu\n",
            "Clé (17, 24): axlcvqqkxtxmwzqqvmxxdwtvxputzvdvaxdwxmlfkxqzlvaxzzwwzrpxkxmskpwxqfklx\n",
            "Clé (17, 25): daofyttnawapzcttypaagzwyasxwcygydagzapoinatcoydacczzcusanapvnszatinoa\n",
            "Clé (19, 0): ephofggcpvpmkzggfmpptkvfpbavzftfeptkpmhdcpgzhfepzzkkzlbpcpmqcbkpgdchp\n",
            "Clé (19, 1): tewduvvrekebzovvubeeizkueqpkouiuteizebwsrevowuteoozzoaqerebfrqzevsrwe\n",
            "Clé (19, 2): itlsjkkgtztqodkkjqttxozjtfezdjxjitxotqlhgtkdljitddoodpftgtqugfotkhglt\n",
            "Clé (19, 3): xiahyzzvioifdszzyfiimdoyiutosymyximdifawvizsayxissddseuivifjvudizwvai\n",
            "Clé (19, 4): mxpwnookxdxushoonuxxbsdnxjidhnbnmxbsxuplkxohpnmxhhsshtjxkxuykjsxolkpx\n",
            "Clé (19, 5): bmelcddzmsmjhwddcjmmqhscmyxswcqcbmqhmjeazmdwecbmwwhhwiymzmjnzyhmdazem\n",
            "Clé (19, 6): qbtarssobhbywlssrybbfwhrbnmhlrfrqbfwbytpobsltrqbllwwlxnbobyconwbspotb\n",
            "Clé (19, 7): fqipghhdqwqnlahhgnqqulwgqcbwagugfqulqniedqhaigfqaallamcqdqnrdclqhediq\n",
            "Clé (19, 8): ufxevwwsflfcapwwvcffjalvfrqlpvjvufjafcxtsfwpxvufppaapbrfsfcgsrafwtsxf\n",
            "Clé (19, 9): jumtkllhuaurpellkruuypakugfaekykjuypurmihulemkjueeppeqguhurvhgpulihmu\n",
            "Clé (19, 10): yjbizaawjpjgetaazgjjnepzjvuptznzyjnejgbxwjatbzyjtteetfvjwjgkwvejaxwbj\n",
            "Clé (19, 11): nyqxopplyeyvtippovyycteoykjeioconyctyvqmlypiqonyiittiukylyvzlktypmlqy\n",
            "Clé (19, 12): cnfmdeeantnkixeedknnritdnzytxdrdcnrinkfbanexfdcnxxiixjznankoazinebafn\n",
            "Clé (19, 13): rcubsttpciczxmttszccgxisconimsgsrcgxczuqpctmusrcmmxxmyocpczdpoxctqpuc\n",
            "Clé (19, 14): grjqhiierxrombiihorrvmxhrdcxbhvhgrvmrojferibjhgrbbmmbndrerosedmrifejr\n",
            "Clé (19, 15): vgyfwxxtgmgdbqxxwdggkbmwgsrmqwkwvgkbgdyutgxqywvgqqbbqcsgtgdhtsbgxutyg\n",
            "Clé (19, 16): kvnulmmivbvsqfmmlsvvzqblvhgbflzlkvzqvsnjivmfnlkvffqqfrhvivswihqvmjinv\n",
            "Clé (19, 17): zkcjabbxkqkhfubbahkkofqakwvquaoazkofkhcyxkbucazkuuffugwkxkhlxwfkbyxck\n",
            "Clé (19, 18): ozrypqqmzfzwujqqpwzzdufpzlkfjpdpozduzwrnmzqjrpozjjuujvlzmzwamluzqnmrz\n",
            "Clé (19, 19): dogneffbouoljyffeloosjueoazuyesedosjolgcbofygedoyyjjykaobolpbajofcbgo\n",
            "Clé (19, 20): sdvctuuqdjdaynuutaddhyjtdpojnthtsdhydavrqdunvtsdnnyynzpdqdaeqpydurqvd\n",
            "Clé (19, 21): hskrijjfsyspncjjipsswnyisedyciwihswnspkgfsjckihsccnncoesfsptfensjgfks\n",
            "Clé (19, 22): whzgxyyuhnhecryyxehhlcnxhtsnrxlxwhlchezvuhyrzxwhrrccrdthuheiutchyvuzh\n",
            "Clé (19, 23): lwovmnnjwcwtrgnnmtwwarcmwihcgmamlwarwtokjwngomlwggrrgsiwjwtxjirwnkjow\n",
            "Clé (19, 24): aldkbccylrligvccbillpgrblxwrvbpbalpglidzylcvdbalvvggvhxlylimyxglczydl\n",
            "Clé (19, 25): paszqrrnagaxvkrrqxaaevgqamlgkqeqpaevaxsonarksqpakkvvkwmanaxbnmvaronsa\n",
            "Clé (21, 0): qvpehyyivtvwojyyhwvvlothvratjhlhqvlovwpzivyjphqvjjoojfrvivwmirovyzipv\n",
            "Clé (21, 1): lqkzcttdqoqrjettcrqqgjocqmvoecgclqgjqrkudqtekclqeejjeamqdqrhdmjqtudkq\n",
            "Clé (21, 2): glfuxooyljlmezooxmllbejxlhqjzxbxglbelmfpylozfxglzzeezvhlylmcyhelopyfl\n",
            "Clé (21, 3): bgapsjjtgeghzujjshggwzesgcleuswsbgwzghaktgjuasbguuzzuqcgtghxtczgjktag\n",
            "Clé (21, 4): wbvkneeobzbcupeencbbruznbxgzpnrnwbrubcvfobepvnwbppuuplxbobcsoxubefovb\n",
            "Clé (21, 5): rwqfizzjwuwxpkzzixwwmpuiwsbukimirwmpwxqajwzkqirwkkppkgswjwxnjspwzajqw\n",
            "Clé (21, 6): mrladuuerprskfuudsrrhkpdrnwpfdhdmrhkrslverufldmrffkkfbnrersienkruvelr\n",
            "Clé (21, 7): hmgvyppzmkmnfappynmmcfkymirkaycyhmcfmngqzmpagyhmaaffawimzmndzifmpqzgm\n",
            "Clé (21, 8): chbqtkkuhfhiavkktihhxafthdmfvtxtchxahibluhkvbtchvvaavrdhuhiyudahklubh\n",
            "Clé (21, 9): xcwloffpcacdvqffodccsvaocyhaqosoxcsvcdwgpcfqwoxcqqvvqmycpcdtpyvcfgpwc\n",
            "Clé (21, 10): sxrgjaakxvxyqlaajyxxnqvjxtcvljnjsxnqxyrbkxalrjsxllqqlhtxkxyoktqxabkrx\n",
            "Clé (21, 11): nsmbevvfsqstlgvvetssilqesoxqgeiensilstmwfsvgmensggllgcosfstjfolsvwfms\n",
            "Clé (21, 12): inhwzqqanlnogbqqzonndglznjslbzdzindgnohranqbhzinbbggbxjnanoeajgnqrahn\n",
            "Clé (21, 13): dicrullvigijbwllujiiybguiengwuyudiybijcmvilwcudiwwbbwseivijzvebilmvci\n",
            "Clé (21, 14): ydxmpggqdbdewrggpeddtwbpdzibrptpydtwdexhqdgrxpydrrwwrnzdqdeuqzwdghqxd\n",
            "Clé (21, 15): tyshkbblywyzrmbbkzyyorwkyudwmkoktyoryzsclybmsktymmrrmiuylyzplurybclsy\n",
            "Clé (21, 16): otncfwwgtrtumhwwfuttjmrftpyrhfjfotjmtunxgtwhnfothhmmhdptgtukgpmtwxgnt\n",
            "Clé (21, 17): joixarrbomophcrrapooehmaoktmcaeajoehopisborciajocchhcykobopfbkhorsbio\n",
            "Clé (21, 18): ejdsvmmwjhjkcxmmvkjjzchvjfohxvzvejzcjkdnwjmxdvejxxccxtfjwjkawfcjmnwdj\n",
            "Clé (21, 19): zeynqhhrecefxshhqfeeuxcqeajcsquqzeuxefyirehsyqzessxxsoaerefvraxehirye\n",
            "Clé (21, 20): uztilccmzxzasncclazzpsxlzvexnlpluzpszatdmzcntluznnssnjvzmzaqmvszcdmtz\n",
            "Clé (21, 21): puodgxxhusuvnixxgvuuknsguqzsigkgpuknuvoyhuxiogpuiinniequhuvlhqnuxyhou\n",
            "Clé (21, 22): kpjybsscpnpqidssbqppfinbplundbfbkpfipqjtcpsdjbkpddiidzlpcpqgclipstcjp\n",
            "Clé (21, 23): fketwnnxkikldynnwlkkadiwkgpiywawfkadkleoxknyewfkyyddyugkxklbxgdknoxek\n",
            "Clé (21, 24): afzoriisfdfgytiirgffvydrfbkdtrvrafvyfgzjsfitzrafttyytpbfsfgwsbyfijszf\n",
            "Clé (21, 25): vaujmddnayabtoddmbaaqtymawfyomqmvaqtabuenadoumvaoottokwanabrnwtadenua\n",
            "Clé (23, 0): sjzydoowjxjcgpoodcjjbgxdjlaxpdbdsjbgjczhwjopzdsjppggprljwjcuwlgjohwzj\n",
            "Clé (23, 1): bsihmxxfsgslpyxxmlsskpgmsujgymkmbskpsliqfsxyimbsyyppyausfsldfupsxqfis\n",
            "Clé (23, 2): kbrqvggobpbuyhggvubbtypvbdsphvtvkbtyburzobghrvkbhhyyhjdbobumodybgzorb\n",
            "Clé (23, 3): tkazeppxkykdhqppedkkchyekmbyqecetkchkdaixkpqaetkqqhhqsmkxkdvxmhkpixak\n",
            "Clé (23, 4): ctjinyygthtmqzyynmttlqhntvkhznlnctlqtmjrgtyzjnctzzqqzbvtgtmegvqtyrgjt\n",
            "Clé (23, 5): lcsrwhhpcqcvzihhwvccuzqwcetqiwuwlcuzcvsapchiswlciizzikecpcvnpezchapsc\n",
            "Clé (23, 6): ulbafqqylzleirqqfelldizflnczrfdfuldilebjylqrbfulrriirtnlylewynilqjybl\n",
            "Clé (23, 7): dukjozzhuiunrazzonuumriouwliaomodumrunkshuzakoduaarracwuhunfhwruzshku\n",
            "Clé (23, 8): mdtsxiiqdrdwajiixwddvarxdfurjxvxmdvadwtbqdijtxmdjjaajlfdqdwoqfadibqtd\n",
            "Clé (23, 9): vmcbgrrzmamfjsrrgfmmejagmodasgegvmejmfckzmrscgvmssjjsuomzmfxzojmrkzcm\n",
            "Clé (23, 10): evlkpaaivjvosbaapovvnsjpvxmjbpnpevnsvoltivablpevbbssbdxvivogixsvatilv\n",
            "Clé (23, 11): neutyjjresexbkjjyxeewbsyegvskywynewbexucrejkuynekkbbkmgerexprgbejcrue\n",
            "Clé (23, 12): wndchssanbngktsshgnnfkbhnpebthfhwnfkngdlanstdhwnttkktvpnangyapknsladn\n",
            "Clé (23, 13): fwmlqbbjwkwptcbbqpwwotkqwynkcqoqfwotwpmujwbcmqfwccttceywjwphjytwbujmw\n",
            "Clé (23, 14): ofvuzkksftfyclkkzyffxctzfhwtlzxzofxcfyvdsfklvzofllcclnhfsfyqshcfkdsvf\n",
            "Clé (23, 15): xoedittbocohluttihooglcioqfcuigixoglohembotueixouulluwqobohzbqlotmbeo\n",
            "Clé (23, 16): gxnmrcckxlxqudccrqxxpulrxzoldrprgxpuxqnvkxcdnrgxdduudfzxkxqikzuxcvknx\n",
            "Clé (23, 17): pgwvalltgugzdmllazggyduagixumayapgydgzwetglmwapgmmddmoigtgzrtidgletwg\n",
            "Clé (23, 18): ypfejuucpdpimvuujipphmdjprgdvjhjyphmpifncpuvfjypvvmmvxrpcpiacrmpuncfp\n",
            "Clé (23, 19): hyonsddlymyrveddsryyqvmsyapmesqshyqvyrowlydeoshyeevvegaylyrjlavydwloy\n",
            "Clé (23, 20): qhxwbmmuhvhaenmmbahhzevbhjyvnbzbqhzehaxfuhmnxbqhnneenpjhuhasujehmfuxh\n",
            "Clé (23, 21): zqgfkvvdqeqjnwvvkjqqinekqshewkikzqinqjgodqvwgkzqwwnnwysqdqjbdsnqvodgq\n",
            "Clé (23, 22): izpoteemznzswfeetszzrwntzbqnftrtizrwzspxmzefptizffwwfhbzmzskmbwzexmpz\n",
            "Clé (23, 23): riyxcnnviwibfonncbiiafwcikzwocacriafibygvinoycriooffoqkivibtvkfingvyi\n",
            "Clé (23, 24): arhglwwerfrkoxwwlkrrjoflrtifxljlarjorkhperwxhlarxxooxztrerkcetorwpehr\n",
            "Clé (23, 25): jaqpuffnaoatxgffutaasxouacrogusujasxatqynafgqujaggxxgicanatlncxafynqa\n",
            "Clé (25, 0): cbxujqqobrbgstqqjgbbdsrjbhartjdjcbdsbgxvobqtxjcbttsstzhbobgiohsbqvoxb\n",
            "Clé (25, 1): dcyvkrrpcschturrkhccetskcibsukekdcetchywpcruykdcuuttuaicpchjpitcrwpyc\n",
            "Clé (25, 2): edzwlssqdtdiuvssliddfutldjctvlfledfudizxqdsvzledvvuuvbjdqdikqjudsxqzd\n",
            "Clé (25, 3): feaxmttreuejvwttmjeegvumekduwmgmfegvejayretwamfewwvvwckerejlrkvetyrae\n",
            "Clé (25, 4): gfbynuusfvfkwxuunkffhwvnflevxnhngfhwfkbzsfuxbngfxxwwxdlfsfkmslwfuzsbf\n",
            "Clé (25, 5): hgczovvtgwglxyvvolggixwogmfwyoiohgixglcatgvycohgyyxxyemgtglntmxgvatcg\n",
            "Clé (25, 6): ihdapwwuhxhmyzwwpmhhjyxphngxzpjpihjyhmdbuhwzdpihzzyyzfnhuhmounyhwbudh\n",
            "Clé (25, 7): jiebqxxviyinzaxxqniikzyqiohyaqkqjikzinecvixaeqjiaazzagoivinpvozixcvei\n",
            "Clé (25, 8): kjfcryywjzjoabyyrojjlazrjpizbrlrkjlajofdwjybfrkjbbaabhpjwjoqwpajydwfj\n",
            "Clé (25, 9): lkgdszzxkakpbczzspkkmbaskqjacsmslkmbkpgexkzcgslkccbbciqkxkprxqbkzexgk\n",
            "Clé (25, 10): mlhetaaylblqcdaatqllncbtlrkbdtntmlnclqhfyladhtmlddccdjrlylqsyrclafyhl\n",
            "Clé (25, 11): nmifubbzmcmrdebburmmodcumslceuounmodmrigzmbeiunmeeddeksmzmrtzsdmbgzim\n",
            "Clé (25, 12): onjgvccandnsefccvsnnpedvntmdfvpvonpensjhancfjvonffeefltnansuatenchajn\n",
            "Clé (25, 13): pokhwddboeotfgddwtooqfewounegwqwpoqfotkibodgkwpoggffgmuobotvbufodibko\n",
            "Clé (25, 14): qplixeecpfpugheexupprgfxpvofhxrxqprgpuljcpehlxqphhgghnvpcpuwcvgpejclp\n",
            "Clé (25, 15): rqmjyffdqgqvhiffyvqqshgyqwpgiysyrqshqvmkdqfimyrqiihhiowqdqvxdwhqfkdmq\n",
            "Clé (25, 16): srnkzggerhrwijggzwrrtihzrxqhjztzsrtirwnlergjnzsrjjiijpxrerwyexirglenr\n",
            "Clé (25, 17): tsolahhfsisxjkhhaxssujiasyrikauatsujsxomfshkoatskkjjkqysfsxzfyjshmfos\n",
            "Clé (25, 18): utpmbiigtjtykliibyttvkjbtzsjlbvbutvktypngtilpbutllkklrztgtyagzktingpt\n",
            "Clé (25, 19): vuqncjjhukuzlmjjczuuwlkcuatkmcwcvuwluzqohujmqcvummllmsauhuzbhalujohqu\n",
            "Clé (25, 20): wvrodkkivlvamnkkdavvxmldvbulndxdwvxmvarpivknrdwvnnmmntbvivacibmvkpirv\n",
            "Clé (25, 21): xwspelljwmwbnollebwwynmewcvmoeyexwynwbsqjwlosexwoonnoucwjwbdjcnwlqjsw\n",
            "Clé (25, 22): yxtqfmmkxnxcopmmfcxxzonfxdwnpfzfyxzoxctrkxmptfyxppoopvdxkxcekdoxmrktx\n",
            "Clé (25, 23): zyurgnnlyoydpqnngdyyapogyexoqgagzyapyduslynqugzyqqppqweylydflepynsluy\n",
            "Clé (25, 24): azvshoomzpzeqroohezzbqphzfyprhbhazbqzevtmzorvhazrrqqrxfzmzegmfqzotmvz\n",
            "Clé (25, 25): bawtippnaqafrsppifaacrqiagzqsicibacrafwunapswibassrrsyganafhngrapunwa\n"
          ]
        }
      ],
      "source": [
        "def decrypteAffine(mot):\n",
        "    print(\"Tentatives de déchiffrement par force brute :\")\n",
        "\n",
        "    for a in range(1, 26):\n",
        "        # Vérifier que a et 26 sont premiers entre eux\n",
        "        if pgcd(a, 26) == 1:\n",
        "            for b in range(26):\n",
        "                mot_dechiffre = dechiffreAffine(mot, a, b)\n",
        "                print(f\"Clé ({a}, {b}): {mot_dechiffre}\")\n",
        "decrypteAffine(\"YZDGRKKMZJZUIHKKRUZZXIJRZTAJHRXRYZXIZUDFMZKHDRYZHHIIHBTZMZUSMTIZKFMDZ\")"
      ]
    },
    {
      "cell_type": "markdown",
      "id": "50e82caa",
      "metadata": {
        "id": "50e82caa"
      },
      "source": [
        "Dans le bloc suivant, utilisez la fonction <code>decrypteCesar(mot)</code> pour décrypter le texte <b>YZDGRKKMZJZUIHKKRUZZXIJRZTAJHRXRYZXIZUDFMZKHDRYZHHIIHBTZMZUSMTIZKFMDZ</b>"
      ]
    },
    {
      "cell_type": "markdown",
      "id": "b31eaa30",
      "metadata": {
        "id": "b31eaa30"
      },
      "source": [
        "<b> Question : </b>Combien de résultats différents obtient-on ? Retrouver la clé et le texte décrypté."
      ]
    },
    {
      "cell_type": "markdown",
      "id": "ffee1862",
      "metadata": {
        "id": "ffee1862"
      },
      "source": [
        "<div style=\"background-color:rgba(0, 255, 0, 0.19);padding:3%;\">\n",
        "<b>Réponse : </b> Il y a 26*26 soit 676 résultats à analyser. La clé est Clé (11, 7): et le texte décrypté est lechiffrementaffineestmieuxmaisilestencorefacileaattaquerenbruteforce\n",
        "</div>"
      ]
    }
  ],
  "metadata": {
    "kernelspec": {
      "display_name": "Python 3",
      "name": "python3"
    },
    "language_info": {
      "codemirror_mode": {
        "name": "ipython",
        "version": 3
      },
      "file_extension": ".py",
      "mimetype": "text/x-python",
      "name": "python",
      "nbconvert_exporter": "python",
      "pygments_lexer": "ipython3",
      "version": "3.9.7"
    },
    "colab": {
      "provenance": [],
      "gpuType": "T4"
    },
    "accelerator": "GPU"
  },
  "nbformat": 4,
  "nbformat_minor": 5
}