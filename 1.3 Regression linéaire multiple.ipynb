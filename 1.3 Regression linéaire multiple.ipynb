{
 "cells": [
  {
   "cell_type": "code",
   "execution_count": 1,
   "id": "fd358d04",
   "metadata": {
    "executionInfo": {
     "elapsed": 722,
     "status": "ok",
     "timestamp": 1697203140196,
     "user": {
      "displayName": "Yann Walkowiak",
      "userId": "14217282031611951688"
     },
     "user_tz": -120
    },
    "id": "fd358d04"
   },
   "outputs": [],
   "source": [
    "import numpy as np\n",
    "from sklearn.datasets import make_regression\n",
    "import matplotlib.pyplot as plt"
   ]
  },
  {
   "cell_type": "markdown",
   "id": "0d506935",
   "metadata": {
    "id": "0d506935"
   },
   "source": [
    "# Dataset"
   ]
  },
  {
   "cell_type": "code",
   "execution_count": 2,
   "id": "76b43770",
   "metadata": {
    "executionInfo": {
     "elapsed": 5,
     "status": "ok",
     "timestamp": 1697203141771,
     "user": {
      "displayName": "Yann Walkowiak",
      "userId": "14217282031611951688"
     },
     "user_tz": -120
    },
    "id": "76b43770"
   },
   "outputs": [],
   "source": [
    "x, y = make_regression(n_samples = 100, n_features = 2, noise = 10)"
   ]
  },
  {
   "cell_type": "code",
   "execution_count": null,
   "id": "0d82d49b",
   "metadata": {
    "colab": {
     "base_uri": "https://localhost:8080/",
     "height": 430
    },
    "executionInfo": {
     "elapsed": 342,
     "status": "ok",
     "timestamp": 1697203156158,
     "user": {
      "displayName": "Yann Walkowiak",
      "userId": "14217282031611951688"
     },
     "user_tz": -120
    },
    "id": "0d82d49b",
    "outputId": "0430694d-9284-49d7-a743-7f9727d3879f"
   },
   "outputs": [],
   "source": [
    "plt.scatter(x[:,0],y)\n",
    "plt.show()"
   ]
  },
  {
   "cell_type": "code",
   "execution_count": null,
   "id": "80e2a4f1",
   "metadata": {
    "colab": {
     "base_uri": "https://localhost:8080/"
    },
    "executionInfo": {
     "elapsed": 6,
     "status": "ok",
     "timestamp": 1697203161007,
     "user": {
      "displayName": "Yann Walkowiak",
      "userId": "14217282031611951688"
     },
     "user_tz": -120
    },
    "id": "80e2a4f1",
    "outputId": "90315a63-d1dc-49a1-8c45-1d279fce2d58"
   },
   "outputs": [],
   "source": [
    "print(x.shape)\n",
    "y = y.reshape(y.shape[0],1)\n",
    "print(y.shape)"
   ]
  },
  {
   "cell_type": "code",
   "execution_count": null,
   "id": "c162fef3",
   "metadata": {
    "colab": {
     "base_uri": "https://localhost:8080/"
    },
    "executionInfo": {
     "elapsed": 6,
     "status": "ok",
     "timestamp": 1697203162853,
     "user": {
      "displayName": "Yann Walkowiak",
      "userId": "14217282031611951688"
     },
     "user_tz": -120
    },
    "id": "c162fef3",
    "outputId": "36d45716-1f7a-42e5-ab8f-aaad6cc4759d"
   },
   "outputs": [],
   "source": [
    "X = np.hstack((x,np.ones((x.shape[0],1))))\n",
    "print(X.shape)"
   ]
  },
  {
   "cell_type": "code",
   "execution_count": 8,
   "id": "c8afe3f9",
   "metadata": {
    "executionInfo": {
     "elapsed": 402,
     "status": "ok",
     "timestamp": 1697203166829,
     "user": {
      "displayName": "Yann Walkowiak",
      "userId": "14217282031611951688"
     },
     "user_tz": -120
    },
    "id": "c8afe3f9"
   },
   "outputs": [],
   "source": [
    "theta = np.random.rand(3,1)"
   ]
  },
  {
   "cell_type": "markdown",
   "id": "0e47db6e",
   "metadata": {
    "id": "0e47db6e"
   },
   "source": [
    "# Modèle"
   ]
  },
  {
   "cell_type": "code",
   "execution_count": 9,
   "id": "a8986e82",
   "metadata": {
    "executionInfo": {
     "elapsed": 312,
     "status": "ok",
     "timestamp": 1697203175965,
     "user": {
      "displayName": "Yann Walkowiak",
      "userId": "14217282031611951688"
     },
     "user_tz": -120
    },
    "id": "a8986e82"
   },
   "outputs": [],
   "source": [
    "def model(X,theta):\n",
    "    return X.dot(theta)"
   ]
  },
  {
   "cell_type": "code",
   "execution_count": null,
   "id": "57c51793",
   "metadata": {
    "colab": {
     "base_uri": "https://localhost:8080/",
     "height": 430
    },
    "executionInfo": {
     "elapsed": 12,
     "status": "ok",
     "timestamp": 1697203177081,
     "user": {
      "displayName": "Yann Walkowiak",
      "userId": "14217282031611951688"
     },
     "user_tz": -120
    },
    "id": "57c51793",
    "outputId": "05868a8e-b985-4d0d-84d0-923b556b3de6"
   },
   "outputs": [],
   "source": [
    "plt.scatter(x[:,0],y)\n",
    "plt.scatter(x[:,0],model(X,theta), c='r')\n",
    "plt.show()"
   ]
  },
  {
   "cell_type": "markdown",
   "id": "e64f2375",
   "metadata": {
    "id": "e64f2375"
   },
   "source": [
    "# Fonction coût"
   ]
  },
  {
   "cell_type": "code",
   "execution_count": 11,
   "id": "970a6124",
   "metadata": {
    "executionInfo": {
     "elapsed": 425,
     "status": "ok",
     "timestamp": 1697203182031,
     "user": {
      "displayName": "Yann Walkowiak",
      "userId": "14217282031611951688"
     },
     "user_tz": -120
    },
    "id": "970a6124"
   },
   "outputs": [],
   "source": [
    "def cost_function(X,y,theta):\n",
    "    m = len(y)\n",
    "    return 1 / (2*m) * np.sum((model(X,theta)-y)**2)"
   ]
  },
  {
   "cell_type": "code",
   "execution_count": null,
   "id": "c3c83ada",
   "metadata": {
    "colab": {
     "base_uri": "https://localhost:8080/"
    },
    "executionInfo": {
     "elapsed": 330,
     "status": "ok",
     "timestamp": 1697203187403,
     "user": {
      "displayName": "Yann Walkowiak",
      "userId": "14217282031611951688"
     },
     "user_tz": -120
    },
    "id": "c3c83ada",
    "outputId": "bcdfc017-44f4-4664-b931-2301b27fc44d"
   },
   "outputs": [],
   "source": [
    "cost_function(X,y,theta)"
   ]
  },
  {
   "cell_type": "markdown",
   "id": "c74633b9",
   "metadata": {
    "id": "c74633b9"
   },
   "source": [
    "# Gradients et descente de gradient"
   ]
  },
  {
   "cell_type": "code",
   "execution_count": 13,
   "id": "976840d8",
   "metadata": {
    "executionInfo": {
     "elapsed": 5,
     "status": "ok",
     "timestamp": 1697203189908,
     "user": {
      "displayName": "Yann Walkowiak",
      "userId": "14217282031611951688"
     },
     "user_tz": -120
    },
    "id": "976840d8"
   },
   "outputs": [],
   "source": [
    "def grad(X,y,theta):\n",
    "    m = len(y)\n",
    "    return 1/m * X.T.dot(model(X,theta)-y)"
   ]
  },
  {
   "cell_type": "code",
   "execution_count": 14,
   "id": "2a3a63ff",
   "metadata": {
    "executionInfo": {
     "elapsed": 5,
     "status": "ok",
     "timestamp": 1697203191053,
     "user": {
      "displayName": "Yann Walkowiak",
      "userId": "14217282031611951688"
     },
     "user_tz": -120
    },
    "id": "2a3a63ff"
   },
   "outputs": [],
   "source": [
    "def gradient_descent(X,y,theta, learning_rate, n_iterations):\n",
    "    cost_history = np.zeros(n_iterations)\n",
    "    for i in range(0,n_iterations):\n",
    "        theta = theta - learning_rate * grad(X,y,theta)\n",
    "        cost_history[i] = cost_function(X,y,theta)\n",
    "    return theta, cost_history"
   ]
  },
  {
   "cell_type": "markdown",
   "id": "8e2305b5",
   "metadata": {
    "id": "8e2305b5"
   },
   "source": [
    "# Machine learning"
   ]
  },
  {
   "cell_type": "code",
   "execution_count": 15,
   "id": "934ee50d",
   "metadata": {
    "executionInfo": {
     "elapsed": 8,
     "status": "ok",
     "timestamp": 1697203192770,
     "user": {
      "displayName": "Yann Walkowiak",
      "userId": "14217282031611951688"
     },
     "user_tz": -120
    },
    "id": "934ee50d"
   },
   "outputs": [],
   "source": [
    "theta_final, cost_history = gradient_descent(X,y,theta, 0.01 ,1000)"
   ]
  },
  {
   "cell_type": "code",
   "execution_count": null,
   "id": "1d02232c",
   "metadata": {
    "colab": {
     "base_uri": "https://localhost:8080/",
     "height": 430
    },
    "executionInfo": {
     "elapsed": 530,
     "status": "ok",
     "timestamp": 1697203201537,
     "user": {
      "displayName": "Yann Walkowiak",
      "userId": "14217282031611951688"
     },
     "user_tz": -120
    },
    "id": "1d02232c",
    "outputId": "fd3880e8-a3cd-4a52-f092-10c930591452"
   },
   "outputs": [],
   "source": [
    "predictions = model(X,theta_final)\n",
    "plt.scatter(x[:,0],y)\n",
    "plt.scatter(x[:,0],predictions, c='r')\n",
    "plt.show()"
   ]
  },
  {
   "cell_type": "code",
   "execution_count": null,
   "id": "duiSRPf4MqSs",
   "metadata": {
    "colab": {
     "base_uri": "https://localhost:8080/",
     "height": 426
    },
    "executionInfo": {
     "elapsed": 2237,
     "status": "ok",
     "timestamp": 1697203502150,
     "user": {
      "displayName": "Yann Walkowiak",
      "userId": "14217282031611951688"
     },
     "user_tz": -120
    },
    "id": "duiSRPf4MqSs",
    "outputId": "521d9432-b26f-4f3a-ac8f-3d31e246c236"
   },
   "outputs": [],
   "source": [
    "fig = plt.figure()\n",
    "ax = fig.add_subplot(projection='3d')\n",
    "ax.scatter(x[:,0],x[:,1],y)\n",
    "ax.scatter(x[:,0],x[:,1],predictions, c='r')"
   ]
  },
  {
   "cell_type": "code",
   "execution_count": null,
   "id": "1dd243e1",
   "metadata": {
    "colab": {
     "base_uri": "https://localhost:8080/",
     "height": 430
    },
    "executionInfo": {
     "elapsed": 375,
     "status": "ok",
     "timestamp": 1697203229178,
     "user": {
      "displayName": "Yann Walkowiak",
      "userId": "14217282031611951688"
     },
     "user_tz": -120
    },
    "id": "1dd243e1",
    "outputId": "fbc01578-d889-4bfb-9ef5-dea4a7427824"
   },
   "outputs": [],
   "source": [
    "plt.plot(range(1000), cost_history)\n",
    "plt.show()"
   ]
  },
  {
   "cell_type": "code",
   "execution_count": 19,
   "id": "c196c791",
   "metadata": {
    "executionInfo": {
     "elapsed": 4,
     "status": "ok",
     "timestamp": 1697203230704,
     "user": {
      "displayName": "Yann Walkowiak",
      "userId": "14217282031611951688"
     },
     "user_tz": -120
    },
    "id": "c196c791"
   },
   "outputs": [],
   "source": [
    "def coeff_determination(y, pred):\n",
    "    u = ((y-pred)**2).sum()\n",
    "    v = ((y-y.mean())**2).sum()\n",
    "    return 1 - u/v"
   ]
  },
  {
   "cell_type": "code",
   "execution_count": null,
   "id": "6a6ee7bf",
   "metadata": {
    "colab": {
     "base_uri": "https://localhost:8080/"
    },
    "executionInfo": {
     "elapsed": 8,
     "status": "ok",
     "timestamp": 1697203232279,
     "user": {
      "displayName": "Yann Walkowiak",
      "userId": "14217282031611951688"
     },
     "user_tz": -120
    },
    "id": "6a6ee7bf",
    "outputId": "8f8ed40f-30aa-4687-c057-7089e26eba07"
   },
   "outputs": [],
   "source": [
    "coeff_determination(y, predictions)"
   ]
  }
 ],
 "metadata": {
  "colab": {
   "provenance": []
  },
  "kernelspec": {
   "display_name": "Python 3 (ipykernel)",
   "language": "python",
   "name": "python3"
  },
  "language_info": {
   "codemirror_mode": {
    "name": "ipython",
    "version": 3
   },
   "file_extension": ".py",
   "mimetype": "text/x-python",
   "name": "python",
   "nbconvert_exporter": "python",
   "pygments_lexer": "ipython3",
   "version": "3.9.12"
  }
 },
 "nbformat": 4,
 "nbformat_minor": 5
}
