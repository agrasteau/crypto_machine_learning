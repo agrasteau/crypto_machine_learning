{
 "cells": [
  {
   "cell_type": "code",
   "execution_count": 2,
   "id": "8771c592",
   "metadata": {
    "executionInfo": {
     "elapsed": 2145,
     "status": "ok",
     "timestamp": 1697202675049,
     "user": {
      "displayName": "Yann Walkowiak",
      "userId": "14217282031611951688"
     },
     "user_tz": -120
    },
    "id": "8771c592"
   },
   "outputs": [],
   "source": [
    "import numpy as np\n",
    "from sklearn.datasets import make_regression\n",
    "import matplotlib.pyplot as plt"
   ]
  },
  {
   "cell_type": "markdown",
   "id": "af3a7f88",
   "metadata": {
    "id": "af3a7f88"
   },
   "source": [
    "# Dataset"
   ]
  },
  {
   "cell_type": "code",
   "execution_count": 3,
   "id": "8fe66400",
   "metadata": {
    "executionInfo": {
     "elapsed": 359,
     "status": "ok",
     "timestamp": 1697202677597,
     "user": {
      "displayName": "Yann Walkowiak",
      "userId": "14217282031611951688"
     },
     "user_tz": -120
    },
    "id": "8fe66400"
   },
   "outputs": [],
   "source": [
    "x, y = make_regression(n_samples = 100, n_features = 1, noise = 10)"
   ]
  },
  {
   "cell_type": "code",
   "execution_count": null,
   "id": "9d839820",
   "metadata": {
    "colab": {
     "base_uri": "https://localhost:8080/",
     "height": 430
    },
    "executionInfo": {
     "elapsed": 529,
     "status": "ok",
     "timestamp": 1697202679270,
     "user": {
      "displayName": "Yann Walkowiak",
      "userId": "14217282031611951688"
     },
     "user_tz": -120
    },
    "id": "9d839820",
    "outputId": "a35df338-77b9-4afb-cc66-d410811731b0"
   },
   "outputs": [],
   "source": [
    "plt.scatter(x,y)\n",
    "plt.show()"
   ]
  },
  {
   "cell_type": "code",
   "execution_count": 5,
   "id": "c20660eb",
   "metadata": {
    "colab": {
     "base_uri": "https://localhost:8080/"
    },
    "executionInfo": {
     "elapsed": 5,
     "status": "ok",
     "timestamp": 1697202680445,
     "user": {
      "displayName": "Yann Walkowiak",
      "userId": "14217282031611951688"
     },
     "user_tz": -120
    },
    "id": "c20660eb",
    "outputId": "2e3a886d-6232-4b76-f13a-7d9ec2c56c8a"
   },
   "outputs": [
    {
     "name": "stdout",
     "output_type": "stream",
     "text": [
      "(100, 1)\n",
      "(100, 1)\n"
     ]
    }
   ],
   "source": [
    "print(x.shape)\n",
    "y = y.reshape(y.shape[0],1)\n",
    "print(y.shape)"
   ]
  },
  {
   "cell_type": "code",
   "execution_count": null,
   "id": "80abe3c0",
   "metadata": {
    "colab": {
     "base_uri": "https://localhost:8080/"
    },
    "executionInfo": {
     "elapsed": 4,
     "status": "ok",
     "timestamp": 1697202680446,
     "user": {
      "displayName": "Yann Walkowiak",
      "userId": "14217282031611951688"
     },
     "user_tz": -120
    },
    "id": "80abe3c0",
    "outputId": "dedbba3e-0754-457f-e1e9-306b4b953dc8"
   },
   "outputs": [],
   "source": [
    "X = np.hstack((x,np.ones(x.shape)))\n",
    "print(X)"
   ]
  },
  {
   "cell_type": "code",
   "execution_count": 7,
   "id": "973c637f",
   "metadata": {
    "executionInfo": {
     "elapsed": 335,
     "status": "ok",
     "timestamp": 1697202681145,
     "user": {
      "displayName": "Yann Walkowiak",
      "userId": "14217282031611951688"
     },
     "user_tz": -120
    },
    "id": "973c637f"
   },
   "outputs": [],
   "source": [
    "theta = np.random.rand(2,1)"
   ]
  },
  {
   "cell_type": "markdown",
   "id": "12c42b7d",
   "metadata": {
    "id": "12c42b7d"
   },
   "source": [
    "# Modèle"
   ]
  },
  {
   "cell_type": "code",
   "execution_count": 8,
   "id": "d90637f8",
   "metadata": {
    "executionInfo": {
     "elapsed": 4,
     "status": "ok",
     "timestamp": 1697202682310,
     "user": {
      "displayName": "Yann Walkowiak",
      "userId": "14217282031611951688"
     },
     "user_tz": -120
    },
    "id": "d90637f8"
   },
   "outputs": [],
   "source": [
    "def model(X,theta):\n",
    "    return X.dot(theta)"
   ]
  },
  {
   "cell_type": "code",
   "execution_count": null,
   "id": "9f24c20a",
   "metadata": {
    "colab": {
     "base_uri": "https://localhost:8080/",
     "height": 430
    },
    "executionInfo": {
     "elapsed": 846,
     "status": "ok",
     "timestamp": 1697202683770,
     "user": {
      "displayName": "Yann Walkowiak",
      "userId": "14217282031611951688"
     },
     "user_tz": -120
    },
    "id": "9f24c20a",
    "outputId": "06764483-780a-4f8f-d9ba-c9ca81211d33"
   },
   "outputs": [],
   "source": [
    "plt.scatter(x,y)\n",
    "plt.plot(x,model(X,theta), c='r')\n",
    "plt.show()"
   ]
  },
  {
   "cell_type": "markdown",
   "id": "0d619daa",
   "metadata": {
    "id": "0d619daa"
   },
   "source": [
    "# Fonction coût"
   ]
  },
  {
   "cell_type": "code",
   "execution_count": 10,
   "id": "dc69a072",
   "metadata": {
    "executionInfo": {
     "elapsed": 10,
     "status": "ok",
     "timestamp": 1697202686185,
     "user": {
      "displayName": "Yann Walkowiak",
      "userId": "14217282031611951688"
     },
     "user_tz": -120
    },
    "id": "dc69a072"
   },
   "outputs": [],
   "source": [
    "def cost_function(X,y,theta):\n",
    "    m = len(y)\n",
    "    return 1 / (2*m) * np.sum((model(X,theta)-y)**2)"
   ]
  },
  {
   "cell_type": "code",
   "execution_count": 11,
   "id": "c928f38d",
   "metadata": {
    "colab": {
     "base_uri": "https://localhost:8080/"
    },
    "executionInfo": {
     "elapsed": 6,
     "status": "ok",
     "timestamp": 1697202686185,
     "user": {
      "displayName": "Yann Walkowiak",
      "userId": "14217282031611951688"
     },
     "user_tz": -120
    },
    "id": "c928f38d",
    "outputId": "76fe5936-eb74-4c77-e597-ffa36aaf83ec"
   },
   "outputs": [
    {
     "data": {
      "text/plain": [
       "1311.5120754106888"
      ]
     },
     "execution_count": 11,
     "metadata": {},
     "output_type": "execute_result"
    }
   ],
   "source": [
    "cost_function(X,y,theta)"
   ]
  },
  {
   "cell_type": "markdown",
   "id": "a8ec8354",
   "metadata": {
    "id": "a8ec8354"
   },
   "source": [
    "# Gradients et descente de gradient"
   ]
  },
  {
   "cell_type": "code",
   "execution_count": 12,
   "id": "644e121d",
   "metadata": {
    "executionInfo": {
     "elapsed": 2,
     "status": "ok",
     "timestamp": 1697202687795,
     "user": {
      "displayName": "Yann Walkowiak",
      "userId": "14217282031611951688"
     },
     "user_tz": -120
    },
    "id": "644e121d"
   },
   "outputs": [],
   "source": [
    "def grad(X,y,theta):\n",
    "    m = len(y)\n",
    "    return 1/m * X.T.dot(model(X,theta)-y)"
   ]
  },
  {
   "cell_type": "code",
   "execution_count": 13,
   "id": "caaf275a",
   "metadata": {
    "executionInfo": {
     "elapsed": 3,
     "status": "ok",
     "timestamp": 1697202688118,
     "user": {
      "displayName": "Yann Walkowiak",
      "userId": "14217282031611951688"
     },
     "user_tz": -120
    },
    "id": "caaf275a"
   },
   "outputs": [],
   "source": [
    "def gradient_descent(X,y,theta, learning_rate, n_iterations):\n",
    "    cost_history = np.zeros(n_iterations)\n",
    "    for i in range(0,n_iterations):\n",
    "        theta = theta - learning_rate * grad(X,y,theta)\n",
    "        cost_history[i] = cost_function(X,y,theta)\n",
    "    return theta, cost_history"
   ]
  },
  {
   "cell_type": "markdown",
   "id": "49f20551",
   "metadata": {
    "id": "49f20551"
   },
   "source": [
    "# Machine learning"
   ]
  },
  {
   "cell_type": "code",
   "execution_count": 41,
   "id": "7d7273ec",
   "metadata": {
    "executionInfo": {
     "elapsed": 3,
     "status": "ok",
     "timestamp": 1697202880195,
     "user": {
      "displayName": "Yann Walkowiak",
      "userId": "14217282031611951688"
     },
     "user_tz": -120
    },
    "id": "7d7273ec"
   },
   "outputs": [],
   "source": [
    "theta_final, cost_history = gradient_descent(X,y,theta, 0.001 ,100)"
   ]
  },
  {
   "cell_type": "code",
   "execution_count": null,
   "id": "7bcfa539",
   "metadata": {
    "colab": {
     "base_uri": "https://localhost:8080/",
     "height": 430
    },
    "executionInfo": {
     "elapsed": 606,
     "status": "ok",
     "timestamp": 1697202883204,
     "user": {
      "displayName": "Yann Walkowiak",
      "userId": "14217282031611951688"
     },
     "user_tz": -120
    },
    "id": "7bcfa539",
    "outputId": "6a409eaa-a74a-414e-8a97-2ff30046f219"
   },
   "outputs": [],
   "source": [
    "predictions = model(X,theta_final)\n",
    "plt.scatter(x,y)\n",
    "plt.plot(x,predictions, c='r')\n",
    "plt.show()"
   ]
  },
  {
   "cell_type": "code",
   "execution_count": null,
   "id": "a4e55c7d",
   "metadata": {
    "colab": {
     "base_uri": "https://localhost:8080/",
     "height": 430
    },
    "executionInfo": {
     "elapsed": 816,
     "status": "ok",
     "timestamp": 1697188760114,
     "user": {
      "displayName": "Yann Walkowiak",
      "userId": "14217282031611951688"
     },
     "user_tz": -120
    },
    "id": "a4e55c7d",
    "outputId": "50237667-3cc6-4433-fe76-41e47bd29945"
   },
   "outputs": [],
   "source": [
    "plt.plot(range(1000), cost_history)\n",
    "plt.show()"
   ]
  },
  {
   "cell_type": "code",
   "execution_count": 16,
   "id": "5fabc257",
   "metadata": {
    "executionInfo": {
     "elapsed": 200,
     "status": "ok",
     "timestamp": 1697188761247,
     "user": {
      "displayName": "Yann Walkowiak",
      "userId": "14217282031611951688"
     },
     "user_tz": -120
    },
    "id": "5fabc257"
   },
   "outputs": [],
   "source": [
    "def coeff_determination(y, pred):\n",
    "    u = ((y-pred)**2).sum()\n",
    "    v = ((y-y.mean())**2).sum()\n",
    "    return 1 - u/v"
   ]
  },
  {
   "cell_type": "code",
   "execution_count": null,
   "id": "1dc7895e",
   "metadata": {
    "colab": {
     "base_uri": "https://localhost:8080/",
     "height": 0
    },
    "executionInfo": {
     "elapsed": 3,
     "status": "ok",
     "timestamp": 1697188762381,
     "user": {
      "displayName": "Yann Walkowiak",
      "userId": "14217282031611951688"
     },
     "user_tz": -120
    },
    "id": "1dc7895e",
    "outputId": "3159d955-b8d3-4028-daa7-644677b955e9"
   },
   "outputs": [],
   "source": [
    "coeff_determination(y, predictions)"
   ]
  }
 ],
 "metadata": {
  "colab": {
   "provenance": []
  },
  "kernelspec": {
   "display_name": "Python 3 (ipykernel)",
   "language": "python",
   "name": "python3"
  },
  "language_info": {
   "codemirror_mode": {
    "name": "ipython",
    "version": 3
   },
   "file_extension": ".py",
   "mimetype": "text/x-python",
   "name": "python",
   "nbconvert_exporter": "python",
   "pygments_lexer": "ipython3",
   "version": "3.9.12"
  }
 },
 "nbformat": 4,
 "nbformat_minor": 5
}
