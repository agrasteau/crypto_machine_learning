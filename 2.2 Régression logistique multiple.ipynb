{
 "cells": [
  {
   "cell_type": "code",
   "execution_count": 1,
   "id": "f7cc0677",
   "metadata": {
    "executionInfo": {
     "elapsed": 6098,
     "status": "ok",
     "timestamp": 1728913930735,
     "user": {
      "displayName": "Alexandre GRASTEAU",
      "userId": "14924271205602736035"
     },
     "user_tz": -120
    },
    "id": "f7cc0677"
   },
   "outputs": [],
   "source": [
    "import numpy as np\n",
    "from sklearn.datasets import make_classification\n",
    "import matplotlib.pyplot as plt"
   ]
  },
  {
   "cell_type": "markdown",
   "id": "37f1d690",
   "metadata": {
    "id": "37f1d690"
   },
   "source": [
    "# Dataset"
   ]
  },
  {
   "cell_type": "code",
   "execution_count": 2,
   "id": "3203a086",
   "metadata": {
    "executionInfo": {
     "elapsed": 4,
     "status": "ok",
     "timestamp": 1728913930736,
     "user": {
      "displayName": "Alexandre GRASTEAU",
      "userId": "14924271205602736035"
     },
     "user_tz": -120
    },
    "id": "3203a086"
   },
   "outputs": [],
   "source": [
    "np.random.seed(1)"
   ]
  },
  {
   "cell_type": "code",
   "execution_count": 3,
   "id": "cf73ea90",
   "metadata": {
    "executionInfo": {
     "elapsed": 4,
     "status": "ok",
     "timestamp": 1728913930736,
     "user": {
      "displayName": "Alexandre GRASTEAU",
      "userId": "14924271205602736035"
     },
     "user_tz": -120
    },
    "id": "cf73ea90"
   },
   "outputs": [],
   "source": [
    "x, y = make_classification(n_samples=100, n_features=2, n_redundant=0, n_informative=1, n_clusters_per_class=1)"
   ]
  },
  {
   "cell_type": "code",
   "execution_count": null,
   "id": "jngMX5m2doHI",
   "metadata": {
    "colab": {
     "base_uri": "https://localhost:8080/",
     "height": 542
    },
    "collapsed": true,
    "executionInfo": {
     "elapsed": 2882,
     "status": "ok",
     "timestamp": 1728913933615,
     "user": {
      "displayName": "Alexandre GRASTEAU",
      "userId": "14924271205602736035"
     },
     "user_tz": -120
    },
    "id": "jngMX5m2doHI",
    "outputId": "464cad24-77bd-4890-ea15-43572280e264"
   },
   "outputs": [],
   "source": [
    "import plotly.graph_objects as go\n",
    "fig = go.Figure(data=[go.Scatter3d(\n",
    "    x=x[:, 0].flatten(),\n",
    "    y=x[:, 1].flatten(),\n",
    "    z=y.flatten(),\n",
    "    mode='markers',\n",
    "    marker=dict(\n",
    "        size=5,\n",
    "        color=y.flatten(),\n",
    "        colorscale='YlGn',\n",
    "        opacity=0.8,\n",
    "        reversescale=True\n",
    "    )\n",
    ")])\n",
    "\n",
    "fig.update_layout(template= \"plotly_dark\", margin=dict(l=0, r=0, b=0, t=0))\n",
    "fig.layout.scene.camera.projection.type = \"orthographic\"\n",
    "fig.show()"
   ]
  },
  {
   "cell_type": "code",
   "execution_count": null,
   "id": "b5168c0d",
   "metadata": {
    "colab": {
     "base_uri": "https://localhost:8080/",
     "height": 449
    },
    "collapsed": true,
    "executionInfo": {
     "elapsed": 933,
     "status": "ok",
     "timestamp": 1728913934546,
     "user": {
      "displayName": "Alexandre GRASTEAU",
      "userId": "14924271205602736035"
     },
     "user_tz": -120
    },
    "id": "b5168c0d",
    "outputId": "dba253d7-4c0f-4900-841d-4a120fc8cd10"
   },
   "outputs": [],
   "source": [
    "plt.scatter(x[:,0],x[:,1], c=y, marker = 'o', edgecolors='k')\n",
    "plt.xlabel('X0')\n",
    "plt.ylabel('X1')\n",
    "plt.show()"
   ]
  },
  {
   "cell_type": "code",
   "execution_count": 6,
   "id": "47d905bf",
   "metadata": {
    "colab": {
     "base_uri": "https://localhost:8080/"
    },
    "collapsed": true,
    "executionInfo": {
     "elapsed": 8,
     "status": "ok",
     "timestamp": 1728913934546,
     "user": {
      "displayName": "Alexandre GRASTEAU",
      "userId": "14924271205602736035"
     },
     "user_tz": -120
    },
    "id": "47d905bf",
    "outputId": "2333bacf-5b23-4623-a743-a4cd2aa1a8ee"
   },
   "outputs": [
    {
     "data": {
      "text/plain": [
       "(100, 1)"
      ]
     },
     "execution_count": 6,
     "metadata": {},
     "output_type": "execute_result"
    }
   ],
   "source": [
    "y = y.reshape(y.shape[0],1)\n",
    "y.shape"
   ]
  },
  {
   "cell_type": "code",
   "execution_count": 7,
   "id": "11a050c8",
   "metadata": {
    "colab": {
     "base_uri": "https://localhost:8080/"
    },
    "collapsed": true,
    "executionInfo": {
     "elapsed": 6,
     "status": "ok",
     "timestamp": 1728913934546,
     "user": {
      "displayName": "Alexandre GRASTEAU",
      "userId": "14924271205602736035"
     },
     "user_tz": -120
    },
    "id": "11a050c8",
    "outputId": "ee0c352a-8394-42c9-c8f1-25ec8a11093e"
   },
   "outputs": [
    {
     "data": {
      "text/plain": [
       "(100, 3)"
      ]
     },
     "execution_count": 7,
     "metadata": {},
     "output_type": "execute_result"
    }
   ],
   "source": [
    "X = np.hstack((x,np.ones((x.shape[0],1))))\n",
    "X.shape"
   ]
  },
  {
   "cell_type": "code",
   "execution_count": 8,
   "id": "db5c4523",
   "metadata": {
    "executionInfo": {
     "elapsed": 4,
     "status": "ok",
     "timestamp": 1728913934546,
     "user": {
      "displayName": "Alexandre GRASTEAU",
      "userId": "14924271205602736035"
     },
     "user_tz": -120
    },
    "id": "db5c4523"
   },
   "outputs": [],
   "source": [
    "theta = np.random.rand(3,1)"
   ]
  },
  {
   "cell_type": "markdown",
   "id": "1f7b6424",
   "metadata": {
    "id": "1f7b6424"
   },
   "source": [
    "# Modèle"
   ]
  },
  {
   "cell_type": "code",
   "execution_count": 9,
   "id": "7ba1e457",
   "metadata": {
    "executionInfo": {
     "elapsed": 4,
     "status": "ok",
     "timestamp": 1728913934546,
     "user": {
      "displayName": "Alexandre GRASTEAU",
      "userId": "14924271205602736035"
     },
     "user_tz": -120
    },
    "id": "7ba1e457"
   },
   "outputs": [],
   "source": [
    "def model(X,theta):\n",
    "    return 1/(1+np.exp(-X.dot(theta)))"
   ]
  },
  {
   "cell_type": "code",
   "execution_count": null,
   "id": "HcvpXFqze4Qy",
   "metadata": {
    "colab": {
     "base_uri": "https://localhost:8080/",
     "height": 542
    },
    "collapsed": true,
    "executionInfo": {
     "elapsed": 1357,
     "status": "ok",
     "timestamp": 1728913935900,
     "user": {
      "displayName": "Alexandre GRASTEAU",
      "userId": "14924271205602736035"
     },
     "user_tz": -120
    },
    "id": "HcvpXFqze4Qy",
    "outputId": "cc25c77f-345e-4682-d439-981ccfd2e43a"
   },
   "outputs": [],
   "source": [
    "X0 = np.linspace(x[:, 0].min(), x[:, 0].max(), 100)\n",
    "X1 = np.linspace(x[:, 1].min(), x[:, 1].max(), 100)\n",
    "xx0, xx1 = np.meshgrid(X0, X1)\n",
    "Z = theta[0] * xx0 + theta[1] * xx1 + theta[2]\n",
    "A = 1 / (1 + np.exp(-Z))\n",
    "\n",
    "fig = (go.Figure(data=[go.Surface(z=A, x=xx0, y=xx1, colorscale='YlGn', opacity = 0.7, reversescale=True)]))\n",
    "\n",
    "fig.add_scatter3d(x=X[:, 0].flatten(), y=X[:, 1].flatten(), z=y.flatten(), mode='markers', marker=dict(size=5, color=y.flatten(), colorscale='YlGn', opacity = 0.9, reversescale=True))\n",
    "\n",
    "\n",
    "fig.update_layout(template= \"plotly_dark\", margin=dict(l=0, r=0, b=0, t=0))\n",
    "fig.layout.scene.camera.projection.type = \"orthographic\"\n",
    "fig.show()"
   ]
  },
  {
   "cell_type": "code",
   "execution_count": null,
   "id": "983d7035",
   "metadata": {
    "colab": {
     "base_uri": "https://localhost:8080/",
     "height": 0
    },
    "collapsed": true,
    "executionInfo": {
     "elapsed": 6,
     "status": "ok",
     "timestamp": 1728913935900,
     "user": {
      "displayName": "Alexandre GRASTEAU",
      "userId": "14924271205602736035"
     },
     "user_tz": -120
    },
    "id": "983d7035",
    "outputId": "f6fbdbd5-e48f-4905-8df1-dc5d60ebaeab"
   },
   "outputs": [],
   "source": [
    "plt.scatter(X[:,0],X[:,1], c=y, marker = 'o', edgecolors='k')\n",
    "plt.plot(x[:,0],-(1/theta[1])*(theta[2]+theta[0]*x[:,0]), c='r')\n",
    "plt.show()"
   ]
  },
  {
   "cell_type": "markdown",
   "id": "49a98215",
   "metadata": {
    "id": "49a98215"
   },
   "source": [
    "# Fonction coût"
   ]
  },
  {
   "cell_type": "code",
   "execution_count": 12,
   "id": "2417bbc8",
   "metadata": {
    "executionInfo": {
     "elapsed": 609,
     "status": "ok",
     "timestamp": 1728913936504,
     "user": {
      "displayName": "Alexandre GRASTEAU",
      "userId": "14924271205602736035"
     },
     "user_tz": -120
    },
    "id": "2417bbc8"
   },
   "outputs": [],
   "source": [
    "def cost_function(X,y,theta):\n",
    "    m = len(y)\n",
    "    return -(1/m) * np.sum(y*np.log(model(X,theta))+(1-y)*np.log(1-model(X,theta)))"
   ]
  },
  {
   "cell_type": "code",
   "execution_count": 13,
   "id": "2ebb3eea",
   "metadata": {
    "colab": {
     "base_uri": "https://localhost:8080/"
    },
    "collapsed": true,
    "executionInfo": {
     "elapsed": 5,
     "status": "ok",
     "timestamp": 1728913936504,
     "user": {
      "displayName": "Alexandre GRASTEAU",
      "userId": "14924271205602736035"
     },
     "user_tz": -120
    },
    "id": "2ebb3eea",
    "outputId": "1630cb56-0527-44e5-f652-52f9518ebe65"
   },
   "outputs": [
    {
     "data": {
      "text/plain": [
       "0.5529832812474355"
      ]
     },
     "execution_count": 13,
     "metadata": {},
     "output_type": "execute_result"
    }
   ],
   "source": [
    "cost_function(X,y,theta)"
   ]
  },
  {
   "cell_type": "markdown",
   "id": "7d18270f",
   "metadata": {
    "id": "7d18270f"
   },
   "source": [
    "# Gradient et descente de gradient"
   ]
  },
  {
   "cell_type": "code",
   "execution_count": 14,
   "id": "fe18b7e7",
   "metadata": {
    "executionInfo": {
     "elapsed": 3,
     "status": "ok",
     "timestamp": 1728913936505,
     "user": {
      "displayName": "Alexandre GRASTEAU",
      "userId": "14924271205602736035"
     },
     "user_tz": -120
    },
    "id": "fe18b7e7"
   },
   "outputs": [],
   "source": [
    "def grad(X,y,theta):\n",
    "    m = len(y)\n",
    "    return 1/m * X.T.dot(model(X,theta)-y)"
   ]
  },
  {
   "cell_type": "code",
   "execution_count": 15,
   "id": "898dda1b",
   "metadata": {
    "executionInfo": {
     "elapsed": 3,
     "status": "ok",
     "timestamp": 1728913936505,
     "user": {
      "displayName": "Alexandre GRASTEAU",
      "userId": "14924271205602736035"
     },
     "user_tz": -120
    },
    "id": "898dda1b"
   },
   "outputs": [],
   "source": [
    "def gradient_descent(X,y,theta, learning_rate, n_iterations):\n",
    "    cost_history = np.zeros(n_iterations)\n",
    "    for i in range(0,n_iterations):\n",
    "        theta = theta - learning_rate * grad(X,y,theta)\n",
    "        cost_history[i] = cost_function(X,y,theta)\n",
    "    return theta, cost_history"
   ]
  },
  {
   "cell_type": "markdown",
   "id": "81226dec",
   "metadata": {
    "id": "81226dec"
   },
   "source": [
    "# Machine Learning"
   ]
  },
  {
   "cell_type": "code",
   "execution_count": 16,
   "id": "93c991c6",
   "metadata": {
    "executionInfo": {
     "elapsed": 1328,
     "status": "ok",
     "timestamp": 1728913937830,
     "user": {
      "displayName": "Alexandre GRASTEAU",
      "userId": "14924271205602736035"
     },
     "user_tz": -120
    },
    "id": "93c991c6"
   },
   "outputs": [],
   "source": [
    "theta_final, cost_history = gradient_descent(X,y,theta, 0.01 ,10000)"
   ]
  },
  {
   "cell_type": "code",
   "execution_count": null,
   "id": "wpQviT5CQoSC",
   "metadata": {
    "colab": {
     "base_uri": "https://localhost:8080/",
     "height": 542
    },
    "collapsed": true,
    "executionInfo": {
     "elapsed": 963,
     "status": "ok",
     "timestamp": 1728913938791,
     "user": {
      "displayName": "Alexandre GRASTEAU",
      "userId": "14924271205602736035"
     },
     "user_tz": -120
    },
    "id": "wpQviT5CQoSC",
    "outputId": "d03c2f4c-bd0c-4702-aa68-72df3dbfc64d"
   },
   "outputs": [],
   "source": [
    "X0 = np.linspace(X[:, 0].min(), X[:, 0].max(), 100)\n",
    "X1 = np.linspace(X[:, 1].min(), X[:, 1].max(), 100)\n",
    "xx0, xx1 = np.meshgrid(X0, X1)\n",
    "Z = theta_final[0] * xx0 + theta_final[1] * xx1 + theta_final[2]\n",
    "A = 1 / (1 + np.exp(-Z))\n",
    "\n",
    "fig = (go.Figure(data=[go.Surface(z=A, x=xx0, y=xx1, colorscale='YlGn', opacity = 0.7, reversescale=True)]))\n",
    "\n",
    "fig.add_scatter3d(x=X[:, 0].flatten(), y=X[:, 1].flatten(), z=y.flatten(), mode='markers', marker=dict(size=5, color=y.flatten(), colorscale='YlGn', opacity = 0.9, reversescale=True))\n",
    "\n",
    "\n",
    "fig.update_layout(template= \"plotly_dark\", margin=dict(l=0, r=0, b=0, t=0))\n",
    "fig.layout.scene.camera.projection.type = \"orthographic\"\n",
    "fig.show()"
   ]
  },
  {
   "cell_type": "code",
   "execution_count": null,
   "id": "e0101640",
   "metadata": {
    "colab": {
     "base_uri": "https://localhost:8080/",
     "height": 430
    },
    "collapsed": true,
    "executionInfo": {
     "elapsed": 441,
     "status": "ok",
     "timestamp": 1728913939227,
     "user": {
      "displayName": "Alexandre GRASTEAU",
      "userId": "14924271205602736035"
     },
     "user_tz": -120
    },
    "id": "e0101640",
    "outputId": "264785d4-de47-49e5-80cf-85a1792b1e14"
   },
   "outputs": [],
   "source": [
    "plt.scatter(X[:,0],X[:,1], c=y, marker = 'o', edgecolors='k')\n",
    "plt.plot(x[:,0],-(1/theta_final[1])*(theta_final[2]+theta_final[0]*x[:,0]), c='r')\n",
    "plt.show()"
   ]
  },
  {
   "cell_type": "code",
   "execution_count": null,
   "id": "70bdb9e3",
   "metadata": {
    "colab": {
     "base_uri": "https://localhost:8080/",
     "height": 0
    },
    "collapsed": true,
    "executionInfo": {
     "elapsed": 505,
     "status": "ok",
     "timestamp": 1728913939729,
     "user": {
      "displayName": "Alexandre GRASTEAU",
      "userId": "14924271205602736035"
     },
     "user_tz": -120
    },
    "id": "70bdb9e3",
    "outputId": "c2f6d4e1-0ee2-4dba-fd41-a1815a9d9b93"
   },
   "outputs": [],
   "source": [
    "plt.plot(range(10000), cost_history)\n",
    "plt.show()"
   ]
  },
  {
   "cell_type": "code",
   "execution_count": 20,
   "id": "ccbd50d7",
   "metadata": {
    "executionInfo": {
     "elapsed": 7,
     "status": "ok",
     "timestamp": 1728913939729,
     "user": {
      "displayName": "Alexandre GRASTEAU",
      "userId": "14924271205602736035"
     },
     "user_tz": -120
    },
    "id": "ccbd50d7"
   },
   "outputs": [],
   "source": [
    "def coeff_determination(y, pred):\n",
    "    u = ((y-pred)**2).sum()\n",
    "    v = ((y-y.mean())**2).sum()\n",
    "    return 1 - u/v"
   ]
  },
  {
   "cell_type": "code",
   "execution_count": 21,
   "id": "7318c7f6",
   "metadata": {
    "colab": {
     "base_uri": "https://localhost:8080/"
    },
    "collapsed": true,
    "executionInfo": {
     "elapsed": 7,
     "status": "ok",
     "timestamp": 1728913939730,
     "user": {
      "displayName": "Alexandre GRASTEAU",
      "userId": "14924271205602736035"
     },
     "user_tz": -120
    },
    "id": "7318c7f6",
    "outputId": "fdadc5f8-e569-4431-cc37-bd7799a189af"
   },
   "outputs": [
    {
     "data": {
      "text/plain": [
       "0.9653457718239276"
      ]
     },
     "execution_count": 21,
     "metadata": {},
     "output_type": "execute_result"
    }
   ],
   "source": [
    "coeff_determination(y, model(X,theta_final))"
   ]
  },
  {
   "cell_type": "code",
   "execution_count": 21,
   "id": "9z-UTE9eMg4Z",
   "metadata": {
    "executionInfo": {
     "elapsed": 6,
     "status": "ok",
     "timestamp": 1728913939730,
     "user": {
      "displayName": "Alexandre GRASTEAU",
      "userId": "14924271205602736035"
     },
     "user_tz": -120
    },
    "id": "9z-UTE9eMg4Z"
   },
   "outputs": [],
   "source": []
  }
 ],
 "metadata": {
  "colab": {
   "provenance": []
  },
  "kernelspec": {
   "display_name": "Python 3 (ipykernel)",
   "language": "python",
   "name": "python3"
  },
  "language_info": {
   "codemirror_mode": {
    "name": "ipython",
    "version": 3
   },
   "file_extension": ".py",
   "mimetype": "text/x-python",
   "name": "python",
   "nbconvert_exporter": "python",
   "pygments_lexer": "ipython3",
   "version": "3.9.12"
  }
 },
 "nbformat": 4,
 "nbformat_minor": 5
}
