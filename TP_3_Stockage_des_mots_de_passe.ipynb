{
  "cells": [
    {
      "cell_type": "code",
      "execution_count": null,
      "id": "A9uMq3LcsBJO",
      "metadata": {
        "id": "A9uMq3LcsBJO"
      },
      "outputs": [],
      "source": []
    },
    {
      "cell_type": "markdown",
      "id": "82b3ac1d",
      "metadata": {
        "id": "82b3ac1d"
      },
      "source": [
        "# TP 3 - Stockage des mots de passe"
      ]
    },
    {
      "cell_type": "code",
      "execution_count": null,
      "id": "58e96483",
      "metadata": {
        "colab": {
          "base_uri": "https://localhost:8080/"
        },
        "id": "58e96483",
        "outputId": "23605f7e-53db-4a65-fafa-9111d3f678e1"
      },
      "outputs": [
        {
          "name": "stdout",
          "output_type": "stream",
          "text": [
            "Clé aléatoire de taille 10 : fckgrgctrg\n",
            "01101101011011110111010001100100011001010111000001100001011100110111001101100101\n"
          ]
        }
      ],
      "source": [
        "#fonctions rajouter des tps précdents\n",
        "def Filtre(txt) :\n",
        "    res=\"\"\n",
        "    for c in txt.lower() :\n",
        "        if(ord('a')<=ord(c)<=ord('z')) : res+=c\n",
        "        if(c=='à' or c=='â' or c=='ä' or c=='á' or c=='å') : res+='a'\n",
        "        elif(c=='ç') : res+='c'\n",
        "        elif(c=='é' or c=='è' or c=='ê' or c=='ë') : res+='e'\n",
        "        elif(c=='ï' or c=='î' or c=='ì' or c=='í') : res+='i'\n",
        "        elif(c=='ö' or c=='ò' or c=='ô' or c=='ø' or c=='ó') : res+='o'\n",
        "        elif(c=='û' or c=='ü' or c=='ù' or c=='ú') : res+='u'\n",
        "        elif(c=='æ') : res+='ae'\n",
        "        elif(c=='œ') : res+='oe'\n",
        "        elif(c=='ÿ') : res+='y'\n",
        "        elif(c=='ñ') : res+='n'\n",
        "        elif(c=='ß') : res+='ss'\n",
        "    return res\n",
        "def code(c):\n",
        "    if c == 'a':\n",
        "        return 0\n",
        "    elif c == 'b':\n",
        "        return 1\n",
        "    elif c == 'c':\n",
        "        return 2\n",
        "    elif c == 'd':\n",
        "        return 3\n",
        "    elif c == 'e':\n",
        "        return 4\n",
        "    elif c == 'f':\n",
        "        return 5\n",
        "    elif c == 'g':\n",
        "        return 6\n",
        "    elif c == 'h':\n",
        "        return 7\n",
        "    elif c == 'i':\n",
        "        return 8\n",
        "    elif c == 'j':\n",
        "        return 9\n",
        "    elif c == 'k':\n",
        "        return 10\n",
        "    elif c == 'l':\n",
        "        return 11\n",
        "    elif c == 'm':\n",
        "        return 12\n",
        "    elif c == 'n':\n",
        "        return 13\n",
        "    elif c == 'o':\n",
        "        return 14\n",
        "    elif c == 'p':\n",
        "        return 15\n",
        "    elif c == 'q':\n",
        "        return 16\n",
        "    elif c == 'r':\n",
        "        return 17\n",
        "    elif c == 's':\n",
        "        return 18\n",
        "    elif c == 't':\n",
        "        return 19\n",
        "    elif c == 'u':\n",
        "        return 20\n",
        "    elif c == 'v':\n",
        "        return 21\n",
        "    elif c == 'w':\n",
        "        return 22\n",
        "    elif c == 'x':\n",
        "        return 23\n",
        "    elif c == 'y':\n",
        "        return 24\n",
        "    elif c == 'z':\n",
        "        return 25\n",
        "    else:\n",
        "        return -1\n",
        "\n",
        "def decode(n):\n",
        "    if 0 <= n <= 25:\n",
        "        if n == 0:\n",
        "            return 'a'\n",
        "        elif n == 1:\n",
        "            return 'b'\n",
        "        elif n == 2:\n",
        "            return 'c'\n",
        "        elif n == 3:\n",
        "            return 'd'\n",
        "        elif n == 4:\n",
        "            return 'e'\n",
        "        elif n == 5:\n",
        "            return 'f'\n",
        "        elif n == 6:\n",
        "            return 'g'\n",
        "        elif n == 7:\n",
        "            return 'h'\n",
        "        elif n == 8:\n",
        "            return 'i'\n",
        "        elif n == 9:\n",
        "            return 'j'\n",
        "        elif n == 10:\n",
        "            return 'k'\n",
        "        elif n == 11:\n",
        "            return 'l'\n",
        "        elif n == 12:\n",
        "            return 'm'\n",
        "        elif n == 13:\n",
        "            return 'n'\n",
        "        elif n == 14:\n",
        "            return 'o'\n",
        "        elif n == 15:\n",
        "            return 'p'\n",
        "        elif n == 16:\n",
        "            return 'q'\n",
        "        elif n == 17:\n",
        "            return 'r'\n",
        "        elif n == 18:\n",
        "            return 's'\n",
        "        elif n == 19:\n",
        "            return 't'\n",
        "        elif n == 20:\n",
        "            return 'u'\n",
        "        elif n == 21:\n",
        "            return 'v'\n",
        "        elif n == 22:\n",
        "            return 'w'\n",
        "        elif n == 23:\n",
        "            return 'x'\n",
        "        elif n == 24:\n",
        "            return 'y'\n",
        "        elif n == 25:\n",
        "            return 'z'\n",
        "    else:\n",
        "        return \"?\"\n",
        "def chiffreCesar(mot, k):\n",
        "    \"\"\"\n",
        "    Cette fonction prend en paramètre un mot et une clé k, et retourne le mot chiffré selon le chiffrement de César.\n",
        "    \"\"\"\n",
        "    mot_filtre = Filtre(mot)\n",
        "    mot_chiffre = \"\"\n",
        "\n",
        "    for lettre in mot_filtre:\n",
        "        code_lettre = code(lettre)\n",
        "        if code_lettre != -1:\n",
        "            lettre_chiffree = decode((code_lettre + k) % 26)\n",
        "            mot_chiffre += lettre_chiffree\n",
        "        else:\n",
        "            mot_chiffre = mot_chiffre + lettre\n",
        "\n",
        "    return mot_chiffre\n",
        "def chiffreAffine(mot, a, b):\n",
        "\n",
        "    mot_filtre = Filtre(mot)\n",
        "    mot_chiffre = \"\"\n",
        "    for lettre in mot_filtre:\n",
        "        code_lettre = code(lettre)\n",
        "        if code_lettre != -1:\n",
        "            lettre_chiffree = decode((a * code_lettre + b) % 26)\n",
        "            mot_chiffre += lettre_chiffree\n",
        "        else:\n",
        "            return \"\"\n",
        "\n",
        "    return mot_chiffre\n",
        "\n",
        "\n",
        "def chiffreCesar(mot, k):\n",
        "    \"\"\"\n",
        "    Cette fonction prend en paramètre un mot et une clé k, et retourne le mot chiffré selon le chiffrement de César.\n",
        "    \"\"\"\n",
        "    mot_filtre = Filtre(mot)\n",
        "    mot_chiffre = \"\"\n",
        "\n",
        "    for lettre in mot_filtre:\n",
        "        code_lettre = code(lettre)\n",
        "        if code_lettre != -1:\n",
        "            lettre_chiffree = decode((code_lettre + k) % 26)\n",
        "            mot_chiffre += lettre_chiffree\n",
        "        else:\n",
        "            mot_chiffre = mot_chiffre + lettre\n",
        "\n",
        "    return mot_chiffre\n",
        "\n",
        "\n",
        "def dechiffreCesar(mot, k):\n",
        "      mot_filtre = Filtre(mot)\n",
        "      mot_dechiffre = \"\"\n",
        "\n",
        "      for lettre in mot_filtre:\n",
        "          code_lettre = code(lettre)\n",
        "          if code_lettre != -1:\n",
        "              lettre_dechiffree = decode((code_lettre - k) % 26)\n",
        "              mot_dechiffre += lettre_dechiffree\n",
        "          else:\n",
        "              mot_dechiffre += lettre\n",
        "\n",
        "      return mot_dechiffre\n",
        "\n",
        "\n",
        "\n",
        "def decrypteCesar(mot):\n",
        "    print(\"Tentatives de déchiffrement par force brute :\")\n",
        "\n",
        "    for k in range(26):\n",
        "        mot_dechiffre = dechiffreCesar(mot, k)\n",
        "        print(f\"Clé {k}: {mot_dechiffre}\")\n",
        "\n",
        "def dechiffreAffine(mot, a, b):\n",
        "  def pgcd(a, b):\n",
        "        while b:\n",
        "            a, b = b, a % b\n",
        "        return a\n",
        "\n",
        "\n",
        "  mot_filtre = Filtre(mot)\n",
        "\n",
        "\n",
        "\n",
        "  if pgcd(a, 26) != 1:\n",
        "        print(\"La clé n'est pas une clé de chiffrement affine autorisée.\")\n",
        "        return \"\"\n",
        "  m = 26\n",
        "  a_inverse = pow(a, -1, m)\n",
        "\n",
        "  mot_dechiffre = \"\"\n",
        "\n",
        "  for lettre in mot_filtre:\n",
        "        code_lettre = code(lettre)\n",
        "        if code_lettre != -1:\n",
        "            lettre_dechiffree = decode((a_inverse * (code_lettre - b)) % 26)\n",
        "            mot_dechiffre += lettre_dechiffree\n",
        "        else:\n",
        "            #si c'est interdis\n",
        "            return \"\"\n",
        "\n",
        "  return mot_dechiffre\n",
        "\n",
        "  def decrypteAffine(mot):\n",
        "    print(\"Tentatives de déchiffrement par force brute :\")\n",
        "\n",
        "    for a in range(1, 26):\n",
        "        if pgcd(a, 26) == 1:\n",
        "            for b in range(26):\n",
        "                mot_dechiffre = dechiffreAffine(mot, a, b)\n",
        "                print(f\"Clé ({a}, {b}): {mot_dechiffre}\")\n",
        "\n",
        "def chiffreVigenere(mot, cle):\n",
        "    mot = Filtre(mot)\n",
        "    cle = Filtre(cle)\n",
        "\n",
        "    mot_chiffre = \"\"\n",
        "    cle_repeated = (cle * (len(mot) // len(cle) + 1))[:len(mot)]\n",
        "\n",
        "    for i in range(len(mot)):\n",
        "        if mot[i] == ' ':#gestion espaces\n",
        "            mot_chiffre += ' '\n",
        "        else:\n",
        "            mot_chiffre += decode((code(mot[i]) + code(cle_repeated[i])) % 26)\n",
        "    return mot_chiffre\n",
        "\n",
        "def dechiffreVigenere(mot_chiffre, cle):\n",
        "    mot_chiffre = Filtre(mot_chiffre)\n",
        "    cle = Filtre(cle)\n",
        "\n",
        "    mot_dechiffre = \"\"\n",
        "    cle_repeated = (cle * (len(mot_chiffre) // len(cle) + 1))[:len(mot_chiffre)]\n",
        "\n",
        "    for i in range(len(mot_chiffre)):\n",
        "        if mot_chiffre[i] == ' ':#gestion espaces\n",
        "            mot_dechiffre += ' '\n",
        "        else:\n",
        "            mot_dechiffre += decode((code(mot_chiffre[i]) - code(cle_repeated[i])) % 26)\n",
        "\n",
        "    return mot_dechiffre\n",
        "\n",
        "import random\n",
        "\n",
        "def cleVernam(n):\n",
        "    if n <= 0:\n",
        "        return \"Erreur : n doit être un entier strictement positif.\"\n",
        "\n",
        "    cle = ''.join(random.choice('abcdefghijklmnopqrstuvwxyz') for _ in range(n))\n",
        "\n",
        "    return cle\n",
        "\n",
        "taille_cle = 10\n",
        "cle_aleatoire = cleVernam(taille_cle)\n",
        "print(\"Clé aléatoire de taille\", taille_cle, \":\", cle_aleatoire)\n",
        "\n",
        "def chiffreVernam(mot):\n",
        "    mot = Filtre(mot)\n",
        "\n",
        "    taille_mot = len(mot)\n",
        "\n",
        "    cle = cleVernam(taille_mot)\n",
        "\n",
        "    mot_chiffre = \"\"\n",
        "    for i in range(taille_mot):\n",
        "        mot_chiffre += decode((code(mot[i]) + code(cle[i])) % 26)\n",
        "\n",
        "    return mot_chiffre, cle\n",
        "\n",
        "def dechiffreVernam(mot_chiffre, cle):\n",
        "    mot_chiffre = Filtre(mot_chiffre)\n",
        "\n",
        "    if len(mot_chiffre) != len(cle):\n",
        "        return \"Erreur : Le mot chiffré et la clé doivent être de même taille.\"\n",
        "\n",
        "    taille_mot_chiffre = len(mot_chiffre)\n",
        "    mot_dechiffre = \"\"\n",
        "    for i in range(taille_mot_chiffre):\n",
        "        mot_dechiffre += decode((code(mot_chiffre[i]) - code(cle[i])) % 26)\n",
        "\n",
        "    return mot_dechiffre\n",
        "\n",
        "\n",
        "\n",
        "#Permet d'afficher des matrices (pour les tests)\n",
        "def printM(M) :\n",
        "    try:\n",
        "        n=len(M)\n",
        "        m=len(M[0])\n",
        "    except : return print(\"\")\n",
        "\n",
        "    res=\"\"\n",
        "    for i in range(n) :\n",
        "        for j in range(m) :\n",
        "            try : res+=str(M[i][j])\n",
        "            except : return print(\"\")\n",
        "            if(j<m-1) : res+='\\t'\n",
        "        res+='\\n'\n",
        "    print(res)\n",
        "\n",
        "\n",
        "def prodMat(A, B):\n",
        "    try:\n",
        "        lA = len(A)\n",
        "        cA = len(A[0])\n",
        "        lB = len(B)\n",
        "        cB = len(B[0])\n",
        "    except:\n",
        "        return dict()\n",
        "\n",
        "    if cA != lB:\n",
        "        return dict()\n",
        "\n",
        "    res = [[0] * cB for _ in range(lA)]\n",
        "\n",
        "    for i in range(lA):\n",
        "        for j in range(cB):\n",
        "            res[i][j] = 0\n",
        "            for k in range(cA):\n",
        "                res[i][j] += A[i][k] * B[k][j]\n",
        "\n",
        "    return res\n",
        "\n",
        "    import math\n",
        "\n",
        "def cleHill():\n",
        "  while True:\n",
        "    a, b, c, d = random.randint(1, 25), random.randint(1, 25), random.randint(1, 25), random.randint(1, 25)\n",
        "    if pgcd(a, 26) == 1:\n",
        "      det = (a * d - b * c) % 26\n",
        "      if pgcd(det, 26) == 1:\n",
        "        return [[a, c], [b, d]]\n",
        "\n",
        "\n",
        "\n",
        "\n",
        "import numpy as np\n",
        "def chiffreHill(txt,cle):\n",
        "  txt = Filtre(txt)\n",
        "  if len(txt) % 2 != 0:\n",
        "    txt += 'x'\n",
        "  nums = [code(c) for c in txt]\n",
        "  motFinal = \"\"\n",
        "  for i in range(0, len(nums), 2):\n",
        "    bloc = [[nums[i]], [nums[i + 1]]]\n",
        "    res = prodMat(cle, bloc)\n",
        "    motFinal += decode(res[0][0] % 26) + decode(res[1][0] % 26)\n",
        "  return motFinal\n",
        "\n",
        "  from random import randint\n",
        "def inverse_matrice(mat):\n",
        "  determinant = mat[0][0] * mat[1][1] - mat[0][1] * mat[1][0]\n",
        "  determinant_inv = invMod(determinant % 26, 26)\n",
        "  inv_a = mat[1][1] * determinant_inv % 26\n",
        "  inv_b = (-mat[0][1]) * determinant_inv % 26\n",
        "  inv_c = (-mat[1][0]) * determinant_inv % 26\n",
        "  inv_d = mat[0][0] * determinant_inv % 26\n",
        "  return [[inv_a, inv_b], [inv_c, inv_d]]\n",
        "\n",
        "def dechiffreHill(txt,cle):\n",
        "  inv_cle = inverse_matrice(cle)\n",
        "  nums = [code(c) for c in txt]\n",
        "  motFinal = \"\"\n",
        "  for i in range(0, len(nums), 2):\n",
        "    bloc = [[nums[i]], [nums[i + 1]]]\n",
        "    res = prodMat(inv_cle, bloc)\n",
        "    motFinal += decode(res[0][0] % 26) + decode(res[1][0] % 26)\n",
        "  return motFinal\n",
        "\n",
        "\n",
        "def toBinary(a):\n",
        "  return ''.join(format(ord(x), '08b') for x in a)\n",
        "\n",
        "bin = toBinary(\"motdepasse\")\n",
        "print(bin)\n",
        "\n",
        "def hachage(x):\n",
        "  toBin = toBinary(x)\n",
        "  l = len(toBin)\n",
        "  hash = 0\n",
        "  for i in range(l):\n",
        "    hash = (hash + int(toBin[i]) * (2**(l-i-1))) % 251\n",
        "  return hash\n",
        "\n",
        "\n",
        "from datetime import datetime\n",
        "import hashlib as hash\n",
        "def attaque_dico_hash(h, dic):\n",
        "    dicotionaire = open(dic, mode=\"r\")\n",
        "    n = 0\n",
        "    t0 = datetime.now()\n",
        "    for mot in dicotionaire:\n",
        "        mot = mot.strip()\n",
        "        n += 1\n",
        "        if hash.sha256(mot.encode('utf-8')).hexdigest() == h:\n",
        "            print(\"Hash correspondant au mot: {}\".format(mot))\n",
        "            break\n",
        "    else:\n",
        "        print(\"Aucun mot trouvé avec le même hash\")\n",
        "    print(\"{} mot(s) ont étés testés en {} seconde(s),\".format(n, (datetime.now()-t0).total_seconds()))\n",
        "\n",
        "import random\n",
        "import string\n",
        "import hashlib\n",
        "\n",
        "def secure_password_generate(password, sel_size=32):\n",
        "    sel = ''.join(random.choice(string.ascii_lowercase) for _ in range(sel_size))\n",
        "    password_sel = password + sel\n",
        "    hashed_password = hashlib.sha256(password_sel.encode('utf-8')).hexdigest()\n",
        "    return hashed_password + \"_\" + sel\n",
        "\n",
        "## authentification\n",
        "\n",
        "def secure_password_validate(password, secure_password):\n",
        "    secure_password_salted = secure_password.split(\"_\")[0]\n",
        "    salt =  secure_password.split(\"_\")[1]\n",
        "    submitted_password_salted = hash.sha256((password + salt).encode('utf-8')).hexdigest()\n",
        "    if submitted_password_salted == secure_password_salted:\n",
        "        print(\"login success\")\n",
        "    else:\n",
        "        print(\"login failed\")\n",
        "'''\n",
        "password = str(input(\"mot de passe : \"))\n",
        "secured_password = secure_password_generate(password)\n",
        "print (\"ce qui est stocké en bdd : \",secured_password)\n",
        "\n",
        "check = str(input(\"essai de mot de passe : \"))\n",
        "secure_password_validate(check, secured_password)\n",
        "'''\n",
        "\n",
        "\n",
        "\n",
        "#outils crypto original\n",
        "\n",
        "\n",
        "import time\n",
        "import math\n",
        "import random\n",
        "\n",
        "\n",
        "#####################################################\n",
        "#                       Arithmétique                #\n",
        "#####################################################\n",
        "\n",
        "def divEuclid1(a,b):\n",
        "    q = 0\n",
        "    r = a\n",
        "    while r >= b:\n",
        "        r = r-b\n",
        "        q += 1\n",
        "    return(q,r)\n",
        "\n",
        "def divEuclid(a,b):\n",
        "    q = 0\n",
        "    r = a\n",
        "    while (r >= b) | (r<0) :\n",
        "        if r >= b:\n",
        "            r = r-b\n",
        "            q += 1\n",
        "        else:\n",
        "            r = r+b\n",
        "            q -= 1\n",
        "    return(q,r)\n",
        "\n",
        "def pgcd_Euclide(a,b):\n",
        "    r = [b, a%b]\n",
        "    print(a,\" = \",b,\"x\",a//b,\" + \",a%b)\n",
        "    i = 1\n",
        "    while r[i] != 0:\n",
        "        r.append(r[i-1]%r[i])\n",
        "        print(r[i-1],\" = \",r[i],\"x\",r[i-1]//r[i],\" + \",r[i-1]%r[i])\n",
        "        i += 1\n",
        "    return r[i-1]\n",
        "\n",
        "def pgcd(a,b):\n",
        "    if a%b == 0:\n",
        "        return b\n",
        "    else:\n",
        "        return pgcd(b,a%b)\n",
        "\n",
        "def bezout(a,b):\n",
        "    if b == 0:\n",
        "        return (1,0)\n",
        "    else:\n",
        "        (u,v) = bezout(b, a%b)\n",
        "        q = a//b\n",
        "        return (v, u - q*v)\n",
        "\n",
        "def dioph(a,b,c):\n",
        "    d = pgcdRec(a,b)\n",
        "    if not c%d==0:\n",
        "        print(\"pas de solution\")\n",
        "    else:\n",
        "        a, b, c = a/d, b/d, c/d\n",
        "        (x0,y0) = bezout(a,b)\n",
        "        return(x0*c,y0*c)\n",
        "\n",
        "def invMod(a,n):\n",
        "    if pgcd(a,n) != 1:\n",
        "        print(a, \" n'est pas inversible modulo \", n)\n",
        "        return -1\n",
        "    (u,v) = bezout(a,n)\n",
        "    return u %n\n",
        "\n",
        "def premiers(n):\n",
        "    # doit retourner tous les nombres premiers inférieurs ou égaux à n en utilisant le crible d'Eratosthène\n",
        "    liste = list(range(2,n+1))\n",
        "    premiers = []\n",
        "    while len(liste) != 0:\n",
        "        p = liste[0]\n",
        "        premiers.append(p)\n",
        "        for k in liste:\n",
        "            if k %p == 0:\n",
        "                liste.remove(k)\n",
        "    return premiers\n",
        "\n",
        "def isPrime(n):\n",
        "    if n <= 1:\n",
        "        return False\n",
        "    if n == 2:\n",
        "        return True\n",
        "    if n %2 == 0:\n",
        "        return False\n",
        "    k = 3\n",
        "    while k <= math.sqrt(n):\n",
        "        if n %k == 0:\n",
        "            return False\n",
        "        k += 2\n",
        "    return True\n",
        "\n",
        "def findPrimeFactor(n):\n",
        "    # n est supposé ici non premier et >= 2\n",
        "    if n %2 == 0:\n",
        "        return 2\n",
        "    k = 3\n",
        "    while k <= math.sqrt(n):\n",
        "        if n %k == 0:\n",
        "            return k\n",
        "        k += 2\n",
        "    return -1\n",
        "\n",
        "def decompPrime(n):\n",
        "    liste = []\n",
        "    while not isPrime(n):\n",
        "        p = findPrimeFactor(n)\n",
        "        liste.append(p)\n",
        "        n = int(n/p)\n",
        "    liste.append(n)\n",
        "    return liste\n",
        "\n",
        "#####################################################\n",
        "#                       Crypto.                     #\n",
        "#####################################################"
      ]
    },
    {
      "cell_type": "markdown",
      "id": "696ec03f",
      "metadata": {
        "id": "696ec03f"
      },
      "source": [
        "## 1. Hachage"
      ]
    },
    {
      "cell_type": "markdown",
      "id": "7b3b3a31",
      "metadata": {
        "id": "7b3b3a31"
      },
      "source": [
        "Une <b>fonction de hachage cryptographique</b> est une fonction qui, à une donnée de taille arbitraire, associe une image de taille fixe, et dont une propriété essentielle est qu'elle est pratiquement impossible à inverser, c'est-à-dire que si l'image d'une donnée par la fonction se calcule très efficacement, le calcul inverse d'une donnée d'entrée ayant pour image une certaine valeur se révèle impossible sur le plan pratique. Pour cette raison, on dit d'une telle fonction qu'elle est à sens unique."
      ]
    },
    {
      "cell_type": "markdown",
      "id": "af49c87e",
      "metadata": {
        "id": "af49c87e"
      },
      "source": [
        "Une fonction de hachage cryptographique idéale possède les propriétés suivantes :\n",
        "\n",
        "- la fonction est déterministe, c'est-à-dire qu'un même message aura toujours la même valeur de hachage ;\n",
        "- la valeur de hachage d'un message se calcule « facilement » ;\n",
        "- il est impossible, pour une valeur de hachage donnée, de construire un message ayant cette valeur (résistance à la préimage) ;\n",
        "- il est impossible de trouver un second message ayant la même valeur de hachage qu'un message donné (résistance à la seconde préimage) ;\n",
        "- il est impossible de trouver deux messages différents ayant la même valeur de hachage (résistance aux collisions) ;\n",
        "- modifier un tant soit peu un message modifie considérablement la valeur de hachage."
      ]
    },
    {
      "cell_type": "markdown",
      "id": "f8b0fccc",
      "metadata": {
        "id": "f8b0fccc"
      },
      "source": [
        "### 1.1 Une première fonction de hachage ?"
      ]
    },
    {
      "cell_type": "markdown",
      "id": "7d1bf6f9",
      "metadata": {
        "id": "7d1bf6f9"
      },
      "source": [
        "Commençons par étudier la fonction suivante, qui consiste très simplement à ne conserver que les 8 premiers caractères de l'entrée."
      ]
    },
    {
      "cell_type": "code",
      "execution_count": null,
      "id": "3850c984",
      "metadata": {
        "id": "3850c984"
      },
      "outputs": [],
      "source": [
        "def hachageBidon(x):\n",
        "    return x[0:8]"
      ]
    },
    {
      "cell_type": "code",
      "execution_count": null,
      "id": "4af30aaa",
      "metadata": {
        "colab": {
          "base_uri": "https://localhost:8080/",
          "height": 35
        },
        "id": "4af30aaa",
        "outputId": "28cde61a-384d-4dca-946d-4405165d21f7"
      },
      "outputs": [
        {
          "data": {
            "application/vnd.google.colaboratory.intrinsic+json": {
              "type": "string"
            },
            "text/plain": [
              "'motdepas'"
            ]
          },
          "execution_count": 5,
          "metadata": {},
          "output_type": "execute_result"
        }
      ],
      "source": [
        "hachageBidon(\"motdepasse\")"
      ]
    },
    {
      "cell_type": "markdown",
      "id": "4df238b8",
      "metadata": {
        "id": "4df238b8"
      },
      "source": [
        "<b>Exercice 1.</b> Parmi les propriétés qu'une bonne fonction de hachage doit posséder, indiquer si oui ou non la fonction <code>hachageBidon</code> convient. Vous justifierez en donnant des exemples si nécessaire."
      ]
    },
    {
      "cell_type": "markdown",
      "id": "fadbe6f1",
      "metadata": {
        "id": "fadbe6f1"
      },
      "source": [
        "<div style=\"background-color:rgba(0, 255, 0, 0.19);padding:3%;\">\n",
        "<b>Réponse : </b>\n",
        "<p> elle est déterministe <br>\n",
        " ca valeur sa calcul facielement\n",
        " cependant elle ne résiste pas au préimages ni aux collisions.\n",
        "\n",
        " </P>\n",
        "</div>"
      ]
    },
    {
      "cell_type": "markdown",
      "id": "ff10968e",
      "metadata": {
        "id": "ff10968e"
      },
      "source": [
        "### 1.2 Nouvelle tentative de fonction de hachage"
      ]
    },
    {
      "cell_type": "markdown",
      "id": "b8c19148",
      "metadata": {
        "id": "b8c19148"
      },
      "source": [
        "Essayons de faire un peu mieux. Nous allons commencer par écrire la représentation binaire (via la table ASCII) de chaque caractère du texte en entrée (on notera $l$ sa taille), puis nous allons définir la fonction de hachage suivante :\n",
        "$$\n",
        "h(x) = \\sum_{i=0}^{l-1} x[i] \\times 2^{l-i-1} \\pmod{251}\n",
        "$$\n",
        "Ainsi, par exemple, pour un caractère \"a\", h(\"a\") correspond à sa valeur décimale dans la table ASCII."
      ]
    },
    {
      "cell_type": "markdown",
      "id": "d115fe2a",
      "metadata": {
        "id": "d115fe2a"
      },
      "source": [
        "Voici une fonction qui permet de transformer une chaîne de caractères en sa représentation binaire via la table ASCII."
      ]
    },
    {
      "cell_type": "code",
      "execution_count": null,
      "id": "5b69c899",
      "metadata": {
        "colab": {
          "base_uri": "https://localhost:8080/"
        },
        "id": "5b69c899",
        "outputId": "394f67f7-bf15-4c99-8e9a-8851c838e01b"
      },
      "outputs": [
        {
          "name": "stdout",
          "output_type": "stream",
          "text": [
            "01101101011011110111010001100100011001010111000001100001011100110111001101100101\n"
          ]
        }
      ],
      "source": [
        "def toBinary(a):\n",
        "  return ''.join(format(ord(x), '08b') for x in a)\n",
        "\n",
        "bin = toBinary(\"motdepasse\")\n",
        "print(bin)"
      ]
    },
    {
      "cell_type": "markdown",
      "id": "f2a37767",
      "metadata": {
        "id": "f2a37767"
      },
      "source": [
        "*texte en italique*<b> Exercice 2.</b> Écrire la fonction <code>hachage(x)</code> qui calculer la fonction de hachage $h(x)$ d'une chaîne de caractère <code>x</code>."
      ]
    },
    {
      "cell_type": "code",
      "execution_count": null,
      "id": "1e6da332",
      "metadata": {
        "id": "1e6da332"
      },
      "outputs": [],
      "source": [
        "def hachage(x):\n",
        "  toBin = toBinary(x)\n",
        "  l = len(toBin)\n",
        "  hash = 0\n",
        "  for i in range(l):\n",
        "    hash = (hash + int(toBin[i]) * (2**(l-i-1))) % 251\n",
        "  return hash"
      ]
    },
    {
      "cell_type": "markdown",
      "id": "25f0a28b",
      "metadata": {
        "id": "25f0a28b"
      },
      "source": [
        "Utiliser le bloc suivant pour faire des tests avec différents mots."
      ]
    },
    {
      "cell_type": "code",
      "execution_count": null,
      "id": "40fec238",
      "metadata": {
        "colab": {
          "base_uri": "https://localhost:8080/"
        },
        "id": "40fec238",
        "outputId": "44699786-f61d-4bd9-ed78-3f626c927cd5"
      },
      "outputs": [
        {
          "name": "stdout",
          "output_type": "stream",
          "text": [
            "206\n"
          ]
        }
      ],
      "source": [
        "print(hachage(\"motdepasse\")) #le résultat attendu est 206"
      ]
    },
    {
      "cell_type": "markdown",
      "id": "59787377",
      "metadata": {
        "id": "59787377"
      },
      "source": [
        "Parmi les propriétés qu'une bonne fonction de hachage doit posséder, indiquer si oui ou non la fonction <code>hachage</code> convient. Vous justifierez en donnant des exemples si nécessaire."
      ]
    },
    {
      "cell_type": "markdown",
      "id": "aa667bcd",
      "metadata": {
        "id": "aa667bcd"
      },
      "source": [
        "<div style=\"background-color:rgba(0, 255, 0, 0.19);padding:3%;\">\n",
        "<b>Réponse : </b>\n",
        "<p>\n",
        "\n",
        "la fonction est déterministe, c'est-à-dire qu'un même message aura toujours la même valeur de hachage ;\n",
        "\n",
        "OUI\n",
        "\n",
        "la valeur de hachage d'un message se calcule « facilement » ;\n",
        "\n",
        "OUI\n",
        "\n",
        "il est impossible, pour une valeur de hachage donnée, de construire un message ayant cette valeur (résistance à la préimage) ;\n",
        "\n",
        "NON\n",
        "\n",
        "il est impossible de trouver un second message ayant la même valeur de hachage qu'un message donné (résistance à la seconde préimage) ;\n",
        "\n",
        "NON\n",
        "\n",
        "il est impossible de trouver deux messages différents ayant la même valeur de hachage (résistance aux collisions) ;\n",
        "\n",
        "OUI\n",
        "\n",
        "modifier un tant soit peu un message modifie considérablement la valeur de hachage.\n",
        "\n",
        "OUI\n",
        "\n",
        "</p>\n",
        "\n",
        "</div>"
      ]
    },
    {
      "cell_type": "markdown",
      "id": "4460180d",
      "metadata": {
        "id": "4460180d"
      },
      "source": [
        "### 1.3 Des exemples plus sérieux"
      ]
    },
    {
      "cell_type": "markdown",
      "id": "50ba4a69",
      "metadata": {
        "id": "50ba4a69"
      },
      "source": [
        "Ces exemples trop simples montrent qu'il est compliqué de trouver une fonction cumulant toutes ces propriétés. Le bloc suivant montre l'utilisation de l'algorithme sha-256."
      ]
    },
    {
      "cell_type": "code",
      "execution_count": null,
      "id": "45627127",
      "metadata": {
        "colab": {
          "base_uri": "https://localhost:8080/"
        },
        "id": "45627127",
        "outputId": "56236a4e-a4c9-4aff-8494-0f9d055c402d"
      },
      "outputs": [
        {
          "name": "stdout",
          "output_type": "stream",
          "text": [
            "Le hachage de ' test ' par l'algorithme sha-256 est :\n",
            "9f86d081884c7d659a2feaa0c55ad015a3bf4f1b2b0b822cd15d6c15b0f00a08\n"
          ]
        }
      ],
      "source": [
        "import hashlib as hash\n",
        "texte = \"test\"\n",
        "print(\"Le hachage de '\",texte, \"' par l'algorithme sha-256 est :\")\n",
        "print(hash.sha256(texte.encode('utf-8')).hexdigest())"
      ]
    },
    {
      "cell_type": "markdown",
      "id": "42af5806",
      "metadata": {
        "id": "42af5806"
      },
      "source": [
        "<b>Exercice 3.</b> Parmi les propriétés qu'une bonne fonction de hachage doit posséder, indiquer si oui ou non la fonction de hachage <code>sha256</code> <b>semble</b> convenir. Vous justifierez en donnant des exemples si nécessaire."
      ]
    },
    {
      "cell_type": "markdown",
      "id": "61af5332",
      "metadata": {
        "id": "61af5332"
      },
      "source": [
        "<div style=\"background-color:rgba(0, 255, 0, 0.19);padding:3%;\">\n",
        "<b>Réponse : </b>\n",
        "<p>\n",
        "\n",
        "\n",
        "la fonction est déterministe, c'est-à-dire qu'un même message aura toujours la même valeur de hachage ;\n",
        "\n",
        "OUI\n",
        "\n",
        "la valeur de hachage d'un message se calcule « facilement » ;\n",
        "\n",
        "OUI\n",
        "\n",
        "il est impossible, pour une valeur de hachage donnée, de construire un message ayant cette valeur (résistance à la préimage) ;\n",
        "\n",
        "OUI\n",
        "\n",
        "il est impossible de trouver un second message ayant la même valeur de hachage qu'un message donné (résistance à la seconde préimage) ;\n",
        "\n",
        "NON\n",
        "\n",
        "il est impossible de trouver deux messages différents ayant la même valeur de hachage (résistance aux collisions) ;\n",
        "\n",
        "OUI\n",
        "\n",
        "modifier un tant soit peu un message modifie considérablement la valeur de hachage.\n",
        "\n",
        "OUI\n",
        "\n",
        "\n",
        "\n",
        "</p>\n",
        "</div>"
      ]
    },
    {
      "cell_type": "markdown",
      "id": "39504e0d",
      "metadata": {
        "id": "39504e0d"
      },
      "source": [
        "## 2. Chiffrement de mot de passe\n",
        "\n"
      ]
    },
    {
      "cell_type": "markdown",
      "id": "29087082",
      "metadata": {
        "id": "29087082"
      },
      "source": [
        "Dans le contexte du stockage de comptes utilisateur dans une base de données, il est impératif de comprendre qu'on ne doit surtout pas stocker les mots de passe des utilisateurs, et encore moins en clair !\n",
        "\n",
        "On pourrait les chiffrer à l'aide d'un des algorithmes vus précédemment, mais cette solution est à bannir, car il suffit de connaître la clé de chiffrement pour pouvoir déchiffrer l'ensembe des mots de passe. Un autre problème serait que le chiffrement/déchiffrement à l'aide d'algorithmes plus évolués a un coût en ressources non négligeable.\n",
        "\n",
        "Une meilleure méthode est de stocker, non pas les mots de passe directement, mais le résultat de leur hachage. Ainsi, à la connexion, il suffit de comparer le hachage du mot de passe entré par l'utilisateur au hachage stocké dans la base de données. Le calcul du hachage étant rapide et la connaissance du haché d'un mot de passe ne permettant a priori pas de retrouver celui-ci, cette méthode est à privilégier pour le stockage des mots de passe.\n",
        "\n",
        "Attention cependant, il y a des faiblesses que nous allons étudier, et des astuces pour renforcer encore la sécurité de ce type de données."
      ]
    },
    {
      "cell_type": "markdown",
      "id": "837df938",
      "metadata": {
        "id": "837df938"
      },
      "source": [
        "### 2.1 Première version"
      ]
    },
    {
      "cell_type": "markdown",
      "id": "bdad8e77",
      "metadata": {
        "id": "bdad8e77"
      },
      "source": [
        "Le bloc de code suivant simule le stockage du hash d'un mot de passe dans une bdd puis la connexion d'un utilisateur."
      ]
    },
    {
      "cell_type": "code",
      "execution_count": null,
      "id": "8b158fae",
      "metadata": {
        "colab": {
          "base_uri": "https://localhost:8080/"
        },
        "id": "8b158fae",
        "outputId": "9debffaf-15cb-495b-b594-023d8b27d4ff"
      },
      "outputs": [
        {
          "name": "stdout",
          "output_type": "stream",
          "text": [
            "mot de passe : test\n",
            "ce qui est stocké en bdd :  9f86d081884c7d659a2feaa0c55ad015a3bf4f1b2b0b822cd15d6c15b0f00a08\n",
            "essai de mot de passe : test\n",
            "le hash de cet essai est :  9f86d081884c7d659a2feaa0c55ad015a3bf4f1b2b0b822cd15d6c15b0f00a08\n",
            "login success\n"
          ]
        }
      ],
      "source": [
        "import hashlib as hash\n",
        "\n",
        "## enregistrement du hash du mot de passe\n",
        "\n",
        "password = str(input(\"mot de passe : \"))\n",
        "hashed_password = hash.sha256 (password.encode ('utf-8')).hexdigest()\n",
        "print (\"ce qui est stocké en bdd : \",hashed_password)\n",
        "\n",
        "## authentification\n",
        "\n",
        "check = str(input(\"essai de mot de passe : \"))\n",
        "hashed_check = hash.sha256(check.encode('utf-8')).hexdigest()\n",
        "print (\"le hash de cet essai est : \",hashed_check)\n",
        "if hashed_check == hashed_password:\n",
        "    print(\"login success\")\n",
        "else:\n",
        "    print(\"login failed\")\n"
      ]
    },
    {
      "cell_type": "markdown",
      "id": "8975aa4b",
      "metadata": {
        "id": "8975aa4b"
      },
      "source": [
        "### 2.2 Attaque par dictionnaire"
      ]
    },
    {
      "cell_type": "markdown",
      "id": "0670cede",
      "metadata": {
        "id": "0670cede"
      },
      "source": [
        "En cas d'intrusion dans la bdd, un utilisateur mal intentionné pourrait récupérer tous les hash des mots de passe. Bien que sha-256 soit résistant au calcul de la préimage, que pensez-vous de la sécurité de l'utilisateur qui aurait choisi comme mot de passe le mot \"chaton\" par exemple ?"
      ]
    },
    {
      "cell_type": "markdown",
      "id": "d4f8d9a2",
      "metadata": {
        "id": "d4f8d9a2"
      },
      "source": [
        "<b>Exercice 4.</b> Compléter la fonction <code>attaque_dico_hash(h,dic)</code> qui prend en paramètres un hash <code>h</code> et un dictionnaire <code>dic</code> et qui compare <code>h</code> aux hash de chaque mot du dictionnaire. Si une correspondance est trouvée, vous afficherez le mot du dictionnaire qui a comme hash <code>h</code>, sinon vous afficherez un message disant qu'aucune correspondance n'a été trouvée.\n",
        "\n",
        "Vous indiquerez également <b>combien de mots</b> ont été testés ainsi que le <b>temps</b> mis par l'algorithme."
      ]
    },
    {
      "cell_type": "code",
      "execution_count": null,
      "id": "a1ea0678",
      "metadata": {
        "id": "a1ea0678"
      },
      "outputs": [],
      "source": [
        "from datetime import datetime\n",
        "import hashlib as hash\n",
        "def attaque_dico_hash(h, dic):\n",
        "    dicotionaire = open(dic, mode=\"r\")\n",
        "    n = 0\n",
        "    t0 = datetime.now()\n",
        "    for mot in dicotionaire:\n",
        "        mot = mot.strip()\n",
        "        n += 1\n",
        "        if hash.sha256(mot.encode('utf-8')).hexdigest() == h:\n",
        "            print(\"Hash correspondant au mot: {}\".format(mot))\n",
        "            break\n",
        "    else:\n",
        "        print(\"Aucun mot trouvé avec le même hash\")\n",
        "    print(\"{} mot(s) ont étés testés en {} seconde(s),\".format(n, (datetime.now()-t0).total_seconds()))"
      ]
    },
    {
      "cell_type": "markdown",
      "id": "8e134af3",
      "metadata": {
        "id": "8e134af3"
      },
      "source": [
        "Tester votre fonction à l'aide du bloc suivant. Vous prendrez le soin auparavant de créer sur votre espace personnel sur le serveur Salazar un répertoire nommé <b>Dictionnaires</b> et d'y placer le fichier <b>DictionnaireFR.txt</b> que vous récupérerez sur UMTICE et qui contient 336531 mots de la langue française."
      ]
    },
    {
      "cell_type": "code",
      "execution_count": null,
      "id": "b6ca8058",
      "metadata": {
        "colab": {
          "base_uri": "https://localhost:8080/"
        },
        "id": "b6ca8058",
        "outputId": "4c97e38c-ab83-47a7-ba63-f90127f56eb5"
      },
      "outputs": [
        {
          "name": "stdout",
          "output_type": "stream",
          "text": [
            "Hash correspondant au mot: chaton\n",
            "49648 mot(s) ont étés testés en 0.046683 seconde(s),\n"
          ]
        }
      ],
      "source": [
        "attaque_dico_hash('71ea4dee4c387f40197e36666c87e07890650161455f2932a40fbeec47673cd7','DictionnaireFR.txt')"
      ]
    },
    {
      "cell_type": "markdown",
      "id": "2efd728e",
      "metadata": {
        "id": "2efd728e"
      },
      "source": [
        "### 2.3 Attaque par Rainbow Table"
      ]
    },
    {
      "cell_type": "markdown",
      "id": "68bff0b6",
      "metadata": {
        "id": "68bff0b6"
      },
      "source": [
        "Cette attaque ne détectera que les mots de passe qui sont des mots présents dans le dictionnaire mais pas les juxtapositions de mots ou les mots de passe courants mais absents du citionnaire (motdepasse, 1234, etc.)\n",
        "\n",
        "Dans la pratique, il existe des listes de hash de mots de passe couramment utilisés, et il est très facile de retrouver une grosse quantité de mots de passe à partir d'une base contenant des hash."
      ]
    },
    {
      "cell_type": "markdown",
      "id": "903657c9",
      "metadata": {
        "id": "903657c9"
      },
      "source": [
        "<b>Exercice 5.</b> Pour vous en convaincre, utilisez le site https://www.dcode.fr/fonction-hash pour trouver les mots de passe correpsondant aux hash suivants :"
      ]
    },
    {
      "cell_type": "markdown",
      "id": "b5d6ab64",
      "metadata": {
        "id": "b5d6ab64"
      },
      "source": [
        "<div style=\"background-color:rgba(0, 255, 0, 0.19);padding:3%;\">\n",
        "<b>967520ae23e8ee14888bae72809031b98398ae4a636773e18fff917d77679334 : </b>\n",
        "\n",
        "<b>motdepasse</b>\n",
        "\n",
        "<b>f2d81a260dea8a100dd517984e53c56a7523d96942a834b9cdc249bd4e8c7aa9 : </b>\n",
        "\n",
        "<b>azerty</b>\n",
        "\n",
        "<b>8d969eef6ecad3c29a3a629280e686cf0c3f5d5a86aff3ca12020c923adc6c92 : </b>\n",
        "\n",
        "<b>123456</b>\n",
        "\n",
        "</div>"
      ]
    },
    {
      "cell_type": "markdown",
      "id": "698927d5",
      "metadata": {
        "id": "698927d5"
      },
      "source": [
        "### 2.4 Avec un grain de sel"
      ]
    },
    {
      "cell_type": "markdown",
      "id": "892051d2",
      "metadata": {
        "id": "892051d2"
      },
      "source": [
        "Pour remédier à cette faiblesse, on va ajouter une chaîne aléatoire (qu'on appellera du <b>sel</b>) à la fin du mot de passe avant de calculer son hash, et on stockera dans la bdd le hash + le sel. Lors de l'authentification, il suffira d'ajouter le sel au mot entré par l'utilisateur puis de vérifier que le hash correspond bien à celui qui est stocké dans la base de données.\n",
        "\n",
        "L'avantage de cette méthode est que si plusieurs utilisateurs ont le même mot de passe, le sel généré étant différent, le hash stocké sera différent ! Une attaque par Rainbow Table n'est alors plus envisageable cet il faudrait pouvoir stocker et tester les hash des mots de passe fréquents concaténés avec tous les sels possibles..."
      ]
    },
    {
      "cell_type": "markdown",
      "id": "b7cc616f",
      "metadata": {
        "id": "b7cc616f"
      },
      "source": [
        "<b>Exercice 6.</b> Écrire la fonction <code>secure_password_generate(password)</code> qui a pour paramètre une chaîne de caractère <code>password</code>. Cette fonction doit :\n",
        "- générer un <code>sel</code> aléatoire = une chaîne de caractères (lettres de a à z) aléatoires de longueur 32\n",
        "- calculer le <code>hash</code> de la chaîne de caractère formée en concaténant <code>password</code> et <code>sel</code>\n",
        "- renvoyer la chapine de caractère <code>\"hash_sel\"</code>\n",
        "\n",
        "<i>Exemple :</i> secure_password_generate(\"motdepasse\") peut renvoyer une chaîne du style 98cad44dc9a866146e7b6b402e2578e0bff796db8d3d8944b7d775ac9e23c090_yrvenpqfmcgcltpqkheyiqqnoviyyqqb\n",
        "dans laquelle le sel aléatoire généré est yrvenpqfmcgcltpqkheyiqqnoviyyqqb\n",
        "et le hash de la chaîne \"motdepasseyrvenpqfmcgcltpqkheyiqqnoviyyqqb\" est 98cad44dc9a866146e7b6b402e2578e0bff796db8d3d8944b7d775ac9e23c090"
      ]
    },
    {
      "cell_type": "code",
      "execution_count": null,
      "id": "84de5fa4",
      "metadata": {
        "id": "84de5fa4"
      },
      "outputs": [],
      "source": [
        "import random\n",
        "import string\n",
        "import hashlib\n",
        "\n",
        "def secure_password_generate(password, sel_size=32):\n",
        "    sel = ''.join(random.choice(string.ascii_lowercase) for _ in range(sel_size))\n",
        "    password_sel = password + sel\n",
        "    hashed_password = hashlib.sha256(password_sel.encode('utf-8')).hexdigest()\n",
        "    return hashed_password + \"_\" + sel\n"
      ]
    },
    {
      "cell_type": "markdown",
      "id": "9063b548",
      "metadata": {
        "id": "9063b548"
      },
      "source": [
        "Tester votre fonction à l'aide du bloc suivant qui simule l'enregistrement d'un mot de passe puis une tentative de connexion."
      ]
    },
    {
      "cell_type": "code",
      "execution_count": null,
      "id": "04dc1fc6",
      "metadata": {
        "colab": {
          "base_uri": "https://localhost:8080/"
        },
        "id": "04dc1fc6",
        "outputId": "6d31143e-1caa-4dbb-b990-7e47261e4aff"
      },
      "outputs": [
        {
          "name": "stdout",
          "output_type": "stream",
          "text": [
            "mot de passe : 1234\n",
            "ce qui est stocké en bdd :  7c7f5d176ccb5757d1dd6233956d20bb661a7919b4dbd99217e0f9214034d8eb_evfcslphumwpaterlvrhthymhylrtmem\n",
            "essai de mot de passe : 1234\n",
            "login success\n"
          ]
        }
      ],
      "source": [
        "## authentification\n",
        "\n",
        "def secure_password_validate(password, secure_password):\n",
        "    secure_password_salted = secure_password.split(\"_\")[0]\n",
        "    salt =  secure_password.split(\"_\")[1]\n",
        "    submitted_password_salted = hash.sha256((password + salt).encode('utf-8')).hexdigest()\n",
        "    if submitted_password_salted == secure_password_salted:\n",
        "        print(\"login success\")\n",
        "    else:\n",
        "        print(\"login failed\")\n",
        "\n",
        "password = str(input(\"mot de passe : \"))\n",
        "secured_password = secure_password_generate(password)\n",
        "print (\"ce qui est stocké en bdd : \",secured_password)\n",
        "\n",
        "check = str(input(\"essai de mot de passe : \"))\n",
        "secure_password_validate(check, secured_password)"
      ]
    },
    {
      "cell_type": "markdown",
      "id": "a0003f5b",
      "metadata": {
        "id": "a0003f5b"
      },
      "source": [
        "### 2.5 Utilisation de bcrypt pour le chiffrement de mot de passe"
      ]
    },
    {
      "cell_type": "markdown",
      "id": "73961351",
      "metadata": {
        "id": "73961351"
      },
      "source": [
        "Dans la pratique, le plus simple est d'utiliser la librairie bcrypt qui permet de faire du hâché avec du sel.\n",
        "\n",
        "Les blocs suivants illustrent l'utilisation de cette librairie pour stocker les mots de passe et pour authentifier un utilisateur."
      ]
    },
    {
      "cell_type": "code",
      "execution_count": null,
      "id": "HJrnuG4kxHbT",
      "metadata": {
        "colab": {
          "base_uri": "https://localhost:8080/"
        },
        "id": "HJrnuG4kxHbT",
        "outputId": "07b2153f-dd25-462d-d67d-5fe97efb25c1"
      },
      "outputs": [
        {
          "name": "stdout",
          "output_type": "stream",
          "text": [
            "Collecting bcrypt\n",
            "  Downloading bcrypt-4.1.2-cp39-abi3-manylinux_2_28_x86_64.whl (698 kB)\n",
            "\u001b[2K     \u001b[90m━━━━━━━━━━━━━━━━━━━━━━━━━━━━━━━━━━━━━━━━\u001b[0m \u001b[32m698.9/698.9 kB\u001b[0m \u001b[31m4.8 MB/s\u001b[0m eta \u001b[36m0:00:00\u001b[0m\n",
            "\u001b[?25hInstalling collected packages: bcrypt\n",
            "Successfully installed bcrypt-4.1.2\n"
          ]
        }
      ],
      "source": [
        "pip install bcrypt\n"
      ]
    },
    {
      "cell_type": "code",
      "execution_count": null,
      "id": "14dd03c9",
      "metadata": {
        "colab": {
          "base_uri": "https://localhost:8080/"
        },
        "id": "14dd03c9",
        "outputId": "0a24db45-07d7-43f6-f7b5-b4a8ad94dc90"
      },
      "outputs": [
        {
          "name": "stdout",
          "output_type": "stream",
          "text": [
            "mot de passe : 1234\n",
            "le sel : b'$2b$12$/U1WgRsWhlFYythvoYfbW.'\n",
            "ce qui est stocké en base de données :  b'$2b$12$/U1WgRsWhlFYythvoYfbW.M0oKR3jMvIoIFfhi8H.2Qp.vdKb.HTS'\n"
          ]
        }
      ],
      "source": [
        "\n",
        "import bcrypt\n",
        "\n",
        "password = str(input(\"mot de passe : \")).encode('utf-8')\n",
        "\n",
        "salt = bcrypt.gensalt()\n",
        "\n",
        "hashedPassword = bcrypt.hashpw(password, salt)\n",
        "\n",
        "print(\"le sel :\",salt)\n",
        "print(\"ce qui est stocké en base de données : \",hashedPassword)\n"
      ]
    },
    {
      "cell_type": "code",
      "execution_count": null,
      "id": "b585619a",
      "metadata": {
        "colab": {
          "base_uri": "https://localhost:8080/"
        },
        "id": "b585619a",
        "outputId": "5f58d092-57d9-429a-8ea6-506bc3dcab1b"
      },
      "outputs": [
        {
          "name": "stdout",
          "output_type": "stream",
          "text": [
            "mot de passe : 123\n",
            "ce qui est stocké en bdd :  b'$2b$10$9tu00iKxyVxsGur.7FYw9OvVRNULNnYu7sPjYBksMR.uoMzs1QEbG'\n",
            "essai de mot de passe :123\n",
            "login success\n"
          ]
        }
      ],
      "source": [
        "import bcrypt\n",
        "\n",
        "password = str(input(\"mot de passe : \")).encode('utf-8')\n",
        "\n",
        "hashed = bcrypt.hashpw(password, bcrypt.gensalt(10))\n",
        "\n",
        "print (\"ce qui est stocké en bdd : \",hashed)\n",
        "\n",
        "essai = str(input(\"essai de mot de passe :\")).encode('utf-8')\n",
        "\n",
        "if bcrypt.checkpw(essai, hashed) :\n",
        "    print(\"login success\")\n",
        "else :\n",
        "    print(\"login failed\")"
      ]
    }
  ],
  "metadata": {
    "colab": {
      "provenance": []
    },
    "kernelspec": {
      "display_name": "Python 3 (ipykernel)",
      "language": "python",
      "name": "python3"
    },
    "language_info": {
      "codemirror_mode": {
        "name": "ipython",
        "version": 3
      },
      "file_extension": ".py",
      "mimetype": "text/x-python",
      "name": "python",
      "nbconvert_exporter": "python",
      "pygments_lexer": "ipython3",
      "version": "3.9.7"
    }
  },
  "nbformat": 4,
  "nbformat_minor": 5
}
