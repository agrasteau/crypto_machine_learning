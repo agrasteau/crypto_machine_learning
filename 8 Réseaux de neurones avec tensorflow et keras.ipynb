{
 "cells": [
  {
   "cell_type": "markdown",
   "id": "cJNSe0LOtQqS",
   "metadata": {
    "id": "cJNSe0LOtQqS"
   },
   "source": [
    "# 1. Le perceptron"
   ]
  },
  {
   "cell_type": "code",
   "execution_count": 2,
   "id": "365fbc9c",
   "metadata": {
    "executionInfo": {
     "elapsed": 9803,
     "status": "ok",
     "timestamp": 1733754609354,
     "user": {
      "displayName": "Alexandre GRASTEAU",
      "userId": "14924271205602736035"
     },
     "user_tz": -60
    },
    "id": "365fbc9c"
   },
   "outputs": [],
   "source": [
    "import tensorflow as tf\n",
    "from tensorflow import keras\n",
    "import numpy as np\n",
    "import matplotlib.pyplot as plt"
   ]
  },
  {
   "cell_type": "code",
   "execution_count": null,
   "id": "VsJjbfF1spTm",
   "metadata": {
    "colab": {
     "base_uri": "https://localhost:8080/",
     "height": 430
    },
    "executionInfo": {
     "elapsed": 448,
     "status": "ok",
     "timestamp": 1733754609800,
     "user": {
      "displayName": "Alexandre GRASTEAU",
      "userId": "14924271205602736035"
     },
     "user_tz": -60
    },
    "id": "VsJjbfF1spTm",
    "outputId": "f1e81158-6ba9-4e9e-e924-b855553cc42e"
   },
   "outputs": [],
   "source": [
    "X = np.array([[0,3],[1,1.5],[1,4],[1.5,2.5],[2,2.5],[3,3.5],[3.5,3.25],[4,3],[4,4],[5,4],[1,1],[2,0.5],[2,2],[3,1.5],[3,2.75],[4,1],[4,2.5],[4.5,3],[5,1],[5,2.25]])\n",
    "y = np.array([[0],[0],[0],[0],[0],[0],[0],[0],[0],[0],[1],[1],[1],[1],[1],[1],[1],[1],[1],[1]])\n",
    "plt.scatter(X[:,0], X[:,1], c = y)\n",
    "plt.show()"
   ]
  },
  {
   "cell_type": "code",
   "execution_count": null,
   "id": "EWRkCW5ksqQg",
   "metadata": {
    "colab": {
     "base_uri": "https://localhost:8080/",
     "height": 216
    },
    "executionInfo": {
     "elapsed": 5,
     "status": "ok",
     "timestamp": 1733754609800,
     "user": {
      "displayName": "Alexandre GRASTEAU",
      "userId": "14924271205602736035"
     },
     "user_tz": -60
    },
    "id": "EWRkCW5ksqQg",
    "outputId": "c92fc1c5-70a9-4c54-a815-6fb2c985b0c4"
   },
   "outputs": [],
   "source": [
    "model = keras.models.Sequential()\n",
    "model.add(keras.layers.Dense(1, input_dim=2, activation=\"sigmoid\"))\n",
    "model.summary()"
   ]
  },
  {
   "cell_type": "code",
   "execution_count": 5,
   "id": "Fy5PlpvTsqMV",
   "metadata": {
    "executionInfo": {
     "elapsed": 4,
     "status": "ok",
     "timestamp": 1733754609800,
     "user": {
      "displayName": "Alexandre GRASTEAU",
      "userId": "14924271205602736035"
     },
     "user_tz": -60
    },
    "id": "Fy5PlpvTsqMV"
   },
   "outputs": [],
   "source": [
    "model.compile(loss=\"binary_crossentropy\", optimizer='adam',metrics=[\"accuracy\"])"
   ]
  },
  {
   "cell_type": "code",
   "execution_count": null,
   "id": "6IsFBrg802Te",
   "metadata": {
    "id": "6IsFBrg802Te"
   },
   "outputs": [],
   "source": [
    "print(X, y)"
   ]
  },
  {
   "cell_type": "code",
   "execution_count": null,
   "id": "lSDdho0PsqH0",
   "metadata": {
    "colab": {
     "background_save": true,
     "base_uri": "https://localhost:8080/"
    },
    "executionInfo": {
     "elapsed": 165333,
     "status": "ok",
     "timestamp": 1733754775130,
     "user": {
      "displayName": "Alexandre GRASTEAU",
      "userId": "14924271205602736035"
     },
     "user_tz": -60
    },
    "id": "lSDdho0PsqH0"
   },
   "outputs": [],
   "source": [
    "history = model.fit(X, y, epochs=2000)"
   ]
  },
  {
   "cell_type": "code",
   "execution_count": 7,
   "id": "Q6PnPBjOkxoH",
   "metadata": {
    "colab": {
     "background_save": true
    },
    "executionInfo": {
     "elapsed": 985,
     "status": "ok",
     "timestamp": 1733754775130,
     "user": {
      "displayName": "Alexandre GRASTEAU",
      "userId": "14924271205602736035"
     },
     "user_tz": -60
    },
    "id": "Q6PnPBjOkxoH"
   },
   "outputs": [],
   "source": [
    "def visualisation(X, y, model):\n",
    "    X = X.T\n",
    "    y = y.T\n",
    "    fig, ax = plt.subplots()\n",
    "    ax.scatter(X[0, :], X[1, :], c=y, cmap='bwr', s=50)\n",
    "    x0_lim = ax.get_xlim()\n",
    "    x1_lim = ax.get_ylim()\n",
    "\n",
    "    resolution = 100\n",
    "    x0 = np.linspace(x0_lim[0], x0_lim[1], resolution)\n",
    "    x1 = np.linspace(x1_lim[0], x1_lim[1], resolution)\n",
    "\n",
    "    # meshgrid\n",
    "    X0, X1 = np.meshgrid(x0, x1)\n",
    "\n",
    "    # assemble (100, 100) -> (10000, 2)\n",
    "    XX = np.vstack((X0.ravel(), X1.ravel()))\n",
    "\n",
    "    Z = model.predict(XX.T)\n",
    "    Z = Z.reshape((resolution, resolution))\n",
    "\n",
    "    ax.pcolormesh(X0, X1, Z, cmap='bwr', alpha=0.3, zorder=-1)\n",
    "\n",
    "    plt.show()"
   ]
  },
  {
   "cell_type": "code",
   "execution_count": null,
   "id": "eiSiFdo4rpx8",
   "metadata": {
    "colab": {
     "background_save": true,
     "base_uri": "https://localhost:8080/"
    },
    "executionInfo": {
     "elapsed": 984,
     "status": "ok",
     "timestamp": 1733754775130,
     "user": {
      "displayName": "Alexandre GRASTEAU",
      "userId": "14924271205602736035"
     },
     "user_tz": -60
    },
    "id": "eiSiFdo4rpx8"
   },
   "outputs": [],
   "source": [
    "visualisation(X,y,model)"
   ]
  },
  {
   "cell_type": "code",
   "execution_count": null,
   "id": "WE3Zv-C4A_wl",
   "metadata": {
    "colab": {
     "background_save": true,
     "base_uri": "https://localhost:8080/"
    },
    "executionInfo": {
     "elapsed": 932,
     "status": "ok",
     "timestamp": 1733754775130,
     "user": {
      "displayName": "Alexandre GRASTEAU",
      "userId": "14924271205602736035"
     },
     "user_tz": -60
    },
    "id": "WE3Zv-C4A_wl"
   },
   "outputs": [],
   "source": [
    "x = np.linspace(0,5,1000)\n",
    "plt.scatter(X[:,0], X[:,1], c = y)\n",
    "plt.plot(x,(-model.get_weights()[1]-x*model.get_weights()[0][0])/model.get_weights()[0][1],c='r')"
   ]
  },
  {
   "cell_type": "code",
   "execution_count": null,
   "id": "EF8v14Uuj7YC",
   "metadata": {
    "colab": {
     "background_save": true,
     "base_uri": "https://localhost:8080/"
    },
    "executionInfo": {
     "elapsed": 930,
     "status": "ok",
     "timestamp": 1733754775130,
     "user": {
      "displayName": "Alexandre GRASTEAU",
      "userId": "14924271205602736035"
     },
     "user_tz": -60
    },
    "id": "EF8v14Uuj7YC"
   },
   "outputs": [],
   "source": [
    "X = np.array([[0,3],[1,1.5],[1,4],[1.5,2.5],[2,2.5],[3,3.5],[3.5,3.25],[4,3],[4,4],[5,4],[1,1],[2,0.5],[2,2],[3,1.5],[3,2.75],[4,1],[4,2.5],[4.5,3],[5,1],[5,2.25]])\n",
    "y = np.array([[0],[1],[0],[1],[1],[0],[0],[0],[0],[0],[1],[1],[1],[1],[1],[1],[0],[0],[0],[0]])\n",
    "plt.scatter(X[:,0], X[:,1], c = y)\n",
    "plt.show()"
   ]
  },
  {
   "cell_type": "code",
   "execution_count": null,
   "id": "UjJY3kPUj7UP",
   "metadata": {
    "colab": {
     "background_save": true,
     "base_uri": "https://localhost:8080/"
    },
    "executionInfo": {
     "elapsed": 930,
     "status": "ok",
     "timestamp": 1733754775130,
     "user": {
      "displayName": "Alexandre GRASTEAU",
      "userId": "14924271205602736035"
     },
     "user_tz": -60
    },
    "id": "UjJY3kPUj7UP"
   },
   "outputs": [],
   "source": [
    "model = keras.models.Sequential()\n",
    "model.add(keras.layers.Dense(100, input_dim=2, activation=\"sigmoid\"))\n",
    "model.add(keras.layers.Dense(100, activation=\"sigmoid\"))\n",
    "model.add(keras.layers.Dense(1, activation=\"sigmoid\"))\n",
    "model.summary()"
   ]
  },
  {
   "cell_type": "code",
   "execution_count": 12,
   "id": "54r6MU34j7Rh",
   "metadata": {
    "colab": {
     "background_save": true
    },
    "executionInfo": {
     "elapsed": 929,
     "status": "ok",
     "timestamp": 1733754775130,
     "user": {
      "displayName": "Alexandre GRASTEAU",
      "userId": "14924271205602736035"
     },
     "user_tz": -60
    },
    "id": "54r6MU34j7Rh"
   },
   "outputs": [],
   "source": [
    "model.compile(loss=\"binary_crossentropy\", optimizer='adam',metrics=[\"binary_accuracy\"])"
   ]
  },
  {
   "cell_type": "code",
   "execution_count": null,
   "id": "IHynpGWgj7I-",
   "metadata": {
    "colab": {
     "background_save": true,
     "base_uri": "https://localhost:8080/"
    },
    "id": "IHynpGWgj7I-"
   },
   "outputs": [],
   "source": [
    "history = model.fit(X, y, epochs=1000)"
   ]
  },
  {
   "cell_type": "code",
   "execution_count": null,
   "id": "0npUskkekxeG",
   "metadata": {
    "colab": {
     "background_save": true
    },
    "id": "0npUskkekxeG"
   },
   "outputs": [],
   "source": [
    "visualisation(X, y, model)"
   ]
  },
  {
   "cell_type": "code",
   "execution_count": null,
   "id": "JEsTqApcBvNg",
   "metadata": {
    "colab": {
     "background_save": true
    },
    "id": "JEsTqApcBvNg"
   },
   "outputs": [],
   "source": [
    "X = np.array([[0,0],[0,1],[1,0],[1,1]])\n",
    "y = np.array([[1],[0],[0],[1]])\n",
    "plt.scatter(X[:,0], X[:,1], c = y)\n",
    "plt.show()"
   ]
  },
  {
   "cell_type": "code",
   "execution_count": null,
   "id": "0d57f8eb",
   "metadata": {
    "colab": {
     "background_save": true
    },
    "id": "0d57f8eb"
   },
   "outputs": [],
   "source": [
    "model = keras.models.Sequential()\n",
    "model.add(keras.layers.Dense(2, input_dim=2, activation=\"sigmoid\"))\n",
    "model.add(keras.layers.Dense(1, activation=\"sigmoid\"))"
   ]
  },
  {
   "cell_type": "code",
   "execution_count": null,
   "id": "2e9da0e8",
   "metadata": {
    "colab": {
     "background_save": true
    },
    "id": "2e9da0e8"
   },
   "outputs": [],
   "source": [
    "model.summary()"
   ]
  },
  {
   "cell_type": "code",
   "execution_count": null,
   "id": "4c16a225",
   "metadata": {
    "colab": {
     "background_save": true
    },
    "id": "4c16a225"
   },
   "outputs": [],
   "source": [
    "model.compile(loss=\"binary_crossentropy\", optimizer=\"adam\", metrics=['accuracy'])"
   ]
  },
  {
   "cell_type": "code",
   "execution_count": null,
   "id": "af7839d4",
   "metadata": {
    "colab": {
     "background_save": true
    },
    "id": "af7839d4"
   },
   "outputs": [],
   "source": [
    "history = model.fit(X, y, epochs=2500)"
   ]
  },
  {
   "cell_type": "code",
   "execution_count": null,
   "id": "x_N9vq2zoKGa",
   "metadata": {
    "colab": {
     "background_save": true
    },
    "id": "x_N9vq2zoKGa"
   },
   "outputs": [],
   "source": [
    "visualisation(X, y, model)"
   ]
  },
  {
   "cell_type": "code",
   "execution_count": null,
   "id": "whzJrtkjCkuW",
   "metadata": {
    "colab": {
     "background_save": true
    },
    "id": "whzJrtkjCkuW"
   },
   "outputs": [],
   "source": [
    "import matplotlib.pyplot as plt\n",
    "from mpl_toolkits.mplot3d import Axes3D\n",
    "VX = np.linspace(0, 1, 20)\n",
    "VY = np.linspace(0, 1, 20)\n",
    "abs,ord = np.meshgrid(VX, VY)\n",
    "entree = np.c_[abs.ravel(), ord.ravel()]\n",
    "sortie = model.predict(entree)\n",
    "Z = sortie.reshape(abs.shape)\n",
    "fig = plt.figure()\n",
    "ax = plt.axes(projection='3d')\n",
    "ax.plot_surface(abs, ord, Z)\n",
    "plt.show()"
   ]
  },
  {
   "cell_type": "code",
   "execution_count": null,
   "id": "ET4M_kc2EKZ1",
   "metadata": {
    "colab": {
     "background_save": true
    },
    "id": "ET4M_kc2EKZ1"
   },
   "outputs": [],
   "source": [
    "print(model.predict(X))"
   ]
  }
 ],
 "metadata": {
  "colab": {
   "name": "",
   "version": ""
  },
  "kernelspec": {
   "display_name": "Python 3 (ipykernel)",
   "language": "python",
   "name": "python3"
  },
  "language_info": {
   "codemirror_mode": {
    "name": "ipython",
    "version": 3
   },
   "file_extension": ".py",
   "mimetype": "text/x-python",
   "name": "python",
   "nbconvert_exporter": "python",
   "pygments_lexer": "ipython3",
   "version": "3.9.12"
  }
 },
 "nbformat": 4,
 "nbformat_minor": 5
}
