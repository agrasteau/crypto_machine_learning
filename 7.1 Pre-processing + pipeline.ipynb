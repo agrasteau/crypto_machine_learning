{
 "cells": [
  {
   "cell_type": "code",
   "execution_count": null,
   "id": "58f096d1",
   "metadata": {
    "id": "58f096d1"
   },
   "outputs": [],
   "source": [
    "import numpy as np\n",
    "import matplotlib.pyplot as plt\n",
    "from sklearn.preprocessing import LabelEncoder, OrdinalEncoder"
   ]
  },
  {
   "cell_type": "markdown",
   "id": "a686d0e0",
   "metadata": {
    "id": "a686d0e0"
   },
   "source": [
    "# 1. Transformers"
   ]
  },
  {
   "cell_type": "markdown",
   "id": "6c762cc2",
   "metadata": {
    "id": "6c762cc2"
   },
   "source": [
    "## 1.1 Encodage"
   ]
  },
  {
   "cell_type": "markdown",
   "id": "d539f7e9",
   "metadata": {
    "id": "d539f7e9"
   },
   "source": [
    "### Encodage ordinal\n",
    "\n",
    "à utiliser sur des variables qualitatives ordinales (pour lesquelles il y a un ordre naturel)"
   ]
  },
  {
   "cell_type": "markdown",
   "id": "d2a2KDtUmtmr",
   "metadata": {
    "id": "d2a2KDtUmtmr"
   },
   "source": [
    "**LabelEncoder()**\n",
    "\n",
    "Ce transformer est prévu pour s'appliquer à une seule colonne, donc plutôt pour la target y par exemple"
   ]
  },
  {
   "cell_type": "code",
   "execution_count": null,
   "id": "a4dc5f22",
   "metadata": {
    "id": "a4dc5f22"
   },
   "outputs": [],
   "source": [
    "y = np.array(['chat', 'chien','chat','oiseau'])"
   ]
  },
  {
   "cell_type": "code",
   "execution_count": null,
   "id": "1ce07eaf",
   "metadata": {
    "colab": {
     "base_uri": "https://localhost:8080/"
    },
    "executionInfo": {
     "elapsed": 9,
     "status": "ok",
     "timestamp": 1730818201927,
     "user": {
      "displayName": "Alexandre GRASTEAU",
      "userId": "14924271205602736035"
     },
     "user_tz": -60
    },
    "id": "1ce07eaf",
    "outputId": "c1f045e7-b33f-44f4-9214-71af205f0ad2"
   },
   "outputs": [],
   "source": [
    "encoder = LabelEncoder()\n",
    "encoder.fit_transform(y)"
   ]
  },
  {
   "cell_type": "code",
   "execution_count": null,
   "id": "70c78f1a",
   "metadata": {
    "colab": {
     "base_uri": "https://localhost:8080/"
    },
    "executionInfo": {
     "elapsed": 8,
     "status": "ok",
     "timestamp": 1730818201927,
     "user": {
      "displayName": "Alexandre GRASTEAU",
      "userId": "14924271205602736035"
     },
     "user_tz": -60
    },
    "id": "70c78f1a",
    "outputId": "976ada60-8ad7-487d-acf8-2635b097d724"
   },
   "outputs": [],
   "source": [
    "encoder.inverse_transform(np.array([0,0,2,2]))"
   ]
  },
  {
   "cell_type": "markdown",
   "id": "IyUAU7x1m0It",
   "metadata": {
    "id": "IyUAU7x1m0It"
   },
   "source": [
    "**OrdinalEncoder()**\n",
    "\n",
    "Il fait la même chose mais peut s'appliquer à plusieurs colonnes, donc aux features X."
   ]
  },
  {
   "cell_type": "code",
   "execution_count": null,
   "id": "6704a479",
   "metadata": {
    "id": "6704a479"
   },
   "outputs": [],
   "source": [
    "X = np.array([['chien', 'poils'],\n",
    "              ['chat', 'poils'],\n",
    "              ['oiseau', 'plume']])"
   ]
  },
  {
   "cell_type": "code",
   "execution_count": null,
   "id": "1d94e0e4",
   "metadata": {
    "colab": {
     "base_uri": "https://localhost:8080/"
    },
    "executionInfo": {
     "elapsed": 5,
     "status": "ok",
     "timestamp": 1730818201927,
     "user": {
      "displayName": "Alexandre GRASTEAU",
      "userId": "14924271205602736035"
     },
     "user_tz": -60
    },
    "id": "1d94e0e4",
    "outputId": "506c95e7-47d5-472c-b85c-3cbfd9ddc2d3"
   },
   "outputs": [],
   "source": [
    "encoder = OrdinalEncoder()\n",
    "encoder.fit_transform(X)"
   ]
  },
  {
   "cell_type": "markdown",
   "id": "9a757f09",
   "metadata": {
    "id": "9a757f09"
   },
   "source": [
    "Pbm : l'ordre induit risque d'influencer les algorithmes de ML, sauf les modèles utilisant les arbres de décision\n",
    "-> solution : encodage OneHot"
   ]
  },
  {
   "cell_type": "markdown",
   "id": "647f0bd0",
   "metadata": {
    "id": "647f0bd0"
   },
   "source": [
    "### Encodage OneHot\n",
    "\n",
    "\n",
    "à utiliser sur des variables qualitatives nominales (pour lesquelles il n'y a pas d'ordre naturel)"
   ]
  },
  {
   "cell_type": "markdown",
   "id": "wieB3lJooqcy",
   "metadata": {
    "id": "wieB3lJooqcy"
   },
   "source": [
    "**LabelBinarizer()**\n",
    "\n",
    "Ce transformer est prévu pour s'appliquer à une seule colonne, donc plutôt pour la target y par exemple"
   ]
  },
  {
   "cell_type": "code",
   "execution_count": null,
   "id": "05219e33",
   "metadata": {
    "id": "05219e33"
   },
   "outputs": [],
   "source": [
    "from sklearn.preprocessing import LabelBinarizer"
   ]
  },
  {
   "cell_type": "code",
   "execution_count": null,
   "id": "de5ec584",
   "metadata": {
    "colab": {
     "base_uri": "https://localhost:8080/"
    },
    "executionInfo": {
     "elapsed": 229,
     "status": "ok",
     "timestamp": 1730818202153,
     "user": {
      "displayName": "Alexandre GRASTEAU",
      "userId": "14924271205602736035"
     },
     "user_tz": -60
    },
    "id": "de5ec584",
    "outputId": "3c4c9fc3-8331-4e4a-b7a4-bb06fab6c857"
   },
   "outputs": [],
   "source": [
    "encoder = LabelBinarizer()\n",
    "encoder.fit_transform(y)"
   ]
  },
  {
   "cell_type": "markdown",
   "id": "76ed93bf",
   "metadata": {
    "id": "76ed93bf"
   },
   "source": [
    "prend bcp de place mais possibilité de représentation par matrice creuse (sparse matrix) :"
   ]
  },
  {
   "cell_type": "code",
   "execution_count": null,
   "id": "b09e713b",
   "metadata": {
    "colab": {
     "base_uri": "https://localhost:8080/"
    },
    "executionInfo": {
     "elapsed": 6,
     "status": "ok",
     "timestamp": 1730818202153,
     "user": {
      "displayName": "Alexandre GRASTEAU",
      "userId": "14924271205602736035"
     },
     "user_tz": -60
    },
    "id": "b09e713b",
    "outputId": "7f4900dc-9c81-4c24-a506-6ed57b784d70"
   },
   "outputs": [],
   "source": [
    "encoder = LabelBinarizer(sparse_output=True)\n",
    "encoder.fit_transform(y)"
   ]
  },
  {
   "cell_type": "markdown",
   "id": "Vtc9xj0-o8DX",
   "metadata": {
    "id": "Vtc9xj0-o8DX"
   },
   "source": [
    "**OneHotEncoder()**\n",
    "\n",
    "Il fait la même chose mais peut s'appliquer à plusieurs colonnes, donc aux features X."
   ]
  },
  {
   "cell_type": "code",
   "execution_count": null,
   "id": "b0204c4a",
   "metadata": {
    "id": "b0204c4a"
   },
   "outputs": [],
   "source": [
    "from sklearn.preprocessing import OneHotEncoder"
   ]
  },
  {
   "cell_type": "code",
   "execution_count": null,
   "id": "0022e712",
   "metadata": {
    "colab": {
     "base_uri": "https://localhost:8080/"
    },
    "executionInfo": {
     "elapsed": 4,
     "status": "ok",
     "timestamp": 1730818202153,
     "user": {
      "displayName": "Alexandre GRASTEAU",
      "userId": "14924271205602736035"
     },
     "user_tz": -60
    },
    "id": "0022e712",
    "outputId": "20056eeb-386f-42c0-98a7-9cc38a9b0d0d"
   },
   "outputs": [],
   "source": [
    "encoder = OneHotEncoder()\n",
    "encoder.fit_transform(X)\n"
   ]
  },
  {
   "cell_type": "markdown",
   "id": "763fc665",
   "metadata": {
    "id": "763fc665"
   },
   "source": [
    "## 1.2 Normalisation"
   ]
  },
  {
   "cell_type": "markdown",
   "id": "2MUf7bSkpJy5",
   "metadata": {
    "id": "2MUf7bSkpJy5"
   },
   "source": [
    "Pour les variables quantitatives, afin de ramener les valeurs dans un intervalle plus petit et sur une même échelle. Cette étape est indispensable, en particulier pour l'utilisation de modèles qui vont effectuer des calculs de type descente de gradient, calcul de variance, etc."
   ]
  },
  {
   "cell_type": "markdown",
   "id": "0b2e3083",
   "metadata": {
    "id": "0b2e3083"
   },
   "source": [
    "### MinMaxScaler"
   ]
  },
  {
   "cell_type": "markdown",
   "id": "4aa85767",
   "metadata": {
    "id": "4aa85767"
   },
   "source": [
    "Répartit les données entre 0 et 1\n",
    "$$\n",
    "X_{scaled} = \\dfrac{X - X_{min}}{X_{max}- X_{min}}\n",
    "$$"
   ]
  },
  {
   "cell_type": "code",
   "execution_count": null,
   "id": "b92e493d",
   "metadata": {
    "id": "b92e493d"
   },
   "outputs": [],
   "source": [
    "from sklearn.preprocessing import MinMaxScaler"
   ]
  },
  {
   "cell_type": "code",
   "execution_count": null,
   "id": "c115939d",
   "metadata": {
    "id": "c115939d"
   },
   "outputs": [],
   "source": [
    "X = np.array([[70],\n",
    "            [80],\n",
    "            [120]])"
   ]
  },
  {
   "cell_type": "code",
   "execution_count": null,
   "id": "633bff7e",
   "metadata": {
    "colab": {
     "base_uri": "https://localhost:8080/"
    },
    "executionInfo": {
     "elapsed": 305,
     "status": "ok",
     "timestamp": 1730818202456,
     "user": {
      "displayName": "Alexandre GRASTEAU",
      "userId": "14924271205602736035"
     },
     "user_tz": -60
    },
    "id": "633bff7e",
    "outputId": "d366c41e-9b5f-4daa-987b-585281798d0a"
   },
   "outputs": [],
   "source": [
    "scaler = MinMaxScaler()\n",
    "scaler.fit_transform(X)"
   ]
  },
  {
   "cell_type": "code",
   "execution_count": null,
   "id": "9a46d5d1",
   "metadata": {
    "id": "9a46d5d1"
   },
   "outputs": [],
   "source": [
    "from sklearn.datasets import load_iris\n",
    "iris = load_iris()\n",
    "X = iris.data\n",
    "y = iris.target"
   ]
  },
  {
   "cell_type": "code",
   "execution_count": null,
   "id": "b832a836",
   "metadata": {
    "id": "b832a836"
   },
   "outputs": [],
   "source": [
    "X_minmax = MinMaxScaler().fit_transform(X)"
   ]
  },
  {
   "cell_type": "code",
   "execution_count": null,
   "id": "60a9d866",
   "metadata": {
    "colab": {
     "base_uri": "https://localhost:8080/",
     "height": 447
    },
    "executionInfo": {
     "elapsed": 2036,
     "status": "ok",
     "timestamp": 1730818205102,
     "user": {
      "displayName": "Alexandre GRASTEAU",
      "userId": "14924271205602736035"
     },
     "user_tz": -60
    },
    "id": "60a9d866",
    "outputId": "209d0dba-2bc3-47cf-87b9-204928d0854e"
   },
   "outputs": [],
   "source": [
    "plt.scatter(X[:,2], X[:,3], c = 'b', label = 'original', alpha = 0.8)\n",
    "plt.scatter(X_minmax[:,2], X_minmax[:,3], c = 'g', label = 'minmax', alpha = 0.8)\n",
    "plt.legend()"
   ]
  },
  {
   "cell_type": "markdown",
   "id": "248e91be",
   "metadata": {
    "id": "248e91be"
   },
   "source": [
    "### Standard Scaler"
   ]
  },
  {
   "cell_type": "markdown",
   "id": "62d46413",
   "metadata": {
    "id": "62d46413"
   },
   "source": [
    "Répartit les données pour avoir une moyenne de 0 et un écart-type de 1\n",
    "$$\n",
    "X_{scaled} = \\dfrac{X - \\mu_X}{\\sigma_X}\n",
    "$$"
   ]
  },
  {
   "cell_type": "code",
   "execution_count": null,
   "id": "7db8e1f3",
   "metadata": {
    "id": "7db8e1f3"
   },
   "outputs": [],
   "source": [
    "from sklearn.preprocessing import StandardScaler"
   ]
  },
  {
   "cell_type": "code",
   "execution_count": null,
   "id": "f7d94612",
   "metadata": {
    "id": "f7d94612"
   },
   "outputs": [],
   "source": [
    "X = np.array([[70],\n",
    "            [80],\n",
    "            [120]])"
   ]
  },
  {
   "cell_type": "code",
   "execution_count": null,
   "id": "56b17347",
   "metadata": {
    "colab": {
     "base_uri": "https://localhost:8080/"
    },
    "executionInfo": {
     "elapsed": 4,
     "status": "ok",
     "timestamp": 1730818205103,
     "user": {
      "displayName": "Alexandre GRASTEAU",
      "userId": "14924271205602736035"
     },
     "user_tz": -60
    },
    "id": "56b17347",
    "outputId": "574b8b6e-a4b2-44e3-98f0-4b7c847e822e"
   },
   "outputs": [],
   "source": [
    "scaler = StandardScaler()\n",
    "scaler.fit_transform(X)"
   ]
  },
  {
   "cell_type": "code",
   "execution_count": null,
   "id": "0ef4ddce",
   "metadata": {
    "id": "0ef4ddce"
   },
   "outputs": [],
   "source": [
    "from sklearn.datasets import load_iris\n",
    "iris = load_iris()\n",
    "X = iris.data\n",
    "y = iris.target"
   ]
  },
  {
   "cell_type": "code",
   "execution_count": null,
   "id": "b7027d8a",
   "metadata": {
    "id": "b7027d8a"
   },
   "outputs": [],
   "source": [
    "X_std = StandardScaler().fit_transform(X)"
   ]
  },
  {
   "cell_type": "code",
   "execution_count": null,
   "id": "88852dbb",
   "metadata": {
    "colab": {
     "base_uri": "https://localhost:8080/",
     "height": 447
    },
    "executionInfo": {
     "elapsed": 1384,
     "status": "ok",
     "timestamp": 1730818206484,
     "user": {
      "displayName": "Alexandre GRASTEAU",
      "userId": "14924271205602736035"
     },
     "user_tz": -60
    },
    "id": "88852dbb",
    "outputId": "f099ff17-27d4-4480-a732-e762acdda65c"
   },
   "outputs": [],
   "source": [
    "plt.scatter(X[:,0], X[:,1], c = 'b', label = 'original', alpha = 0.8)\n",
    "plt.scatter(X_std[:,0], X_std[:,1], c = 'g', label = 'std', alpha = 0.8)\n",
    "plt.legend()"
   ]
  },
  {
   "cell_type": "markdown",
   "id": "f803c6d7",
   "metadata": {
    "id": "f803c6d7"
   },
   "source": [
    "Pbm de ces 2 méthodes : sensible aux valeurs extrêmes"
   ]
  },
  {
   "cell_type": "code",
   "execution_count": null,
   "id": "ae8f6f52",
   "metadata": {
    "id": "ae8f6f52"
   },
   "outputs": [],
   "source": [
    "outliers = np.full((10,4),100)+np.random.randn(10,4)\n",
    "X = np.vstack((X,outliers))"
   ]
  },
  {
   "cell_type": "code",
   "execution_count": null,
   "id": "883637a9",
   "metadata": {
    "id": "883637a9"
   },
   "outputs": [],
   "source": [
    "X_minmax = MinMaxScaler().fit_transform(X)\n",
    "X_std = StandardScaler().fit_transform(X)"
   ]
  },
  {
   "cell_type": "code",
   "execution_count": null,
   "id": "51db8f5a",
   "metadata": {
    "colab": {
     "base_uri": "https://localhost:8080/",
     "height": 430
    },
    "executionInfo": {
     "elapsed": 926,
     "status": "ok",
     "timestamp": 1730818207406,
     "user": {
      "displayName": "Alexandre GRASTEAU",
      "userId": "14924271205602736035"
     },
     "user_tz": -60
    },
    "id": "51db8f5a",
    "outputId": "d45b2001-3174-4155-951f-39ea15eb7ac9"
   },
   "outputs": [],
   "source": [
    "#plt.scatter(X[:,2], X[:,3], alpha = 0.5, label='original')\n",
    "#plt.scatter(X_std[:,2], X_minmax[:,3], alpha = 0.5, label='minmax')\n",
    "plt.scatter(X_std[:,2], X_std[:,3], alpha = 0.5, label='std')\n",
    "plt.legend()\n",
    "plt.show()"
   ]
  },
  {
   "cell_type": "markdown",
   "id": "WS0xOCfFtcAU",
   "metadata": {
    "id": "WS0xOCfFtcAU"
   },
   "source": [
    "Les valeurs \"normales\" se retrouvent compressées autour de 0, ce qui est très mauvais pour faire fonctionner les différents modèles...\n",
    "\n",
    "**=> à éviter en cas de présence d'outliers**"
   ]
  },
  {
   "cell_type": "markdown",
   "id": "08362e11",
   "metadata": {
    "id": "08362e11"
   },
   "source": [
    "### Robust Scaler"
   ]
  },
  {
   "cell_type": "markdown",
   "id": "80cc38e0",
   "metadata": {
    "id": "80cc38e0"
   },
   "source": [
    "Répartit les données autour de la médiane\n",
    "$$\n",
    "X_{scaled} = \\dfrac{X - Médiane}{IQR}\n",
    "$$\n",
    "où $IQR = Q_3 - Q_1$"
   ]
  },
  {
   "cell_type": "code",
   "execution_count": null,
   "id": "21ba9f93",
   "metadata": {
    "id": "21ba9f93"
   },
   "outputs": [],
   "source": [
    "from sklearn.preprocessing import RobustScaler"
   ]
  },
  {
   "cell_type": "code",
   "execution_count": null,
   "id": "87a4f7db",
   "metadata": {
    "id": "87a4f7db"
   },
   "outputs": [],
   "source": [
    "X = np.array([[70],\n",
    "            [80],\n",
    "            [120]])"
   ]
  },
  {
   "cell_type": "code",
   "execution_count": null,
   "id": "7a8cbdde",
   "metadata": {
    "colab": {
     "base_uri": "https://localhost:8080/"
    },
    "executionInfo": {
     "elapsed": 3,
     "status": "ok",
     "timestamp": 1730818207407,
     "user": {
      "displayName": "Alexandre GRASTEAU",
      "userId": "14924271205602736035"
     },
     "user_tz": -60
    },
    "id": "7a8cbdde",
    "outputId": "4be24cac-d415-4ae1-f9df-6d5cb13db7e0"
   },
   "outputs": [],
   "source": [
    "scaler = RobustScaler()\n",
    "scaler.fit_transform(X)"
   ]
  },
  {
   "cell_type": "code",
   "execution_count": null,
   "id": "fc1db5ff",
   "metadata": {
    "id": "fc1db5ff"
   },
   "outputs": [],
   "source": [
    "from sklearn.datasets import load_iris\n",
    "iris = load_iris()\n",
    "X = iris.data\n",
    "y = iris.target"
   ]
  },
  {
   "cell_type": "code",
   "execution_count": null,
   "id": "265c16a4",
   "metadata": {
    "id": "265c16a4"
   },
   "outputs": [],
   "source": [
    "outliers = np.full((10,4),100)+np.random.randn(10,4)\n",
    "X = np.vstack((X,outliers))"
   ]
  },
  {
   "cell_type": "code",
   "execution_count": null,
   "id": "7bc11104",
   "metadata": {
    "id": "7bc11104"
   },
   "outputs": [],
   "source": [
    "X_minmax = MinMaxScaler().fit_transform(X)\n",
    "X_std = StandardScaler().fit_transform(X)\n",
    "X_robust = RobustScaler().fit_transform(X)"
   ]
  },
  {
   "cell_type": "code",
   "execution_count": null,
   "id": "0a1894fa",
   "metadata": {
    "colab": {
     "base_uri": "https://localhost:8080/",
     "height": 430
    },
    "executionInfo": {
     "elapsed": 784,
     "status": "ok",
     "timestamp": 1730818208544,
     "user": {
      "displayName": "Alexandre GRASTEAU",
      "userId": "14924271205602736035"
     },
     "user_tz": -60
    },
    "id": "0a1894fa",
    "outputId": "9dfc4212-47b8-4066-a77d-75c5de227d7c"
   },
   "outputs": [],
   "source": [
    "#plt.scatter(X[:,2], X[:,3], alpha = 0.5, label='original')\n",
    "#plt.scatter(X_minmax[:,2], X_minmax[:,3], alpha = 0.5, label='minmax')\n",
    "#plt.scatter(X_std[:,2], X_std[:,3], alpha = 0.5, label='std')\n",
    "plt.scatter(X_robust[:,2], X_robust[:,3], alpha = 0.5, label='robust')\n",
    "plt.legend()\n",
    "plt.show()"
   ]
  },
  {
   "cell_type": "markdown",
   "id": "206b6ed7",
   "metadata": {
    "id": "206b6ed7"
   },
   "source": [
    "## 1.3 Autres transformers"
   ]
  },
  {
   "cell_type": "markdown",
   "id": "8b7ed68f",
   "metadata": {
    "id": "8b7ed68f"
   },
   "source": [
    "### Polynomial Features"
   ]
  },
  {
   "cell_type": "code",
   "execution_count": null,
   "id": "e378b999",
   "metadata": {
    "colab": {
     "base_uri": "https://localhost:8080/"
    },
    "executionInfo": {
     "elapsed": 2,
     "status": "ok",
     "timestamp": 1730818208544,
     "user": {
      "displayName": "Alexandre GRASTEAU",
      "userId": "14924271205602736035"
     },
     "user_tz": -60
    },
    "id": "e378b999",
    "outputId": "b9e93d7d-3dc3-4865-f5aa-f77e57815dff"
   },
   "outputs": [],
   "source": [
    "from sklearn.preprocessing import PolynomialFeatures\n",
    "\n",
    "X = np.array([[1],\n",
    "             [2],\n",
    "             [0.5]])\n",
    "PolynomialFeatures(3).fit_transform(X)"
   ]
  },
  {
   "cell_type": "code",
   "execution_count": null,
   "id": "70990d85",
   "metadata": {
    "colab": {
     "base_uri": "https://localhost:8080/",
     "height": 451
    },
    "executionInfo": {
     "elapsed": 2505,
     "status": "ok",
     "timestamp": 1730818211047,
     "user": {
      "displayName": "Alexandre GRASTEAU",
      "userId": "14924271205602736035"
     },
     "user_tz": -60
    },
    "id": "70990d85",
    "outputId": "94160953-2d3f-47a8-9ca8-e881c53f8f48"
   },
   "outputs": [],
   "source": [
    "from sklearn.linear_model import LinearRegression\n",
    "\n",
    "X = np.linspace(0,4,100).reshape((100,1))\n",
    "y = X**2 + 5*np.cos(X)+np.random.randn(100,1)\n",
    "\n",
    "plt.scatter(X,y)\n",
    "\n",
    "model = LinearRegression().fit(X,y)\n",
    "y_pred = model.predict(X)\n",
    "\n",
    "plt.plot(X,y_pred, c='r')\n"
   ]
  },
  {
   "cell_type": "code",
   "execution_count": null,
   "id": "8a194bb0",
   "metadata": {
    "colab": {
     "base_uri": "https://localhost:8080/",
     "height": 451
    },
    "executionInfo": {
     "elapsed": 1161,
     "status": "ok",
     "timestamp": 1730818212206,
     "user": {
      "displayName": "Alexandre GRASTEAU",
      "userId": "14924271205602736035"
     },
     "user_tz": -60
    },
    "id": "8a194bb0",
    "outputId": "bfdd8972-e1fb-42ca-ec89-f0be6f2e36e4"
   },
   "outputs": [],
   "source": [
    "X_poly = PolynomialFeatures(3).fit_transform(X)\n",
    "\n",
    "model = LinearRegression().fit(X_poly,y)\n",
    "y_pred = model.predict(X_poly)\n",
    "\n",
    "plt.scatter(X,y)\n",
    "plt.plot(X,y_pred, c='r')\n"
   ]
  },
  {
   "cell_type": "markdown",
   "id": "e8e4526b",
   "metadata": {
    "id": "e8e4526b"
   },
   "source": [
    "### Discretiseur\n",
    "\n",
    "Ces transformers permettent de transformer une variable quantitative continue en variable discrète, en regroupant les valeurs par catégories. Ceci peut être très utile, par exemple pour transformer l'âge en catégories (enfant, adolescent, adulte, senior par exemple)."
   ]
  },
  {
   "cell_type": "markdown",
   "id": "zhhNg1eQwHwA",
   "metadata": {
    "id": "zhhNg1eQwHwA"
   },
   "source": [
    "**Binarizer**\n",
    "\n",
    "Permet de définir 2 catégories en fonction d'un seuil."
   ]
  },
  {
   "cell_type": "code",
   "execution_count": null,
   "id": "61bc5de4",
   "metadata": {
    "colab": {
     "base_uri": "https://localhost:8080/"
    },
    "executionInfo": {
     "elapsed": 8,
     "status": "ok",
     "timestamp": 1730818212206,
     "user": {
      "displayName": "Alexandre GRASTEAU",
      "userId": "14924271205602736035"
     },
     "user_tz": -60
    },
    "id": "61bc5de4",
    "outputId": "adaa67b7-3718-4560-f778-debaf36487c4"
   },
   "outputs": [],
   "source": [
    "from sklearn.preprocessing import Binarizer, KBinsDiscretizer\n",
    "\n",
    "X = np.linspace(0,5,10).reshape((10,1))\n",
    "print(X)"
   ]
  },
  {
   "cell_type": "code",
   "execution_count": null,
   "id": "917e9783",
   "metadata": {
    "colab": {
     "base_uri": "https://localhost:8080/"
    },
    "executionInfo": {
     "elapsed": 8,
     "status": "ok",
     "timestamp": 1730818212206,
     "user": {
      "displayName": "Alexandre GRASTEAU",
      "userId": "14924271205602736035"
     },
     "user_tz": -60
    },
    "id": "917e9783",
    "outputId": "7156d291-ec4f-44dc-f9ae-60e621c714ad"
   },
   "outputs": [],
   "source": [
    "Binarizer(threshold=3).fit_transform(X)"
   ]
  },
  {
   "cell_type": "markdown",
   "id": "Z6OGJwNiwXkZ",
   "metadata": {
    "id": "Z6OGJwNiwXkZ"
   },
   "source": [
    "**KBinsDiscretizer**\n",
    "\n",
    "Permet de définir plusieurs catégories en fonction d'un seuil."
   ]
  },
  {
   "cell_type": "code",
   "execution_count": null,
   "id": "bc5abfbc",
   "metadata": {
    "colab": {
     "base_uri": "https://localhost:8080/"
    },
    "executionInfo": {
     "elapsed": 7,
     "status": "ok",
     "timestamp": 1730818212207,
     "user": {
      "displayName": "Alexandre GRASTEAU",
      "userId": "14924271205602736035"
     },
     "user_tz": -60
    },
    "id": "bc5abfbc",
    "outputId": "0a862f55-0f08-4e3e-b7e5-5f14934fc0a8"
   },
   "outputs": [],
   "source": [
    "KBinsDiscretizer(n_bins=6).fit_transform(X).toarray()"
   ]
  },
  {
   "cell_type": "markdown",
   "id": "d6f092e9",
   "metadata": {
    "id": "d6f092e9"
   },
   "source": [
    "# 2. Pipeline"
   ]
  },
  {
   "cell_type": "code",
   "execution_count": null,
   "id": "6c41eaa3",
   "metadata": {
    "id": "6c41eaa3"
   },
   "outputs": [],
   "source": [
    "from sklearn.model_selection import train_test_split\n",
    "from sklearn.linear_model import SGDClassifier"
   ]
  },
  {
   "cell_type": "code",
   "execution_count": null,
   "id": "c7103308",
   "metadata": {
    "id": "c7103308"
   },
   "outputs": [],
   "source": [
    "X = iris.data\n",
    "y = iris.target"
   ]
  },
  {
   "cell_type": "code",
   "execution_count": null,
   "id": "a60f9de2",
   "metadata": {
    "id": "a60f9de2"
   },
   "outputs": [],
   "source": [
    "X_train, X_test, y_train, y_test = train_test_split(X,y,random_state=0)"
   ]
  },
  {
   "cell_type": "markdown",
   "id": "6cd3eb34",
   "metadata": {
    "id": "6cd3eb34"
   },
   "source": [
    "**Sans pipeline :**"
   ]
  },
  {
   "cell_type": "code",
   "execution_count": null,
   "id": "d824ec6a",
   "metadata": {
    "colab": {
     "base_uri": "https://localhost:8080/"
    },
    "executionInfo": {
     "elapsed": 5,
     "status": "ok",
     "timestamp": 1730818212207,
     "user": {
      "displayName": "Alexandre GRASTEAU",
      "userId": "14924271205602736035"
     },
     "user_tz": -60
    },
    "id": "d824ec6a",
    "outputId": "0313c407-6e28-4d35-d4a4-84f257cbb013"
   },
   "outputs": [],
   "source": [
    "# Transformer\n",
    "\n",
    "scaler = StandardScaler()\n",
    "X_train_transformed = scaler.fit_transform(X_train)\n",
    "\n",
    "# Model\n",
    "model = SGDClassifier(random_state=0)\n",
    "model.fit(X_train_transformed, y_train)\n",
    "\n",
    "# Test\n",
    "X_test_transformed = scaler.transform(X_test)\n",
    "model.predict(X_test_transformed)"
   ]
  },
  {
   "cell_type": "markdown",
   "id": "c891ebd1",
   "metadata": {
    "id": "c891ebd1"
   },
   "source": [
    "**Avec pipeline :**"
   ]
  },
  {
   "cell_type": "code",
   "execution_count": null,
   "id": "52ef5037",
   "metadata": {
    "colab": {
     "base_uri": "https://localhost:8080/"
    },
    "executionInfo": {
     "elapsed": 335,
     "status": "ok",
     "timestamp": 1730818212538,
     "user": {
      "displayName": "Alexandre GRASTEAU",
      "userId": "14924271205602736035"
     },
     "user_tz": -60
    },
    "id": "52ef5037",
    "outputId": "fe94c2f9-0492-4edb-c5bc-c5e2771c7e51"
   },
   "outputs": [],
   "source": [
    "from sklearn.pipeline import make_pipeline\n",
    "\n",
    "model = make_pipeline(StandardScaler(), SGDClassifier())\n",
    "model.fit(X_train, y_train)\n",
    "model.predict(X_test)"
   ]
  },
  {
   "cell_type": "markdown",
   "id": "5ddd13aa",
   "metadata": {
    "id": "5ddd13aa"
   },
   "source": [
    " **Pipeline avec GridSearchCV :**"
   ]
  },
  {
   "cell_type": "code",
   "execution_count": null,
   "id": "f2f69dfb",
   "metadata": {
    "colab": {
     "base_uri": "https://localhost:8080/",
     "height": 216
    },
    "executionInfo": {
     "elapsed": 944,
     "status": "ok",
     "timestamp": 1730818213480,
     "user": {
      "displayName": "Alexandre GRASTEAU",
      "userId": "14924271205602736035"
     },
     "user_tz": -60
    },
    "id": "f2f69dfb",
    "outputId": "b563b624-4b2b-42c4-e3de-623571338915"
   },
   "outputs": [],
   "source": [
    "from sklearn.model_selection import GridSearchCV\n",
    "\n",
    "model = make_pipeline(PolynomialFeatures(),\n",
    "                      StandardScaler(),\n",
    "                      SGDClassifier(random_state=0))\n",
    "\n",
    "params = {\n",
    "    'polynomialfeatures__degree': [2,3,4],\n",
    "    'sgdclassifier__penalty': ['l1', 'l2']\n",
    "}\n",
    "\n",
    "grid = GridSearchCV(model, param_grid = params, cv = 4)\n",
    "\n",
    "grid.fit(X_train, y_train)"
   ]
  },
  {
   "cell_type": "code",
   "execution_count": null,
   "id": "a954737b",
   "metadata": {
    "colab": {
     "base_uri": "https://localhost:8080/"
    },
    "executionInfo": {
     "elapsed": 5,
     "status": "ok",
     "timestamp": 1730818213480,
     "user": {
      "displayName": "Alexandre GRASTEAU",
      "userId": "14924271205602736035"
     },
     "user_tz": -60
    },
    "id": "a954737b",
    "outputId": "f647d97f-b74d-4c3b-a5a7-b7050623253b"
   },
   "outputs": [],
   "source": [
    "grid.best_params_"
   ]
  },
  {
   "cell_type": "code",
   "execution_count": null,
   "id": "e09fe3cb",
   "metadata": {
    "colab": {
     "base_uri": "https://localhost:8080/"
    },
    "executionInfo": {
     "elapsed": 4,
     "status": "ok",
     "timestamp": 1730818213480,
     "user": {
      "displayName": "Alexandre GRASTEAU",
      "userId": "14924271205602736035"
     },
     "user_tz": -60
    },
    "id": "e09fe3cb",
    "outputId": "5a94248e-1790-4420-dc79-8e51e2d4b69c"
   },
   "outputs": [],
   "source": [
    "grid.score(X_test, y_test)"
   ]
  },
  {
   "cell_type": "markdown",
   "id": "a89c4943",
   "metadata": {
    "id": "a89c4943"
   },
   "source": [
    "**et sans le pre-processing, ça aurait donné quoi ?**"
   ]
  },
  {
   "cell_type": "code",
   "execution_count": null,
   "id": "1e40f838",
   "metadata": {
    "colab": {
     "base_uri": "https://localhost:8080/"
    },
    "executionInfo": {
     "elapsed": 3,
     "status": "ok",
     "timestamp": 1730818213480,
     "user": {
      "displayName": "Alexandre GRASTEAU",
      "userId": "14924271205602736035"
     },
     "user_tz": -60
    },
    "id": "1e40f838",
    "outputId": "c2968462-fe36-44ca-b15f-8b543e3e3aa5"
   },
   "outputs": [],
   "source": [
    "model = SGDClassifier(random_state=0)\n",
    "model.fit(X_train, y_train)\n",
    "model.score(X_test, y_test)"
   ]
  },
  {
   "cell_type": "markdown",
   "id": "65317985",
   "metadata": {
    "id": "65317985"
   },
   "source": [
    "**C'est beaucoup moins bon ! => Le pre-processing, c'est la vie !**"
   ]
  }
 ],
 "metadata": {
  "colab": {
   "provenance": []
  },
  "kernelspec": {
   "display_name": "Python 3 (ipykernel)",
   "language": "python",
   "name": "python3"
  },
  "language_info": {
   "codemirror_mode": {
    "name": "ipython",
    "version": 3
   },
   "file_extension": ".py",
   "mimetype": "text/x-python",
   "name": "python",
   "nbconvert_exporter": "python",
   "pygments_lexer": "ipython3",
   "version": "3.9.12"
  }
 },
 "nbformat": 4,
 "nbformat_minor": 5
}
