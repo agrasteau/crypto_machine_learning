{
  "cells": [
    {
      "cell_type": "code",
      "execution_count": null,
      "id": "1bf0493f",
      "metadata": {
        "id": "1bf0493f"
      },
      "outputs": [],
      "source": [
        "import numpy as np\n",
        "from sklearn.datasets import make_classification\n",
        "import matplotlib.pyplot as plt"
      ]
    },
    {
      "cell_type": "markdown",
      "id": "fc51ab14",
      "metadata": {
        "id": "fc51ab14"
      },
      "source": [
        "# Dataset"
      ]
    },
    {
      "cell_type": "code",
      "execution_count": null,
      "id": "172950d1",
      "metadata": {
        "id": "172950d1"
      },
      "outputs": [],
      "source": [
        "x, y = make_classification(n_samples=100, n_features=1, n_redundant=0, n_informative=1, n_clusters_per_class=1)"
      ]
    },
    {
      "cell_type": "code",
      "execution_count": null,
      "id": "6cbacf3f",
      "metadata": {
        "id": "6cbacf3f"
      },
      "outputs": [],
      "source": [
        "plt.scatter(x,y)"
      ]
    },
    {
      "cell_type": "code",
      "execution_count": null,
      "id": "2e945752",
      "metadata": {
        "id": "2e945752"
      },
      "outputs": [],
      "source": [
        "x.shape\n",
        "y = y.reshape(y.shape[0],1)\n",
        "y.shape"
      ]
    },
    {
      "cell_type": "code",
      "execution_count": null,
      "id": "6ec86504",
      "metadata": {
        "id": "6ec86504"
      },
      "outputs": [],
      "source": [
        "X = np.hstack((x,np.ones(x.shape)))\n",
        "theta = np.random.rand(2,1)"
      ]
    },
    {
      "cell_type": "markdown",
      "id": "99db5b96",
      "metadata": {
        "id": "99db5b96"
      },
      "source": [
        "# Modèle"
      ]
    },
    {
      "cell_type": "code",
      "execution_count": null,
      "id": "cee39fb5",
      "metadata": {
        "id": "cee39fb5"
      },
      "outputs": [],
      "source": [
        "def model(X,theta):\n",
        "    return 1/(1+np.exp(-X.dot(theta)))"
      ]
    },
    {
      "cell_type": "code",
      "execution_count": null,
      "id": "4c73dbeb",
      "metadata": {
        "id": "4c73dbeb"
      },
      "outputs": [],
      "source": [
        "plt.scatter(x,y)\n",
        "plt.scatter(x,model(X,theta), c='r')\n",
        "plt.show()"
      ]
    },
    {
      "cell_type": "markdown",
      "id": "e3dccb38",
      "metadata": {
        "id": "e3dccb38"
      },
      "source": [
        "# Fonction coût"
      ]
    },
    {
      "cell_type": "code",
      "execution_count": null,
      "id": "20fda36e",
      "metadata": {
        "id": "20fda36e"
      },
      "outputs": [],
      "source": [
        "def cost_function(X,y,theta):\n",
        "    m = len(y)\n",
        "    return -(1/m) * np.sum(y*np.log(model(X,theta))+(1-y)*np.log(1-model(X,theta)))"
      ]
    },
    {
      "cell_type": "code",
      "execution_count": null,
      "id": "ac2356e7",
      "metadata": {
        "id": "ac2356e7"
      },
      "outputs": [],
      "source": [
        "cost_function(X,y,theta)"
      ]
    },
    {
      "cell_type": "markdown",
      "id": "4ce0b731",
      "metadata": {
        "id": "4ce0b731"
      },
      "source": [
        "# Gradient et descente de gradient"
      ]
    },
    {
      "cell_type": "code",
      "execution_count": null,
      "id": "2ed9b21d",
      "metadata": {
        "id": "2ed9b21d"
      },
      "outputs": [],
      "source": [
        "def grad(X,y,theta):\n",
        "    m = len(y)\n",
        "    return 1/m * X.T.dot(model(X,theta)-y)"
      ]
    },
    {
      "cell_type": "code",
      "execution_count": null,
      "id": "513c6889",
      "metadata": {
        "id": "513c6889"
      },
      "outputs": [],
      "source": [
        "def gradient_descent(X,y,theta, learning_rate, n_iterations):\n",
        "    cost_history = np.zeros(n_iterations)\n",
        "    for i in range(0,n_iterations):\n",
        "        theta = theta - learning_rate * grad(X,y,theta)\n",
        "        cost_history[i] = cost_function(X,y,theta)\n",
        "    return theta, cost_history"
      ]
    },
    {
      "cell_type": "markdown",
      "id": "06c2a0fa",
      "metadata": {
        "id": "06c2a0fa"
      },
      "source": [
        "# Machine Learning"
      ]
    },
    {
      "cell_type": "code",
      "execution_count": null,
      "id": "27730173",
      "metadata": {
        "id": "27730173"
      },
      "outputs": [],
      "source": [
        "theta_final, cost_history = gradient_descent(X,y,theta, 0.01 ,10000)"
      ]
    },
    {
      "cell_type": "code",
      "execution_count": null,
      "id": "5cb4b432",
      "metadata": {
        "id": "5cb4b432"
      },
      "outputs": [],
      "source": [
        "predictions = model(X,theta_final)\n",
        "plt.scatter(x,y)\n",
        "plt.scatter(x,predictions, c='r')\n",
        "plt.show()"
      ]
    },
    {
      "cell_type": "code",
      "execution_count": null,
      "id": "ce054515",
      "metadata": {
        "id": "ce054515"
      },
      "outputs": [],
      "source": [
        "plt.plot(range(10000), cost_history)\n",
        "plt.show()"
      ]
    },
    {
      "cell_type": "code",
      "execution_count": null,
      "id": "188cbbd9",
      "metadata": {
        "id": "188cbbd9"
      },
      "outputs": [],
      "source": [
        "def coeff_determination(y, pred):\n",
        "    u = ((y-pred)**2).sum()\n",
        "    v = ((y-y.mean())**2).sum()\n",
        "    return 1 - u/v"
      ]
    },
    {
      "cell_type": "code",
      "execution_count": null,
      "id": "de73ebb1",
      "metadata": {
        "id": "de73ebb1"
      },
      "outputs": [],
      "source": [
        "coeff_determination(y, predictions)"
      ]
    },
    {
      "cell_type": "code",
      "execution_count": null,
      "id": "2ea79201",
      "metadata": {
        "id": "2ea79201"
      },
      "outputs": [],
      "source": []
    }
  ],
  "metadata": {
    "kernelspec": {
      "display_name": "Python 3 (ipykernel)",
      "language": "python",
      "name": "python3"
    },
    "language_info": {
      "codemirror_mode": {
        "name": "ipython",
        "version": 3
      },
      "file_extension": ".py",
      "mimetype": "text/x-python",
      "name": "python",
      "nbconvert_exporter": "python",
      "pygments_lexer": "ipython3",
      "version": "3.9.12"
    },
    "colab": {
      "provenance": []
    }
  },
  "nbformat": 4,
  "nbformat_minor": 5
}