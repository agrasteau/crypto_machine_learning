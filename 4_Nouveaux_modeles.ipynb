{
 "cells": [
  {
   "cell_type": "code",
   "execution_count": 1,
   "id": "69e80b58",
   "metadata": {
    "executionInfo": {
     "elapsed": 8043,
     "status": "ok",
     "timestamp": 1730904381648,
     "user": {
      "displayName": "Alexandre GRASTEAU",
      "userId": "14924271205602736035"
     },
     "user_tz": -60
    },
    "id": "69e80b58"
   },
   "outputs": [],
   "source": [
    "import numpy as np\n",
    "import pandas as pd\n",
    "import seaborn as sns\n",
    "import matplotlib.pyplot as plt"
   ]
  },
  {
   "cell_type": "markdown",
   "id": "k9ADuoTEDvyh",
   "metadata": {
    "id": "k9ADuoTEDvyh"
   },
   "source": [
    "# Modèle 'K Nearest Neighbors'"
   ]
  },
  {
   "cell_type": "markdown",
   "id": "Dc_NZa1sEqtP",
   "metadata": {
    "id": "Dc_NZa1sEqtP"
   },
   "source": [
    "## 1. Classification des fleurs d'Iris"
   ]
  },
  {
   "cell_type": "code",
   "execution_count": null,
   "id": "IBrt61VqDu-v",
   "metadata": {
    "colab": {
     "base_uri": "https://localhost:8080/",
     "height": 447
    },
    "executionInfo": {
     "elapsed": 2873,
     "status": "ok",
     "timestamp": 1730904384512,
     "user": {
      "displayName": "Alexandre GRASTEAU",
      "userId": "14924271205602736035"
     },
     "user_tz": -60
    },
    "id": "IBrt61VqDu-v",
    "outputId": "950e5b60-b8de-489c-d0c3-25bf99e2b3f5"
   },
   "outputs": [],
   "source": [
    "from sklearn.datasets import load_iris\n",
    "\n",
    "iris = load_iris()\n",
    "\n",
    "X = iris.data\n",
    "y = iris.target\n",
    "\n",
    "plt.scatter(X[:,2], X[:,3], c = y)"
   ]
  },
  {
   "cell_type": "code",
   "execution_count": null,
   "id": "5GuztCjBE3SJ",
   "metadata": {
    "colab": {
     "base_uri": "https://localhost:8080/",
     "height": 80
    },
    "executionInfo": {
     "elapsed": 1357,
     "status": "ok",
     "timestamp": 1730904385866,
     "user": {
      "displayName": "Alexandre GRASTEAU",
      "userId": "14924271205602736035"
     },
     "user_tz": -60
    },
    "id": "5GuztCjBE3SJ",
    "outputId": "717e336e-3932-4f0f-899d-8b78be56b937"
   },
   "outputs": [],
   "source": [
    "from sklearn.neighbors import KNeighborsClassifier\n",
    "model = KNeighborsClassifier(n_neighbors=3)\n",
    "model.fit(X,y)"
   ]
  },
  {
   "cell_type": "code",
   "execution_count": null,
   "id": "jP9OTrcWG4vL",
   "metadata": {
    "colab": {
     "base_uri": "https://localhost:8080/"
    },
    "executionInfo": {
     "elapsed": 6,
     "status": "ok",
     "timestamp": 1730904385867,
     "user": {
      "displayName": "Alexandre GRASTEAU",
      "userId": "14924271205602736035"
     },
     "user_tz": -60
    },
    "id": "jP9OTrcWG4vL",
    "outputId": "c6d8b5a0-da84-4f08-eb79-648331e7c8bb"
   },
   "outputs": [],
   "source": [
    "model.score(X,y)"
   ]
  },
  {
   "cell_type": "markdown",
   "id": "ec813251",
   "metadata": {
    "id": "ec813251"
   },
   "source": [
    "## 2. Reprise de l'exemple du Titanic"
   ]
  },
  {
   "cell_type": "code",
   "execution_count": null,
   "id": "282b13c1",
   "metadata": {
    "colab": {
     "base_uri": "https://localhost:8080/",
     "height": 0
    },
    "executionInfo": {
     "elapsed": 246,
     "status": "ok",
     "timestamp": 1730904386109,
     "user": {
      "displayName": "Alexandre GRASTEAU",
      "userId": "14924271205602736035"
     },
     "user_tz": -60
    },
    "id": "282b13c1",
    "outputId": "206d13e3-2539-40e8-acde-220c3e90e1a1"
   },
   "outputs": [],
   "source": [
    "titanic = sns.load_dataset(\"titanic\")\n",
    "titanic = titanic.loc[:,['survived','pclass','sex','age']]\n",
    "titanic.dropna(axis = 0, inplace = True)\n",
    "titanic['sex'].replace(['male','female'],[0,1],inplace=True)\n",
    "titanic.head()"
   ]
  },
  {
   "cell_type": "code",
   "execution_count": 6,
   "id": "bc2df7d0",
   "metadata": {
    "executionInfo": {
     "elapsed": 9,
     "status": "ok",
     "timestamp": 1730904386110,
     "user": {
      "displayName": "Alexandre GRASTEAU",
      "userId": "14924271205602736035"
     },
     "user_tz": -60
    },
    "id": "bc2df7d0"
   },
   "outputs": [],
   "source": [
    "# target\n",
    "y = titanic.survived\n",
    "\n",
    "# Features\n",
    "X = titanic.drop('survived', axis = 1).values"
   ]
  },
  {
   "cell_type": "code",
   "execution_count": null,
   "id": "3156cde6",
   "metadata": {
    "colab": {
     "base_uri": "https://localhost:8080/",
     "height": 80
    },
    "executionInfo": {
     "elapsed": 350,
     "status": "ok",
     "timestamp": 1730904386452,
     "user": {
      "displayName": "Alexandre GRASTEAU",
      "userId": "14924271205602736035"
     },
     "user_tz": -60
    },
    "id": "3156cde6",
    "outputId": "c1645b07-60b0-41b1-bb42-5f0299c680ea"
   },
   "outputs": [],
   "source": [
    "model = KNeighborsClassifier(n_neighbors=2)\n",
    "model.fit(X,y)"
   ]
  },
  {
   "cell_type": "code",
   "execution_count": null,
   "id": "EInSLjs8Hjta",
   "metadata": {
    "colab": {
     "base_uri": "https://localhost:8080/"
    },
    "executionInfo": {
     "elapsed": 13,
     "status": "ok",
     "timestamp": 1730904386453,
     "user": {
      "displayName": "Alexandre GRASTEAU",
      "userId": "14924271205602736035"
     },
     "user_tz": -60
    },
    "id": "EInSLjs8Hjta",
    "outputId": "a363a6ee-5338-49c9-8424-75f22132c757"
   },
   "outputs": [],
   "source": [
    "model.score(X,y)"
   ]
  },
  {
   "cell_type": "code",
   "execution_count": 9,
   "id": "05f54e15",
   "metadata": {
    "executionInfo": {
     "elapsed": 8,
     "status": "ok",
     "timestamp": 1730904386453,
     "user": {
      "displayName": "Alexandre GRASTEAU",
      "userId": "14924271205602736035"
     },
     "user_tz": -60
    },
    "id": "05f54e15"
   },
   "outputs": [],
   "source": [
    "def survie(model, pclass, sex, age):\n",
    "    X = np.array([pclass, sex, age]).reshape(1,3)\n",
    "    print(model.predict(X))\n",
    "    print(model.predict_proba(X))"
   ]
  },
  {
   "cell_type": "code",
   "execution_count": null,
   "id": "51521f8f",
   "metadata": {
    "colab": {
     "base_uri": "https://localhost:8080/"
    },
    "executionInfo": {
     "elapsed": 8,
     "status": "ok",
     "timestamp": 1730904386454,
     "user": {
      "displayName": "Alexandre GRASTEAU",
      "userId": "14924271205602736035"
     },
     "user_tz": -60
    },
    "id": "51521f8f",
    "outputId": "8771d7d0-c7cc-45f2-e602-7a338e79fa4c"
   },
   "outputs": [],
   "source": [
    "survie(model, pclass=2, sex=0, age=20)"
   ]
  },
  {
   "cell_type": "code",
   "execution_count": null,
   "id": "cd851f20",
   "metadata": {
    "colab": {
     "base_uri": "https://localhost:8080/",
     "height": 447
    },
    "executionInfo": {
     "elapsed": 6794,
     "status": "ok",
     "timestamp": 1730904393243,
     "user": {
      "displayName": "Alexandre GRASTEAU",
      "userId": "14924271205602736035"
     },
     "user_tz": -60
    },
    "id": "cd851f20",
    "outputId": "f5306903-f904-4925-d823-bf8d3e76a520"
   },
   "outputs": [],
   "source": [
    "scores = []\n",
    "score_max = 0\n",
    "for n in range(1,30,1):\n",
    "    model = KNeighborsClassifier(n_neighbors = n)\n",
    "    model.fit(X, y)\n",
    "    score = model.score(X,y)\n",
    "    scores.append(score)\n",
    "    # print(f\"n = {n} - score = {score}\")\n",
    "    if score > score_max:\n",
    "        score_max = score\n",
    "        n_scoremax = n\n",
    "plt.plot(scores)\n",
    "print(f\"le meilleur score est atteint pour n = {n_scoremax}, il est de {score_max}\")"
   ]
  },
  {
   "cell_type": "code",
   "execution_count": null,
   "id": "_Zg8ihQ0Ixxz",
   "metadata": {
    "colab": {
     "base_uri": "https://localhost:8080/"
    },
    "executionInfo": {
     "elapsed": 22,
     "status": "ok",
     "timestamp": 1730904393244,
     "user": {
      "displayName": "Alexandre GRASTEAU",
      "userId": "14924271205602736035"
     },
     "user_tz": -60
    },
    "id": "_Zg8ihQ0Ixxz",
    "outputId": "d2b64f8d-3f57-4fa2-826d-3a1e567b24dd"
   },
   "outputs": [],
   "source": [
    "model = KNeighborsClassifier(n_neighbors=4)\n",
    "model.fit(X,y)\n",
    "model.score(X,y)"
   ]
  },
  {
   "cell_type": "code",
   "execution_count": null,
   "id": "b9CTlKUgI8K5",
   "metadata": {
    "colab": {
     "base_uri": "https://localhost:8080/"
    },
    "executionInfo": {
     "elapsed": 18,
     "status": "ok",
     "timestamp": 1730904393244,
     "user": {
      "displayName": "Alexandre GRASTEAU",
      "userId": "14924271205602736035"
     },
     "user_tz": -60
    },
    "id": "b9CTlKUgI8K5",
    "outputId": "55b3bfb2-085f-4059-8882-88314e4a071d"
   },
   "outputs": [],
   "source": [
    "survie(model, pclass=1, sex=0, age=20)"
   ]
  },
  {
   "cell_type": "markdown",
   "id": "c1d47cdc",
   "metadata": {
    "id": "c1d47cdc"
   },
   "source": [
    "## 3. Vision par ordinateur avec K-NN"
   ]
  },
  {
   "cell_type": "code",
   "execution_count": 14,
   "id": "d79e10a5",
   "metadata": {
    "executionInfo": {
     "elapsed": 12,
     "status": "ok",
     "timestamp": 1730904393244,
     "user": {
      "displayName": "Alexandre GRASTEAU",
      "userId": "14924271205602736035"
     },
     "user_tz": -60
    },
    "id": "d79e10a5"
   },
   "outputs": [],
   "source": [
    "from sklearn.datasets import load_digits"
   ]
  },
  {
   "cell_type": "code",
   "execution_count": null,
   "id": "2acd91b3",
   "metadata": {
    "colab": {
     "base_uri": "https://localhost:8080/"
    },
    "executionInfo": {
     "elapsed": 11,
     "status": "ok",
     "timestamp": 1730904393244,
     "user": {
      "displayName": "Alexandre GRASTEAU",
      "userId": "14924271205602736035"
     },
     "user_tz": -60
    },
    "id": "2acd91b3",
    "outputId": "d7ff988d-f5c4-467c-f0a9-de970c5e9e56"
   },
   "outputs": [],
   "source": [
    "digits = load_digits()\n",
    "\n",
    "X = digits.data\n",
    "y = digits.target\n",
    "\n",
    "print(\"Dimension de X :\", X.shape)"
   ]
  },
  {
   "cell_type": "code",
   "execution_count": null,
   "id": "2a9f9fcb",
   "metadata": {
    "colab": {
     "base_uri": "https://localhost:8080/"
    },
    "executionInfo": {
     "elapsed": 199,
     "status": "ok",
     "timestamp": 1730904393435,
     "user": {
      "displayName": "Alexandre GRASTEAU",
      "userId": "14924271205602736035"
     },
     "user_tz": -60
    },
    "id": "2a9f9fcb",
    "outputId": "1bb37f3f-79e0-495b-a9dc-06e6c67809f6"
   },
   "outputs": [],
   "source": [
    "print(digits.data)\n",
    "print(digits.target)"
   ]
  },
  {
   "cell_type": "code",
   "execution_count": null,
   "id": "ef2626d9",
   "metadata": {
    "colab": {
     "base_uri": "https://localhost:8080/",
     "height": 447
    },
    "executionInfo": {
     "elapsed": 789,
     "status": "ok",
     "timestamp": 1730904394222,
     "user": {
      "displayName": "Alexandre GRASTEAU",
      "userId": "14924271205602736035"
     },
     "user_tz": -60
    },
    "id": "ef2626d9",
    "outputId": "172bdbf8-8c29-4a7f-d056-82b5b4689ed6"
   },
   "outputs": [],
   "source": [
    "# visualisation d'un de ces chiffres\n",
    "\n",
    "plt.imshow(digits['images'][0], cmap = 'Greys_r')"
   ]
  },
  {
   "cell_type": "code",
   "execution_count": null,
   "id": "e07aa696",
   "metadata": {
    "colab": {
     "base_uri": "https://localhost:8080/"
    },
    "executionInfo": {
     "elapsed": 892,
     "status": "ok",
     "timestamp": 1730904395112,
     "user": {
      "displayName": "Alexandre GRASTEAU",
      "userId": "14924271205602736035"
     },
     "user_tz": -60
    },
    "id": "e07aa696",
    "outputId": "9eb4bccb-2352-427d-e501-318ab9985eee"
   },
   "outputs": [],
   "source": [
    "model = KNeighborsClassifier(n_neighbors=3)\n",
    "model.fit(X,y)\n",
    "model.score(X,y)"
   ]
  },
  {
   "cell_type": "code",
   "execution_count": null,
   "id": "ec3d7431",
   "metadata": {
    "colab": {
     "base_uri": "https://localhost:8080/",
     "height": 447
    },
    "executionInfo": {
     "elapsed": 1501,
     "status": "ok",
     "timestamp": 1730904396609,
     "user": {
      "displayName": "Alexandre GRASTEAU",
      "userId": "14924271205602736035"
     },
     "user_tz": -60
    },
    "id": "ec3d7431",
    "outputId": "233dd33d-711d-4e8e-a4b2-7998caecddfd"
   },
   "outputs": [],
   "source": [
    "# Test du modèle\n",
    "\n",
    "num = 5\n",
    "\n",
    "test = X[num].reshape(1,-1)\n",
    "plt.imshow(digits['images'][num], cmap = 'Greys_r')\n",
    "model.predict(test)"
   ]
  },
  {
   "cell_type": "markdown",
   "id": "A7qux8mMJ18e",
   "metadata": {
    "id": "A7qux8mMJ18e"
   },
   "source": [
    "# 2. Modèle d'arbre de décision (Random tree)"
   ]
  },
  {
   "cell_type": "code",
   "execution_count": null,
   "id": "f4fd0489",
   "metadata": {
    "colab": {
     "base_uri": "https://localhost:8080/",
     "height": 447
    },
    "executionInfo": {
     "elapsed": 960,
     "status": "ok",
     "timestamp": 1730904397565,
     "user": {
      "displayName": "Alexandre GRASTEAU",
      "userId": "14924271205602736035"
     },
     "user_tz": -60
    },
    "id": "f4fd0489",
    "outputId": "a6e2c2a4-1a0a-4f1e-b24a-2b861441dac8"
   },
   "outputs": [],
   "source": [
    "iris = load_iris()\n",
    "\n",
    "X = iris.data\n",
    "y = iris.target\n",
    "\n",
    "plt.scatter(X[:,2], X[:,3], c = y)"
   ]
  },
  {
   "cell_type": "code",
   "execution_count": null,
   "id": "Ha9tLyUmKi6l",
   "metadata": {
    "colab": {
     "base_uri": "https://localhost:8080/"
    },
    "executionInfo": {
     "elapsed": 3,
     "status": "ok",
     "timestamp": 1730904397566,
     "user": {
      "displayName": "Alexandre GRASTEAU",
      "userId": "14924271205602736035"
     },
     "user_tz": -60
    },
    "id": "Ha9tLyUmKi6l",
    "outputId": "fe9cf8d1-2540-43d3-988f-d1c35a164278"
   },
   "outputs": [],
   "source": [
    "from sklearn.tree import DecisionTreeClassifier, plot_tree\n",
    "\n",
    "model = DecisionTreeClassifier()\n",
    "model.fit(X, y)\n",
    "model.score(X, y)"
   ]
  },
  {
   "cell_type": "code",
   "execution_count": null,
   "id": "YITRVafwKsIj",
   "metadata": {
    "colab": {
     "base_uri": "https://localhost:8080/",
     "height": 0
    },
    "executionInfo": {
     "elapsed": 3734,
     "status": "ok",
     "timestamp": 1730904401298,
     "user": {
      "displayName": "Alexandre GRASTEAU",
      "userId": "14924271205602736035"
     },
     "user_tz": -60
    },
    "id": "YITRVafwKsIj",
    "outputId": "a32cfe6e-68b4-495f-a544-7c70708395c5"
   },
   "outputs": [],
   "source": [
    "plt.figure(figsize=(15,15))\n",
    "plot_tree(model, feature_names=iris.feature_names, class_names=iris.target_names, filled=True)\n",
    "plt.show()"
   ]
  },
  {
   "cell_type": "code",
   "execution_count": 23,
   "id": "qVBm6ow-KzOS",
   "metadata": {
    "colab": {
     "base_uri": "https://localhost:8080/"
    },
    "executionInfo": {
     "elapsed": 16,
     "status": "ok",
     "timestamp": 1730904401298,
     "user": {
      "displayName": "Alexandre GRASTEAU",
      "userId": "14924271205602736035"
     },
     "user_tz": -60
    },
    "id": "qVBm6ow-KzOS",
    "outputId": "e00f5865-b4d7-45d6-db56-ee88af7b83e6"
   },
   "outputs": [
    {
     "data": {
      "text/plain": [
       "0.96"
      ]
     },
     "execution_count": 23,
     "metadata": {},
     "output_type": "execute_result"
    }
   ],
   "source": [
    "model = DecisionTreeClassifier(max_depth=2)\n",
    "model.fit(X, y)\n",
    "model.score(X, y)"
   ]
  },
  {
   "cell_type": "code",
   "execution_count": null,
   "id": "YN5VNN25LBwV",
   "metadata": {
    "colab": {
     "base_uri": "https://localhost:8080/",
     "height": 0
    },
    "executionInfo": {
     "elapsed": 1185,
     "status": "ok",
     "timestamp": 1730904402473,
     "user": {
      "displayName": "Alexandre GRASTEAU",
      "userId": "14924271205602736035"
     },
     "user_tz": -60
    },
    "id": "YN5VNN25LBwV",
    "outputId": "9886f34f-aa71-4df0-f3ca-641f971a3a51"
   },
   "outputs": [],
   "source": [
    "plt.figure(figsize=(15,15))\n",
    "plot_tree(model, feature_names=iris.feature_names, class_names=iris.target_names, filled=True)\n",
    "plt.show()"
   ]
  },
  {
   "cell_type": "code",
   "execution_count": null,
   "id": "byDNvzbdLEaR",
   "metadata": {
    "colab": {
     "base_uri": "https://localhost:8080/",
     "height": 0
    },
    "executionInfo": {
     "elapsed": 8,
     "status": "ok",
     "timestamp": 1730904402473,
     "user": {
      "displayName": "Alexandre GRASTEAU",
      "userId": "14924271205602736035"
     },
     "user_tz": -60
    },
    "id": "byDNvzbdLEaR",
    "outputId": "40fb8c33-bb2f-4a73-a3a7-6f81ad9c91e7"
   },
   "outputs": [],
   "source": [
    "titanic = sns.load_dataset(\"titanic\")\n",
    "titanic = titanic.loc[:,['survived','pclass','sex','age']]\n",
    "titanic.dropna(axis = 0, inplace = True)\n",
    "titanic['sex'].replace(['male','female'],[0,1],inplace=True)\n",
    "titanic.head()"
   ]
  },
  {
   "cell_type": "code",
   "execution_count": 26,
   "id": "Jr4bogwqLZkf",
   "metadata": {
    "executionInfo": {
     "elapsed": 204,
     "status": "ok",
     "timestamp": 1730904402672,
     "user": {
      "displayName": "Alexandre GRASTEAU",
      "userId": "14924271205602736035"
     },
     "user_tz": -60
    },
    "id": "Jr4bogwqLZkf"
   },
   "outputs": [],
   "source": [
    "# target\n",
    "y = titanic.survived\n",
    "\n",
    "# Features\n",
    "X = titanic.drop('survived', axis = 1)"
   ]
  },
  {
   "cell_type": "code",
   "execution_count": null,
   "id": "P2VGDEfLLdD_",
   "metadata": {
    "colab": {
     "base_uri": "https://localhost:8080/"
    },
    "executionInfo": {
     "elapsed": 5,
     "status": "ok",
     "timestamp": 1730904402672,
     "user": {
      "displayName": "Alexandre GRASTEAU",
      "userId": "14924271205602736035"
     },
     "user_tz": -60
    },
    "id": "P2VGDEfLLdD_",
    "outputId": "5f6273c2-814c-4714-c03c-55ad1a668e12"
   },
   "outputs": [],
   "source": [
    "model = DecisionTreeClassifier()\n",
    "model.fit(X, y)\n",
    "model.score(X, y)"
   ]
  },
  {
   "cell_type": "code",
   "execution_count": null,
   "id": "Xd5CXIDWLdoj",
   "metadata": {
    "colab": {
     "base_uri": "https://localhost:8080/",
     "height": 0
    },
    "executionInfo": {
     "elapsed": 12435,
     "status": "ok",
     "timestamp": 1730904415105,
     "user": {
      "displayName": "Alexandre GRASTEAU",
      "userId": "14924271205602736035"
     },
     "user_tz": -60
    },
    "id": "Xd5CXIDWLdoj",
    "outputId": "5aff066b-e0f3-412f-bd1d-27757f1dfa98"
   },
   "outputs": [],
   "source": [
    "plt.figure(figsize=(15,15))\n",
    "plot_tree(model, feature_names=X.columns.values, class_names=['Not Survived','Survived'], filled=True)\n",
    "plt.show()"
   ]
  }
 ],
 "metadata": {
  "colab": {
   "provenance": [],
   "toc_visible": true
  },
  "kernelspec": {
   "display_name": "Python 3 (ipykernel)",
   "language": "python",
   "name": "python3"
  },
  "language_info": {
   "codemirror_mode": {
    "name": "ipython",
    "version": 3
   },
   "file_extension": ".py",
   "mimetype": "text/x-python",
   "name": "python",
   "nbconvert_exporter": "python",
   "pygments_lexer": "ipython3",
   "version": "3.9.12"
  }
 },
 "nbformat": 4,
 "nbformat_minor": 5
}
