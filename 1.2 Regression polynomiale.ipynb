{
 "cells": [
  {
   "cell_type": "code",
   "execution_count": 2,
   "id": "fd358d04",
   "metadata": {
    "executionInfo": {
     "elapsed": 7063,
     "status": "ok",
     "timestamp": 1730817227161,
     "user": {
      "displayName": "Alexandre GRASTEAU",
      "userId": "14924271205602736035"
     },
     "user_tz": -60
    },
    "id": "fd358d04"
   },
   "outputs": [],
   "source": [
    "import numpy as np\n",
    "from sklearn.datasets import make_regression\n",
    "import matplotlib.pyplot as plt"
   ]
  },
  {
   "cell_type": "markdown",
   "id": "0d506935",
   "metadata": {
    "id": "0d506935"
   },
   "source": [
    "# Dataset"
   ]
  },
  {
   "cell_type": "code",
   "execution_count": 3,
   "id": "76b43770",
   "metadata": {
    "executionInfo": {
     "elapsed": 2,
     "status": "ok",
     "timestamp": 1730817227161,
     "user": {
      "displayName": "Alexandre GRASTEAU",
      "userId": "14924271205602736035"
     },
     "user_tz": -60
    },
    "id": "76b43770"
   },
   "outputs": [],
   "source": [
    "x, y = make_regression(n_samples = 100, n_features = 1, noise = 10)\n",
    "y = y**2"
   ]
  },
  {
   "cell_type": "code",
   "execution_count": null,
   "id": "0d82d49b",
   "metadata": {
    "colab": {
     "base_uri": "https://localhost:8080/",
     "height": 430
    },
    "executionInfo": {
     "elapsed": 945,
     "status": "ok",
     "timestamp": 1730817228105,
     "user": {
      "displayName": "Alexandre GRASTEAU",
      "userId": "14924271205602736035"
     },
     "user_tz": -60
    },
    "id": "0d82d49b",
    "outputId": "8f4cc3ad-2398-4bc0-bd63-737bbb55b95f"
   },
   "outputs": [],
   "source": [
    "plt.scatter(x,y)\n",
    "plt.show()"
   ]
  },
  {
   "cell_type": "code",
   "execution_count": null,
   "id": "80e2a4f1",
   "metadata": {
    "colab": {
     "base_uri": "https://localhost:8080/"
    },
    "executionInfo": {
     "elapsed": 6,
     "status": "ok",
     "timestamp": 1730817228105,
     "user": {
      "displayName": "Alexandre GRASTEAU",
      "userId": "14924271205602736035"
     },
     "user_tz": -60
    },
    "id": "80e2a4f1",
    "outputId": "8c902d37-78c8-4921-9b79-3ce8c6786e80"
   },
   "outputs": [],
   "source": [
    "print(x.shape)\n",
    "y = y.reshape(y.shape[0],1)\n",
    "print(y.shape)"
   ]
  },
  {
   "cell_type": "code",
   "execution_count": null,
   "id": "c162fef3",
   "metadata": {
    "colab": {
     "base_uri": "https://localhost:8080/"
    },
    "executionInfo": {
     "elapsed": 5,
     "status": "ok",
     "timestamp": 1697202952521,
     "user": {
      "displayName": "Yann Walkowiak",
      "userId": "14217282031611951688"
     },
     "user_tz": -120
    },
    "id": "c162fef3",
    "outputId": "ea2dbd63-7395-4975-dc89-35eb70481549"
   },
   "outputs": [],
   "source": [
    "X = np.hstack((x,np.ones(x.shape)))\n",
    "X = np.hstack((x**2,X))\n",
    "print(X.shape)"
   ]
  },
  {
   "cell_type": "code",
   "execution_count": null,
   "id": "c8afe3f9",
   "metadata": {
    "id": "c8afe3f9"
   },
   "outputs": [],
   "source": [
    "theta = np.random.rand(3,1)"
   ]
  },
  {
   "cell_type": "markdown",
   "id": "0e47db6e",
   "metadata": {
    "id": "0e47db6e"
   },
   "source": [
    "# Modèle"
   ]
  },
  {
   "cell_type": "code",
   "execution_count": null,
   "id": "a8986e82",
   "metadata": {
    "id": "a8986e82"
   },
   "outputs": [],
   "source": [
    "def model(X,theta):\n",
    "    return X.dot(theta)"
   ]
  },
  {
   "cell_type": "code",
   "execution_count": null,
   "id": "57c51793",
   "metadata": {
    "colab": {
     "base_uri": "https://localhost:8080/",
     "height": 430
    },
    "executionInfo": {
     "elapsed": 752,
     "status": "ok",
     "timestamp": 1697202957609,
     "user": {
      "displayName": "Yann Walkowiak",
      "userId": "14217282031611951688"
     },
     "user_tz": -120
    },
    "id": "57c51793",
    "outputId": "3d77e215-6355-4df6-d85f-1960d0fdf244"
   },
   "outputs": [],
   "source": [
    "plt.scatter(x,y)\n",
    "plt.scatter(x,model(X,theta), c='r')\n",
    "plt.show()"
   ]
  },
  {
   "cell_type": "markdown",
   "id": "e64f2375",
   "metadata": {
    "id": "e64f2375"
   },
   "source": [
    "# Fonction coût"
   ]
  },
  {
   "cell_type": "code",
   "execution_count": null,
   "id": "970a6124",
   "metadata": {
    "id": "970a6124"
   },
   "outputs": [],
   "source": [
    "def cost_function(X,y,theta):\n",
    "    m = len(y)\n",
    "    return 1 / (2*m) * np.sum((model(X,theta)-y)**2)"
   ]
  },
  {
   "cell_type": "code",
   "execution_count": null,
   "id": "c3c83ada",
   "metadata": {
    "colab": {
     "base_uri": "https://localhost:8080/"
    },
    "executionInfo": {
     "elapsed": 4,
     "status": "ok",
     "timestamp": 1697202961753,
     "user": {
      "displayName": "Yann Walkowiak",
      "userId": "14217282031611951688"
     },
     "user_tz": -120
    },
    "id": "c3c83ada",
    "outputId": "8232cdf5-4cfa-45b3-9a43-b030562ba58a"
   },
   "outputs": [],
   "source": [
    "cost_function(X,y,theta)"
   ]
  },
  {
   "cell_type": "markdown",
   "id": "c74633b9",
   "metadata": {
    "id": "c74633b9"
   },
   "source": [
    "# Gradients et descente de gradient"
   ]
  },
  {
   "cell_type": "code",
   "execution_count": null,
   "id": "976840d8",
   "metadata": {
    "id": "976840d8"
   },
   "outputs": [],
   "source": [
    "def grad(X,y,theta):\n",
    "    m = len(y)\n",
    "    return 1/m * X.T.dot(model(X,theta)-y)"
   ]
  },
  {
   "cell_type": "code",
   "execution_count": null,
   "id": "2a3a63ff",
   "metadata": {
    "id": "2a3a63ff"
   },
   "outputs": [],
   "source": [
    "def gradient_descent(X,y,theta, learning_rate, n_iterations):\n",
    "    cost_history = np.zeros(n_iterations)\n",
    "    for i in range(0,n_iterations):\n",
    "        theta = theta - learning_rate * grad(X,y,theta)\n",
    "        cost_history[i] = cost_function(X,y,theta)\n",
    "    return theta, cost_history"
   ]
  },
  {
   "cell_type": "markdown",
   "id": "8e2305b5",
   "metadata": {
    "id": "8e2305b5"
   },
   "source": [
    "# Machine learning"
   ]
  },
  {
   "cell_type": "code",
   "execution_count": null,
   "id": "934ee50d",
   "metadata": {
    "id": "934ee50d"
   },
   "outputs": [],
   "source": [
    "theta_final, cost_history = gradient_descent(X,y,theta, 0.01 ,1000)"
   ]
  },
  {
   "cell_type": "code",
   "execution_count": null,
   "id": "1d02232c",
   "metadata": {
    "colab": {
     "base_uri": "https://localhost:8080/",
     "height": 430
    },
    "executionInfo": {
     "elapsed": 2054,
     "status": "ok",
     "timestamp": 1697202992874,
     "user": {
      "displayName": "Yann Walkowiak",
      "userId": "14217282031611951688"
     },
     "user_tz": -120
    },
    "id": "1d02232c",
    "outputId": "fbc4fb47-6b20-4562-d42d-6c8519f90df9"
   },
   "outputs": [],
   "source": [
    "predictions = model(X,theta_final)\n",
    "plt.scatter(x,y)\n",
    "plt.scatter(x,predictions, c='r')\n",
    "plt.show()"
   ]
  },
  {
   "cell_type": "code",
   "execution_count": null,
   "id": "1dd243e1",
   "metadata": {
    "colab": {
     "base_uri": "https://localhost:8080/",
     "height": 445
    },
    "executionInfo": {
     "elapsed": 534,
     "status": "ok",
     "timestamp": 1697202972244,
     "user": {
      "displayName": "Yann Walkowiak",
      "userId": "14217282031611951688"
     },
     "user_tz": -120
    },
    "id": "1dd243e1",
    "outputId": "d90072d3-2b5c-4f92-fdd2-30caee4045a9"
   },
   "outputs": [],
   "source": [
    "plt.plot(range(1000), cost_history)\n",
    "plt.show()"
   ]
  },
  {
   "cell_type": "code",
   "execution_count": null,
   "id": "c196c791",
   "metadata": {
    "id": "c196c791"
   },
   "outputs": [],
   "source": [
    "def coeff_determination(y, pred):\n",
    "    u = ((y-pred)**2).sum()\n",
    "    v = ((y-y.mean())**2).sum()\n",
    "    return 1 - u/v"
   ]
  },
  {
   "cell_type": "code",
   "execution_count": null,
   "id": "6a6ee7bf",
   "metadata": {
    "colab": {
     "base_uri": "https://localhost:8080/"
    },
    "executionInfo": {
     "elapsed": 3,
     "status": "ok",
     "timestamp": 1697202974333,
     "user": {
      "displayName": "Yann Walkowiak",
      "userId": "14217282031611951688"
     },
     "user_tz": -120
    },
    "id": "6a6ee7bf",
    "outputId": "5c1f267c-8742-44eb-a65b-38033b82b53f"
   },
   "outputs": [],
   "source": [
    "coeff_determination(y, predictions)"
   ]
  }
 ],
 "metadata": {
  "colab": {
   "provenance": []
  },
  "kernelspec": {
   "display_name": "Python 3 (ipykernel)",
   "language": "python",
   "name": "python3"
  },
  "language_info": {
   "codemirror_mode": {
    "name": "ipython",
    "version": 3
   },
   "file_extension": ".py",
   "mimetype": "text/x-python",
   "name": "python",
   "nbconvert_exporter": "python",
   "pygments_lexer": "ipython3",
   "version": "3.9.12"
  }
 },
 "nbformat": 4,
 "nbformat_minor": 5
}
