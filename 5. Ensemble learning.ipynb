{
 "cells": [
  {
   "cell_type": "markdown",
   "metadata": {
    "id": "VeSJ0LfQ2-k9"
   },
   "source": [
    "# TP 5. Ensemble Learning\n",
    "\n",
    "> Wisdom of the crowd *(la sagesse de la foule)*\n",
    "\n",
    "\n"
   ]
  },
  {
   "cell_type": "code",
   "execution_count": 14,
   "metadata": {
    "executionInfo": {
     "elapsed": 255,
     "status": "ok",
     "timestamp": 1731517701756,
     "user": {
      "displayName": "Alexandre GRASTEAU",
      "userId": "14924271205602736035"
     },
     "user_tz": -60
    },
    "id": "q3vChKVTKVq6"
   },
   "outputs": [],
   "source": [
    "import pandas as pd\n",
    "from sklearn.ensemble import RandomForestClassifier\n"
   ]
  },
  {
   "cell_type": "code",
   "execution_count": null,
   "metadata": {
    "colab": {
     "base_uri": "https://localhost:8080/",
     "height": 241
    },
    "executionInfo": {
     "elapsed": 232,
     "status": "ok",
     "timestamp": 1731517702203,
     "user": {
      "displayName": "Alexandre GRASTEAU",
      "userId": "14924271205602736035"
     },
     "user_tz": -60
    },
    "id": "KyE7vOc4sx1s",
    "outputId": "d893c880-5d98-4611-ec3b-3e82e0faa713"
   },
   "outputs": [],
   "source": [
    "df = pd.read_csv(\"wine_quality.csv\", sep=\",\")\n",
    "df.head()"
   ]
  },
  {
   "cell_type": "code",
   "execution_count": 16,
   "metadata": {
    "executionInfo": {
     "elapsed": 7,
     "status": "ok",
     "timestamp": 1731517702204,
     "user": {
      "displayName": "Alexandre GRASTEAU",
      "userId": "14924271205602736035"
     },
     "user_tz": -60
    },
    "id": "2RFDfUuzs-uu"
   },
   "outputs": [],
   "source": [
    "# target\n",
    "y = df.quality\n",
    "\n",
    "# Features\n",
    "X = df.drop(['quality','Id'], axis = 1).values"
   ]
  },
  {
   "cell_type": "code",
   "execution_count": 17,
   "metadata": {
    "executionInfo": {
     "elapsed": 6,
     "status": "ok",
     "timestamp": 1731517702204,
     "user": {
      "displayName": "Alexandre GRASTEAU",
      "userId": "14924271205602736035"
     },
     "user_tz": -60
    },
    "id": "DESV_LMEQC2t"
   },
   "outputs": [],
   "source": [
    "# Création des sous-ensembles d'entraînement et de test\n",
    "\n",
    "from sklearn.model_selection import train_test_split\n",
    "\n",
    "X_train, X_test, y_train, y_test = train_test_split(X, y, test_size=0.2, random_state=0)"
   ]
  },
  {
   "cell_type": "markdown",
   "metadata": {
    "id": "cn3leX_r22k6"
   },
   "source": [
    "## Résultats obtenus par les différents modèles que nous avons vus"
   ]
  },
  {
   "cell_type": "code",
   "execution_count": 18,
   "metadata": {
    "executionInfo": {
     "elapsed": 5,
     "status": "ok",
     "timestamp": 1731517702204,
     "user": {
      "displayName": "Alexandre GRASTEAU",
      "userId": "14924271205602736035"
     },
     "user_tz": -60
    },
    "id": "_ZIaTVG6K5T2"
   },
   "outputs": [],
   "source": [
    "from sklearn.linear_model import LogisticRegression\n",
    "from sklearn.tree import DecisionTreeClassifier\n",
    "from sklearn.neighbors import KNeighborsClassifier"
   ]
  },
  {
   "cell_type": "code",
   "execution_count": null,
   "metadata": {
    "colab": {
     "base_uri": "https://localhost:8080/"
    },
    "executionInfo": {
     "elapsed": 5765,
     "status": "ok",
     "timestamp": 1731517707964,
     "user": {
      "displayName": "Alexandre GRASTEAU",
      "userId": "14924271205602736035"
     },
     "user_tz": -60
    },
    "id": "M3nmZVNKK_gI",
    "outputId": "5a7d8a53-4d09-42a8-ea02-f47fa22be100"
   },
   "outputs": [],
   "source": [
    "model_1 = LogisticRegression(max_iter=10000)\n",
    "model_2 = KNeighborsClassifier(n_neighbors=2)\n",
    "model_3 = DecisionTreeClassifier(max_depth=5)\n",
    "\n",
    "\n",
    "for model in (model_1, model_2, model_3):\n",
    "    model.fit(X_train, y_train)\n",
    "    print(model.__class__.__name__, model.score(X_test, y_test))"
   ]
  },
  {
   "cell_type": "markdown",
   "metadata": {
    "id": "j-Md4fDR4WFz"
   },
   "source": [
    "## Voting Classifier\n",
    "\n",
    "L'idée est de faire tourner plusieurs modèles en parallèle, puis de comparer leurs prédictions et de conserver celle qui est majoritaire."
   ]
  },
  {
   "cell_type": "markdown",
   "metadata": {
    "id": "9h6VBzyc4api"
   },
   "source": [
    "### Vote hard\n",
    "\n",
    "\n",
    "> Si 2 modèles prédisent une qualité de 5, et le 3ème modèle une probabilité de 6 alors la majorité l'emporte et la prédiction est de 5\n",
    "\n"
   ]
  },
  {
   "cell_type": "code",
   "execution_count": null,
   "metadata": {
    "colab": {
     "base_uri": "https://localhost:8080/"
    },
    "executionInfo": {
     "elapsed": 3080,
     "status": "ok",
     "timestamp": 1731517711042,
     "user": {
      "displayName": "Alexandre GRASTEAU",
      "userId": "14924271205602736035"
     },
     "user_tz": -60
    },
    "id": "z5QygOvd3QCh",
    "outputId": "b057e761-0bc5-45ad-ff38-797fd7da0c75"
   },
   "outputs": [],
   "source": [
    "from sklearn.ensemble import VotingClassifier\n",
    "model = VotingClassifier([('Logistic', model_1),\n",
    "                            ('KNN', model_2),\n",
    "                            ('Tree', model_3)],\n",
    "                          voting='hard')\n",
    "model.fit(X_train, y_train)\n",
    "print(model.__class__.__name__, model.score(X_test, y_test))"
   ]
  },
  {
   "cell_type": "markdown",
   "metadata": {
    "id": "a8Lo-EWz4d2V"
   },
   "source": [
    "### Vote soft\n",
    "\n",
    "\n",
    "> Cette fois, on fait la moyenne des probabilités pour décider du résultat du vote. Par exemple :\n",
    "\n",
    "*   model_1 prédit une qualité de 5 avec une probabilité de 0,51 et une qualité de 6 avec une probabilité de 0,49\n",
    "*   model_2 prédit une qualité de 5 avec une probabilité de 0,55 et une qualité de 6 avec une probabilité de 0,45\n",
    "*   model_3 prédit une qualité de 5 avec une probabilité de 0,35 et une qualité de 6 avec une probabilité de 0,65\n",
    "\n",
    "alors la prédiction sera de (0,51+0,55+0,35)/3 = 0,47 pour la qualité de 5 et de (0,49+0,45+0,65)/3 = 0,53 pour la qualité de 6 => le modèle prévoit la qualité 6"
   ]
  },
  {
   "cell_type": "code",
   "execution_count": null,
   "metadata": {
    "colab": {
     "base_uri": "https://localhost:8080/"
    },
    "executionInfo": {
     "elapsed": 3112,
     "status": "ok",
     "timestamp": 1731517714152,
     "user": {
      "displayName": "Alexandre GRASTEAU",
      "userId": "14924271205602736035"
     },
     "user_tz": -60
    },
    "id": "U8yeGiwV3QE-",
    "outputId": "b0e077af-32f5-475d-ef88-0940d3428d9a"
   },
   "outputs": [],
   "source": [
    "from sklearn.ensemble import VotingClassifier\n",
    "model = VotingClassifier([('Logistic', model_1),\n",
    "                            ('KNN', model_2),\n",
    "                            ('Tree', model_3)],\n",
    "                          voting='soft')\n",
    "model.fit(X_train, y_train)\n",
    "print(model.__class__.__name__, model.score(X_test, y_test))"
   ]
  },
  {
   "cell_type": "markdown",
   "metadata": {
    "id": "SVQ-l6Es4hwz"
   },
   "source": [
    "## Bagging\n",
    "\n",
    "\n",
    "> Cette fois-ci, c'est 1 seul type de modèle qui est choisi mais il est exécuté sur plusieurs sous-ensembles aléatoires du dataset, puis le résultat majoritaire est conservé.\n",
    "\n"
   ]
  },
  {
   "cell_type": "markdown",
   "metadata": {
    "id": "py9NrDF7BKbr"
   },
   "source": [
    "### Bagging Classifier"
   ]
  },
  {
   "cell_type": "code",
   "execution_count": 22,
   "metadata": {
    "executionInfo": {
     "elapsed": 3,
     "status": "ok",
     "timestamp": 1731517714152,
     "user": {
      "displayName": "Alexandre GRASTEAU",
      "userId": "14924271205602736035"
     },
     "user_tz": -60
    },
    "id": "CxXbCi0ZLMh1"
   },
   "outputs": [],
   "source": [
    "from sklearn.ensemble import BaggingClassifier"
   ]
  },
  {
   "cell_type": "code",
   "execution_count": null,
   "metadata": {
    "colab": {
     "base_uri": "https://localhost:8080/"
    },
    "executionInfo": {
     "elapsed": 231,
     "status": "ok",
     "timestamp": 1731517714380,
     "user": {
      "displayName": "Alexandre GRASTEAU",
      "userId": "14924271205602736035"
     },
     "user_tz": -60
    },
    "id": "kBLIVc0cLqus",
    "outputId": "2cb86d82-4344-464e-edc7-2e0a03f8b44e"
   },
   "outputs": [],
   "source": [
    "model = BaggingClassifier(estimator=KNeighborsClassifier(),\n",
    "                         n_estimators=100)\n",
    "\n",
    "model.fit(X_train, y_train)\n",
    "model.score(X_test, y_test)"
   ]
  },
  {
   "cell_type": "markdown",
   "metadata": {
    "id": "aMKz_2nD8LzM"
   },
   "source": [
    "### Random Forest\n",
    "\n",
    "\n",
    "> C'est du bagging, mais avec un arbre de décision comme modèle de base\n",
    "\n"
   ]
  },
  {
   "cell_type": "code",
   "execution_count": null,
   "metadata": {
    "colab": {
     "base_uri": "https://localhost:8080/"
    },
    "executionInfo": {
     "elapsed": 508,
     "status": "ok",
     "timestamp": 1731517714886,
     "user": {
      "displayName": "Alexandre GRASTEAU",
      "userId": "14924271205602736035"
     },
     "user_tz": -60
    },
    "id": "rY5taz1rLwSQ",
    "outputId": "d997ddb8-44e8-48be-bf16-c63e92c08034"
   },
   "outputs": [],
   "source": [
    "model = RandomForestClassifier(n_estimators=100)\n",
    "\n",
    "model.fit(X_train, y_train)\n",
    "model.score(X_test, y_test)"
   ]
  },
  {
   "cell_type": "markdown",
   "metadata": {
    "id": "yjVAqZDi8gZL"
   },
   "source": [
    "## Boosting\n",
    "\n",
    "> Le Boosting consiste à enchaîner plusieurs modèles à la suite, chaque modèle essayant de corriger les faiblesses / erreurs des précédents. Il existe plusieurs algorithmes différents.\n",
    "\n"
   ]
  },
  {
   "cell_type": "markdown",
   "metadata": {
    "id": "YQKIg-Cg9KZW"
   },
   "source": [
    "### AdaBoost"
   ]
  },
  {
   "cell_type": "code",
   "execution_count": 25,
   "metadata": {
    "executionInfo": {
     "elapsed": 2,
     "status": "ok",
     "timestamp": 1731517714887,
     "user": {
      "displayName": "Alexandre GRASTEAU",
      "userId": "14924271205602736035"
     },
     "user_tz": -60
    },
    "id": "RoDgn_-AL9Kl"
   },
   "outputs": [],
   "source": [
    "from sklearn.ensemble import AdaBoostClassifier"
   ]
  },
  {
   "cell_type": "code",
   "execution_count": null,
   "metadata": {
    "colab": {
     "base_uri": "https://localhost:8080/"
    },
    "executionInfo": {
     "elapsed": 320,
     "status": "ok",
     "timestamp": 1731517715204,
     "user": {
      "displayName": "Alexandre GRASTEAU",
      "userId": "14924271205602736035"
     },
     "user_tz": -60
    },
    "id": "z6_mfurHMNxC",
    "outputId": "0cb159be-b013-41c3-abf8-e3ffd8b238a0"
   },
   "outputs": [],
   "source": [
    "model = AdaBoostClassifier(n_estimators=100, algorithm='SAMME')\n",
    "model.fit(X_train, y_train)\n",
    "model.score(X_test, y_test)"
   ]
  },
  {
   "cell_type": "markdown",
   "metadata": {
    "id": "8bg-vHOO9NJt"
   },
   "source": [
    "### GradientBoost"
   ]
  },
  {
   "cell_type": "code",
   "execution_count": null,
   "metadata": {
    "colab": {
     "base_uri": "https://localhost:8080/"
    },
    "executionInfo": {
     "elapsed": 1739,
     "status": "ok",
     "timestamp": 1731517716942,
     "user": {
      "displayName": "Alexandre GRASTEAU",
      "userId": "14924271205602736035"
     },
     "user_tz": -60
    },
    "id": "dICVaofd9C48",
    "outputId": "b7ef79b4-661a-44fc-eca7-be7956824b47"
   },
   "outputs": [],
   "source": [
    "from sklearn.ensemble import GradientBoostingClassifier\n",
    "\n",
    "model = GradientBoostingClassifier(n_estimators=100)\n",
    "model.fit(X_train, y_train)\n",
    "model.score(X_test, y_test)"
   ]
  },
  {
   "cell_type": "markdown",
   "metadata": {
    "id": "d4VkBvuU9oLF"
   },
   "source": [
    "### Histogram Based GradientBoosting\n",
    "\n"
   ]
  },
  {
   "cell_type": "code",
   "execution_count": null,
   "metadata": {
    "colab": {
     "base_uri": "https://localhost:8080/"
    },
    "executionInfo": {
     "elapsed": 2062,
     "status": "ok",
     "timestamp": 1731517719001,
     "user": {
      "displayName": "Alexandre GRASTEAU",
      "userId": "14924271205602736035"
     },
     "user_tz": -60
    },
    "id": "8p20VkHY9ohH",
    "outputId": "9bc3dbff-fa0a-4460-88c7-68aa83e3a4b7"
   },
   "outputs": [],
   "source": [
    "from sklearn.ensemble import HistGradientBoostingClassifier\n",
    "\n",
    "model = HistGradientBoostingClassifier(max_iter=100)\n",
    "model.fit(X_train, y_train)\n",
    "model.score(X_test, y_test)"
   ]
  },
  {
   "cell_type": "markdown",
   "metadata": {
    "id": "T1_kgyNI8kug"
   },
   "source": [
    "## Stacking\n",
    "\n",
    "> Le stacking consiste à faire tourner différents modèles en parallèle, puis à utiliser un dernier modèle pour faire le choix de la prédiction à conserver.\n",
    "\n"
   ]
  },
  {
   "cell_type": "code",
   "execution_count": null,
   "metadata": {
    "colab": {
     "base_uri": "https://localhost:8080/"
    },
    "executionInfo": {
     "elapsed": 17177,
     "status": "ok",
     "timestamp": 1731517736175,
     "user": {
      "displayName": "Alexandre GRASTEAU",
      "userId": "14924271205602736035"
     },
     "user_tz": -60
    },
    "id": "cxNrB0fAMSa6",
    "outputId": "d941ece7-afb2-456c-dfb0-efcb65d3c135"
   },
   "outputs": [],
   "source": [
    "from sklearn.ensemble import StackingClassifier\n",
    "\n",
    "model_1 = LogisticRegression(max_iter=100000)\n",
    "model_2 = KNeighborsClassifier(n_neighbors=2)\n",
    "model_3 = DecisionTreeClassifier(max_depth=2)\n",
    "\n",
    "final_model = LogisticRegression(max_iter=10000)\n",
    "\n",
    "model = StackingClassifier(estimators=[('Logistic', model_1),\n",
    "                            ('KNN', model_2),\n",
    "                            ('Tree', model_3)],\n",
    "                          final_estimator=final_model)\n",
    "model.fit(X_train, y_train)\n",
    "print(model.__class__.__name__, model.score(X_test, y_test))"
   ]
  }
 ],
 "metadata": {
  "colab": {
   "provenance": []
  },
  "kernelspec": {
   "display_name": "Python 3",
   "name": "python3"
  },
  "language_info": {
   "name": "python"
  }
 },
 "nbformat": 4,
 "nbformat_minor": 0
}
