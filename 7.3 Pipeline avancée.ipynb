{
 "cells": [
  {
   "cell_type": "code",
   "execution_count": null,
   "id": "a6dbeff7",
   "metadata": {
    "id": "a6dbeff7"
   },
   "outputs": [],
   "source": [
    "import numpy as np\n",
    "import matplotlib.pyplot as plt\n",
    "from sklearn.pipeline import make_pipeline\n",
    "from sklearn.preprocessing import StandardScaler\n",
    "from sklearn.linear_model import SGDClassifier\n",
    "import seaborn as sns"
   ]
  },
  {
   "cell_type": "markdown",
   "id": "c60a876e",
   "metadata": {
    "id": "c60a876e"
   },
   "source": [
    "# 1. make_column_transformer"
   ]
  },
  {
   "cell_type": "code",
   "execution_count": null,
   "id": "2b77b621",
   "metadata": {
    "id": "2b77b621"
   },
   "outputs": [],
   "source": [
    "titanic = sns.load_dataset('titanic')\n",
    "titanic.head()"
   ]
  },
  {
   "cell_type": "code",
   "execution_count": null,
   "id": "15SaOSwnoc8C",
   "metadata": {
    "id": "15SaOSwnoc8C"
   },
   "outputs": [],
   "source": [
    "titanic.alone = titanic.alone.replace({True: 'True', False: 'False'})\n",
    "titanic.adult_male = titanic.adult_male.replace({True: 'True', False: 'False'})\n",
    "titanic.drop(['alive'], axis=1, inplace=True)"
   ]
  },
  {
   "cell_type": "code",
   "execution_count": null,
   "id": "2f747f00",
   "metadata": {
    "id": "2f747f00"
   },
   "outputs": [],
   "source": [
    "y = titanic.survived\n",
    "X = titanic.drop('survived', axis = 1)"
   ]
  },
  {
   "cell_type": "code",
   "execution_count": null,
   "id": "uqDw_er74hvJ",
   "metadata": {
    "id": "uqDw_er74hvJ"
   },
   "outputs": [],
   "source": [
    "from sklearn.model_selection import train_test_split\n",
    "\n",
    "X_train, X_test, y_train, y_test = train_test_split(X,y,random_state=0)"
   ]
  },
  {
   "cell_type": "code",
   "execution_count": null,
   "id": "b36193f3",
   "metadata": {
    "id": "b36193f3"
   },
   "outputs": [],
   "source": [
    "numerical_features = ['pclass', 'age', 'fare']\n",
    "categorical_features = ['sex', 'deck','alone']"
   ]
  },
  {
   "cell_type": "code",
   "execution_count": null,
   "id": "c9ddf451",
   "metadata": {
    "id": "c9ddf451"
   },
   "outputs": [],
   "source": [
    "from sklearn.compose import make_column_transformer\n",
    "from sklearn.impute import SimpleImputer\n",
    "from sklearn.impute import KNNImputer\n",
    "from sklearn.preprocessing import OneHotEncoder"
   ]
  },
  {
   "cell_type": "code",
   "execution_count": null,
   "id": "ebf7abc2",
   "metadata": {
    "id": "ebf7abc2"
   },
   "outputs": [],
   "source": [
    "numerical_pipeline = make_pipeline(SimpleImputer(),\n",
    "                                   StandardScaler())\n",
    "categorical_pipeline = make_pipeline(SimpleImputer(strategy='most_frequent'),\n",
    "                                     OneHotEncoder())"
   ]
  },
  {
   "cell_type": "code",
   "execution_count": null,
   "id": "c1e1a766",
   "metadata": {
    "id": "c1e1a766"
   },
   "outputs": [],
   "source": [
    " preprocessor = make_column_transformer((numerical_pipeline,numerical_features),\n",
    "                                     (categorical_pipeline,categorical_features))"
   ]
  },
  {
   "cell_type": "code",
   "execution_count": null,
   "id": "97f50cb9",
   "metadata": {
    "id": "97f50cb9"
   },
   "outputs": [],
   "source": [
    "model = make_pipeline(preprocessor, SGDClassifier())"
   ]
  },
  {
   "cell_type": "code",
   "execution_count": null,
   "id": "b3ebee3f",
   "metadata": {
    "id": "b3ebee3f"
   },
   "outputs": [],
   "source": [
    "model.fit(X_train,y_train)"
   ]
  },
  {
   "cell_type": "code",
   "execution_count": null,
   "id": "zzEM1ymMpzau",
   "metadata": {
    "id": "zzEM1ymMpzau"
   },
   "outputs": [],
   "source": [
    "model.score(X_test,y_test)"
   ]
  },
  {
   "cell_type": "markdown",
   "id": "qXrO-uR4qJNV",
   "metadata": {
    "id": "qXrO-uR4qJNV"
   },
   "source": [
    "# 2. make_column_selector"
   ]
  },
  {
   "cell_type": "markdown",
   "id": "TgkPter5w0U0",
   "metadata": {
    "id": "TgkPter5w0U0"
   },
   "source": [
    "Permet de sélectionner des colonnes selon leur type. Peut-être pratique pour séparer les variables quantitatives et les variables qualitatives."
   ]
  },
  {
   "cell_type": "code",
   "execution_count": null,
   "id": "51b7BuK_qa2P",
   "metadata": {
    "id": "51b7BuK_qa2P"
   },
   "outputs": [],
   "source": [
    "from sklearn.compose import make_column_selector"
   ]
  },
  {
   "cell_type": "code",
   "execution_count": null,
   "id": "ZsWa6ZPKqHEv",
   "metadata": {
    "id": "ZsWa6ZPKqHEv"
   },
   "outputs": [],
   "source": [
    "numerical_features = make_column_selector(dtype_include=np.number)\n",
    "categorical_features = make_column_selector(dtype_exclude=np.number)"
   ]
  },
  {
   "cell_type": "code",
   "execution_count": null,
   "id": "U6Bn89ttqHHG",
   "metadata": {
    "id": "U6Bn89ttqHHG"
   },
   "outputs": [],
   "source": [
    "numerical_pipeline = make_pipeline(SimpleImputer(),\n",
    "                                   StandardScaler())\n",
    "categorical_pipeline = make_pipeline(SimpleImputer(strategy='most_frequent'),\n",
    "                                     OneHotEncoder())"
   ]
  },
  {
   "cell_type": "code",
   "execution_count": null,
   "id": "PtFMpoVfqHJd",
   "metadata": {
    "id": "PtFMpoVfqHJd"
   },
   "outputs": [],
   "source": [
    "preprocessor = make_column_transformer((numerical_pipeline,numerical_features),\n",
    "                                     (categorical_pipeline,categorical_features))"
   ]
  },
  {
   "cell_type": "code",
   "execution_count": null,
   "id": "wfIPjxpiqHLz",
   "metadata": {
    "id": "wfIPjxpiqHLz"
   },
   "outputs": [],
   "source": [
    "model = make_pipeline(preprocessor, SGDClassifier())"
   ]
  },
  {
   "cell_type": "code",
   "execution_count": null,
   "id": "4S9_gQiSqHOl",
   "metadata": {
    "id": "4S9_gQiSqHOl"
   },
   "outputs": [],
   "source": [
    "model.fit(X_train,y_train)"
   ]
  },
  {
   "cell_type": "code",
   "execution_count": null,
   "id": "aSbQIrjQqHQv",
   "metadata": {
    "id": "aSbQIrjQqHQv"
   },
   "outputs": [],
   "source": [
    "model.score(X_test,y_test)"
   ]
  }
 ],
 "metadata": {
  "colab": {
   "provenance": []
  },
  "kernelspec": {
   "display_name": "Python 3 (ipykernel)",
   "language": "python",
   "name": "python3"
  },
  "language_info": {
   "codemirror_mode": {
    "name": "ipython",
    "version": 3
   },
   "file_extension": ".py",
   "mimetype": "text/x-python",
   "name": "python",
   "nbconvert_exporter": "python",
   "pygments_lexer": "ipython3",
   "version": "3.9.12"
  }
 },
 "nbformat": 4,
 "nbformat_minor": 5
}
