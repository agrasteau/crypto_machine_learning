{
 "cells": [
  {
   "cell_type": "code",
   "execution_count": 38,
   "id": "cce9e089",
   "metadata": {
    "executionInfo": {
     "elapsed": 341,
     "status": "ok",
     "timestamp": 1733988714469,
     "user": {
      "displayName": "Alexandre GRASTEAU",
      "userId": "14924271205602736035"
     },
     "user_tz": -60
    },
    "id": "cce9e089"
   },
   "outputs": [],
   "source": [
    "import numpy as np\n",
    "import matplotlib.pyplot as plt\n",
    "from sklearn.datasets import load_iris"
   ]
  },
  {
   "cell_type": "code",
   "execution_count": 39,
   "id": "711487f4",
   "metadata": {
    "executionInfo": {
     "elapsed": 4,
     "status": "ok",
     "timestamp": 1733988714754,
     "user": {
      "displayName": "Alexandre GRASTEAU",
      "userId": "14924271205602736035"
     },
     "user_tz": -60
    },
    "id": "711487f4"
   },
   "outputs": [],
   "source": [
    "iris = load_iris()"
   ]
  },
  {
   "cell_type": "code",
   "execution_count": 40,
   "id": "68bec530",
   "metadata": {
    "executionInfo": {
     "elapsed": 3,
     "status": "ok",
     "timestamp": 1733988714754,
     "user": {
      "displayName": "Alexandre GRASTEAU",
      "userId": "14924271205602736035"
     },
     "user_tz": -60
    },
    "id": "68bec530"
   },
   "outputs": [],
   "source": [
    "X = iris.data\n",
    "y = iris.target"
   ]
  },
  {
   "cell_type": "code",
   "execution_count": null,
   "id": "f3ae2861",
   "metadata": {
    "colab": {
     "base_uri": "https://localhost:8080/"
    },
    "executionInfo": {
     "elapsed": 400,
     "status": "ok",
     "timestamp": 1733988715151,
     "user": {
      "displayName": "Alexandre GRASTEAU",
      "userId": "14924271205602736035"
     },
     "user_tz": -60
    },
    "id": "f3ae2861",
    "outputId": "418a0767-b53d-41de-d988-f625ecb4674f"
   },
   "outputs": [],
   "source": [
    "plt.scatter(X[:,0], X[:,1], c = y, alpha = 0.8)"
   ]
  },
  {
   "cell_type": "markdown",
   "id": "9096aabd",
   "metadata": {
    "id": "9096aabd"
   },
   "source": [
    "# 1. Train Test Split"
   ]
  },
  {
   "cell_type": "code",
   "execution_count": 42,
   "id": "976409a3",
   "metadata": {
    "executionInfo": {
     "elapsed": 6,
     "status": "ok",
     "timestamp": 1733988715151,
     "user": {
      "displayName": "Alexandre GRASTEAU",
      "userId": "14924271205602736035"
     },
     "user_tz": -60
    },
    "id": "976409a3"
   },
   "outputs": [],
   "source": [
    "from sklearn.model_selection import train_test_split"
   ]
  },
  {
   "cell_type": "code",
   "execution_count": 43,
   "id": "f01d1323",
   "metadata": {
    "executionInfo": {
     "elapsed": 6,
     "status": "ok",
     "timestamp": 1733988715151,
     "user": {
      "displayName": "Alexandre GRASTEAU",
      "userId": "14924271205602736035"
     },
     "user_tz": -60
    },
    "id": "f01d1323"
   },
   "outputs": [],
   "source": [
    "X_train, X_test, y_train, y_test = train_test_split(X,y,test_size = 0.2, random_state = 5)"
   ]
  },
  {
   "cell_type": "code",
   "execution_count": 44,
   "id": "17679c0e",
   "metadata": {
    "colab": {
     "base_uri": "https://localhost:8080/"
    },
    "executionInfo": {
     "elapsed": 5,
     "status": "ok",
     "timestamp": 1733988715151,
     "user": {
      "displayName": "Alexandre GRASTEAU",
      "userId": "14924271205602736035"
     },
     "user_tz": -60
    },
    "id": "17679c0e",
    "outputId": "da579db7-4093-42ee-9b54-992dff77b8f0"
   },
   "outputs": [
    {
     "name": "stdout",
     "output_type": "stream",
     "text": [
      "Train set (120, 4)\n",
      "Test set (30, 4)\n"
     ]
    }
   ],
   "source": [
    "print('Train set', X_train.shape)\n",
    "print('Test set', X_test.shape)"
   ]
  },
  {
   "cell_type": "code",
   "execution_count": null,
   "id": "3dc2e9cf",
   "metadata": {
    "colab": {
     "base_uri": "https://localhost:8080/"
    },
    "executionInfo": {
     "elapsed": 997,
     "status": "ok",
     "timestamp": 1733988716145,
     "user": {
      "displayName": "Alexandre GRASTEAU",
      "userId": "14924271205602736035"
     },
     "user_tz": -60
    },
    "id": "3dc2e9cf",
    "outputId": "235b3eb0-ba37-472f-9921-e87a5fe4ab16"
   },
   "outputs": [],
   "source": [
    "plt.figure(figsize = (12,4))\n",
    "plt.subplot(121)\n",
    "plt.scatter(X_train[:,0], X_train[:,1], c = y_train)\n",
    "plt.title('Train set')\n",
    "plt.subplot(122)\n",
    "plt.scatter(X_test[:,0], X_test[:,1], c = y_test)\n",
    "plt.title('Test set')"
   ]
  },
  {
   "cell_type": "code",
   "execution_count": 46,
   "id": "4fcd4318",
   "metadata": {
    "executionInfo": {
     "elapsed": 11,
     "status": "ok",
     "timestamp": 1733988716145,
     "user": {
      "displayName": "Alexandre GRASTEAU",
      "userId": "14924271205602736035"
     },
     "user_tz": -60
    },
    "id": "4fcd4318"
   },
   "outputs": [],
   "source": [
    "from sklearn.neighbors import KNeighborsClassifier"
   ]
  },
  {
   "cell_type": "code",
   "execution_count": null,
   "id": "HoaW-bmnX_-k",
   "metadata": {
    "colab": {
     "base_uri": "https://localhost:8080/"
    },
    "executionInfo": {
     "elapsed": 11,
     "status": "ok",
     "timestamp": 1733988716146,
     "user": {
      "displayName": "Alexandre GRASTEAU",
      "userId": "14924271205602736035"
     },
     "user_tz": -60
    },
    "id": "HoaW-bmnX_-k",
    "outputId": "d2b5f6d7-ee23-4cb9-caef-1a5107fba28a"
   },
   "outputs": [],
   "source": [
    "model = KNeighborsClassifier(n_neighbors=1)\n",
    "model.fit(X_train, y_train)\n",
    "print('train score :',model.score(X_train ,y_train))"
   ]
  },
  {
   "cell_type": "code",
   "execution_count": null,
   "id": "9db7086f",
   "metadata": {
    "colab": {
     "base_uri": "https://localhost:8080/"
    },
    "executionInfo": {
     "elapsed": 9,
     "status": "ok",
     "timestamp": 1733988716146,
     "user": {
      "displayName": "Alexandre GRASTEAU",
      "userId": "14924271205602736035"
     },
     "user_tz": -60
    },
    "id": "9db7086f",
    "outputId": "50d79cfb-b4ed-44c3-9925-e7a7807e00b7"
   },
   "outputs": [],
   "source": [
    "print('test score :',model.score(X_test ,y_test))"
   ]
  },
  {
   "cell_type": "code",
   "execution_count": null,
   "id": "DzcZHRDOX4MS",
   "metadata": {
    "colab": {
     "base_uri": "https://localhost:8080/"
    },
    "executionInfo": {
     "elapsed": 8,
     "status": "ok",
     "timestamp": 1733988716146,
     "user": {
      "displayName": "Alexandre GRASTEAU",
      "userId": "14924271205602736035"
     },
     "user_tz": -60
    },
    "id": "DzcZHRDOX4MS",
    "outputId": "c2b30b81-f349-421c-84c7-17ce5b266acf"
   },
   "outputs": [],
   "source": [
    "model = KNeighborsClassifier(n_neighbors=5)\n",
    "model.fit(X_train, y_train)\n",
    "print('test score :',model.score(X_test ,y_test))"
   ]
  },
  {
   "cell_type": "code",
   "execution_count": null,
   "id": "NVRJ84rbX4c7",
   "metadata": {
    "colab": {
     "base_uri": "https://localhost:8080/"
    },
    "executionInfo": {
     "elapsed": 7,
     "status": "ok",
     "timestamp": 1733988716146,
     "user": {
      "displayName": "Alexandre GRASTEAU",
      "userId": "14924271205602736035"
     },
     "user_tz": -60
    },
    "id": "NVRJ84rbX4c7",
    "outputId": "16ef2c23-f7dc-4555-dc16-3a762fffc08d"
   },
   "outputs": [],
   "source": [
    "model = KNeighborsClassifier(n_neighbors=6)\n",
    "model.fit(X_train, y_train)\n",
    "print('test score :',model.score(X_test ,y_test))"
   ]
  },
  {
   "cell_type": "markdown",
   "id": "vZ6EnVmAYOW9",
   "metadata": {
    "id": "vZ6EnVmAYOW9"
   },
   "source": [
    "### 2 problèmes :\n",
    "1. Si on utilise le test_set pour choisir le meilleur modèle, alors il ne peut plus servir à évaluer le modèle => il faut découper le train_set en 2 : train_set et validation_set, ce dernier servant à sélectionner le meilleur modèle (et les meilleurs hyper-paramètres), puis on évalue ce modèle sur le test_set\n",
    "1. La sélection du modèle dépend alors du découpage train_set/validation_set, ce qui est un problème car le choix du découpage a alors un impact sur la sélection du meilleur modèle"
   ]
  },
  {
   "cell_type": "markdown",
   "id": "22e51311",
   "metadata": {
    "id": "22e51311"
   },
   "source": [
    "# 2. Validation set et cross validation"
   ]
  },
  {
   "cell_type": "code",
   "execution_count": 51,
   "id": "cfccbb4e",
   "metadata": {
    "executionInfo": {
     "elapsed": 5,
     "status": "ok",
     "timestamp": 1733988716146,
     "user": {
      "displayName": "Alexandre GRASTEAU",
      "userId": "14924271205602736035"
     },
     "user_tz": -60
    },
    "id": "cfccbb4e"
   },
   "outputs": [],
   "source": [
    "from sklearn.model_selection import cross_val_score"
   ]
  },
  {
   "cell_type": "code",
   "execution_count": null,
   "id": "2838aac9",
   "metadata": {
    "colab": {
     "base_uri": "https://localhost:8080/"
    },
    "executionInfo": {
     "elapsed": 183,
     "status": "ok",
     "timestamp": 1733988716324,
     "user": {
      "displayName": "Alexandre GRASTEAU",
      "userId": "14924271205602736035"
     },
     "user_tz": -60
    },
    "id": "2838aac9",
    "outputId": "ae331438-130d-4e75-ac7d-442e22e1ba51"
   },
   "outputs": [],
   "source": [
    "model = KNeighborsClassifier()\n",
    "cross_val_score(model, X_train, y_train, cv = 5, scoring = 'accuracy')"
   ]
  },
  {
   "cell_type": "code",
   "execution_count": null,
   "id": "ZBfBElXWbHt2",
   "metadata": {
    "colab": {
     "base_uri": "https://localhost:8080/"
    },
    "executionInfo": {
     "elapsed": 3,
     "status": "ok",
     "timestamp": 1733988716325,
     "user": {
      "displayName": "Alexandre GRASTEAU",
      "userId": "14924271205602736035"
     },
     "user_tz": -60
    },
    "id": "ZBfBElXWbHt2",
    "outputId": "9084bd82-082b-4684-cc72-8eac2b008c56"
   },
   "outputs": [],
   "source": [
    "cross_val_score(KNeighborsClassifier(1), X_train, y_train, cv = 5, scoring = 'accuracy').mean()"
   ]
  },
  {
   "cell_type": "code",
   "execution_count": null,
   "id": "403acdca",
   "metadata": {
    "colab": {
     "base_uri": "https://localhost:8080/"
    },
    "executionInfo": {
     "elapsed": 2887,
     "status": "ok",
     "timestamp": 1733988719210,
     "user": {
      "displayName": "Alexandre GRASTEAU",
      "userId": "14924271205602736035"
     },
     "user_tz": -60
    },
    "id": "403acdca",
    "outputId": "f8531c6f-bbe8-47b0-e39f-b0d78f621218"
   },
   "outputs": [],
   "source": [
    "val_score = []\n",
    "for k in range(1,50):\n",
    "    score = cross_val_score(KNeighborsClassifier(k), X_train, y_train, cv = 5).mean()\n",
    "    val_score.append(score)\n",
    "plt.plot(val_score)"
   ]
  },
  {
   "cell_type": "code",
   "execution_count": null,
   "id": "racd367BJ5OM",
   "metadata": {
    "colab": {
     "base_uri": "https://localhost:8080/"
    },
    "executionInfo": {
     "elapsed": 10,
     "status": "ok",
     "timestamp": 1733988719211,
     "user": {
      "displayName": "Alexandre GRASTEAU",
      "userId": "14924271205602736035"
     },
     "user_tz": -60
    },
    "id": "racd367BJ5OM",
    "outputId": "45f02565-30d2-4033-bbba-0c6432dabc19"
   },
   "outputs": [],
   "source": [
    "model = KNeighborsClassifier(5)\n",
    "model.fit(X_train, y_train)\n",
    "model.score(X_test, y_test)"
   ]
  },
  {
   "cell_type": "markdown",
   "id": "323866f6",
   "metadata": {
    "id": "323866f6"
   },
   "source": [
    "# 3. Validation curve"
   ]
  },
  {
   "cell_type": "markdown",
   "id": "sOuMJ3v6cilh",
   "metadata": {
    "id": "sOuMJ3v6cilh"
   },
   "source": [
    "La fonction validation_curve permet d'obtenir le même résultat sans écrire de boucle."
   ]
  },
  {
   "cell_type": "code",
   "execution_count": 56,
   "id": "ca9167df",
   "metadata": {
    "executionInfo": {
     "elapsed": 7,
     "status": "ok",
     "timestamp": 1733988719211,
     "user": {
      "displayName": "Alexandre GRASTEAU",
      "userId": "14924271205602736035"
     },
     "user_tz": -60
    },
    "id": "ca9167df"
   },
   "outputs": [],
   "source": [
    "from sklearn.model_selection import validation_curve"
   ]
  },
  {
   "cell_type": "code",
   "execution_count": 57,
   "id": "ddfb84d5",
   "metadata": {
    "executionInfo": {
     "elapsed": 9953,
     "status": "ok",
     "timestamp": 1733988729157,
     "user": {
      "displayName": "Alexandre GRASTEAU",
      "userId": "14924271205602736035"
     },
     "user_tz": -60
    },
    "id": "ddfb84d5"
   },
   "outputs": [],
   "source": [
    "model = KNeighborsClassifier()\n",
    "k = np.arange(1,50)\n",
    "\n",
    "train_scores, val_scores = validation_curve(model, X_train, y_train, param_name = \"n_neighbors\",param_range = k, cv = 5)"
   ]
  },
  {
   "cell_type": "code",
   "execution_count": null,
   "id": "18ef3c50",
   "metadata": {
    "colab": {
     "base_uri": "https://localhost:8080/"
    },
    "executionInfo": {
     "elapsed": 631,
     "status": "ok",
     "timestamp": 1733988729784,
     "user": {
      "displayName": "Alexandre GRASTEAU",
      "userId": "14924271205602736035"
     },
     "user_tz": -60
    },
    "id": "18ef3c50",
    "outputId": "0125e253-77bb-4c96-9a84-fd77f478c2bd"
   },
   "outputs": [],
   "source": [
    "plt.plot(k, val_scores.mean(axis = 1), label = \"validation\")\n",
    "plt.plot(k, train_scores.mean(axis = 1), label = \"train\")\n",
    "plt.legend()\n",
    "plt.xlabel(\"n_neighbors\")\n",
    "plt.ylabel(\"score\")"
   ]
  },
  {
   "cell_type": "markdown",
   "id": "6h7G5Lf1cAfU",
   "metadata": {
    "id": "6h7G5Lf1cAfU"
   },
   "source": [
    "L'affichage du train_score en plus du validation_score permet de détecter les cas d'over-fitting (le modèle essaye trop de coller aux données d'entraînement et n'arrive pas bien à généraliser)."
   ]
  },
  {
   "cell_type": "markdown",
   "id": "176c8e2d",
   "metadata": {
    "id": "176c8e2d"
   },
   "source": [
    "# 4. Grid Search CV"
   ]
  },
  {
   "cell_type": "markdown",
   "id": "8KiMxzyOcvk3",
   "metadata": {
    "id": "8KiMxzyOcvk3"
   },
   "source": [
    "Un modèle possède en général plusieurs hyper-paramètres. Afin de sélectionner les meilleures valeurs de ces hyper-paramètres, la fonction GridSearchCV permet de tous les comparer en faisant de la cross validation."
   ]
  },
  {
   "cell_type": "code",
   "execution_count": 59,
   "id": "7f0888b8",
   "metadata": {
    "executionInfo": {
     "elapsed": 6,
     "status": "ok",
     "timestamp": 1733988729784,
     "user": {
      "displayName": "Alexandre GRASTEAU",
      "userId": "14924271205602736035"
     },
     "user_tz": -60
    },
    "id": "7f0888b8"
   },
   "outputs": [],
   "source": [
    "from sklearn.model_selection import GridSearchCV"
   ]
  },
  {
   "cell_type": "markdown",
   "id": "jp0gVNCUuvdB",
   "metadata": {
    "id": "jp0gVNCUuvdB"
   },
   "source": [
    "Pour avoir la liste des hyper-paramètres que nous allons pouvoir faire varier, on peut utiliser la commande suivante :"
   ]
  },
  {
   "cell_type": "code",
   "execution_count": null,
   "id": "SgNb43E-uoVU",
   "metadata": {
    "colab": {
     "base_uri": "https://localhost:8080/"
    },
    "executionInfo": {
     "elapsed": 6,
     "status": "ok",
     "timestamp": 1733988729785,
     "user": {
      "displayName": "Alexandre GRASTEAU",
      "userId": "14924271205602736035"
     },
     "user_tz": -60
    },
    "id": "SgNb43E-uoVU",
    "outputId": "d221219a-8210-43a6-fcbd-f68fedeeca87"
   },
   "outputs": [],
   "source": [
    "print(model.get_params().keys())"
   ]
  },
  {
   "cell_type": "markdown",
   "id": "D67l-JSGu6CY",
   "metadata": {
    "id": "D67l-JSGu6CY"
   },
   "source": [
    "On spécifie alors un dictionnaire contenant les hyper-paramètres choisis avec les valeurs à tester."
   ]
  },
  {
   "cell_type": "code",
   "execution_count": 61,
   "id": "ff50d229",
   "metadata": {
    "executionInfo": {
     "elapsed": 4,
     "status": "ok",
     "timestamp": 1733988729785,
     "user": {
      "displayName": "Alexandre GRASTEAU",
      "userId": "14924271205602736035"
     },
     "user_tz": -60
    },
    "id": "ff50d229"
   },
   "outputs": [],
   "source": [
    "param_grid = {'n_neighbors': np.arange(1,20),\n",
    "             'metric': ['euclidean', 'manhattan']}"
   ]
  },
  {
   "cell_type": "code",
   "execution_count": 62,
   "id": "9a99ecdd",
   "metadata": {
    "executionInfo": {
     "elapsed": 4,
     "status": "ok",
     "timestamp": 1733988729785,
     "user": {
      "displayName": "Alexandre GRASTEAU",
      "userId": "14924271205602736035"
     },
     "user_tz": -60
    },
    "id": "9a99ecdd"
   },
   "outputs": [],
   "source": [
    "grid = GridSearchCV(KNeighborsClassifier(), param_grid, cv = 5)"
   ]
  },
  {
   "cell_type": "code",
   "execution_count": null,
   "id": "5de51fff",
   "metadata": {
    "colab": {
     "base_uri": "https://localhost:8080/"
    },
    "executionInfo": {
     "elapsed": 2405,
     "status": "ok",
     "timestamp": 1733988732186,
     "user": {
      "displayName": "Alexandre GRASTEAU",
      "userId": "14924271205602736035"
     },
     "user_tz": -60
    },
    "id": "5de51fff",
    "outputId": "feb2ec25-68ff-4b0b-c16a-e1e6475b839c"
   },
   "outputs": [],
   "source": [
    "grid.fit(X_train, y_train)"
   ]
  },
  {
   "cell_type": "code",
   "execution_count": null,
   "id": "49d56e7f",
   "metadata": {
    "colab": {
     "base_uri": "https://localhost:8080/"
    },
    "executionInfo": {
     "elapsed": 16,
     "status": "ok",
     "timestamp": 1733988732186,
     "user": {
      "displayName": "Alexandre GRASTEAU",
      "userId": "14924271205602736035"
     },
     "user_tz": -60
    },
    "id": "49d56e7f",
    "outputId": "4cc35923-7a9e-4778-c93f-62610dec6f77"
   },
   "outputs": [],
   "source": [
    "grid.best_score_"
   ]
  },
  {
   "cell_type": "code",
   "execution_count": null,
   "id": "1a0ead36",
   "metadata": {
    "colab": {
     "base_uri": "https://localhost:8080/"
    },
    "executionInfo": {
     "elapsed": 11,
     "status": "ok",
     "timestamp": 1733988732186,
     "user": {
      "displayName": "Alexandre GRASTEAU",
      "userId": "14924271205602736035"
     },
     "user_tz": -60
    },
    "id": "1a0ead36",
    "outputId": "e2c6c0d7-b757-4a13-d314-d888ee5a6812"
   },
   "outputs": [],
   "source": [
    "grid.best_params_"
   ]
  },
  {
   "cell_type": "code",
   "execution_count": 66,
   "id": "f6d007cd",
   "metadata": {
    "executionInfo": {
     "elapsed": 9,
     "status": "ok",
     "timestamp": 1733988732186,
     "user": {
      "displayName": "Alexandre GRASTEAU",
      "userId": "14924271205602736035"
     },
     "user_tz": -60
    },
    "id": "f6d007cd"
   },
   "outputs": [],
   "source": [
    "model = grid.best_estimator_"
   ]
  },
  {
   "cell_type": "code",
   "execution_count": null,
   "id": "42fd822b",
   "metadata": {
    "colab": {
     "base_uri": "https://localhost:8080/"
    },
    "executionInfo": {
     "elapsed": 9,
     "status": "ok",
     "timestamp": 1733988732186,
     "user": {
      "displayName": "Alexandre GRASTEAU",
      "userId": "14924271205602736035"
     },
     "user_tz": -60
    },
    "id": "42fd822b",
    "outputId": "0d3c673d-687e-4b05-962b-0e2e1b3195b5"
   },
   "outputs": [],
   "source": [
    "model.score(X_test, y_test)"
   ]
  },
  {
   "cell_type": "markdown",
   "id": "b114d4f9",
   "metadata": {
    "id": "b114d4f9"
   },
   "source": [
    "# 5. Confusion matrix"
   ]
  },
  {
   "cell_type": "markdown",
   "id": "NjjWVdv0d4mg",
   "metadata": {
    "id": "NjjWVdv0d4mg"
   },
   "source": [
    "La matrice de confusion permet de voir où sont les erreurs de notre modèle."
   ]
  },
  {
   "cell_type": "code",
   "execution_count": 68,
   "id": "34bb8aff",
   "metadata": {
    "executionInfo": {
     "elapsed": 7,
     "status": "ok",
     "timestamp": 1733988732186,
     "user": {
      "displayName": "Alexandre GRASTEAU",
      "userId": "14924271205602736035"
     },
     "user_tz": -60
    },
    "id": "34bb8aff"
   },
   "outputs": [],
   "source": [
    "from sklearn.metrics import confusion_matrix"
   ]
  },
  {
   "cell_type": "code",
   "execution_count": null,
   "id": "6b6a082c",
   "metadata": {
    "colab": {
     "base_uri": "https://localhost:8080/"
    },
    "executionInfo": {
     "elapsed": 7,
     "status": "ok",
     "timestamp": 1733988732186,
     "user": {
      "displayName": "Alexandre GRASTEAU",
      "userId": "14924271205602736035"
     },
     "user_tz": -60
    },
    "id": "6b6a082c",
    "outputId": "37ae6a55-a45d-43f4-97e9-82e353636ea7"
   },
   "outputs": [],
   "source": [
    "confusion_matrix(y_test, model.predict(X_test))"
   ]
  },
  {
   "cell_type": "markdown",
   "id": "296273fe",
   "metadata": {
    "id": "296273fe"
   },
   "source": [
    "# 6. Learning curve"
   ]
  },
  {
   "cell_type": "markdown",
   "id": "2aG2iyE_eDw0",
   "metadata": {
    "id": "2aG2iyE_eDw0"
   },
   "source": [
    "Les méthodes précédentes permettent donc de sélectionner les meilleurs hyper-paramètres d'un modèle puis de l'évaluer.\n",
    "\n",
    "Une question importante à se poser est de savoir si nous pourrions avoir un meilleur modèle avec plus de données -> ceci peut se voir grâce à la courbe d'apprentissage."
   ]
  },
  {
   "cell_type": "code",
   "execution_count": 70,
   "id": "962117fc",
   "metadata": {
    "executionInfo": {
     "elapsed": 6,
     "status": "ok",
     "timestamp": 1733988732187,
     "user": {
      "displayName": "Alexandre GRASTEAU",
      "userId": "14924271205602736035"
     },
     "user_tz": -60
    },
    "id": "962117fc"
   },
   "outputs": [],
   "source": [
    "from sklearn.model_selection import learning_curve"
   ]
  },
  {
   "cell_type": "code",
   "execution_count": 71,
   "id": "0078c092",
   "metadata": {
    "executionInfo": {
     "elapsed": 918,
     "status": "ok",
     "timestamp": 1733988733099,
     "user": {
      "displayName": "Alexandre GRASTEAU",
      "userId": "14924271205602736035"
     },
     "user_tz": -60
    },
    "id": "0078c092"
   },
   "outputs": [],
   "source": [
    "N, train_scores, val_scores = learning_curve(model, X_train, y_train, train_sizes = np.linspace(0.1,1.0,10), cv = 5)"
   ]
  },
  {
   "cell_type": "code",
   "execution_count": null,
   "id": "0ff78228",
   "metadata": {
    "colab": {
     "base_uri": "https://localhost:8080/"
    },
    "executionInfo": {
     "elapsed": 368,
     "status": "ok",
     "timestamp": 1733988733462,
     "user": {
      "displayName": "Alexandre GRASTEAU",
      "userId": "14924271205602736035"
     },
     "user_tz": -60
    },
    "id": "0ff78228",
    "outputId": "179b9f9c-c4ba-440b-ca5b-1e072611da13"
   },
   "outputs": [],
   "source": [
    "print(N)\n",
    "plt.plot(N, train_scores.mean(axis = 1), label = 'train')\n",
    "plt.plot(N, val_scores.mean(axis = 1), label = 'validation')\n",
    "plt.xlabel(\"train_sizes\")\n",
    "plt.legend()"
   ]
  },
  {
   "cell_type": "markdown",
   "id": "f84bff25",
   "metadata": {
    "id": "f84bff25"
   },
   "source": [
    "# Exercice : mettre ces techniques en oeuvre sur le dataset du Titanic"
   ]
  },
  {
   "cell_type": "code",
   "execution_count": 73,
   "id": "b39dac29",
   "metadata": {
    "executionInfo": {
     "elapsed": 14,
     "status": "ok",
     "timestamp": 1733988733462,
     "user": {
      "displayName": "Alexandre GRASTEAU",
      "userId": "14924271205602736035"
     },
     "user_tz": -60
    },
    "id": "b39dac29"
   },
   "outputs": [],
   "source": [
    "import pandas as pd\n",
    "import seaborn as sns\n",
    "titanic = sns.load_dataset(\"titanic\")"
   ]
  },
  {
   "cell_type": "code",
   "execution_count": null,
   "id": "26d32da6",
   "metadata": {
    "colab": {
     "base_uri": "https://localhost:8080/"
    },
    "executionInfo": {
     "elapsed": 13,
     "status": "ok",
     "timestamp": 1733988733463,
     "user": {
      "displayName": "Alexandre GRASTEAU",
      "userId": "14924271205602736035"
     },
     "user_tz": -60
    },
    "id": "26d32da6",
    "outputId": "e839f234-9d57-467c-a47b-347274a69d17"
   },
   "outputs": [],
   "source": [
    "titanic = titanic[['survived','pclass','sex','age']]\n",
    "titanic.dropna(axis = 0, inplace = True)\n",
    "titanic['sex'].replace(['male','female'],[0,1],inplace=True)\n",
    "\n",
    "y = titanic.survived\n",
    "X = titanic.drop('survived', axis = 1).values"
   ]
  },
  {
   "cell_type": "markdown",
   "id": "01762bdf",
   "metadata": {
    "id": "01762bdf"
   },
   "source": [
    "## 1) Train Test Split"
   ]
  },
  {
   "cell_type": "markdown",
   "id": "98584067",
   "metadata": {
    "id": "98584067"
   },
   "source": [
    "## 2) utilisation de GridSearch pour trouver les meilleurs hyperparamètres"
   ]
  },
  {
   "cell_type": "markdown",
   "id": "98712a0c",
   "metadata": {
    "id": "98712a0c"
   },
   "source": [
    "## 3) collecter plus de données serait-il utile ?"
   ]
  }
 ],
 "metadata": {
  "colab": {
   "provenance": []
  },
  "kernelspec": {
   "display_name": "Python 3 (ipykernel)",
   "language": "python",
   "name": "python3"
  },
  "language_info": {
   "codemirror_mode": {
    "name": "ipython",
    "version": 3
   },
   "file_extension": ".py",
   "mimetype": "text/x-python",
   "name": "python",
   "nbconvert_exporter": "python",
   "pygments_lexer": "ipython3",
   "version": "3.9.12"
  }
 },
 "nbformat": 4,
 "nbformat_minor": 5
}
