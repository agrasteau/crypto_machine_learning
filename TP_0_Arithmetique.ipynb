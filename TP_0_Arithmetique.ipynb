{
  "cells": [
    {
      "cell_type": "markdown",
      "id": "0474f923",
      "metadata": {
        "id": "0474f923"
      },
      "source": [
        "# TP 1 - Arithmétique pour la cryptographie"
      ]
    },
    {
      "cell_type": "markdown",
      "id": "d815b392",
      "metadata": {
        "id": "d815b392"
      },
      "source": [
        "Dans ce premier TP, nous allons écrire un certain nombre de fonctions qui nous seront utiles par la suite. Les algorithmes sont ceux vus en cours avant les vacances."
      ]
    },
    {
      "cell_type": "markdown",
      "id": "78d94107",
      "metadata": {
        "id": "78d94107"
      },
      "source": [
        "## 1. Division euclidienne"
      ]
    },
    {
      "cell_type": "markdown",
      "id": "cf7c1634",
      "metadata": {
        "id": "cf7c1634"
      },
      "source": [
        "<i>remarque : On se restreint pour l'instant au cas où $a$ et $b$ sont dans $\\mathbb{N}$.</i>"
      ]
    },
    {
      "cell_type": "markdown",
      "id": "4be07c8b",
      "metadata": {
        "id": "4be07c8b"
      },
      "source": [
        "<b> Exercice 1. </b> Écrire la fonction <code>divEuclid1(a,b)</code> qui implémente l'algorithme de division euclidienne de $a$ par $b$ ($b\\neq 0$). Elle renvoie l'unique couple $(q,r)\\in\\mathbb{N}\\times\\mathbb{N}$ tel que $a = bq+r$ avec $q\\in\\mathbb{Z}$ et $0\\leq r < b$.\n",
        "<br>\n",
        "Vous utiliserez l'algorithme naïf qui consiste à faire des paquets de $b$ tant que c'est possible."
      ]
    },
    {
      "cell_type": "code",
      "execution_count": null,
      "id": "e57792b2",
      "metadata": {
        "id": "e57792b2"
      },
      "outputs": [],
      "source": [
        "def divEuclid1(a,b):\n",
        "  q = 0\n",
        "  while (b<=a):\n",
        "    q=q+1\n",
        "    a=a-b\n",
        "  return (q,a)\n"
      ]
    },
    {
      "cell_type": "markdown",
      "id": "4c9f7344",
      "metadata": {
        "id": "4c9f7344"
      },
      "source": [
        "Tester votre algorithme en comparant vos résultats à ceux de la fonction suivante, qui calcule le quotient et le reste à l'aide de primitives python."
      ]
    },
    {
      "cell_type": "code",
      "execution_count": null,
      "id": "2721e98b",
      "metadata": {
        "id": "2721e98b",
        "colab": {
          "base_uri": "https://localhost:8080/"
        },
        "outputId": "0db324a5-d8a0-4964-e71f-b37b3056cb2c"
      },
      "outputs": [
        {
          "output_type": "stream",
          "name": "stdout",
          "text": [
            "a = 15\n",
            "b = 6\n",
            "algorithme naïf : (q,r) =  (2, 3)\n",
            "algorithme à base des primitives python : (q,r) =  (2, 3)\n"
          ]
        }
      ],
      "source": [
        "def divEuclid2(a,b):\n",
        "    return (a // b, a % b)\n",
        "\n",
        "a = int(input('a = '))\n",
        "b = int(input('b = '))\n",
        "\n",
        "print(\"algorithme naïf : (q,r) = \", divEuclid1(a,b))\n",
        "print(\"algorithme à base des primitives python : (q,r) = \", divEuclid2(a,b))\n"
      ]
    },
    {
      "cell_type": "markdown",
      "id": "2374c053",
      "metadata": {
        "id": "2374c053"
      },
      "source": [
        "Que se passe-t-il dans ces algorithmes si $a<0$ ? Proposez une amélioration de votre fonction qui permet d'obtenir un résultat correct quel que soit le signe de $a$."
      ]
    },
    {
      "cell_type": "code",
      "execution_count": null,
      "id": "baec2b9d",
      "metadata": {
        "id": "baec2b9d"
      },
      "outputs": [],
      "source": [
        "import math\n",
        "\n",
        "def divEuclid(a, b):\n",
        "    q = 0\n",
        "    a = a * a\n",
        "    a = math.sqrt(a)\n",
        "\n",
        "    while b <= a:\n",
        "        q = q + 1\n",
        "        a = a - b\n",
        "\n",
        "    return (q, a)\n",
        "\n"
      ]
    },
    {
      "cell_type": "markdown",
      "id": "f4bf0804",
      "metadata": {
        "id": "f4bf0804"
      },
      "source": [
        "## 2. Algorithme d'Euclide pour le calcul du pgcd"
      ]
    },
    {
      "cell_type": "markdown",
      "id": "085b2f73",
      "metadata": {
        "id": "085b2f73"
      },
      "source": [
        "<b> Exercice 2.</b> Écrire la fonction <code>pgcd(a,b)</code> qui calcule le pgcd de 2 entiers $a$ et $b$ à l'aide de l'algorithme d'Euclide. Vous afficherez les divisions successives qui apparaissent dans le déroulement de l'algorithme."
      ]
    },
    {
      "cell_type": "code",
      "execution_count": null,
      "id": "12505ca6",
      "metadata": {
        "id": "12505ca6"
      },
      "outputs": [],
      "source": [
        "def pgcd(a, b):\n",
        "    while b:\n",
        "        div = a // b\n",
        "        mod = a % b\n",
        "        d = b\n",
        "        b = mod\n",
        "    return d\n"
      ]
    },
    {
      "cell_type": "markdown",
      "id": "842d2574",
      "metadata": {
        "id": "842d2574"
      },
      "source": [
        "Tester votre algorithme via le bloc suivant :"
      ]
    },
    {
      "cell_type": "code",
      "execution_count": null,
      "id": "6b084d93",
      "metadata": {
        "id": "6b084d93",
        "colab": {
          "base_uri": "https://localhost:8080/"
        },
        "outputId": "c3078fd7-2faa-400c-f3eb-e81ef600340e"
      },
      "outputs": [
        {
          "output_type": "stream",
          "name": "stdout",
          "text": [
            "a = 5\n",
            "b = 555\n",
            " \n",
            " \n",
            "Le pgcd de 5 et 555 est égal à 5\n"
          ]
        }
      ],
      "source": [
        "a = int(input('a = '))\n",
        "b = int(input('b = '))\n",
        "print(\" \")\n",
        "d = pgcd(a,b)\n",
        "print(\" \")\n",
        "print(\"Le pgcd de\",a,\"et\",b, \"est égal à\", d)"
      ]
    },
    {
      "cell_type": "markdown",
      "id": "c872044d",
      "metadata": {
        "id": "c872044d"
      },
      "source": [
        "<b> Exercice 3.</b> Écrire la fonction <code>pgcdRec(a,b)</code> qui calcule le pgcd de 2 entiers $a$ et $b$ à l'aide de l'algorithme d'Euclide, mais sous forme récursive, et sans afficher les calculs intermédiaires."
      ]
    },
    {
      "cell_type": "code",
      "execution_count": null,
      "id": "d951dc98",
      "metadata": {
        "id": "d951dc98"
      },
      "outputs": [],
      "source": [
        "def pgcdRec(a,b):\n",
        "    if b == 0:\n",
        "        return a\n",
        "    else:\n",
        "        return pgcdRec(b, a % b)\n"
      ]
    },
    {
      "cell_type": "markdown",
      "id": "b7bec9b6",
      "metadata": {
        "id": "b7bec9b6"
      },
      "source": [
        "Tester votre algorithme via le bloc suivant :"
      ]
    },
    {
      "cell_type": "code",
      "execution_count": null,
      "id": "a633df54",
      "metadata": {
        "id": "a633df54",
        "colab": {
          "base_uri": "https://localhost:8080/"
        },
        "outputId": "60298783-12f4-4a63-b52c-10768adba686"
      },
      "outputs": [
        {
          "output_type": "stream",
          "name": "stdout",
          "text": [
            "a = 1200\n",
            "b = 20\n",
            " \n",
            "Le pgcd de 1200 et 20 est égal à 20\n"
          ]
        }
      ],
      "source": [
        "a = int(input('a = '))\n",
        "b = int(input('b = '))\n",
        "print(\" \")\n",
        "d = pgcdRec(a,b)\n",
        "print(\"Le pgcd de\",a,\"et\",b, \"est égal à\", d)"
      ]
    },
    {
      "cell_type": "markdown",
      "id": "942eedfd",
      "metadata": {
        "id": "942eedfd"
      },
      "source": [
        "## 3. Identité de Bézout"
      ]
    },
    {
      "cell_type": "markdown",
      "id": "722926eb",
      "metadata": {
        "id": "722926eb"
      },
      "source": [
        "<b>Exercice 4.</b> Écrire la fonction <code>bezout(a,b)</code> qui calcule une identité de Bézout pour le couple $(a,b)$ à l'aide de l'algorithme d'Euclide étendu. La fonction retournera le couple $(u,v)$ trouvé tel que $au+bv = pgcd(a,b)$."
      ]
    },
    {
      "cell_type": "code",
      "execution_count": null,
      "id": "4c0a6c38",
      "metadata": {
        "id": "4c0a6c38"
      },
      "outputs": [],
      "source": [
        "def bezout(a, b):\n",
        "    if b == 0:\n",
        "        return (1, 0)\n",
        "    else:\n",
        "        q = a // b\n",
        "        r = a % b\n",
        "        u1, v1 = bezout(b, r)\n",
        "        u = v1\n",
        "        v = u1 - q * v1\n",
        "        return (u, v)\n"
      ]
    },
    {
      "cell_type": "markdown",
      "id": "35b9ab93",
      "metadata": {
        "id": "35b9ab93"
      },
      "source": [
        "Tester votre algorithme via le bloc suivant :"
      ]
    },
    {
      "cell_type": "code",
      "execution_count": null,
      "id": "d379fdbc",
      "metadata": {
        "id": "d379fdbc",
        "colab": {
          "base_uri": "https://localhost:8080/"
        },
        "outputId": "4748c816-d58f-4bad-dbec-0dfeb48e64b2"
      },
      "outputs": [
        {
          "output_type": "stream",
          "name": "stdout",
          "text": [
            "a = 235\n",
            "b = 120\n",
            " \n",
            "235 * -1  +  120 * 2  =  5\n"
          ]
        }
      ],
      "source": [
        "a = int(input('a = '))\n",
        "b = int(input('b = '))\n",
        "print(\" \")\n",
        "(u,v) = bezout(a,b)\n",
        "print(a,\"*\",u,\" + \",b,\"*\",v,\" = \",pgcdRec(a,b))"
      ]
    },
    {
      "cell_type": "markdown",
      "id": "4b4b1111",
      "metadata": {
        "id": "4b4b1111"
      },
      "source": [
        "## 4. Congruences"
      ]
    },
    {
      "cell_type": "markdown",
      "id": "52f58552",
      "metadata": {
        "id": "52f58552"
      },
      "source": [
        "<b> Exercice 5. </b> Écrire la fonction <code>invMod(a,n)</code> qui calcule l'inverse de $a$ modulo $n$ quand c'est possible et qui renvoie $-1$ sinon."
      ]
    },
    {
      "cell_type": "code",
      "execution_count": null,
      "id": "3ae04481",
      "metadata": {
        "id": "3ae04481",
        "colab": {
          "base_uri": "https://localhost:8080/",
          "height": 141
        },
        "outputId": "cf7df2c4-35a5-4fd3-c261-513e15bd7a01"
      },
      "outputs": [
        {
          "output_type": "error",
          "ename": "SyntaxError",
          "evalue": "ignored",
          "traceback": [
            "\u001b[0;36m  File \u001b[0;32m\"<ipython-input-68-119d538669ff>\"\u001b[0;36m, line \u001b[0;32m7\u001b[0m\n\u001b[0;31m    if u == 1\u001b[0m\n\u001b[0m             ^\u001b[0m\n\u001b[0;31mSyntaxError\u001b[0m\u001b[0;31m:\u001b[0m expected ':'\n"
          ]
        }
      ],
      "source": [
        "def invMod(a,n):\n",
        "    u, v = bezout(a, n)\n",
        "    if u < 0:\n",
        "        u = u % n\n",
        "    if u < 0:\n",
        "        u += n\n",
        "    if u == 1\n",
        "        return u\n",
        "    else:\n",
        "        return -1"
      ]
    },
    {
      "cell_type": "markdown",
      "id": "a081626d",
      "metadata": {
        "id": "a081626d"
      },
      "source": [
        "Tester votre fonction à l'aide du bloc suivant."
      ]
    },
    {
      "cell_type": "code",
      "execution_count": null,
      "id": "ee88a756",
      "metadata": {
        "id": "ee88a756",
        "colab": {
          "base_uri": "https://localhost:8080/"
        },
        "outputId": "b54d24e2-e7c4-41fd-8ddb-ccf0dc350a49"
      },
      "outputs": [
        {
          "output_type": "stream",
          "name": "stdout",
          "text": [
            "a = 125\n",
            "n = 125\n",
            "l'inverse de  125  modulo  125  est :  -1\n"
          ]
        }
      ],
      "source": [
        "a = int(input('a = '))\n",
        "n = int(input('n = '))\n",
        "\n",
        "inv = invMod(a,n)\n",
        "print(\"l'inverse de \",a,\" modulo \",n,\" est : \",inv)"
      ]
    },
    {
      "cell_type": "markdown",
      "id": "f8ff34f8",
      "metadata": {
        "id": "f8ff34f8"
      },
      "source": [
        "## 5. Nombres premiers"
      ]
    },
    {
      "cell_type": "markdown",
      "id": "ae9e6881",
      "metadata": {
        "id": "ae9e6881"
      },
      "source": [
        "### 5.1 Crible d'Eratosthène"
      ]
    },
    {
      "cell_type": "markdown",
      "id": "3ca91110",
      "metadata": {
        "id": "3ca91110"
      },
      "source": [
        "<b> Exercice 6. </b> Écrire la fonction <code>premiers(n)</code> utilisant le crible d'Eratosthène pour calculer tous les nombres premiers inférieurs ou égaux à $n$."
      ]
    },
    {
      "cell_type": "code",
      "execution_count": null,
      "id": "648c5cb7",
      "metadata": {
        "id": "648c5cb7"
      },
      "outputs": [],
      "source": [
        "def premiers(n):\n",
        "  premiers = [True] * (n + 1)\n",
        "  premiers[0] = premiers[1] = False\n",
        "\n",
        "\n",
        "  for i in range(2, n + 1):\n",
        "    if premiers[i]:\n",
        "      for j in range(i * i, n + 1, i):\n",
        "        premiers[j] = False\n",
        "  return [i for i in range(2, n + 1) if premiers[i]]\n"
      ]
    },
    {
      "cell_type": "markdown",
      "id": "c0a6c1db",
      "metadata": {
        "id": "c0a6c1db"
      },
      "source": [
        "Tester votre fonction à l'aide du bloc suivant."
      ]
    },
    {
      "cell_type": "code",
      "execution_count": null,
      "id": "f077462f",
      "metadata": {
        "id": "f077462f",
        "colab": {
          "base_uri": "https://localhost:8080/"
        },
        "outputId": "3ca1cc1d-d1e7-475d-d94a-16e55d3c4c51"
      },
      "outputs": [
        {
          "output_type": "stream",
          "name": "stdout",
          "text": [
            "[2, 3, 5, 7, 11, 13, 17, 19, 23, 29, 31, 37, 41, 43, 47, 53, 59, 61, 67, 71, 73, 79, 83, 89, 97, 101, 103, 107, 109, 113, 127, 131, 137, 139, 149, 151, 157, 163, 167, 173, 179, 181, 191, 193, 197, 199]\n"
          ]
        }
      ],
      "source": [
        "print(premiers(199))\n"
      ]
    },
    {
      "cell_type": "markdown",
      "id": "32e23079",
      "metadata": {
        "id": "32e23079"
      },
      "source": [
        "### 5.2 Test de primalité"
      ]
    },
    {
      "cell_type": "markdown",
      "id": "c3400f14",
      "metadata": {
        "id": "c3400f14"
      },
      "source": [
        "<b>Exercice 7.</b> Écrire la fonction <code>isPrime(n)</code> qui teste si un nombre donné est premier ou non. La fonction doir retourner True si $n$ est premier et False sinon."
      ]
    },
    {
      "cell_type": "code",
      "execution_count": null,
      "id": "51343f44",
      "metadata": {
        "id": "51343f44"
      },
      "outputs": [],
      "source": [
        "def isPrime(n):\n",
        "    for i in range(2, n):\n",
        "      if (n%i==0):\n",
        "        print(\"debug\")\n",
        "        return False\n",
        "    return True"
      ]
    },
    {
      "cell_type": "markdown",
      "id": "255fd835",
      "metadata": {
        "id": "255fd835"
      },
      "source": [
        "Tester votre fonction à l'aide du bloc suivant."
      ]
    },
    {
      "cell_type": "code",
      "execution_count": null,
      "id": "e2092e67",
      "metadata": {
        "id": "e2092e67",
        "colab": {
          "base_uri": "https://localhost:8080/"
        },
        "outputId": "14ee7bee-d099-412a-a159-e974564e040e"
      },
      "outputs": [
        {
          "output_type": "stream",
          "name": "stdout",
          "text": [
            "n = 6\n",
            "debug\n",
            "False\n"
          ]
        }
      ],
      "source": [
        "n = int(input('n = '))\n",
        "print(isPrime(n))"
      ]
    },
    {
      "cell_type": "markdown",
      "id": "d5a65092",
      "metadata": {
        "id": "d5a65092"
      },
      "source": [
        "### 5.3 Décomposition en facteurs premiers"
      ]
    },
    {
      "cell_type": "markdown",
      "id": "42c77b37",
      "metadata": {
        "id": "42c77b37"
      },
      "source": [
        "<b>Exercice 8.</b> Écrire la fonction <code>decompPrime(n)</code> qui renvoie la liste des facteurs premiers d'un entier $n$. Si un facteur est de multiplicité $k$ alors il doit apparaître $k$ fois dans la liste."
      ]
    },
    {
      "cell_type": "code",
      "source": [
        "decompPrime(16)"
      ],
      "metadata": {
        "colab": {
          "base_uri": "https://localhost:8080/"
        },
        "id": "hvTnBJQ1QS2H",
        "outputId": "9a9ecaa3-1766-4f95-f81f-9a5c9f0aae97"
      },
      "id": "hvTnBJQ1QS2H",
      "execution_count": null,
      "outputs": [
        {
          "output_type": "stream",
          "name": "stdout",
          "text": [
            "16\n",
            "0\n",
            "2\n"
          ]
        }
      ]
    },
    {
      "cell_type": "code",
      "execution_count": null,
      "id": "bdef479a",
      "metadata": {
        "id": "bdef479a"
      },
      "outputs": [],
      "source": [
        "def decompPrime(n):\n",
        "  premiers(n)\n",
        "  nombres_premiers = premiers(n)\n",
        "  #print (nombres_premiers)\n",
        "\n",
        "  for i in range(0,len(nombres_premiers)):\n",
        "      if (n%nombres_premiers[i]==0):\n",
        "\n",
        "        print(n)\n",
        "        print(i)\n",
        "        print(nombres_premiers[i])\n",
        "        n=n/nombres_premiers[i]"
      ]
    },
    {
      "cell_type": "markdown",
      "id": "6366c869",
      "metadata": {
        "id": "6366c869"
      },
      "source": [
        "## 6. Equation diophantienne $ax+by = c$"
      ]
    },
    {
      "cell_type": "markdown",
      "id": "cd8f888f",
      "metadata": {
        "id": "cd8f888f"
      },
      "source": [
        "<b>Exercice 9.</b> Écrire la fonction <code>dioph_0(a,b)</code> qui renvoie une solution $(x_0,y_0)$ de l'équation diophantienne $ax+by=c$ si c'est possible. Si l'équation n'a pas de solution, afficher le message \"pas de solution\"."
      ]
    },
    {
      "cell_type": "code",
      "execution_count": null,
      "id": "e06fb2bc",
      "metadata": {
        "id": "e06fb2bc"
      },
      "outputs": [],
      "source": [
        "def dioph_0(a,b,c):\n",
        "    # à compléter\n"
      ]
    },
    {
      "cell_type": "markdown",
      "id": "27291bc0",
      "metadata": {
        "id": "27291bc0"
      },
      "source": [
        "Tester votre fonction à l'aide du bloc suivant."
      ]
    },
    {
      "cell_type": "code",
      "execution_count": null,
      "id": "5e8da73a",
      "metadata": {
        "id": "5e8da73a"
      },
      "outputs": [],
      "source": [
        "a = int(input('a = '))\n",
        "b = int(input('b = '))\n",
        "c = int(input('c = '))\n",
        "\n",
        "sol = dioph_0(a,b,c)\n",
        "print(\"une solution de l'équation est : \",sol)"
      ]
    },
    {
      "cell_type": "markdown",
      "id": "e3ff0c79",
      "metadata": {
        "id": "e3ff0c79"
      },
      "source": [
        "<b>Bonus. </b> Écrire la fonction <code>dioph(a,b,c)</code> qui renvoie <b>toutes les solutions</b> $(x,y)$ de l'équation diophantienne $ax+by=c$ si c'est possible. Si l'équation n'a pas de solution, afficher le message \"pas de solution\"."
      ]
    },
    {
      "cell_type": "code",
      "execution_count": null,
      "id": "092643cb",
      "metadata": {
        "id": "092643cb"
      },
      "outputs": [],
      "source": [
        "def dioph(a,b,c):\n",
        "    # à compléter\n"
      ]
    },
    {
      "cell_type": "markdown",
      "id": "ad583c0a",
      "metadata": {
        "id": "ad583c0a"
      },
      "source": [
        "# Rapport de séance #"
      ]
    },
    {
      "cell_type": "markdown",
      "id": "3a5298f6",
      "metadata": {
        "id": "3a5298f6"
      },
      "source": [
        "<div style=\"background-color:rgba(0, 255, 0, 0.19);padding:3%;\">\n",
        "<i>Éditer ce bloc de texte pour y écrire un rapport de séance :</i>\n",
        "<ol>\n",
        "    <li>ce qui est fait et fonctionnel :\n",
        "        <ul>\n",
        "            <li> </li>\n",
        "        </ul>\n",
        "    </li>\n",
        "    <li>ce qui est fait mais non fonctionnel à 100% (préciser) : <ul>\n",
        "            <li> </li>\n",
        "        </ul>\n",
        "    </li>\n",
        "    <li>ce qui n'est pas fait : <ul>\n",
        "            <li> </li>\n",
        "        </ul>\n",
        "    </li>\n",
        "</ol>\n",
        "</div>"
      ]
    }
  ],
  "metadata": {
    "kernelspec": {
      "display_name": "Python 3 (ipykernel)",
      "language": "python",
      "name": "python3"
    },
    "language_info": {
      "codemirror_mode": {
        "name": "ipython",
        "version": 3
      },
      "file_extension": ".py",
      "mimetype": "text/x-python",
      "name": "python",
      "nbconvert_exporter": "python",
      "pygments_lexer": "ipython3",
      "version": "3.9.12"
    },
    "colab": {
      "provenance": []
    }
  },
  "nbformat": 4,
  "nbformat_minor": 5
}