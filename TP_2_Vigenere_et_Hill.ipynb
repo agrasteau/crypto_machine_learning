{
  "cells": [
    {
      "cell_type": "markdown",
      "id": "7befabb9",
      "metadata": {
        "id": "7befabb9"
      },
      "source": [
        "# TP 2 - Chiffrement symétrique (2)"
      ]
    },
    {
      "cell_type": "markdown",
      "id": "bcff89e5",
      "metadata": {
        "id": "bcff89e5"
      },
      "source": [
        "Assurez-vous d'avoir ajouté les fonctions du dernier TP à votre fichier <code>OutilsCrypto.py</code> puis chargez-le en ecécutant le bloc suivant."
      ]
    },
    {
      "cell_type": "code",
      "execution_count": null,
      "id": "1eec5c31",
      "metadata": {
        "id": "1eec5c31"
      },
      "outputs": [],
      "source": []
    },
    {
      "cell_type": "code",
      "source": [
        "#fonctions rajouter des tps précdents\n",
        "def Filtre(txt) :\n",
        "    res=\"\"\n",
        "    for c in txt.lower() :\n",
        "        if(ord('a')<=ord(c)<=ord('z')) : res+=c\n",
        "        if(c=='à' or c=='â' or c=='ä' or c=='á' or c=='å') : res+='a'\n",
        "        elif(c=='ç') : res+='c'\n",
        "        elif(c=='é' or c=='è' or c=='ê' or c=='ë') : res+='e'\n",
        "        elif(c=='ï' or c=='î' or c=='ì' or c=='í') : res+='i'\n",
        "        elif(c=='ö' or c=='ò' or c=='ô' or c=='ø' or c=='ó') : res+='o'\n",
        "        elif(c=='û' or c=='ü' or c=='ù' or c=='ú') : res+='u'\n",
        "        elif(c=='æ') : res+='ae'\n",
        "        elif(c=='œ') : res+='oe'\n",
        "        elif(c=='ÿ') : res+='y'\n",
        "        elif(c=='ñ') : res+='n'\n",
        "        elif(c=='ß') : res+='ss'\n",
        "    return res\n",
        "    #Code erreur : -1\n",
        "def code(c):\n",
        "    if c == 'a':\n",
        "        return 0\n",
        "    elif c == 'b':\n",
        "        return 1\n",
        "    elif c == 'c':\n",
        "        return 2\n",
        "    elif c == 'd':\n",
        "        return 3\n",
        "    elif c == 'e':\n",
        "        return 4\n",
        "    elif c == 'f':\n",
        "        return 5\n",
        "    elif c == 'g':\n",
        "        return 6\n",
        "    elif c == 'h':\n",
        "        return 7\n",
        "    elif c == 'i':\n",
        "        return 8\n",
        "    elif c == 'j':\n",
        "        return 9\n",
        "    elif c == 'k':\n",
        "        return 10\n",
        "    elif c == 'l':\n",
        "        return 11\n",
        "    elif c == 'm':\n",
        "        return 12\n",
        "    elif c == 'n':\n",
        "        return 13\n",
        "    elif c == 'o':\n",
        "        return 14\n",
        "    elif c == 'p':\n",
        "        return 15\n",
        "    elif c == 'q':\n",
        "        return 16\n",
        "    elif c == 'r':\n",
        "        return 17\n",
        "    elif c == 's':\n",
        "        return 18\n",
        "    elif c == 't':\n",
        "        return 19\n",
        "    elif c == 'u':\n",
        "        return 20\n",
        "    elif c == 'v':\n",
        "        return 21\n",
        "    elif c == 'w':\n",
        "        return 22\n",
        "    elif c == 'x':\n",
        "        return 23\n",
        "    elif c == 'y':\n",
        "        return 24\n",
        "    elif c == 'z':\n",
        "        return 25\n",
        "    else:\n",
        "        return -1\n",
        "\n",
        "#Code erreur : '?'\n",
        "def decode(n):\n",
        "    if 0 <= n <= 25:\n",
        "        if n == 0:\n",
        "            return 'a'\n",
        "        elif n == 1:\n",
        "            return 'b'\n",
        "        elif n == 2:\n",
        "            return 'c'\n",
        "        elif n == 3:\n",
        "            return 'd'\n",
        "        elif n == 4:\n",
        "            return 'e'\n",
        "        elif n == 5:\n",
        "            return 'f'\n",
        "        elif n == 6:\n",
        "            return 'g'\n",
        "        elif n == 7:\n",
        "            return 'h'\n",
        "        elif n == 8:\n",
        "            return 'i'\n",
        "        elif n == 9:\n",
        "            return 'j'\n",
        "        elif n == 10:\n",
        "            return 'k'\n",
        "        elif n == 11:\n",
        "            return 'l'\n",
        "        elif n == 12:\n",
        "            return 'm'\n",
        "        elif n == 13:\n",
        "            return 'n'\n",
        "        elif n == 14:\n",
        "            return 'o'\n",
        "        elif n == 15:\n",
        "            return 'p'\n",
        "        elif n == 16:\n",
        "            return 'q'\n",
        "        elif n == 17:\n",
        "            return 'r'\n",
        "        elif n == 18:\n",
        "            return 's'\n",
        "        elif n == 19:\n",
        "            return 't'\n",
        "        elif n == 20:\n",
        "            return 'u'\n",
        "        elif n == 21:\n",
        "            return 'v'\n",
        "        elif n == 22:\n",
        "            return 'w'\n",
        "        elif n == 23:\n",
        "            return 'x'\n",
        "        elif n == 24:\n",
        "            return 'y'\n",
        "        elif n == 25:\n",
        "            return 'z'\n",
        "    else:\n",
        "        # Renvoyer \"?\" si le nombre n'est pas autorisé\n",
        "        return \"?\"\n",
        "def chiffreCesar(mot, k):\n",
        "    \"\"\"\n",
        "    Cette fonction prend en paramètre un mot et une clé k, et retourne le mot chiffré selon le chiffrement de César.\n",
        "    \"\"\"\n",
        "    mot_filtre = Filtre(mot)\n",
        "    mot_chiffre = \"\"\n",
        "\n",
        "    for lettre in mot_filtre:\n",
        "        code_lettre = code(lettre)\n",
        "        if code_lettre != -1:\n",
        "            lettre_chiffree = decode((code_lettre + k) % 26)\n",
        "            mot_chiffre += lettre_chiffree\n",
        "        else:\n",
        "            mot_chiffre = mot_chiffre + lettre\n",
        "\n",
        "    return mot_chiffre\n",
        "def chiffreAffine(mot, a, b):\n",
        "\n",
        "    mot_filtre = Filtre(mot)\n",
        "    mot_chiffre = \"\"\n",
        "    for lettre in mot_filtre:\n",
        "        code_lettre = code(lettre)\n",
        "        if code_lettre != -1:\n",
        "            lettre_chiffree = decode((a * code_lettre + b) % 26)\n",
        "            mot_chiffre += lettre_chiffree\n",
        "        else:\n",
        "            return \"\"\n",
        "\n",
        "    return mot_chiffre\n",
        "\n",
        "\n",
        "\n",
        "\n",
        "#outils crypto\n",
        "\n",
        "\n",
        "import time\n",
        "import math\n",
        "import random\n",
        "\n",
        "\n",
        "#####################################################\n",
        "#                       Arithmétique                #\n",
        "#####################################################\n",
        "\n",
        "def divEuclid1(a,b):\n",
        "    q = 0\n",
        "    r = a\n",
        "    while r >= b:\n",
        "        r = r-b\n",
        "        q += 1\n",
        "    return(q,r)\n",
        "\n",
        "def divEuclid(a,b):\n",
        "    q = 0\n",
        "    r = a\n",
        "    while (r >= b) | (r<0) :\n",
        "        if r >= b:\n",
        "            r = r-b\n",
        "            q += 1\n",
        "        else:\n",
        "            r = r+b\n",
        "            q -= 1\n",
        "    return(q,r)\n",
        "\n",
        "def pgcd_Euclide(a,b):\n",
        "    r = [b, a%b]\n",
        "    print(a,\" = \",b,\"x\",a//b,\" + \",a%b)\n",
        "    i = 1\n",
        "    while r[i] != 0:\n",
        "        r.append(r[i-1]%r[i])\n",
        "        print(r[i-1],\" = \",r[i],\"x\",r[i-1]//r[i],\" + \",r[i-1]%r[i])\n",
        "        i += 1\n",
        "    return r[i-1]\n",
        "\n",
        "def pgcd(a,b):\n",
        "    if a%b == 0:\n",
        "        return b\n",
        "    else:\n",
        "        return pgcd(b,a%b)\n",
        "\n",
        "def bezout(a,b):\n",
        "    if b == 0:\n",
        "        return (1,0)\n",
        "    else:\n",
        "        (u,v) = bezout(b, a%b)\n",
        "        q = a//b\n",
        "        return (v, u - q*v)\n",
        "\n",
        "def dioph(a,b,c):\n",
        "    d = pgcdRec(a,b)\n",
        "    if not c%d==0:\n",
        "        print(\"pas de solution\")\n",
        "    else:\n",
        "        a, b, c = a/d, b/d, c/d\n",
        "        (x0,y0) = bezout(a,b)\n",
        "        return(x0*c,y0*c)\n",
        "\n",
        "def invMod(a,n):\n",
        "    if pgcd(a,n) != 1:\n",
        "        print(a, \" n'est pas inversible modulo \", n)\n",
        "        return -1\n",
        "    (u,v) = bezout(a,n)\n",
        "    return u %n\n",
        "\n",
        "def premiers(n):\n",
        "    # doit retourner tous les nombres premiers inférieurs ou égaux à n en utilisant le crible d'Eratosthène\n",
        "    liste = list(range(2,n+1))\n",
        "    premiers = []\n",
        "    while len(liste) != 0:\n",
        "        p = liste[0]\n",
        "        premiers.append(p)\n",
        "        for k in liste:\n",
        "            if k %p == 0:\n",
        "                liste.remove(k)\n",
        "    return premiers\n",
        "\n",
        "def isPrime(n):\n",
        "    if n <= 1:\n",
        "        return False\n",
        "    if n == 2:\n",
        "        return True\n",
        "    if n %2 == 0:\n",
        "        return False\n",
        "    k = 3\n",
        "    while k <= math.sqrt(n):\n",
        "        if n %k == 0:\n",
        "            return False\n",
        "        k += 2\n",
        "    return True\n",
        "\n",
        "def findPrimeFactor(n):\n",
        "    # n est supposé ici non premier et >= 2\n",
        "    if n %2 == 0:\n",
        "        return 2\n",
        "    k = 3\n",
        "    while k <= math.sqrt(n):\n",
        "        if n %k == 0:\n",
        "            return k\n",
        "        k += 2\n",
        "    return -1\n",
        "\n",
        "def decompPrime(n):\n",
        "    liste = []\n",
        "    while not isPrime(n):\n",
        "        p = findPrimeFactor(n)\n",
        "        liste.append(p)\n",
        "        n = int(n/p)\n",
        "    liste.append(n)\n",
        "    return liste\n",
        "\n",
        "#####################################################\n",
        "#                       Crypto.                     #\n",
        "#####################################################\n"
      ],
      "metadata": {
        "id": "nDJYvrXgmzAB"
      },
      "id": "nDJYvrXgmzAB",
      "execution_count": null,
      "outputs": []
    },
    {
      "cell_type": "markdown",
      "id": "0c727afb",
      "metadata": {
        "id": "0c727afb"
      },
      "source": [
        "## 1. Chiffrement de Vigenère"
      ]
    },
    {
      "cell_type": "markdown",
      "id": "e82cba3e",
      "metadata": {
        "id": "e82cba3e"
      },
      "source": [
        "Une des faiblesses du chiffrement de César et du chiffrement affine est que chaque lettre est toujours chiffrée de la même manière, ce qui les rend vulnérables à une attaque statistique (cf prochain TP).\n",
        "\n",
        "Le chiffrement de Vigenère propose de remédier à ça en faisant varier le décalage. La clé choisie sera un mot et sera répétée autant de fois que nécessaire."
      ]
    },
    {
      "cell_type": "markdown",
      "id": "8aff0b1c",
      "metadata": {
        "id": "8aff0b1c"
      },
      "source": [
        "<i>Exemple :</i>\n",
        "$$\n",
        "\\begin{array}{|c|c|c|c|c|c|c|c|}\n",
        "\\hline\n",
        "\\text{texte à chiffrer} & e & l& e&v&e&s\\\\\n",
        "\\hline\n",
        "\\text{texte codé}& 4 & 11 & 4 & 21 & 4 & 18\\\\\n",
        "\\hline\n",
        "\\text{clé} & c &l& e&c&l&e\\\\\n",
        "\\hline\n",
        "\\text{décalage} & 2 & 11 & 4 & 2 & 11 & 4 \\\\\n",
        "\\hline\n",
        "\\text{résultat codé} & 6 & 22 & 8 & 23 & 15 & 22\\\\\n",
        "\\hline\n",
        "\\text{texte chiffré} & g & w & i & x & p & w\\\\\n",
        "\\hline\n",
        "\\end{array}\n",
        "$$"
      ]
    },
    {
      "cell_type": "markdown",
      "id": "0bb0eeb6",
      "metadata": {
        "id": "0bb0eeb6"
      },
      "source": [
        "[texte du lien](https://)<b>Exercice 1.</b> Écrire la fonction <code>chiffreVigenere(mot,cle)</code> qui chiffre le mot <code>mot</code> avec la clé <code>cle</code>."
      ]
    },
    {
      "cell_type": "code",
      "execution_count": null,
      "id": "c6581a3d",
      "metadata": {
        "id": "c6581a3d"
      },
      "outputs": [],
      "source": [
        "def chiffreVigenere(mot, cle):\n",
        "    mot = Filtre(mot)\n",
        "    cle = Filtre(cle)\n",
        "\n",
        "    mot_chiffre = \"\"\n",
        "    cle_repeated = (cle * (len(mot) // len(cle) + 1))[:len(mot)]\n",
        "\n",
        "    for i in range(len(mot)):\n",
        "        if mot[i] == ' ':#gestion espaces\n",
        "            mot_chiffre += ' '\n",
        "        else:\n",
        "            mot_chiffre += decode((code(mot[i]) + code(cle_repeated[i])) % 26)\n",
        "    return mot_chiffre\n",
        "\n"
      ]
    },
    {
      "cell_type": "markdown",
      "id": "ef497e9e",
      "metadata": {
        "id": "ef497e9e"
      },
      "source": [
        "Tester cette fonction à l'aide du bloc suivant."
      ]
    },
    {
      "cell_type": "code",
      "execution_count": null,
      "id": "af5c70a2",
      "metadata": {
        "id": "af5c70a2",
        "colab": {
          "base_uri": "https://localhost:8080/"
        },
        "outputId": "e2271a44-895c-4dba-cf09-538a9b46e6cb"
      },
      "outputs": [
        {
          "output_type": "stream",
          "name": "stdout",
          "text": [
            "*** CHIFFREMENT ***\n",
            "Le texte ' eleves ' chiffré avec le chiffrement de Vigenère de clé ' cle ' est :  gwixpw\n"
          ]
        }
      ],
      "source": [
        "print(\"*** CHIFFREMENT ***\")\n",
        "txt = \"eleves\"\n",
        "cle = \"cle\"\n",
        "texte_chiffre = chiffreVigenere(txt,cle)\n",
        "print(\"Le texte '\",txt,\"' chiffré avec le chiffrement de Vigenère de clé '\",cle,\"' est : \",texte_chiffre)"
      ]
    },
    {
      "cell_type": "markdown",
      "id": "86fbdf23",
      "metadata": {
        "id": "86fbdf23"
      },
      "source": [
        "# Écrire la fonction <code>dechiffreVigenere(mot,cle)</code> qui déchiffre le mot <code>mot</code> qui a été chiffré avec la clé <code>cle</code>."
      ]
    },
    {
      "cell_type": "code",
      "execution_count": null,
      "id": "93746843",
      "metadata": {
        "id": "93746843"
      },
      "outputs": [],
      "source": [
        "def dechiffreVigenere(mot_chiffre, cle):\n",
        "    mot_chiffre = Filtre(mot_chiffre)\n",
        "    cle = Filtre(cle)\n",
        "\n",
        "    mot_dechiffre = \"\"\n",
        "    cle_repeated = (cle * (len(mot_chiffre) // len(cle) + 1))[:len(mot_chiffre)]\n",
        "\n",
        "    for i in range(len(mot_chiffre)):\n",
        "        if mot_chiffre[i] == ' ':#gestion espaces\n",
        "            mot_dechiffre += ' '\n",
        "        else:\n",
        "            mot_dechiffre += decode((code(mot_chiffre[i]) - code(cle_repeated[i])) % 26)\n",
        "\n",
        "    return mot_dechiffre"
      ]
    },
    {
      "cell_type": "markdown",
      "id": "ecc8d9f0",
      "metadata": {
        "id": "ecc8d9f0"
      },
      "source": [
        "Tester cette fonction à l'aide du bloc suivant."
      ]
    },
    {
      "cell_type": "code",
      "execution_count": null,
      "id": "6641c41c",
      "metadata": {
        "id": "6641c41c",
        "colab": {
          "base_uri": "https://localhost:8080/"
        },
        "outputId": "a8c0e419-d11b-4c74-fbe4-a7a158b34ea7"
      },
      "outputs": [
        {
          "output_type": "stream",
          "name": "stdout",
          "text": [
            "*** DECHIFFREMENT ***\n",
            "Le texte ' lobiurpohp ' déchiffré avec le chiffrement de Vigenère de clé ' cadeau ' est :  joyeuxnoel\n"
          ]
        }
      ],
      "source": [
        "print(\"*** DECHIFFREMENT ***\")\n",
        "txt = \"lobiurpohp\"\n",
        "cle = \"cadeau\"\n",
        "texte_clair = dechiffreVigenere(txt,cle)\n",
        "print(\"Le texte '\",txt,\"' déchiffré avec le chiffrement de Vigenère de clé '\",cle,\"' est : \",texte_clair)"
      ]
    },
    {
      "cell_type": "markdown",
      "id": "2d4b104d",
      "metadata": {
        "id": "2d4b104d"
      },
      "source": [
        "Si on suppose que la clé de chiffrement est de longueur $k$, combien faudrait-il tester de clés dans une attaque par force brute ? Comparer au chiffrement de César et au chiffrement affine."
      ]
    },
    {
      "cell_type": "markdown",
      "id": "faba933e",
      "metadata": {
        "id": "faba933e"
      },
      "source": [
        "<div style=\"background-color:rgba(0, 255, 0, 0.19);padding:3%;\">\n",
        "<b>Réponse : </b>\n",
        "</div>"
      ]
    },
    {
      "cell_type": "markdown",
      "id": "8ce61ba7",
      "metadata": {
        "id": "8ce61ba7"
      },
      "source": [
        " Exécuter le bloc suivant, puis analyser et comparer en quelques lignes les 3 algorithmes de chiffrement étudiés (César, affine, Vigenère)."
      ]
    },
    {
      "cell_type": "code",
      "execution_count": null,
      "id": "1911af77",
      "metadata": {
        "id": "1911af77",
        "colab": {
          "base_uri": "https://localhost:8080/"
        },
        "outputId": "b8fbbf29-0408-4552-b3f6-13a934276fdb"
      },
      "outputs": [
        {
          "output_type": "stream",
          "name": "stdout",
          "text": [
            "lllllllll\n",
            "ttttttttt\n",
            "gpigpigpi\n",
            "elnswohib\n"
          ]
        }
      ],
      "source": [
        "print(chiffreCesar(\"eeeeeeeee\",7))\n",
        "print(chiffreAffine(\"eeeeeeeee\",3,7))\n",
        "print(chiffreVigenere(\"eeeeeeeee\",\"cle\"))\n",
        "print(chiffreVigenere(\"eeeeeeeee\",\"ahjoskdex\"))"
      ]
    },
    {
      "cell_type": "markdown",
      "id": "c1f61436",
      "metadata": {
        "id": "c1f61436"
      },
      "source": [
        "<div style=\"background-color:rgba(0, 255, 0, 0.19);padding:3%;\">\n",
        "<b>Analyse et comparaison : </b>\n",
        "</div>"
      ]
    },
    {
      "cell_type": "markdown",
      "id": "545230c9",
      "metadata": {
        "id": "545230c9"
      },
      "source": [
        "## 2. Chiffrement de Vernam ou masque jetable"
      ]
    },
    {
      "cell_type": "markdown",
      "id": "f9b41ff0",
      "metadata": {
        "id": "f9b41ff0"
      },
      "source": [
        "Le principe du chiffrement de Vernam (ou masque jetable) consiste à créer une clé aléatoire de même taille que le message à envoyer, puis d'utiliser cette clé et le chiffrement de Vigenère pour chiffrer le message.\n",
        "Ainsi, on est assuré que la même lettre sera chiffrée différemment en fonction de sa position dans le message."
      ]
    },
    {
      "cell_type": "markdown",
      "id": "608ac3c5",
      "metadata": {
        "id": "608ac3c5"
      },
      "source": [
        "<b>Exercice 2</b>. Écrire la fonction <code>cleVernam(n)</code> qui prend en paramètre un entier strictement positif <code>n</code> et qui renvoie une clé aléatoire de taille $n$ (i.e. un mot aléatoire de $n$ lettres)."
      ]
    },
    {
      "cell_type": "code",
      "execution_count": null,
      "id": "729be76c",
      "metadata": {
        "id": "729be76c",
        "colab": {
          "base_uri": "https://localhost:8080/"
        },
        "outputId": "62918735-678e-4346-bf44-3521205efad8"
      },
      "outputs": [
        {
          "output_type": "stream",
          "name": "stdout",
          "text": [
            "Clé aléatoire de taille 10 : sxlpoaplyg\n"
          ]
        }
      ],
      "source": [
        "import random\n",
        "\n",
        "def cleVernam(n):\n",
        "    if n <= 0:\n",
        "        return \"Erreur : n doit être un entier strictement positif.\"\n",
        "\n",
        "    cle = ''.join(random.choice('abcdefghijklmnopqrstuvwxyz') for _ in range(n))\n",
        "\n",
        "    return cle\n",
        "\n",
        "taille_cle = 10\n",
        "cle_aleatoire = cleVernam(taille_cle)\n",
        "print(\"Clé aléatoire de taille\", taille_cle, \":\", cle_aleatoire)\n"
      ]
    },
    {
      "cell_type": "markdown",
      "id": "e3c96b88",
      "metadata": {
        "id": "e3c96b88"
      },
      "source": [
        "Tester votre fonction en exécutant le bloc suivant."
      ]
    },
    {
      "cell_type": "code",
      "execution_count": null,
      "id": "89552d2d",
      "metadata": {
        "id": "89552d2d",
        "colab": {
          "base_uri": "https://localhost:8080/",
          "height": 35
        },
        "outputId": "f6938fa1-7bc9-4601-a9d0-4a0aac60f30a"
      },
      "outputs": [
        {
          "output_type": "execute_result",
          "data": {
            "text/plain": [
              "'gqhchzk'"
            ],
            "application/vnd.google.colaboratory.intrinsic+json": {
              "type": "string"
            }
          },
          "metadata": {},
          "execution_count": 8
        }
      ],
      "source": [
        "taille = 7\n",
        "cleVernam(7)"
      ]
    },
    {
      "cell_type": "markdown",
      "id": "c8ba1e5e",
      "metadata": {
        "id": "c8ba1e5e"
      },
      "source": [
        "Écrire la fonction <code>chiffreVernam(mot)</code> qui prend en paramètre un <code>mot</code> et qui renvoie le couple <code>(motChiffre, cle)</code> dans lequel <code>cle</code> est une clé aléatoire de même taille que le mot et <code>motChiffre</code> est le chiffrement de Vernam du mot avec cette clé."
      ]
    },
    {
      "cell_type": "code",
      "execution_count": null,
      "id": "0fbbd047",
      "metadata": {
        "id": "0fbbd047"
      },
      "outputs": [],
      "source": [
        "def chiffreVernam(mot):\n",
        "    mot = Filtre(mot)\n",
        "\n",
        "    taille_mot = len(mot)\n",
        "\n",
        "    cle = cleVernam(taille_mot)\n",
        "\n",
        "    mot_chiffre = \"\"\n",
        "    for i in range(taille_mot):\n",
        "        mot_chiffre += decode((code(mot[i]) + code(cle[i])) % 26)\n",
        "\n",
        "    return mot_chiffre, cle\n"
      ]
    },
    {
      "cell_type": "markdown",
      "id": "09f15b77",
      "metadata": {
        "id": "09f15b77"
      },
      "source": [
        "Tester votre fonction en exécutant le bloc suivant."
      ]
    },
    {
      "cell_type": "code",
      "execution_count": null,
      "id": "293477e6",
      "metadata": {
        "id": "293477e6",
        "colab": {
          "base_uri": "https://localhost:8080/"
        },
        "outputId": "3b3837f8-77c7-46a0-80b1-681ef4653b85"
      },
      "outputs": [
        {
          "output_type": "stream",
          "name": "stdout",
          "text": [
            "('jmugwsuzcpuea', 'xmbzsguguzaai')\n"
          ]
        }
      ],
      "source": [
        "mot = \"mathematiques\"\n",
        "print(chiffreVernam(mot))"
      ]
    },
    {
      "cell_type": "markdown",
      "id": "22b7dfde",
      "metadata": {
        "id": "22b7dfde"
      },
      "source": [
        "Écrire la fonction <code>dechiffreVernam(motChiffre,cle)</code> qui prend en paramètre un <code>motChiffre</code> et une <code>cle</code> et qui renvoie le <code>mot</code> qui a été chiffré avec le chiffrement de Vernam avec la clé <code>cle</code>."
      ]
    },
    {
      "cell_type": "code",
      "execution_count": null,
      "id": "a6d5aafa",
      "metadata": {
        "id": "a6d5aafa"
      },
      "outputs": [],
      "source": [
        "def dechiffreVernam(mot_chiffre, cle):\n",
        "    mot_chiffre = Filtre(mot_chiffre)\n",
        "\n",
        "    if len(mot_chiffre) != len(cle):\n",
        "        return \"Erreur : Le mot chiffré et la clé doivent être de même taille.\"\n",
        "\n",
        "    taille_mot_chiffre = len(mot_chiffre)\n",
        "    mot_dechiffre = \"\"\n",
        "    for i in range(taille_mot_chiffre):\n",
        "        mot_dechiffre += decode((code(mot_chiffre[i]) - code(cle[i])) % 26)\n",
        "\n",
        "    return mot_dechiffre\n",
        "\n"
      ]
    },
    {
      "cell_type": "markdown",
      "id": "41a75835",
      "metadata": {
        "id": "41a75835"
      },
      "source": [
        "Tester votre fonction en exécutant le bloc suivant."
      ]
    },
    {
      "cell_type": "code",
      "execution_count": null,
      "id": "5d09cc26",
      "metadata": {
        "id": "5d09cc26",
        "colab": {
          "base_uri": "https://localhost:8080/",
          "height": 35
        },
        "outputId": "95ef55fe-3051-43e8-a634-0a1295ceeaea"
      },
      "outputs": [
        {
          "output_type": "execute_result",
          "data": {
            "text/plain": [
              "'bonneannee'"
            ],
            "application/vnd.google.colaboratory.intrinsic+json": {
              "type": "string"
            }
          },
          "metadata": {},
          "execution_count": 12
        }
      ],
      "source": [
        "dechiffreVernam(\"nnaxkhumud\", \"mznkghhzqz\")"
      ]
    },
    {
      "cell_type": "markdown",
      "id": "30f869e4",
      "metadata": {
        "id": "30f869e4"
      },
      "source": [
        "On dit que ce chiffrement est un <b>chiffrement parfait</b>. Expliquer selon vous en quoi ce chiffrement est d'une certaine manière le meilleur qui puisse exister, et aussi pourquoi il a un gros défaut qui le rend peu pratique à utiliser."
      ]
    },
    {
      "cell_type": "markdown",
      "id": "057c9f24",
      "metadata": {
        "id": "057c9f24"
      },
      "source": [
        "<div style=\"background-color:rgba(0, 255, 0, 0.19);padding:3%;\">\n",
        "<b>Explications : </b>\n",
        "<p> ce chiffrement est parfait car il prend une clef différente a chaque cryptage, et est impossible a déchiffrer sans connaitre la clef, le brut force sur ce type de cryptage prend beaucoup de temps car il faut générer toutes les clé de taille identique au message dans le cas de vernam, pour vigenere il faut génèrer toutes les clef de taille inférieurs ou égal. Une fois générer il faut toutes les tester et analyser le resultat ce qui prendrais beaucoup de temps </p>\n",
        "</div>"
      ]
    },
    {
      "cell_type": "markdown",
      "id": "6e7c9c20",
      "metadata": {
        "id": "6e7c9c20"
      },
      "source": [
        "## 3. Chiffrement de Hill"
      ]
    },
    {
      "cell_type": "markdown",
      "id": "52b00767",
      "metadata": {
        "id": "52b00767"
      },
      "source": [
        "### Préambule : Outils de calculs sur les matrices\n",
        "\n",
        "Voici quelques fonctions qui pourront vous être utilses par la suite pour la manipulation de matrices. N'oubliez pas d'excuter le bloc pour pouvoir utiliser ces fonctions dans votre code par la suite."
      ]
    },
    {
      "cell_type": "code",
      "execution_count": null,
      "id": "50732cb9",
      "metadata": {
        "id": "50732cb9"
      },
      "outputs": [],
      "source": [
        "#Permet d'afficher des matrices (pour d'éventuel tests)\n",
        "def printM(M) :\n",
        "    try:\n",
        "        n=len(M)\n",
        "        m=len(M[0])\n",
        "    except : return print(\"\")\n",
        "\n",
        "    res=\"\"\n",
        "    for i in range(n) :\n",
        "        for j in range(m) :\n",
        "            try : res+=str(M[i][j])\n",
        "            except : return print(\"\")\n",
        "            if(j<m-1) : res+='\\t'\n",
        "        res+='\\n'\n",
        "    print(res)\n",
        "\n",
        "def prodMat(A, B):\n",
        "    try:\n",
        "        lA = len(A)\n",
        "        cA = len(A[0])\n",
        "        lB = len(B)\n",
        "        cB = len(B[0])\n",
        "    except:\n",
        "        return dict()\n",
        "\n",
        "    if cA != lB:\n",
        "        return dict()\n",
        "\n",
        "    res = [[0] * cB for _ in range(lA)]\n",
        "\n",
        "    for i in range(lA):\n",
        "        for j in range(cB):\n",
        "            res[i][j] = 0\n",
        "            for k in range(cA):\n",
        "                res[i][j] += A[i][k] * B[k][j]\n",
        "\n",
        "    return res"
      ]
    },
    {
      "cell_type": "markdown",
      "id": "3af77afb",
      "metadata": {
        "id": "3af77afb"
      },
      "source": [
        "Le chiffrement de Hill utilise le calcul matriciel pour étendre le chiffrement affine à un bloc de plusieurs lettres. Il consiste à chiffrer le message en substituant les lettres du message, non plus lettre à lettre, mais par groupe de lettres. Il permet ainsi de rendre plus difficile le cassage du code par observation des fréquences.\n",
        "\n",
        "Nous allons l'illustrer ici en dimension 2, ce qui consiste à chiffrer des blocs de 2 lettres.\n",
        "\n",
        "Supposons par exemple qu'on désire chiffrer le message \"texteachiffrer\". On va commencer par chiffrer le 1er bloc de 2 lettres \"te\", puis on chiffrera \"xt\", et ainsi de suite jusqu'à la fin. Si le message possède un nombre impair de lettres, on ajoutera un \"x\" à la fin.\n",
        "\n",
        "Pour chiffrer chaque bloc de 2 lettres, on va tout d'abord le coder en un vecteur de dimension 2 contenant le codage de chaque lettre.\n",
        "\n",
        "Ainsi, \"te\" sera codé par $\\begin{pmatrix}19\\\\ 4\\end{pmatrix}$, \"xt\" sera codé par $\\begin{pmatrix}23\\\\ 19\\end{pmatrix}$, etc.\n",
        "\n",
        "Pour chiffrer un bloc, on utilisera la fonction de chiffrement suivante, avec comme clé une matrice $A$ carrée de dimension 2 :\n",
        "$$\n",
        "\\begin{array}{rccc}\n",
        "f_{A}\\ :\\ & \\mathcal{M}_{2,1}(\\mathbb{Z}/26\\mathbb{Z}) & \\longrightarrow & \\mathcal{M}_{2,1}(\\mathbb{Z}/26\\mathbb{Z})\\\\\n",
        "& X & \\longmapsto & AX\n",
        "\\end{array}\n",
        "$$\n",
        "La clé doit être choisie de sorte que cette fonction soit inversible, nous admettrons que ceci sera le cas si la matrice $A=\\pmatrix{a & b\\\\c & d}$ est construite de la manière suivante :\n",
        "- $a$, $b$, $c$ choisis au hasard de sorte que $a$ soit premier avec 26\n",
        "- $d$ choisi de sorte que $ad-bc$ soit inversible modulo 26\n",
        "\n",
        "Dans ce cas, la fonction de déchiffrement sera la fonction $f_{A^{-1}}$ où\n",
        "$$\n",
        "A^{-1} = e\\pmatrix{d & -b\\\\ -c & a}\n",
        "$$\n",
        "où $e$ est un représentant de l'inverse de $ad-bc \\pmod{26}$."
      ]
    },
    {
      "cell_type": "markdown",
      "id": "7554ef65",
      "metadata": {
        "id": "7554ef65"
      },
      "source": [
        "<b>Exemple</b> La matrice $A=\\pmatrix{3 & 5\\\\ 6 & 17}$ convient car $3$ est premier avec 26 et $3\\times 17-5\\times 6=21$ est inversible modulo 26 (car $\\gcd(21,26)=1)$).\n",
        "\n",
        "On a alors $e=5$ qui est un réprésentant de l'inverse de $21$ modulo 26 (car $5\\times 21 = 105$ et $105\\equiv 1 \\pmod{26}$).\n",
        "\n",
        "L'inverse de la matrice $A$ est alors la matrice\n",
        "$$\n",
        "A^{-1} \\equiv 5\\pmatrix{17 & -5\\\\ -6 & 3} \\equiv \\pmatrix{85 & -25\\\\ -30 & 15} \\equiv \\pmatrix{7 & 1\\\\ 22 & 15} \\pmod{26}\n",
        "$$\n",
        "\n",
        "Détaillons maintenant le chiffrement du bloc \"te\" puis le déchiffrement du bloc obtenu.\n",
        "\n",
        "<i>Chiffrement :</i> Pour chiffrer le bloc \"te\", on multiplie la matrice $A$ par le vecteur $\\pmatrix{19\\\\4}$ qui code \"te\".\n",
        "$$\n",
        "\\pmatrix{3 & 5\\\\ 6 & 17}\\times\\pmatrix{19\\\\4} \\equiv \\pmatrix{77\\\\182} \\equiv \\pmatrix{25\\\\0} \\pmod{26}\n",
        "$$\n",
        "On transforme le résultat obtenu $\\pmatrix{25\\\\0}$ en lettres, ce qui donne le bloc \"za\".\n",
        "\n",
        "<i>Déchiffrement :</i> Pour déchiffrer le bloc \"za\", on multiplie la matrice $A^{-1}$ par le vecteur $\\pmatrix{25\\\\0}$ qui code \"za\".\n",
        "$$\n",
        "\\pmatrix{7 & 1\\\\ 22 & 15}\\times\\pmatrix{25\\\\0} \\equiv \\pmatrix{175\\\\550} \\equiv \\pmatrix{19\\\\4} \\pmod{26}\n",
        "$$\n",
        "On transforme le résultat obtenu $\\pmatrix{19\\\\4}$ en lettres, ce qui donne le bloc \"te\"."
      ]
    },
    {
      "cell_type": "markdown",
      "id": "b4b5afc4",
      "metadata": {
        "id": "b4b5afc4"
      },
      "source": [
        "<b>Exercice 3.</b> Écrire la fonction <code>cleHill()</code> qui retourne une matrice $A$ aléatoire satisfaisant les conditions pour être une clé de Hill fonctionnelle."
      ]
    },
    {
      "cell_type": "code",
      "execution_count": null,
      "id": "5952416a",
      "metadata": {
        "id": "5952416a"
      },
      "outputs": [],
      "source": [
        "import math\n",
        "\n",
        "def cleHill():\n",
        "  while True:\n",
        "    a, b, c, d = random.randint(1, 25), random.randint(1, 25), random.randint(1, 25), random.randint(1, 25)\n",
        "    if pgcd(a, 26) == 1:\n",
        "      det = (a * d - b * c) % 26\n",
        "      if pgcd(det, 26) == 1:\n",
        "        return [[a, c], [b, d]]"
      ]
    },
    {
      "cell_type": "markdown",
      "id": "812832fe",
      "metadata": {
        "id": "812832fe"
      },
      "source": [
        "Écrire la fonction <code>chiffreHill(txt,cle)</code> qui chiffre le texte <code>txt</code> à l'aide du chiffrement de Hill avec la clé <code>cle</code>."
      ]
    },
    {
      "cell_type": "code",
      "execution_count": null,
      "id": "a3702817",
      "metadata": {
        "id": "a3702817"
      },
      "outputs": [],
      "source": [
        "\n",
        "import numpy as np\n",
        "def chiffreHill(txt,cle):\n",
        "  txt = Filtre(txt)\n",
        "  if len(txt) % 2 != 0:\n",
        "    txt += 'x'\n",
        "  nums = [code(c) for c in txt]\n",
        "  motFinal = \"\"\n",
        "  for i in range(0, len(nums), 2):\n",
        "    bloc = [[nums[i]], [nums[i + 1]]]\n",
        "    res = prodMat(cle, bloc)\n",
        "    motFinal += decode(res[0][0] % 26) + decode(res[1][0] % 26)\n",
        "  return motFinal"
      ]
    },
    {
      "cell_type": "markdown",
      "id": "ac0d8d2d",
      "metadata": {
        "id": "ac0d8d2d"
      },
      "source": [
        "Tester votre algorithme en éxecutant le bloc suivant."
      ]
    },
    {
      "cell_type": "code",
      "execution_count": null,
      "id": "394c4d7a",
      "metadata": {
        "id": "394c4d7a",
        "colab": {
          "base_uri": "https://localhost:8080/"
        },
        "outputId": "84d08a46-79c8-48c9-90b5-12de1072c496"
      },
      "outputs": [
        {
          "output_type": "stream",
          "name": "stdout",
          "text": [
            "zaitmypbxdwhtb\n"
          ]
        }
      ],
      "source": [
        "print(chiffreHill(\"texteachiffrer\", [[3,5],[6,17]]))\n",
        "\n",
        "# Le résultat obtenu doit être : zaitmypbxdwhtb"
      ]
    },
    {
      "cell_type": "markdown",
      "id": "20bcb5e7",
      "metadata": {
        "id": "20bcb5e7"
      },
      "source": [
        "\n",
        "\n",
        "\n",
        "Écrire la fonction <code>dechiffreHill(txt,cle)</code> qui déchiffre le texte <code>txt</code> qui a été chiffré à l'aide du chiffrement de Hill avec la clé <code>cle</code>.\n",
        "\n",
        "\n"
      ]
    },
    {
      "cell_type": "code",
      "execution_count": null,
      "id": "797d8bf2",
      "metadata": {
        "id": "797d8bf2"
      },
      "outputs": [],
      "source": [
        "from random import randint\n",
        "def inverse_matrice(mat):\n",
        "  determinant = mat[0][0] * mat[1][1] - mat[0][1] * mat[1][0]\n",
        "  determinant_inv = invMod(determinant % 26, 26)\n",
        "  inv_a = mat[1][1] * determinant_inv % 26\n",
        "  inv_b = (-mat[0][1]) * determinant_inv % 26\n",
        "  inv_c = (-mat[1][0]) * determinant_inv % 26\n",
        "  inv_d = mat[0][0] * determinant_inv % 26\n",
        "  return [[inv_a, inv_b], [inv_c, inv_d]]\n",
        "\n",
        "def dechiffreHill(txt,cle):\n",
        "  inv_cle = inverse_matrice(cle)\n",
        "  nums = [code(c) for c in txt]\n",
        "  motFinal = \"\"\n",
        "  for i in range(0, len(nums), 2):\n",
        "    bloc = [[nums[i]], [nums[i + 1]]]\n",
        "    res = prodMat(inv_cle, bloc)\n",
        "    motFinal += decode(res[0][0] % 26) + decode(res[1][0] % 26)\n",
        "  return motFinal"
      ]
    },
    {
      "cell_type": "markdown",
      "id": "2d18d698",
      "metadata": {
        "id": "2d18d698"
      },
      "source": [
        "Tester votre algorithme en éxecutant le bloc suivant."
      ]
    },
    {
      "cell_type": "code",
      "execution_count": null,
      "id": "b47df902",
      "metadata": {
        "id": "b47df902",
        "colab": {
          "base_uri": "https://localhost:8080/"
        },
        "outputId": "fff53f02-31a3-4434-beee-ff485dca2121"
      },
      "outputs": [
        {
          "output_type": "stream",
          "name": "stdout",
          "text": [
            "Message clair :  bonnesvacances\n",
            "clé :  [[19, 19], [13, 22]]\n",
            "Message chiffré :  zjancgjnmazfcg\n",
            "Message déchiffré :  bonnesvacances\n"
          ]
        }
      ],
      "source": [
        "txt = \"bonnesvacances\"\n",
        "import math\n",
        "A = cleHill()\n",
        "txtChiffre = chiffreHill(txt, A)\n",
        "print(\"Message clair : \",txt)\n",
        "print(\"clé : \", A)\n",
        "print(\"Message chiffré : \", txtChiffre)\n",
        "txtDechiffre = dechiffreHill(txtChiffre,A)\n",
        "print(\"Message déchiffré : \", txtDechiffre)"
      ]
    }
  ],
  "metadata": {
    "kernelspec": {
      "display_name": "Python 3 (ipykernel)",
      "language": "python",
      "name": "python3"
    },
    "language_info": {
      "codemirror_mode": {
        "name": "ipython",
        "version": 3
      },
      "file_extension": ".py",
      "mimetype": "text/x-python",
      "name": "python",
      "nbconvert_exporter": "python",
      "pygments_lexer": "ipython3",
      "version": "3.9.7"
    },
    "colab": {
      "provenance": []
    }
  },
  "nbformat": 4,
  "nbformat_minor": 5
}